{
  "cells": [
    {
      "cell_type": "markdown",
      "metadata": {
        "id": "BrBHUQ-C5l-X"
      },
      "source": [
        "# **Initial Preparation**"
      ]
    },
    {
      "cell_type": "markdown",
      "source": [
        "##Install Requirements"
      ],
      "metadata": {
        "id": "9Xc3wRFaxMl1"
      }
    },
    {
      "cell_type": "code",
      "execution_count": null,
      "metadata": {
        "id": "K70ulsSvqgV0"
      },
      "outputs": [],
      "source": [
        "# Install transformers and datasets libraries\n",
        "#!pip install transformers torch datasets\n"
      ]
    },
    {
      "cell_type": "code",
      "execution_count": null,
      "metadata": {
        "id": "bvHV20Q0vGkE",
        "colab": {
          "base_uri": "https://localhost:8080/"
        },
        "outputId": "2bb792f6-1ec4-459c-84cc-2cfea7b22556",
        "collapsed": true
      },
      "outputs": [
        {
          "output_type": "stream",
          "name": "stdout",
          "text": [
            "Collecting transformers==4.35\n",
            "  Downloading transformers-4.35.0-py3-none-any.whl.metadata (123 kB)\n",
            "\u001b[?25l     \u001b[90m━━━━━━━━━━━━━━━━━━━━━━━━━━━━━━━━━━━━━━━━\u001b[0m \u001b[32m0.0/123.1 kB\u001b[0m \u001b[31m?\u001b[0m eta \u001b[36m-:--:--\u001b[0m\r\u001b[2K     \u001b[90m━━━━━━━━━━━━━━━━━━━━━━━━━━━━━━━━━━━━━━━━\u001b[0m \u001b[32m123.1/123.1 kB\u001b[0m \u001b[31m3.3 MB/s\u001b[0m eta \u001b[36m0:00:00\u001b[0m\n",
            "\u001b[?25hCollecting datasets==2.13.0\n",
            "  Downloading datasets-2.13.0-py3-none-any.whl.metadata (20 kB)\n",
            "Collecting peft==0.4.0\n",
            "  Downloading peft-0.4.0-py3-none-any.whl.metadata (21 kB)\n",
            "Collecting accelerate==0.21.0\n",
            "  Downloading accelerate-0.21.0-py3-none-any.whl.metadata (17 kB)\n",
            "Collecting bitsandbytes==0.40.2\n",
            "  Downloading bitsandbytes-0.40.2-py3-none-any.whl.metadata (9.8 kB)\n",
            "Collecting trl==0.4.7\n",
            "  Downloading trl-0.4.7-py3-none-any.whl.metadata (10 kB)\n",
            "Requirement already satisfied: safetensors>=0.3.1 in /usr/local/lib/python3.10/dist-packages (0.4.5)\n",
            "Collecting tiktoken\n",
            "  Downloading tiktoken-0.8.0-cp310-cp310-manylinux_2_17_x86_64.manylinux2014_x86_64.whl.metadata (6.6 kB)\n",
            "Requirement already satisfied: filelock in /usr/local/lib/python3.10/dist-packages (from transformers==4.35) (3.16.1)\n",
            "Requirement already satisfied: huggingface-hub<1.0,>=0.16.4 in /usr/local/lib/python3.10/dist-packages (from transformers==4.35) (0.26.2)\n",
            "Requirement already satisfied: numpy>=1.17 in /usr/local/lib/python3.10/dist-packages (from transformers==4.35) (1.26.4)\n",
            "Requirement already satisfied: packaging>=20.0 in /usr/local/lib/python3.10/dist-packages (from transformers==4.35) (24.2)\n",
            "Requirement already satisfied: pyyaml>=5.1 in /usr/local/lib/python3.10/dist-packages (from transformers==4.35) (6.0.2)\n",
            "Requirement already satisfied: regex!=2019.12.17 in /usr/local/lib/python3.10/dist-packages (from transformers==4.35) (2024.9.11)\n",
            "Requirement already satisfied: requests in /usr/local/lib/python3.10/dist-packages (from transformers==4.35) (2.32.3)\n",
            "Collecting tokenizers<0.15,>=0.14 (from transformers==4.35)\n",
            "  Downloading tokenizers-0.14.1-cp310-cp310-manylinux_2_17_x86_64.manylinux2014_x86_64.whl.metadata (6.7 kB)\n",
            "Requirement already satisfied: tqdm>=4.27 in /usr/local/lib/python3.10/dist-packages (from transformers==4.35) (4.66.6)\n",
            "Requirement already satisfied: pyarrow>=8.0.0 in /usr/local/lib/python3.10/dist-packages (from datasets==2.13.0) (17.0.0)\n",
            "Collecting dill<0.3.7,>=0.3.0 (from datasets==2.13.0)\n",
            "  Downloading dill-0.3.6-py3-none-any.whl.metadata (9.8 kB)\n",
            "Requirement already satisfied: pandas in /usr/local/lib/python3.10/dist-packages (from datasets==2.13.0) (2.2.2)\n",
            "Collecting xxhash (from datasets==2.13.0)\n",
            "  Downloading xxhash-3.5.0-cp310-cp310-manylinux_2_17_x86_64.manylinux2014_x86_64.whl.metadata (12 kB)\n",
            "Collecting multiprocess (from datasets==2.13.0)\n",
            "  Downloading multiprocess-0.70.17-py310-none-any.whl.metadata (7.2 kB)\n",
            "Requirement already satisfied: fsspec>=2021.11.1 in /usr/local/lib/python3.10/dist-packages (from fsspec[http]>=2021.11.1->datasets==2.13.0) (2024.10.0)\n",
            "Requirement already satisfied: aiohttp in /usr/local/lib/python3.10/dist-packages (from datasets==2.13.0) (3.10.10)\n",
            "Requirement already satisfied: psutil in /usr/local/lib/python3.10/dist-packages (from peft==0.4.0) (5.9.5)\n",
            "Requirement already satisfied: torch>=1.13.0 in /usr/local/lib/python3.10/dist-packages (from peft==0.4.0) (2.5.0+cu121)\n",
            "Requirement already satisfied: aiohappyeyeballs>=2.3.0 in /usr/local/lib/python3.10/dist-packages (from aiohttp->datasets==2.13.0) (2.4.3)\n",
            "Requirement already satisfied: aiosignal>=1.1.2 in /usr/local/lib/python3.10/dist-packages (from aiohttp->datasets==2.13.0) (1.3.1)\n",
            "Requirement already satisfied: attrs>=17.3.0 in /usr/local/lib/python3.10/dist-packages (from aiohttp->datasets==2.13.0) (24.2.0)\n",
            "Requirement already satisfied: frozenlist>=1.1.1 in /usr/local/lib/python3.10/dist-packages (from aiohttp->datasets==2.13.0) (1.5.0)\n",
            "Requirement already satisfied: multidict<7.0,>=4.5 in /usr/local/lib/python3.10/dist-packages (from aiohttp->datasets==2.13.0) (6.1.0)\n",
            "Requirement already satisfied: yarl<2.0,>=1.12.0 in /usr/local/lib/python3.10/dist-packages (from aiohttp->datasets==2.13.0) (1.17.1)\n",
            "Requirement already satisfied: async-timeout<5.0,>=4.0 in /usr/local/lib/python3.10/dist-packages (from aiohttp->datasets==2.13.0) (4.0.3)\n",
            "Requirement already satisfied: typing-extensions>=3.7.4.3 in /usr/local/lib/python3.10/dist-packages (from huggingface-hub<1.0,>=0.16.4->transformers==4.35) (4.12.2)\n",
            "Requirement already satisfied: charset-normalizer<4,>=2 in /usr/local/lib/python3.10/dist-packages (from requests->transformers==4.35) (3.4.0)\n",
            "Requirement already satisfied: idna<4,>=2.5 in /usr/local/lib/python3.10/dist-packages (from requests->transformers==4.35) (3.10)\n",
            "Requirement already satisfied: urllib3<3,>=1.21.1 in /usr/local/lib/python3.10/dist-packages (from requests->transformers==4.35) (2.2.3)\n",
            "Requirement already satisfied: certifi>=2017.4.17 in /usr/local/lib/python3.10/dist-packages (from requests->transformers==4.35) (2024.8.30)\n",
            "Collecting huggingface-hub<1.0,>=0.16.4 (from transformers==4.35)\n",
            "  Downloading huggingface_hub-0.17.3-py3-none-any.whl.metadata (13 kB)\n",
            "Requirement already satisfied: networkx in /usr/local/lib/python3.10/dist-packages (from torch>=1.13.0->peft==0.4.0) (3.4.2)\n",
            "Requirement already satisfied: jinja2 in /usr/local/lib/python3.10/dist-packages (from torch>=1.13.0->peft==0.4.0) (3.1.4)\n",
            "Requirement already satisfied: sympy==1.13.1 in /usr/local/lib/python3.10/dist-packages (from torch>=1.13.0->peft==0.4.0) (1.13.1)\n",
            "Requirement already satisfied: mpmath<1.4,>=1.1.0 in /usr/local/lib/python3.10/dist-packages (from sympy==1.13.1->torch>=1.13.0->peft==0.4.0) (1.3.0)\n",
            "INFO: pip is looking at multiple versions of multiprocess to determine which version is compatible with other requirements. This could take a while.\n",
            "Collecting multiprocess (from datasets==2.13.0)\n",
            "  Downloading multiprocess-0.70.16-py310-none-any.whl.metadata (7.2 kB)\n",
            "  Downloading multiprocess-0.70.15-py310-none-any.whl.metadata (7.2 kB)\n",
            "  Downloading multiprocess-0.70.14-py310-none-any.whl.metadata (6.6 kB)\n",
            "Requirement already satisfied: python-dateutil>=2.8.2 in /usr/local/lib/python3.10/dist-packages (from pandas->datasets==2.13.0) (2.8.2)\n",
            "Requirement already satisfied: pytz>=2020.1 in /usr/local/lib/python3.10/dist-packages (from pandas->datasets==2.13.0) (2024.2)\n",
            "Requirement already satisfied: tzdata>=2022.7 in /usr/local/lib/python3.10/dist-packages (from pandas->datasets==2.13.0) (2024.2)\n",
            "Requirement already satisfied: six>=1.5 in /usr/local/lib/python3.10/dist-packages (from python-dateutil>=2.8.2->pandas->datasets==2.13.0) (1.16.0)\n",
            "Requirement already satisfied: propcache>=0.2.0 in /usr/local/lib/python3.10/dist-packages (from yarl<2.0,>=1.12.0->aiohttp->datasets==2.13.0) (0.2.0)\n",
            "Requirement already satisfied: MarkupSafe>=2.0 in /usr/local/lib/python3.10/dist-packages (from jinja2->torch>=1.13.0->peft==0.4.0) (3.0.2)\n",
            "Downloading transformers-4.35.0-py3-none-any.whl (7.9 MB)\n",
            "\u001b[2K   \u001b[90m━━━━━━━━━━━━━━━━━━━━━━━━━━━━━━━━━━━━━━━━\u001b[0m \u001b[32m7.9/7.9 MB\u001b[0m \u001b[31m26.6 MB/s\u001b[0m eta \u001b[36m0:00:00\u001b[0m\n",
            "\u001b[?25hDownloading datasets-2.13.0-py3-none-any.whl (485 kB)\n",
            "\u001b[2K   \u001b[90m━━━━━━━━━━━━━━━━━━━━━━━━━━━━━━━━━━━━━━━━\u001b[0m \u001b[32m485.6/485.6 kB\u001b[0m \u001b[31m23.8 MB/s\u001b[0m eta \u001b[36m0:00:00\u001b[0m\n",
            "\u001b[?25hDownloading peft-0.4.0-py3-none-any.whl (72 kB)\n",
            "\u001b[2K   \u001b[90m━━━━━━━━━━━━━━━━━━━━━━━━━━━━━━━━━━━━━━━━\u001b[0m \u001b[32m72.9/72.9 kB\u001b[0m \u001b[31m4.9 MB/s\u001b[0m eta \u001b[36m0:00:00\u001b[0m\n",
            "\u001b[?25hDownloading accelerate-0.21.0-py3-none-any.whl (244 kB)\n",
            "\u001b[2K   \u001b[90m━━━━━━━━━━━━━━━━━━━━━━━━━━━━━━━━━━━━━━━━\u001b[0m \u001b[32m244.2/244.2 kB\u001b[0m \u001b[31m18.3 MB/s\u001b[0m eta \u001b[36m0:00:00\u001b[0m\n",
            "\u001b[?25hDownloading bitsandbytes-0.40.2-py3-none-any.whl (92.5 MB)\n",
            "\u001b[2K   \u001b[90m━━━━━━━━━━━━━━━━━━━━━━━━━━━━━━━━━━━━━━━━\u001b[0m \u001b[32m92.5/92.5 MB\u001b[0m \u001b[31m7.8 MB/s\u001b[0m eta \u001b[36m0:00:00\u001b[0m\n",
            "\u001b[?25hDownloading trl-0.4.7-py3-none-any.whl (77 kB)\n",
            "\u001b[2K   \u001b[90m━━━━━━━━━━━━━━━━━━━━━━━━━━━━━━━━━━━━━━━━\u001b[0m \u001b[32m77.4/77.4 kB\u001b[0m \u001b[31m3.3 MB/s\u001b[0m eta \u001b[36m0:00:00\u001b[0m\n",
            "\u001b[?25hDownloading tiktoken-0.8.0-cp310-cp310-manylinux_2_17_x86_64.manylinux2014_x86_64.whl (1.2 MB)\n",
            "\u001b[2K   \u001b[90m━━━━━━━━━━━━━━━━━━━━━━━━━━━━━━━━━━━━━━━━\u001b[0m \u001b[32m1.2/1.2 MB\u001b[0m \u001b[31m41.7 MB/s\u001b[0m eta \u001b[36m0:00:00\u001b[0m\n",
            "\u001b[?25hDownloading dill-0.3.6-py3-none-any.whl (110 kB)\n",
            "\u001b[2K   \u001b[90m━━━━━━━━━━━━━━━━━━━━━━━━━━━━━━━━━━━━━━━━\u001b[0m \u001b[32m110.5/110.5 kB\u001b[0m \u001b[31m7.0 MB/s\u001b[0m eta \u001b[36m0:00:00\u001b[0m\n",
            "\u001b[?25hDownloading tokenizers-0.14.1-cp310-cp310-manylinux_2_17_x86_64.manylinux2014_x86_64.whl (3.8 MB)\n",
            "\u001b[2K   \u001b[90m━━━━━━━━━━━━━━━━━━━━━━━━━━━━━━━━━━━━━━━━\u001b[0m \u001b[32m3.8/3.8 MB\u001b[0m \u001b[31m52.2 MB/s\u001b[0m eta \u001b[36m0:00:00\u001b[0m\n",
            "\u001b[?25hDownloading huggingface_hub-0.17.3-py3-none-any.whl (295 kB)\n",
            "\u001b[2K   \u001b[90m━━━━━━━━━━━━━━━━━━━━━━━━━━━━━━━━━━━━━━━━\u001b[0m \u001b[32m295.0/295.0 kB\u001b[0m \u001b[31m19.3 MB/s\u001b[0m eta \u001b[36m0:00:00\u001b[0m\n",
            "\u001b[?25hDownloading multiprocess-0.70.14-py310-none-any.whl (134 kB)\n",
            "\u001b[2K   \u001b[90m━━━━━━━━━━━━━━━━━━━━━━━━━━━━━━━━━━━━━━━━\u001b[0m \u001b[32m134.3/134.3 kB\u001b[0m \u001b[31m5.1 MB/s\u001b[0m eta \u001b[36m0:00:00\u001b[0m\n",
            "\u001b[?25hDownloading xxhash-3.5.0-cp310-cp310-manylinux_2_17_x86_64.manylinux2014_x86_64.whl (194 kB)\n",
            "\u001b[2K   \u001b[90m━━━━━━━━━━━━━━━━━━━━━━━━━━━━━━━━━━━━━━━━\u001b[0m \u001b[32m194.1/194.1 kB\u001b[0m \u001b[31m14.9 MB/s\u001b[0m eta \u001b[36m0:00:00\u001b[0m\n",
            "\u001b[?25hInstalling collected packages: bitsandbytes, xxhash, dill, tiktoken, multiprocess, huggingface-hub, tokenizers, accelerate, transformers, peft, datasets, trl\n",
            "  Attempting uninstall: huggingface-hub\n",
            "    Found existing installation: huggingface-hub 0.26.2\n",
            "    Uninstalling huggingface-hub-0.26.2:\n",
            "      Successfully uninstalled huggingface-hub-0.26.2\n",
            "  Attempting uninstall: tokenizers\n",
            "    Found existing installation: tokenizers 0.20.3\n",
            "    Uninstalling tokenizers-0.20.3:\n",
            "      Successfully uninstalled tokenizers-0.20.3\n",
            "  Attempting uninstall: accelerate\n",
            "    Found existing installation: accelerate 1.1.1\n",
            "    Uninstalling accelerate-1.1.1:\n",
            "      Successfully uninstalled accelerate-1.1.1\n",
            "  Attempting uninstall: transformers\n",
            "    Found existing installation: transformers 4.46.2\n",
            "    Uninstalling transformers-4.46.2:\n",
            "      Successfully uninstalled transformers-4.46.2\n",
            "  Attempting uninstall: peft\n",
            "    Found existing installation: peft 0.13.2\n",
            "    Uninstalling peft-0.13.2:\n",
            "      Successfully uninstalled peft-0.13.2\n",
            "\u001b[31mERROR: pip's dependency resolver does not currently take into account all the packages that are installed. This behaviour is the source of the following dependency conflicts.\n",
            "diffusers 0.31.0 requires huggingface-hub>=0.23.2, but you have huggingface-hub 0.17.3 which is incompatible.\n",
            "sentence-transformers 3.2.1 requires huggingface-hub>=0.20.0, but you have huggingface-hub 0.17.3 which is incompatible.\n",
            "sentence-transformers 3.2.1 requires transformers<5.0.0,>=4.41.0, but you have transformers 4.35.0 which is incompatible.\u001b[0m\u001b[31m\n",
            "\u001b[0mSuccessfully installed accelerate-0.21.0 bitsandbytes-0.40.2 datasets-2.13.0 dill-0.3.6 huggingface-hub-0.17.3 multiprocess-0.70.14 peft-0.4.0 tiktoken-0.8.0 tokenizers-0.14.1 transformers-4.35.0 trl-0.4.7 xxhash-3.5.0\n",
            "Requirement already satisfied: accelerate in /usr/local/lib/python3.10/dist-packages (0.21.0)\n",
            "Requirement already satisfied: numpy>=1.17 in /usr/local/lib/python3.10/dist-packages (from accelerate) (1.26.4)\n",
            "Requirement already satisfied: packaging>=20.0 in /usr/local/lib/python3.10/dist-packages (from accelerate) (24.2)\n",
            "Requirement already satisfied: psutil in /usr/local/lib/python3.10/dist-packages (from accelerate) (5.9.5)\n",
            "Requirement already satisfied: pyyaml in /usr/local/lib/python3.10/dist-packages (from accelerate) (6.0.2)\n",
            "Requirement already satisfied: torch>=1.10.0 in /usr/local/lib/python3.10/dist-packages (from accelerate) (2.5.0+cu121)\n",
            "Requirement already satisfied: filelock in /usr/local/lib/python3.10/dist-packages (from torch>=1.10.0->accelerate) (3.16.1)\n",
            "Requirement already satisfied: typing-extensions>=4.8.0 in /usr/local/lib/python3.10/dist-packages (from torch>=1.10.0->accelerate) (4.12.2)\n",
            "Requirement already satisfied: networkx in /usr/local/lib/python3.10/dist-packages (from torch>=1.10.0->accelerate) (3.4.2)\n",
            "Requirement already satisfied: jinja2 in /usr/local/lib/python3.10/dist-packages (from torch>=1.10.0->accelerate) (3.1.4)\n",
            "Requirement already satisfied: fsspec in /usr/local/lib/python3.10/dist-packages (from torch>=1.10.0->accelerate) (2024.10.0)\n",
            "Requirement already satisfied: sympy==1.13.1 in /usr/local/lib/python3.10/dist-packages (from torch>=1.10.0->accelerate) (1.13.1)\n",
            "Requirement already satisfied: mpmath<1.4,>=1.1.0 in /usr/local/lib/python3.10/dist-packages (from sympy==1.13.1->torch>=1.10.0->accelerate) (1.3.0)\n",
            "Requirement already satisfied: MarkupSafe>=2.0 in /usr/local/lib/python3.10/dist-packages (from jinja2->torch>=1.10.0->accelerate) (3.0.2)\n"
          ]
        }
      ],
      "source": [
        "!pip install \"transformers==4.35\" \"datasets==2.13.0\" \"peft==0.4.0\" \"accelerate==0.21.0\" \"bitsandbytes==0.40.2\" \"trl==0.4.7\" \"safetensors>=0.3.1\" \"tiktoken\"\n",
        "!pip install accelerate"
      ]
    },
    {
      "cell_type": "code",
      "source": [
        "!pip install datasets"
      ],
      "metadata": {
        "colab": {
          "base_uri": "https://localhost:8080/"
        },
        "id": "zevSyesbZ5_3",
        "outputId": "8cf53ae9-25b0-42ab-b991-6ac47bc4666c",
        "collapsed": true
      },
      "execution_count": null,
      "outputs": [
        {
          "output_type": "stream",
          "name": "stdout",
          "text": [
            "Collecting datasets\n",
            "  Downloading datasets-3.1.0-py3-none-any.whl.metadata (20 kB)\n",
            "Requirement already satisfied: filelock in /usr/local/lib/python3.10/dist-packages (from datasets) (3.16.1)\n",
            "Requirement already satisfied: numpy>=1.17 in /usr/local/lib/python3.10/dist-packages (from datasets) (1.26.4)\n",
            "Requirement already satisfied: pyarrow>=15.0.0 in /usr/local/lib/python3.10/dist-packages (from datasets) (17.0.0)\n",
            "Collecting dill<0.3.9,>=0.3.0 (from datasets)\n",
            "  Downloading dill-0.3.8-py3-none-any.whl.metadata (10 kB)\n",
            "Requirement already satisfied: pandas in /usr/local/lib/python3.10/dist-packages (from datasets) (2.2.2)\n",
            "Requirement already satisfied: requests>=2.32.2 in /usr/local/lib/python3.10/dist-packages (from datasets) (2.32.3)\n",
            "Requirement already satisfied: tqdm>=4.66.3 in /usr/local/lib/python3.10/dist-packages (from datasets) (4.66.6)\n",
            "Collecting xxhash (from datasets)\n",
            "  Downloading xxhash-3.5.0-cp310-cp310-manylinux_2_17_x86_64.manylinux2014_x86_64.whl.metadata (12 kB)\n",
            "Collecting multiprocess<0.70.17 (from datasets)\n",
            "  Downloading multiprocess-0.70.16-py310-none-any.whl.metadata (7.2 kB)\n",
            "Collecting fsspec<=2024.9.0,>=2023.1.0 (from fsspec[http]<=2024.9.0,>=2023.1.0->datasets)\n",
            "  Downloading fsspec-2024.9.0-py3-none-any.whl.metadata (11 kB)\n",
            "Requirement already satisfied: aiohttp in /usr/local/lib/python3.10/dist-packages (from datasets) (3.10.10)\n",
            "Requirement already satisfied: huggingface-hub>=0.23.0 in /usr/local/lib/python3.10/dist-packages (from datasets) (0.26.2)\n",
            "Requirement already satisfied: packaging in /usr/local/lib/python3.10/dist-packages (from datasets) (24.2)\n",
            "Requirement already satisfied: pyyaml>=5.1 in /usr/local/lib/python3.10/dist-packages (from datasets) (6.0.2)\n",
            "Requirement already satisfied: aiohappyeyeballs>=2.3.0 in /usr/local/lib/python3.10/dist-packages (from aiohttp->datasets) (2.4.3)\n",
            "Requirement already satisfied: aiosignal>=1.1.2 in /usr/local/lib/python3.10/dist-packages (from aiohttp->datasets) (1.3.1)\n",
            "Requirement already satisfied: attrs>=17.3.0 in /usr/local/lib/python3.10/dist-packages (from aiohttp->datasets) (24.2.0)\n",
            "Requirement already satisfied: frozenlist>=1.1.1 in /usr/local/lib/python3.10/dist-packages (from aiohttp->datasets) (1.5.0)\n",
            "Requirement already satisfied: multidict<7.0,>=4.5 in /usr/local/lib/python3.10/dist-packages (from aiohttp->datasets) (6.1.0)\n",
            "Requirement already satisfied: yarl<2.0,>=1.12.0 in /usr/local/lib/python3.10/dist-packages (from aiohttp->datasets) (1.17.1)\n",
            "Requirement already satisfied: async-timeout<5.0,>=4.0 in /usr/local/lib/python3.10/dist-packages (from aiohttp->datasets) (4.0.3)\n",
            "Requirement already satisfied: typing-extensions>=3.7.4.3 in /usr/local/lib/python3.10/dist-packages (from huggingface-hub>=0.23.0->datasets) (4.12.2)\n",
            "Requirement already satisfied: charset-normalizer<4,>=2 in /usr/local/lib/python3.10/dist-packages (from requests>=2.32.2->datasets) (3.4.0)\n",
            "Requirement already satisfied: idna<4,>=2.5 in /usr/local/lib/python3.10/dist-packages (from requests>=2.32.2->datasets) (3.10)\n",
            "Requirement already satisfied: urllib3<3,>=1.21.1 in /usr/local/lib/python3.10/dist-packages (from requests>=2.32.2->datasets) (2.2.3)\n",
            "Requirement already satisfied: certifi>=2017.4.17 in /usr/local/lib/python3.10/dist-packages (from requests>=2.32.2->datasets) (2024.8.30)\n",
            "Requirement already satisfied: python-dateutil>=2.8.2 in /usr/local/lib/python3.10/dist-packages (from pandas->datasets) (2.8.2)\n",
            "Requirement already satisfied: pytz>=2020.1 in /usr/local/lib/python3.10/dist-packages (from pandas->datasets) (2024.2)\n",
            "Requirement already satisfied: tzdata>=2022.7 in /usr/local/lib/python3.10/dist-packages (from pandas->datasets) (2024.2)\n",
            "Requirement already satisfied: six>=1.5 in /usr/local/lib/python3.10/dist-packages (from python-dateutil>=2.8.2->pandas->datasets) (1.16.0)\n",
            "Requirement already satisfied: propcache>=0.2.0 in /usr/local/lib/python3.10/dist-packages (from yarl<2.0,>=1.12.0->aiohttp->datasets) (0.2.0)\n",
            "Downloading datasets-3.1.0-py3-none-any.whl (480 kB)\n",
            "\u001b[2K   \u001b[90m━━━━━━━━━━━━━━━━━━━━━━━━━━━━━━━━━━━━━━━━\u001b[0m \u001b[32m480.6/480.6 kB\u001b[0m \u001b[31m13.1 MB/s\u001b[0m eta \u001b[36m0:00:00\u001b[0m\n",
            "\u001b[?25hDownloading dill-0.3.8-py3-none-any.whl (116 kB)\n",
            "\u001b[2K   \u001b[90m━━━━━━━━━━━━━━━━━━━━━━━━━━━━━━━━━━━━━━━━\u001b[0m \u001b[32m116.3/116.3 kB\u001b[0m \u001b[31m11.0 MB/s\u001b[0m eta \u001b[36m0:00:00\u001b[0m\n",
            "\u001b[?25hDownloading fsspec-2024.9.0-py3-none-any.whl (179 kB)\n",
            "\u001b[2K   \u001b[90m━━━━━━━━━━━━━━━━━━━━━━━━━━━━━━━━━━━━━━━━\u001b[0m \u001b[32m179.3/179.3 kB\u001b[0m \u001b[31m16.2 MB/s\u001b[0m eta \u001b[36m0:00:00\u001b[0m\n",
            "\u001b[?25hDownloading multiprocess-0.70.16-py310-none-any.whl (134 kB)\n",
            "\u001b[2K   \u001b[90m━━━━━━━━━━━━━━━━━━━━━━━━━━━━━━━━━━━━━━━━\u001b[0m \u001b[32m134.8/134.8 kB\u001b[0m \u001b[31m12.3 MB/s\u001b[0m eta \u001b[36m0:00:00\u001b[0m\n",
            "\u001b[?25hDownloading xxhash-3.5.0-cp310-cp310-manylinux_2_17_x86_64.manylinux2014_x86_64.whl (194 kB)\n",
            "\u001b[2K   \u001b[90m━━━━━━━━━━━━━━━━━━━━━━━━━━━━━━━━━━━━━━━━\u001b[0m \u001b[32m194.1/194.1 kB\u001b[0m \u001b[31m17.4 MB/s\u001b[0m eta \u001b[36m0:00:00\u001b[0m\n",
            "\u001b[?25hInstalling collected packages: xxhash, fsspec, dill, multiprocess, datasets\n",
            "  Attempting uninstall: fsspec\n",
            "    Found existing installation: fsspec 2024.10.0\n",
            "    Uninstalling fsspec-2024.10.0:\n",
            "      Successfully uninstalled fsspec-2024.10.0\n",
            "\u001b[31mERROR: pip's dependency resolver does not currently take into account all the packages that are installed. This behaviour is the source of the following dependency conflicts.\n",
            "gcsfs 2024.10.0 requires fsspec==2024.10.0, but you have fsspec 2024.9.0 which is incompatible.\u001b[0m\u001b[31m\n",
            "\u001b[0mSuccessfully installed datasets-3.1.0 dill-0.3.8 fsspec-2024.9.0 multiprocess-0.70.16 xxhash-3.5.0\n"
          ]
        }
      ]
    },
    {
      "cell_type": "markdown",
      "metadata": {
        "id": "ZSCd_b-651Xf"
      },
      "source": [
        "## Import Libraries"
      ]
    },
    {
      "cell_type": "code",
      "execution_count": null,
      "metadata": {
        "id": "atju3-WW5unX"
      },
      "outputs": [],
      "source": [
        "import pandas as pd\n",
        "from transformers import AutoTokenizer, AutoModelForQuestionAnswering\n",
        "import torch\n",
        "import csv"
      ]
    },
    {
      "cell_type": "code",
      "source": [
        "import pandas as pd\n",
        "import torch\n",
        "from datasets import Dataset, load_dataset\n",
        "from random import randrange\n",
        "from peft import LoraConfig, get_peft_model, AutoPeftModelForCausalLM\n",
        "from transformers import AutoTokenizer, AutoModelForCausalLM, BitsAndBytesConfig, TrainingArguments\n",
        "from trl import SFTTrainer"
      ],
      "metadata": {
        "id": "ynrvfH87vyka",
        "colab": {
          "base_uri": "https://localhost:8080/"
        },
        "outputId": "569b12df-b2c5-41ea-cb79-d93f59b1634b"
      },
      "execution_count": null,
      "outputs": [
        {
          "output_type": "stream",
          "name": "stderr",
          "text": [
            "/usr/local/lib/python3.10/dist-packages/transformers/utils/generic.py:441: FutureWarning: `torch.utils._pytree._register_pytree_node` is deprecated. Please use `torch.utils._pytree.register_pytree_node` instead.\n",
            "  _torch_pytree._register_pytree_node(\n",
            "/usr/local/lib/python3.10/dist-packages/transformers/utils/generic.py:309: FutureWarning: `torch.utils._pytree._register_pytree_node` is deprecated. Please use `torch.utils._pytree.register_pytree_node` instead.\n",
            "  _torch_pytree._register_pytree_node(\n",
            "/usr/local/lib/python3.10/dist-packages/transformers/utils/generic.py:309: FutureWarning: `torch.utils._pytree._register_pytree_node` is deprecated. Please use `torch.utils._pytree.register_pytree_node` instead.\n",
            "  _torch_pytree._register_pytree_node(\n"
          ]
        }
      ]
    },
    {
      "cell_type": "code",
      "source": [
        "from transformers import AutoTokenizer, AutoModelForSeq2SeqLM, Seq2SeqTrainer, Seq2SeqTrainingArguments\n",
        "from datasets import Dataset\n",
        "import torch\n"
      ],
      "metadata": {
        "id": "OfI5sgxtuCDn"
      },
      "execution_count": null,
      "outputs": []
    },
    {
      "cell_type": "markdown",
      "metadata": {
        "id": "EwUAHDMF88Q4"
      },
      "source": [
        "# Data Acquisation & Understanding"
      ]
    },
    {
      "cell_type": "markdown",
      "source": [
        "## Load the Dataset"
      ],
      "metadata": {
        "id": "T-A28tlOxgjy"
      }
    },
    {
      "cell_type": "code",
      "execution_count": null,
      "metadata": {
        "colab": {
          "base_uri": "https://localhost:8080/",
          "height": 206
        },
        "id": "g4j_qKkS87qt",
        "outputId": "06a216a3-43f0-41e0-b096-048e10aad42b"
      },
      "outputs": [
        {
          "output_type": "execute_result",
          "data": {
            "text/plain": [
              "                                 question  \\\n",
              "0                What is (are) Glaucoma ?   \n",
              "1                  What causes Glaucoma ?   \n",
              "2     What are the symptoms of Glaucoma ?   \n",
              "3  What are the treatments for Glaucoma ?   \n",
              "4                What is (are) Glaucoma ?   \n",
              "\n",
              "                                              answer           source  \\\n",
              "0  Glaucoma is a group of diseases that can damag...  NIHSeniorHealth   \n",
              "1  Nearly 2.7 million people have glaucoma, a lea...  NIHSeniorHealth   \n",
              "2  Symptoms of Glaucoma  Glaucoma can develop in ...  NIHSeniorHealth   \n",
              "3  Although open-angle glaucoma cannot be cured, ...  NIHSeniorHealth   \n",
              "4  Glaucoma is a group of diseases that can damag...  NIHSeniorHealth   \n",
              "\n",
              "  focus_area  \n",
              "0   Glaucoma  \n",
              "1   Glaucoma  \n",
              "2   Glaucoma  \n",
              "3   Glaucoma  \n",
              "4   Glaucoma  "
            ],
            "text/html": [
              "\n",
              "  <div id=\"df-02ac88d3-5cfb-448d-9ebb-9b52ff89838c\" class=\"colab-df-container\">\n",
              "    <div>\n",
              "<style scoped>\n",
              "    .dataframe tbody tr th:only-of-type {\n",
              "        vertical-align: middle;\n",
              "    }\n",
              "\n",
              "    .dataframe tbody tr th {\n",
              "        vertical-align: top;\n",
              "    }\n",
              "\n",
              "    .dataframe thead th {\n",
              "        text-align: right;\n",
              "    }\n",
              "</style>\n",
              "<table border=\"1\" class=\"dataframe\">\n",
              "  <thead>\n",
              "    <tr style=\"text-align: right;\">\n",
              "      <th></th>\n",
              "      <th>question</th>\n",
              "      <th>answer</th>\n",
              "      <th>source</th>\n",
              "      <th>focus_area</th>\n",
              "    </tr>\n",
              "  </thead>\n",
              "  <tbody>\n",
              "    <tr>\n",
              "      <th>0</th>\n",
              "      <td>What is (are) Glaucoma ?</td>\n",
              "      <td>Glaucoma is a group of diseases that can damag...</td>\n",
              "      <td>NIHSeniorHealth</td>\n",
              "      <td>Glaucoma</td>\n",
              "    </tr>\n",
              "    <tr>\n",
              "      <th>1</th>\n",
              "      <td>What causes Glaucoma ?</td>\n",
              "      <td>Nearly 2.7 million people have glaucoma, a lea...</td>\n",
              "      <td>NIHSeniorHealth</td>\n",
              "      <td>Glaucoma</td>\n",
              "    </tr>\n",
              "    <tr>\n",
              "      <th>2</th>\n",
              "      <td>What are the symptoms of Glaucoma ?</td>\n",
              "      <td>Symptoms of Glaucoma  Glaucoma can develop in ...</td>\n",
              "      <td>NIHSeniorHealth</td>\n",
              "      <td>Glaucoma</td>\n",
              "    </tr>\n",
              "    <tr>\n",
              "      <th>3</th>\n",
              "      <td>What are the treatments for Glaucoma ?</td>\n",
              "      <td>Although open-angle glaucoma cannot be cured, ...</td>\n",
              "      <td>NIHSeniorHealth</td>\n",
              "      <td>Glaucoma</td>\n",
              "    </tr>\n",
              "    <tr>\n",
              "      <th>4</th>\n",
              "      <td>What is (are) Glaucoma ?</td>\n",
              "      <td>Glaucoma is a group of diseases that can damag...</td>\n",
              "      <td>NIHSeniorHealth</td>\n",
              "      <td>Glaucoma</td>\n",
              "    </tr>\n",
              "  </tbody>\n",
              "</table>\n",
              "</div>\n",
              "    <div class=\"colab-df-buttons\">\n",
              "\n",
              "  <div class=\"colab-df-container\">\n",
              "    <button class=\"colab-df-convert\" onclick=\"convertToInteractive('df-02ac88d3-5cfb-448d-9ebb-9b52ff89838c')\"\n",
              "            title=\"Convert this dataframe to an interactive table.\"\n",
              "            style=\"display:none;\">\n",
              "\n",
              "  <svg xmlns=\"http://www.w3.org/2000/svg\" height=\"24px\" viewBox=\"0 -960 960 960\">\n",
              "    <path d=\"M120-120v-720h720v720H120Zm60-500h600v-160H180v160Zm220 220h160v-160H400v160Zm0 220h160v-160H400v160ZM180-400h160v-160H180v160Zm440 0h160v-160H620v160ZM180-180h160v-160H180v160Zm440 0h160v-160H620v160Z\"/>\n",
              "  </svg>\n",
              "    </button>\n",
              "\n",
              "  <style>\n",
              "    .colab-df-container {\n",
              "      display:flex;\n",
              "      gap: 12px;\n",
              "    }\n",
              "\n",
              "    .colab-df-convert {\n",
              "      background-color: #E8F0FE;\n",
              "      border: none;\n",
              "      border-radius: 50%;\n",
              "      cursor: pointer;\n",
              "      display: none;\n",
              "      fill: #1967D2;\n",
              "      height: 32px;\n",
              "      padding: 0 0 0 0;\n",
              "      width: 32px;\n",
              "    }\n",
              "\n",
              "    .colab-df-convert:hover {\n",
              "      background-color: #E2EBFA;\n",
              "      box-shadow: 0px 1px 2px rgba(60, 64, 67, 0.3), 0px 1px 3px 1px rgba(60, 64, 67, 0.15);\n",
              "      fill: #174EA6;\n",
              "    }\n",
              "\n",
              "    .colab-df-buttons div {\n",
              "      margin-bottom: 4px;\n",
              "    }\n",
              "\n",
              "    [theme=dark] .colab-df-convert {\n",
              "      background-color: #3B4455;\n",
              "      fill: #D2E3FC;\n",
              "    }\n",
              "\n",
              "    [theme=dark] .colab-df-convert:hover {\n",
              "      background-color: #434B5C;\n",
              "      box-shadow: 0px 1px 3px 1px rgba(0, 0, 0, 0.15);\n",
              "      filter: drop-shadow(0px 1px 2px rgba(0, 0, 0, 0.3));\n",
              "      fill: #FFFFFF;\n",
              "    }\n",
              "  </style>\n",
              "\n",
              "    <script>\n",
              "      const buttonEl =\n",
              "        document.querySelector('#df-02ac88d3-5cfb-448d-9ebb-9b52ff89838c button.colab-df-convert');\n",
              "      buttonEl.style.display =\n",
              "        google.colab.kernel.accessAllowed ? 'block' : 'none';\n",
              "\n",
              "      async function convertToInteractive(key) {\n",
              "        const element = document.querySelector('#df-02ac88d3-5cfb-448d-9ebb-9b52ff89838c');\n",
              "        const dataTable =\n",
              "          await google.colab.kernel.invokeFunction('convertToInteractive',\n",
              "                                                    [key], {});\n",
              "        if (!dataTable) return;\n",
              "\n",
              "        const docLinkHtml = 'Like what you see? Visit the ' +\n",
              "          '<a target=\"_blank\" href=https://colab.research.google.com/notebooks/data_table.ipynb>data table notebook</a>'\n",
              "          + ' to learn more about interactive tables.';\n",
              "        element.innerHTML = '';\n",
              "        dataTable['output_type'] = 'display_data';\n",
              "        await google.colab.output.renderOutput(dataTable, element);\n",
              "        const docLink = document.createElement('div');\n",
              "        docLink.innerHTML = docLinkHtml;\n",
              "        element.appendChild(docLink);\n",
              "      }\n",
              "    </script>\n",
              "  </div>\n",
              "\n",
              "\n",
              "<div id=\"df-0d03b5e2-7c2a-448d-a6bd-7f052ad1d602\">\n",
              "  <button class=\"colab-df-quickchart\" onclick=\"quickchart('df-0d03b5e2-7c2a-448d-a6bd-7f052ad1d602')\"\n",
              "            title=\"Suggest charts\"\n",
              "            style=\"display:none;\">\n",
              "\n",
              "<svg xmlns=\"http://www.w3.org/2000/svg\" height=\"24px\"viewBox=\"0 0 24 24\"\n",
              "     width=\"24px\">\n",
              "    <g>\n",
              "        <path d=\"M19 3H5c-1.1 0-2 .9-2 2v14c0 1.1.9 2 2 2h14c1.1 0 2-.9 2-2V5c0-1.1-.9-2-2-2zM9 17H7v-7h2v7zm4 0h-2V7h2v10zm4 0h-2v-4h2v4z\"/>\n",
              "    </g>\n",
              "</svg>\n",
              "  </button>\n",
              "\n",
              "<style>\n",
              "  .colab-df-quickchart {\n",
              "      --bg-color: #E8F0FE;\n",
              "      --fill-color: #1967D2;\n",
              "      --hover-bg-color: #E2EBFA;\n",
              "      --hover-fill-color: #174EA6;\n",
              "      --disabled-fill-color: #AAA;\n",
              "      --disabled-bg-color: #DDD;\n",
              "  }\n",
              "\n",
              "  [theme=dark] .colab-df-quickchart {\n",
              "      --bg-color: #3B4455;\n",
              "      --fill-color: #D2E3FC;\n",
              "      --hover-bg-color: #434B5C;\n",
              "      --hover-fill-color: #FFFFFF;\n",
              "      --disabled-bg-color: #3B4455;\n",
              "      --disabled-fill-color: #666;\n",
              "  }\n",
              "\n",
              "  .colab-df-quickchart {\n",
              "    background-color: var(--bg-color);\n",
              "    border: none;\n",
              "    border-radius: 50%;\n",
              "    cursor: pointer;\n",
              "    display: none;\n",
              "    fill: var(--fill-color);\n",
              "    height: 32px;\n",
              "    padding: 0;\n",
              "    width: 32px;\n",
              "  }\n",
              "\n",
              "  .colab-df-quickchart:hover {\n",
              "    background-color: var(--hover-bg-color);\n",
              "    box-shadow: 0 1px 2px rgba(60, 64, 67, 0.3), 0 1px 3px 1px rgba(60, 64, 67, 0.15);\n",
              "    fill: var(--button-hover-fill-color);\n",
              "  }\n",
              "\n",
              "  .colab-df-quickchart-complete:disabled,\n",
              "  .colab-df-quickchart-complete:disabled:hover {\n",
              "    background-color: var(--disabled-bg-color);\n",
              "    fill: var(--disabled-fill-color);\n",
              "    box-shadow: none;\n",
              "  }\n",
              "\n",
              "  .colab-df-spinner {\n",
              "    border: 2px solid var(--fill-color);\n",
              "    border-color: transparent;\n",
              "    border-bottom-color: var(--fill-color);\n",
              "    animation:\n",
              "      spin 1s steps(1) infinite;\n",
              "  }\n",
              "\n",
              "  @keyframes spin {\n",
              "    0% {\n",
              "      border-color: transparent;\n",
              "      border-bottom-color: var(--fill-color);\n",
              "      border-left-color: var(--fill-color);\n",
              "    }\n",
              "    20% {\n",
              "      border-color: transparent;\n",
              "      border-left-color: var(--fill-color);\n",
              "      border-top-color: var(--fill-color);\n",
              "    }\n",
              "    30% {\n",
              "      border-color: transparent;\n",
              "      border-left-color: var(--fill-color);\n",
              "      border-top-color: var(--fill-color);\n",
              "      border-right-color: var(--fill-color);\n",
              "    }\n",
              "    40% {\n",
              "      border-color: transparent;\n",
              "      border-right-color: var(--fill-color);\n",
              "      border-top-color: var(--fill-color);\n",
              "    }\n",
              "    60% {\n",
              "      border-color: transparent;\n",
              "      border-right-color: var(--fill-color);\n",
              "    }\n",
              "    80% {\n",
              "      border-color: transparent;\n",
              "      border-right-color: var(--fill-color);\n",
              "      border-bottom-color: var(--fill-color);\n",
              "    }\n",
              "    90% {\n",
              "      border-color: transparent;\n",
              "      border-bottom-color: var(--fill-color);\n",
              "    }\n",
              "  }\n",
              "</style>\n",
              "\n",
              "  <script>\n",
              "    async function quickchart(key) {\n",
              "      const quickchartButtonEl =\n",
              "        document.querySelector('#' + key + ' button');\n",
              "      quickchartButtonEl.disabled = true;  // To prevent multiple clicks.\n",
              "      quickchartButtonEl.classList.add('colab-df-spinner');\n",
              "      try {\n",
              "        const charts = await google.colab.kernel.invokeFunction(\n",
              "            'suggestCharts', [key], {});\n",
              "      } catch (error) {\n",
              "        console.error('Error during call to suggestCharts:', error);\n",
              "      }\n",
              "      quickchartButtonEl.classList.remove('colab-df-spinner');\n",
              "      quickchartButtonEl.classList.add('colab-df-quickchart-complete');\n",
              "    }\n",
              "    (() => {\n",
              "      let quickchartButtonEl =\n",
              "        document.querySelector('#df-0d03b5e2-7c2a-448d-a6bd-7f052ad1d602 button');\n",
              "      quickchartButtonEl.style.display =\n",
              "        google.colab.kernel.accessAllowed ? 'block' : 'none';\n",
              "    })();\n",
              "  </script>\n",
              "</div>\n",
              "\n",
              "    </div>\n",
              "  </div>\n"
            ],
            "application/vnd.google.colaboratory.intrinsic+json": {
              "type": "dataframe",
              "variable_name": "data",
              "summary": "{\n  \"name\": \"data\",\n  \"rows\": 2000,\n  \"fields\": [\n    {\n      \"column\": \"question\",\n      \"properties\": {\n        \"dtype\": \"string\",\n        \"num_unique_values\": 1433,\n        \"samples\": [\n          \"What is (are) Uterine Sarcoma ?\",\n          \"what research (or clinical trials) is being done for Endometrial Cancer ?\",\n          \"What is (are) Hepatitis B ?\"\n        ],\n        \"semantic_type\": \"\",\n        \"description\": \"\"\n      }\n    },\n    {\n      \"column\": \"answer\",\n      \"properties\": {\n        \"dtype\": \"string\",\n        \"num_unique_values\": 1976,\n        \"samples\": [\n          \"The cervix is the lower part of the uterus, the place where a baby grows during pregnancy. Cervical cancer is caused by a virus called HPV. The virus spreads through sexual contact. Most women's bodies are able to fight HPV infection. But sometimes the virus leads to cancer. You're at higher risk if you smoke, have had many children, use birth control pills for a long time, or have HIV infection.     Cervical cancer may not cause any symptoms at first. Later, you may have pelvic pain or bleeding from the vagina. It usually takes several years for normal cells in the cervix to turn into cancer cells. Your health care provider can find abnormal cells by doing a Pap test to examine cells from the cervix. You may also have an HPV test. If your results are abnormal, you may need a biopsy or other tests. By getting regular screenings, you can find and treat any problems before they turn into cancer.    Treatment may include surgery, radiation therapy, chemotherapy, or a combination. The choice of treatment depends on the size of the tumor, whether the cancer has spread and whether you would like to become pregnant someday.    Vaccines can protect against several types of HPV, including some that can cause cancer.    NIH: National Cancer Institute\",\n          \"Your small intestine is part of your digestive system. It is a long tube that connects your stomach to your large intestine. Intestinal cancer is rare, but eating a high-fat diet or having Crohn's disease, celiac disease, or a history of colonic polyps can increase your risk.    Possible signs of small intestine cancer include       - Abdominal pain    - Weight loss for no reason    - Blood in the stool    - A lump in the abdomen       Imaging tests that create pictures of the small intestine and the area around it can help diagnose intestinal cancer and show whether it has spread.    Surgery is the most common treatment. Additional options include chemotherapy, radiation therapy, or a combination.    NIH: National Cancer Institute\",\n          \"The National Cancer Institute has developed a comprehensive online cancer database called the Physician Data Query (PDQ) to present evidence from the most recent research on melanoma and other skin cancers. Click here to see the PDQ. A window will open. Click the \\\"x\\\" in the upper right hand corner of the \\\"PDQ\\\" window to return here.\"\n        ],\n        \"semantic_type\": \"\",\n        \"description\": \"\"\n      }\n    },\n    {\n      \"column\": \"source\",\n      \"properties\": {\n        \"dtype\": \"category\",\n        \"num_unique_values\": 3,\n        \"samples\": [\n          \"NIHSeniorHealth\",\n          \"CancerGov\",\n          \"MPlusHealthTopics\"\n        ],\n        \"semantic_type\": \"\",\n        \"description\": \"\"\n      }\n    },\n    {\n      \"column\": \"focus_area\",\n      \"properties\": {\n        \"dtype\": \"category\",\n        \"num_unique_values\": 627,\n        \"samples\": [\n          \"Sports Safety\",\n          \"Peritoneal Disorders\",\n          \"CT Scans\"\n        ],\n        \"semantic_type\": \"\",\n        \"description\": \"\"\n      }\n    }\n  ]\n}"
            }
          },
          "metadata": {},
          "execution_count": 2
        }
      ],
      "source": [
        "data = pd.read_csv('/content/medquad.csv', encoding='utf-8', nrows=2000)\n",
        "data.head()"
      ]
    },
    {
      "cell_type": "markdown",
      "metadata": {
        "id": "ZFreCr5l_K8v"
      },
      "source": [
        "## Explore and Analyze the Dataset\n",
        "\n",
        "We will check the dataset for basic information, including the number of unique questions, repeated questions, and any potential duplicates. This will help us understand the dataset’s structure and decide on preprocessing steps.\n"
      ]
    },
    {
      "cell_type": "code",
      "execution_count": null,
      "metadata": {
        "colab": {
          "base_uri": "https://localhost:8080/"
        },
        "id": "RjhIj6RG_M0j",
        "outputId": "9d42ab76-1bb9-47d6-abda-0a1188b9a9f2"
      },
      "outputs": [
        {
          "output_type": "stream",
          "name": "stdout",
          "text": [
            "Dataset shape: (2000, 4)\n",
            "Columns: Index(['question', 'answer', 'source', 'focus_area'], dtype='object')\n"
          ]
        }
      ],
      "source": [
        "print(\"Dataset shape:\", data.shape)\n",
        "print(\"Columns:\", data.columns)"
      ]
    },
    {
      "cell_type": "markdown",
      "metadata": {
        "id": "4KCBUaquAeYC"
      },
      "source": [
        "### 1. Column Summary and Data Types"
      ]
    },
    {
      "cell_type": "code",
      "execution_count": null,
      "metadata": {
        "colab": {
          "base_uri": "https://localhost:8080/"
        },
        "id": "NtdHZXer_1Wz",
        "outputId": "746d590f-c342-4e92-8791-4ee305891864"
      },
      "outputs": [
        {
          "output_type": "stream",
          "name": "stdout",
          "text": [
            "<class 'pandas.core.frame.DataFrame'>\n",
            "RangeIndex: 2000 entries, 0 to 1999\n",
            "Data columns (total 4 columns):\n",
            " #   Column      Non-Null Count  Dtype \n",
            "---  ------      --------------  ----- \n",
            " 0   question    2000 non-null   object\n",
            " 1   answer      2000 non-null   object\n",
            " 2   source      2000 non-null   object\n",
            " 3   focus_area  2000 non-null   object\n",
            "dtypes: object(4)\n",
            "memory usage: 62.6+ KB\n"
          ]
        }
      ],
      "source": [
        "data.info()"
      ]
    },
    {
      "cell_type": "markdown",
      "metadata": {
        "id": "Lfe3RckLAi5u"
      },
      "source": [
        "### 2. Distribution of Questions and Answers"
      ]
    },
    {
      "cell_type": "code",
      "execution_count": null,
      "metadata": {
        "colab": {
          "base_uri": "https://localhost:8080/"
        },
        "id": "6cikJV-MAJK-",
        "outputId": "fc8631e7-fd06-4936-a20f-c627827de66e"
      },
      "outputs": [
        {
          "output_type": "stream",
          "name": "stdout",
          "text": [
            "Number of unique questions: 1433\n",
            "Top 10 most common questions:\n",
            " question\n",
            "What is (are) High Blood Cholesterol ?           18\n",
            "What is (are) Medicare and Continuing Care ?     14\n",
            "What is (are) Skin Cancer ?                      12\n",
            "What is (are) Breast Cancer ?                    12\n",
            "What are the treatments for Breast Cancer ?      12\n",
            "What is (are) Colorectal Cancer ?                12\n",
            "What is (are) Stroke ?                           11\n",
            "What is (are) Leukemia ?                         10\n",
            "What are the treatments for Prostate Cancer ?    10\n",
            "What is (are) High Blood Pressure ?              10\n",
            "Name: count, dtype: int64\n"
          ]
        }
      ],
      "source": [
        "# Count the number of unique questions\n",
        "unique_questions_count = data['question'].nunique()\n",
        "print(\"Number of unique questions:\", unique_questions_count)\n",
        "\n",
        "# Count the frequency of each question\n",
        "question_counts = data['question'].value_counts()\n",
        "print(\"Top 10 most common questions:\\n\", question_counts.head(10))\n"
      ]
    },
    {
      "cell_type": "markdown",
      "metadata": {
        "id": "QQtrfCKJA33l"
      },
      "source": [
        "### 3. Analysis of Repeated Questions\n",
        "This helps to understand which questions are repeated in the dataset and how often each appears, which can be useful for the model."
      ]
    },
    {
      "cell_type": "code",
      "execution_count": null,
      "metadata": {
        "colab": {
          "base_uri": "https://localhost:8080/"
        },
        "id": "MaiVT_qAA3bm",
        "outputId": "0f00047c-eedd-4f0d-b078-c8b5648b49de"
      },
      "outputs": [
        {
          "output_type": "stream",
          "name": "stdout",
          "text": [
            "Number of repeated questions: 213\n",
            "Examples of repeated questions:\n",
            " question\n",
            "What is (are) High Blood Cholesterol ?           18\n",
            "What is (are) Medicare and Continuing Care ?     14\n",
            "What is (are) Colorectal Cancer ?                12\n",
            "What is (are) Breast Cancer ?                    12\n",
            "What is (are) Skin Cancer ?                      12\n",
            "What are the treatments for Breast Cancer ?      12\n",
            "What is (are) Stroke ?                           11\n",
            "What is (are) High Blood Pressure ?              10\n",
            "What are the treatments for Prostate Cancer ?    10\n",
            "What is (are) Leukemia ?                         10\n",
            "Name: count, dtype: int64\n"
          ]
        }
      ],
      "source": [
        "# Find questions that appear more than once\n",
        "repeated_questions = data[data.duplicated(subset=['question'], keep=False)]\n",
        "\n",
        "# Display repeated questions and their counts\n",
        "repeated_questions_summary = repeated_questions['question'].value_counts()\n",
        "print(\"Number of repeated questions:\", len(repeated_questions_summary))\n",
        "print(\"Examples of repeated questions:\\n\", repeated_questions_summary.head(10))\n"
      ]
    },
    {
      "cell_type": "markdown",
      "metadata": {
        "id": "7ngEN7wQBiyQ"
      },
      "source": [
        "### 4. Check if repeated questions have the same or different answers"
      ]
    },
    {
      "cell_type": "markdown",
      "metadata": {
        "id": "axhdFHCJCErV"
      },
      "source": [
        "Here we group the dataset by question and calculates the number of unique answers for each question. It then filters for questions that have more than one unique answer, showing only those with multiple responses."
      ]
    },
    {
      "cell_type": "code",
      "execution_count": null,
      "metadata": {
        "colab": {
          "base_uri": "https://localhost:8080/"
        },
        "id": "71sNGlmyBp3B",
        "outputId": "7609607b-477b-43c5-8d74-3c248394cb7a"
      },
      "outputs": [
        {
          "output_type": "stream",
          "name": "stdout",
          "text": [
            "Questions with multiple unique answers:\n",
            "                                               question  unique_answer_count\n",
            "183            How to diagnose Alzheimer's Caregiving ?                    2\n",
            "184               How to diagnose Alzheimer's Disease ?                    3\n",
            "188                     How to diagnose Breast Cancer ?                    3\n",
            "189                              How to diagnose COPD ?                    2\n",
            "211   How to diagnose Creating a Family Health Histo...                    2\n",
            "...                                                 ...                  ...\n",
            "1415  what research (or clinical trials) is being do...                    2\n",
            "1416  what research (or clinical trials) is being do...                    3\n",
            "1417  what research (or clinical trials) is being do...                    2\n",
            "1423  what research (or clinical trials) is being do...                    4\n",
            "1425  what research (or clinical trials) is being do...                    2\n",
            "\n",
            "[213 rows x 2 columns]\n"
          ]
        }
      ],
      "source": [
        "# Group by 'question' and count unique answers for each question\n",
        "question_answer_variation = data.groupby('question')['answer'].nunique().reset_index()\n",
        "question_answer_variation.columns = ['question', 'unique_answer_count']\n",
        "\n",
        "# Filter questions with multiple unique answers\n",
        "repeated_questions_with_different_answers = question_answer_variation[question_answer_variation['unique_answer_count'] > 1]\n",
        "\n",
        "# Display questions that have multiple unique answers\n",
        "print(\"Questions with multiple unique answers:\")\n",
        "print(repeated_questions_with_different_answers)\n"
      ]
    },
    {
      "cell_type": "code",
      "execution_count": null,
      "metadata": {
        "colab": {
          "base_uri": "https://localhost:8080/"
        },
        "id": "-vAXsh0pCaCv",
        "outputId": "a3c580b6-3a8d-4a63-aad8-a4adc4a473d2"
      },
      "outputs": [
        {
          "output_type": "stream",
          "name": "stdout",
          "text": [
            "\n",
            "Question: How to diagnose Alzheimer's Caregiving ?\n",
            "\n",
            "Answer 1: Now that your family member or friend has received a diagnosis of Alzheimers disease, its important to learn as much as you can about the disease and how to care for someone who has it. You may also want to know the right way to share the news with family and friends. Learning About Alzheimers Sometimes, you may feel that you don't know how to care for the person with Alzheimers. This is a common feeling among caregivers of people with Alzheimers because each day may bring different challenges. Learning about the disease can help you understand and cope with these challenges. Here is some information about Alzheimers and ways you can learn more about it. Alzheimers disease is an illness of the brain. It causes large numbers of nerve cells in the brain to die. This affects a persons ability to remember things and think clearly. People with Alzheimers become forgetful and easily confused and may have a hard time concentrating. They may have trouble taking care of themselves and doing basic things like making meals, bathing, and getting dressed. Alzheimers varies from person to person. It can progress faster in some people than in others, and not everyone will have the same symptoms. In general, though, Alzheimers takes many years to develop, becoming increasingly severe over time. As the disease gets worse, people need more help. Eventually, they require total care. Alzheimer's disease consists of three main stages: mild (sometimes called early-stage), moderate, and severe (sometimes called late-stage). Understanding these stages can help you care for your loved one and plan ahead. Mild Alzheimers Disease In the mild stage of Alzheimers, people often have some memory loss and small changes in personality. They may have trouble remembering recent events or the names of familiar people or things. They may no longer be able to solve simple math problems or balance a checkbook. People with mild Alzheimers also slowly lose the ability to plan and organize. For example, they may have trouble making a grocery list and finding items in the store. Moderate Alzheimers Disease In the moderate stage of Alzheimers, memory loss and confusion become more obvious. People have more trouble organizing, planning, and following instructions. They may need help getting dressed and may start having problems with bladder or bowel control. People with moderate Alzheimers may have trouble recognizing family members and friends. They may not know where they are or what day or year it is. They also may begin to wander, so they should not be left alone. Personality changes can become more serious. For example, people may make threats or accuse others of stealing. Severe Alzheimers Disease In the severe stage of Alzheimer's, people usually need help with all of their daily needs. They may not be able to walk or sit up without help. They may not be able to talk and often cannot recognize family members. They may have trouble swallowing and refuse to eat. For a short overview of Alzheimers, see  Understanding Alzheimers Disease: What You Need to Know. Learn More About Alzheimers Disease So far, there is no cure for Alzheimers, but there are treatments that can prevent some symptoms from getting worse for a limited time. Here are some ways you can learn more about Alzheimers disease. - Talk with a doctor or other healthcare provider who specializes in Alzheimers disease.   - Check out books or videos about Alzheimers from the library.   - Go to educational programs about the disease.   - Visit the website of the National Institute on Agings Alzheimers Disease Education and Referral (ADEAR) Center. The Institute has a guide, Caring for a Person with Alzheimers Disease,which can be viewed online and ordered in print.   - Read about  Alzheimers disease on NIHSeniorHealth.  - Find a support group for caregivers, ideally one in which members are taking care of someone who is in the same stage of Alzheimers as the person you are caring for.  Talk with a doctor or other healthcare provider who specializes in Alzheimers disease. Check out books or videos about Alzheimers from the library. Go to educational programs about the disease. Visit the website of the National Institute on Agings Alzheimers Disease Education and Referral (ADEAR) Center. The Institute has a guide, Caring for a Person with Alzheimers Disease,which can be viewed online and ordered in print. Read about  Alzheimers disease on NIHSeniorHealth. Find a support group for caregivers, ideally one in which members are taking care of someone who is in the same stage of Alzheimers as the person you are caring for. Talking With Family and Friends When you learn that someone has Alzheimers disease, you may wonder when and how to tell your family and friends. You may be worried about how others will react to or treat the person. Others often sense that something is wrong before they are told. Alzheimers disease is hard to keep secret. When the time seems right, be honest with family, friends, and others. Use this as a chance to educate them about Alzheimers disease. You can share information to help them understand what you and the person with Alzheimers are going through. You can also tell them what they can do to help. You can help family and friends understand how to interact with the person who has Alzheimers. - Help them realize what the person can still do and how much he or she can still understand.  - Give them suggestions about how to start talking with the person. For example, \"Hello George, I'm John. We used to work together.\"  - Help them avoid correcting the person with Alzheimers if he or she makes a mistake or forgets something.  - Help them plan fun activities with the person, such as going to family reunions or visiting old friends. Help them realize what the person can still do and how much he or she can still understand. Give them suggestions about how to start talking with the person. For example, \"Hello George, I'm John. We used to work together.\" Help them avoid correcting the person with Alzheimers if he or she makes a mistake or forgets something. Help them plan fun activities with the person, such as going to family reunions or visiting old friends. Helping Children Understand Alzheimers If the person with Alzheimers has young children or grandchildren, you can help them understand what is happening. Answer their questions simply and honestly. For example, you might tell a young child, \"Grandma has an illness that makes it hard for her to remember things.\" Know that their feelings of sadness and anger are normal. Comfort them. Tell them they didn't cause the disease. If the child lives with someone who has Alzheimers, don't expect him or her to \"babysit\" the person. Make sure the child has time for his or her own interests and needs, such as playing with friends and going to school activities. Spend time with the child, so he or she doesn't feel that all your attention is on the person with Alzheimers. Many younger children will look to you to see how to act around the person with Alzheimers disease. Show children they can still talk with the person and help them enjoy things. Doing fun things together, like arts and crafts or looking through photo albums, can help both the child and the person with Alzheimer's. Challenges for Teens A teenager might find it hard to accept how the person with Alzheimers has changed. He or she may find the changes upsetting or embarrassing and not want to be around the person. Talk with teenagers about their concerns and feelings. Don't force them to spend time with the person who has Alzheimers.  Get more information about helping family and friends understand Alzheimers disease.\n",
            "\n",
            "Answer 2: When you learn that someone has Alzheimers disease, you may wonder when and how to tell your family and friends. You may be worried about how others will react to or treat the person. Others often sense that something is wrong before they are told. Alzheimers disease is hard to keep secret. When the time seems right, be honest with family, friends, and others. Use this as a chance to educate them about Alzheimers disease. You can share information to help them understand what you and the person with Alzheimers are going through. You can also tell them what they can do to help. Get more information about helping family and friends understand Alzheimer's disease.\n",
            "\n",
            "\n",
            "Question: How to diagnose Alzheimer's Disease ?\n",
            "\n",
            "Answer 1: The only definitive way to diagnose Alzheimer's disease is to find out whether plaques and tangles exist in brain tissue. To look at brain tissue, doctors perform a brain autopsy, an examination of the brain done after a person dies. Doctors can only make a diagnosis of \"possible\" or probable Alzheimers disease while a person is alive. Doctors with special training can diagnose Alzheimer's disease correctly up to 90 percent of the time. Doctors who can diagnose Alzheimers include geriatricians, geriatric psychiatrists, and neurologists. A geriatrician specializes in the treatment of older adults. A geriatric psychiatrist specializes in mental problems in older adults. A neurologist specializes in brain and nervous system disorders. To diagnose Alzheimer's disease, doctors may - ask questions about overall health, past medical problems, ability to carry out daily activities, and changes in behavior and personality  - conduct tests to measure memory, problem solving, attention, counting, and language skills   - carry out standard medical tests, such as blood and urine tests  - perform brain scans to look for anything in the brain that does not look normal. ask questions about overall health, past medical problems, ability to carry out daily activities, and changes in behavior and personality conduct tests to measure memory, problem solving, attention, counting, and language skills carry out standard medical tests, such as blood and urine tests perform brain scans to look for anything in the brain that does not look normal.\n",
            "\n",
            "Answer 2: An early, accurate diagnosis of Alzheimer's disease helps people and their families plan for the future. It gives them time to discuss care options, find support, and make legal and financial arrangements while the person with Alzheimers can still take part in making decisions. Also, even though no medicine or other treatment can stop or slow the disease, early diagnosis offers the best chance to treat the symptoms.\n",
            "\n",
            "Answer 3: The time from diagnosis of Alzheimers disease to death varies. It can be as little as 3 or 4 years if the person is over 80 years old when diagnosed or as long as 10 years or more if the person is younger.\n",
            "\n"
          ]
        }
      ],
      "source": [
        "# Select two questions with multiple unique answers for display\n",
        "sample_questions = repeated_questions_with_different_answers['question'].head(2)\n",
        "\n",
        "# Filter the main dataset for these two questions\n",
        "sample_repeated_questions_data = data[data['question'].isin(sample_questions)]\n",
        "\n",
        "# Sort by question for organized display\n",
        "sample_repeated_questions_data = sample_repeated_questions_data.sort_values(by='question')\n",
        "\n",
        "\n",
        "for question in sample_questions:\n",
        "    print(f\"\\nQuestion: {question}\\n\")\n",
        "    answers = sample_repeated_questions_data[sample_repeated_questions_data['question'] == question]['answer']\n",
        "    for idx, answer in enumerate(answers, 1):\n",
        "        print(f\"Answer {idx}: {answer}\\n\")\n",
        "\n"
      ]
    },
    {
      "cell_type": "markdown",
      "metadata": {
        "id": "1iX6YmQiF0Mi"
      },
      "source": [
        "# **Data Preprocessing**"
      ]
    },
    {
      "cell_type": "markdown",
      "metadata": {
        "id": "wMarOtetHHPm"
      },
      "source": [
        "### Handling Irrelevant Columns"
      ]
    },
    {
      "cell_type": "markdown",
      "metadata": {
        "id": "XP_dPOG_G1Q6"
      },
      "source": [
        "* Since source and focus_area don’t directly contribute to the question-answering task, we can safely remove these columns. Retaining only question and answer will simplify the dataset and reduce unnecessary information that won’t be used during model training.\n",
        "* Since only 5 answers are missing we can delete the columns that have missing values"
      ]
    },
    {
      "cell_type": "code",
      "execution_count": null,
      "metadata": {
        "id": "pN4pPYy_HQZU"
      },
      "outputs": [],
      "source": [
        "# Drop the columns 'source' and 'focus_area'\n",
        "data = data.drop(columns=['source', 'focus_area'])"
      ]
    },
    {
      "cell_type": "code",
      "execution_count": null,
      "metadata": {
        "colab": {
          "base_uri": "https://localhost:8080/"
        },
        "id": "l1FcqOVJHVNX",
        "outputId": "54a1ac52-b136-4e35-a62d-2d36cfa826f4"
      },
      "outputs": [
        {
          "output_type": "stream",
          "name": "stdout",
          "text": [
            "Remaining missing values:\n",
            " question    0\n",
            "answer      0\n",
            "dtype: int64\n"
          ]
        }
      ],
      "source": [
        "# Remove rows where 'answer' is missing\n",
        "data = data.dropna(subset=['answer'])\n",
        "\n",
        "# Verify that no missing values remain in 'question' and 'answer'\n",
        "print(\"Remaining missing values:\\n\", data.isnull().sum())\n"
      ]
    },
    {
      "cell_type": "markdown",
      "metadata": {
        "id": "R-Ru80D-Epcd"
      },
      "source": [
        "### Remove Exact Duplicates"
      ]
    },
    {
      "cell_type": "code",
      "execution_count": null,
      "metadata": {
        "colab": {
          "base_uri": "https://localhost:8080/"
        },
        "id": "a8pEClmCEf6m",
        "outputId": "4e608973-f697-4dd2-df31-f26b6d1863b2"
      },
      "outputs": [
        {
          "output_type": "stream",
          "name": "stdout",
          "text": [
            "Number of rows after removing exact duplicates: 2000\n"
          ]
        }
      ],
      "source": [
        "# Remove rows where both the question and answer are identical\n",
        "data_unique = data.drop_duplicates(subset=['question', 'answer'])\n",
        "\n",
        "# Check new number of rows after removing exact duplicates\n",
        "print(\"Number of rows after removing exact duplicates:\", data_unique.shape[0])\n"
      ]
    },
    {
      "cell_type": "markdown",
      "metadata": {
        "id": "k2LnxsoRGCRn"
      },
      "source": [
        "### Check for Missing Values"
      ]
    },
    {
      "cell_type": "code",
      "execution_count": null,
      "metadata": {
        "colab": {
          "base_uri": "https://localhost:8080/"
        },
        "id": "d6CC0WLbGQnR",
        "outputId": "a8e46b2f-556a-4398-a3f5-14a43b64df27"
      },
      "outputs": [
        {
          "output_type": "stream",
          "name": "stdout",
          "text": [
            "Missing values per column:\n",
            " question      0\n",
            "answer        0\n",
            "source        0\n",
            "focus_area    0\n",
            "dtype: int64\n",
            "\n",
            "Percentage of missing values per column:\n",
            " question      0.0\n",
            "answer        0.0\n",
            "source        0.0\n",
            "focus_area    0.0\n",
            "dtype: float64\n"
          ]
        }
      ],
      "source": [
        "# Display the count of missing values for each column\n",
        "missing_values = data.isnull().sum()\n",
        "print(\"Missing values per column:\\n\", missing_values)\n",
        "\n",
        "# Display the percentage of missing values for each column\n",
        "missing_percentage = (data.isnull().sum() / len(data)) * 100\n",
        "print(\"\\nPercentage of missing values per column:\\n\", missing_percentage)\n"
      ]
    },
    {
      "cell_type": "markdown",
      "metadata": {
        "id": "Ccy6_K-FOHf-"
      },
      "source": [
        "### Removing Unwanted Characters or Excessive Whitespace:"
      ]
    },
    {
      "cell_type": "code",
      "execution_count": null,
      "metadata": {
        "id": "NLlDIhyHOHGV"
      },
      "outputs": [],
      "source": [
        "# Minimal Preprocessing\n",
        "def clean_text(text):\n",
        "    # Remove excessive whitespace\n",
        "    text = ' '.join(text.split())\n",
        "    return text\n",
        "\n",
        "# Apply cleaning to the 'question' and 'answer' columns\n",
        "data['question'] = data['question'].apply(clean_text)\n",
        "data['answer'] = data['answer'].apply(clean_text)\n"
      ]
    },
    {
      "cell_type": "markdown",
      "metadata": {
        "id": "q0SDkKrbOQi9"
      },
      "source": [
        "# **Splitting to train and test dataset**"
      ]
    },
    {
      "cell_type": "code",
      "execution_count": null,
      "metadata": {
        "colab": {
          "base_uri": "https://localhost:8080/"
        },
        "id": "xelnFSGEb5qc",
        "outputId": "0958d8f3-167a-4b37-b47f-e21ac5c4e0eb"
      },
      "outputs": [
        {
          "output_type": "stream",
          "name": "stdout",
          "text": [
            "                                          question  \\\n",
            "968      What is (are) Myelodysplastic Syndromes ?   \n",
            "240                 What is (are) Kidney Disease ?   \n",
            "819  What is (are) Childhood Soft Tissue Sarcoma ?   \n",
            "692                           What is (are) Gout ?   \n",
            "420   What are the symptoms of Colorectal Cancer ?   \n",
            "\n",
            "                                                answer  \n",
            "968  Key Points - Myelodysplastic syndromes are a g...  \n",
            "240  When you visit your doctor, here are questions...  \n",
            "819  Key Points - Childhood soft tissue sarcoma is ...  \n",
            "692  Sudden, Intense Joint Pain Gout is a form of a...  \n",
            "420  Possible signs of colorectal cancer include: -...  \n"
          ]
        }
      ],
      "source": [
        "import pandas as pd\n",
        "from sklearn.model_selection import train_test_split\n",
        "\n",
        "# Now split into train and validation sets\n",
        "train_data, val_data = train_test_split(data, test_size=0.2, random_state=42)\n",
        "\n",
        "# Display the first few rows to confirm the change\n",
        "print(train_data.head())"
      ]
    },
    {
      "cell_type": "markdown",
      "metadata": {
        "id": "jTK5IsW6VzKR"
      },
      "source": [
        "# Fine Tuning on Google Flan T5 Large"
      ]
    },
    {
      "cell_type": "markdown",
      "source": [
        "The model selected for this task is FLAN-T5 Large, a variant of the T5 (Text-to-Text\n",
        "Transfer Transformer) model fine-tuned for instruction-following tasks. This model is\n",
        "well-suited for a range of natural language processing (NLP) tasks, including questionanswering.\n"
      ],
      "metadata": {
        "id": "H3ihY5wImR_O"
      }
    },
    {
      "cell_type": "markdown",
      "source": [
        "## Model Setup"
      ],
      "metadata": {
        "id": "eFXUsLg78mlm"
      }
    },
    {
      "cell_type": "markdown",
      "metadata": {
        "id": "oNaVumzLV6h4"
      },
      "source": [
        "### 1.Load the Model and Tokenizer"
      ]
    },
    {
      "cell_type": "code",
      "execution_count": null,
      "metadata": {
        "colab": {
          "base_uri": "https://localhost:8080/"
        },
        "id": "WEys3ptxl6uA",
        "outputId": "184e3dc2-0f23-4269-bc99-b709dcc34983",
        "collapsed": true
      },
      "outputs": [
        {
          "output_type": "stream",
          "name": "stdout",
          "text": [
            "Requirement already satisfied: transformers in /usr/local/lib/python3.10/dist-packages (4.32.0)\n",
            "Requirement already satisfied: torch in /usr/local/lib/python3.10/dist-packages (2.5.0+cu121)\n",
            "Requirement already satisfied: filelock in /usr/local/lib/python3.10/dist-packages (from transformers) (3.16.1)\n",
            "Requirement already satisfied: huggingface-hub<1.0,>=0.15.1 in /usr/local/lib/python3.10/dist-packages (from transformers) (0.24.7)\n",
            "Requirement already satisfied: numpy>=1.17 in /usr/local/lib/python3.10/dist-packages (from transformers) (1.26.4)\n",
            "Requirement already satisfied: packaging>=20.0 in /usr/local/lib/python3.10/dist-packages (from transformers) (24.1)\n",
            "Requirement already satisfied: pyyaml>=5.1 in /usr/local/lib/python3.10/dist-packages (from transformers) (6.0.2)\n",
            "Requirement already satisfied: regex!=2019.12.17 in /usr/local/lib/python3.10/dist-packages (from transformers) (2024.9.11)\n",
            "Requirement already satisfied: requests in /usr/local/lib/python3.10/dist-packages (from transformers) (2.32.3)\n",
            "Requirement already satisfied: tokenizers!=0.11.3,<0.14,>=0.11.1 in /usr/local/lib/python3.10/dist-packages (from transformers) (0.13.3)\n",
            "Requirement already satisfied: safetensors>=0.3.1 in /usr/local/lib/python3.10/dist-packages (from transformers) (0.4.5)\n",
            "Requirement already satisfied: tqdm>=4.27 in /usr/local/lib/python3.10/dist-packages (from transformers) (4.66.6)\n",
            "Requirement already satisfied: typing-extensions>=4.8.0 in /usr/local/lib/python3.10/dist-packages (from torch) (4.12.2)\n",
            "Requirement already satisfied: networkx in /usr/local/lib/python3.10/dist-packages (from torch) (3.4.2)\n",
            "Requirement already satisfied: jinja2 in /usr/local/lib/python3.10/dist-packages (from torch) (3.1.4)\n",
            "Requirement already satisfied: fsspec in /usr/local/lib/python3.10/dist-packages (from torch) (2023.6.0)\n",
            "Requirement already satisfied: sympy==1.13.1 in /usr/local/lib/python3.10/dist-packages (from torch) (1.13.1)\n",
            "Requirement already satisfied: mpmath<1.4,>=1.1.0 in /usr/local/lib/python3.10/dist-packages (from sympy==1.13.1->torch) (1.3.0)\n",
            "Requirement already satisfied: MarkupSafe>=2.0 in /usr/local/lib/python3.10/dist-packages (from jinja2->torch) (3.0.2)\n",
            "Requirement already satisfied: charset-normalizer<4,>=2 in /usr/local/lib/python3.10/dist-packages (from requests->transformers) (3.4.0)\n",
            "Requirement already satisfied: idna<4,>=2.5 in /usr/local/lib/python3.10/dist-packages (from requests->transformers) (3.10)\n",
            "Requirement already satisfied: urllib3<3,>=1.21.1 in /usr/local/lib/python3.10/dist-packages (from requests->transformers) (2.2.3)\n",
            "Requirement already satisfied: certifi>=2017.4.17 in /usr/local/lib/python3.10/dist-packages (from requests->transformers) (2024.8.30)\n"
          ]
        }
      ],
      "source": [
        "pip install transformers torch\n"
      ]
    },
    {
      "cell_type": "code",
      "execution_count": null,
      "metadata": {
        "colab": {
          "base_uri": "https://localhost:8080/"
        },
        "id": "bS7iAt1nl_7r",
        "outputId": "a55d7032-2631-4dcc-dcd0-42665c69d672"
      },
      "outputs": [
        {
          "output_type": "stream",
          "name": "stderr",
          "text": [
            "/usr/local/lib/python3.10/dist-packages/huggingface_hub/file_download.py:1150: FutureWarning: `resume_download` is deprecated and will be removed in version 1.0.0. Downloads always resume when possible. If you want to force a new download, use `force_download=True`.\n",
            "  warnings.warn(\n",
            "/usr/local/lib/python3.10/dist-packages/huggingface_hub/utils/_token.py:89: UserWarning: \n",
            "The secret `HF_TOKEN` does not exist in your Colab secrets.\n",
            "To authenticate with the Hugging Face Hub, create a token in your settings tab (https://huggingface.co/settings/tokens), set it as secret in your Google Colab and restart your session.\n",
            "You will be able to reuse this secret in all of your notebooks.\n",
            "Please note that authentication is recommended but still optional to access public models or datasets.\n",
            "  warnings.warn(\n",
            "/usr/local/lib/python3.10/dist-packages/transformers/utils/generic.py:260: FutureWarning: `torch.utils._pytree._register_pytree_node` is deprecated. Please use `torch.utils._pytree.register_pytree_node` instead.\n",
            "  torch.utils._pytree._register_pytree_node(\n",
            "/usr/local/lib/python3.10/dist-packages/transformers/utils/generic.py:260: FutureWarning: `torch.utils._pytree._register_pytree_node` is deprecated. Please use `torch.utils._pytree.register_pytree_node` instead.\n",
            "  torch.utils._pytree._register_pytree_node(\n",
            "/usr/local/lib/python3.10/dist-packages/huggingface_hub/file_download.py:1150: FutureWarning: `resume_download` is deprecated and will be removed in version 1.0.0. Downloads always resume when possible. If you want to force a new download, use `force_download=True`.\n",
            "  warnings.warn(\n"
          ]
        }
      ],
      "source": [
        "# Load model directly\n",
        "from transformers import AutoTokenizer, AutoModelForSeq2SeqLM\n",
        "\n",
        "tokenizer = AutoTokenizer.from_pretrained(\"google/flan-t5-large\")\n",
        "model = AutoModelForSeq2SeqLM.from_pretrained(\"google/flan-t5-large\")"
      ]
    },
    {
      "cell_type": "markdown",
      "metadata": {
        "id": "HQ_lwm3vyar9"
      },
      "source": [
        "### 2. Convert the DataFrame to a Hugging Face Dataset"
      ]
    },
    {
      "cell_type": "code",
      "execution_count": null,
      "metadata": {
        "colab": {
          "base_uri": "https://localhost:8080/"
        },
        "id": "NGO2a9l1zhl2",
        "outputId": "44006b48-66ac-4f50-b26f-2854a4cdeba5",
        "collapsed": true
      },
      "outputs": [
        {
          "output_type": "stream",
          "name": "stdout",
          "text": [
            "Requirement already satisfied: datasets in /usr/local/lib/python3.10/dist-packages (2.14.5)\n",
            "Requirement already satisfied: numpy>=1.17 in /usr/local/lib/python3.10/dist-packages (from datasets) (1.26.4)\n",
            "Requirement already satisfied: pyarrow>=8.0.0 in /usr/local/lib/python3.10/dist-packages (from datasets) (17.0.0)\n",
            "Requirement already satisfied: dill<0.3.8,>=0.3.0 in /usr/local/lib/python3.10/dist-packages (from datasets) (0.3.7)\n",
            "Requirement already satisfied: pandas in /usr/local/lib/python3.10/dist-packages (from datasets) (2.2.2)\n",
            "Requirement already satisfied: requests>=2.19.0 in /usr/local/lib/python3.10/dist-packages (from datasets) (2.32.3)\n",
            "Requirement already satisfied: tqdm>=4.62.1 in /usr/local/lib/python3.10/dist-packages (from datasets) (4.66.6)\n",
            "Requirement already satisfied: xxhash in /usr/local/lib/python3.10/dist-packages (from datasets) (3.5.0)\n",
            "Requirement already satisfied: multiprocess in /usr/local/lib/python3.10/dist-packages (from datasets) (0.70.15)\n",
            "Requirement already satisfied: fsspec<2023.9.0,>=2023.1.0 in /usr/local/lib/python3.10/dist-packages (from fsspec[http]<2023.9.0,>=2023.1.0->datasets) (2023.6.0)\n",
            "Requirement already satisfied: aiohttp in /usr/local/lib/python3.10/dist-packages (from datasets) (3.10.10)\n",
            "Requirement already satisfied: huggingface-hub<1.0.0,>=0.14.0 in /usr/local/lib/python3.10/dist-packages (from datasets) (0.24.7)\n",
            "Requirement already satisfied: packaging in /usr/local/lib/python3.10/dist-packages (from datasets) (24.1)\n",
            "Requirement already satisfied: pyyaml>=5.1 in /usr/local/lib/python3.10/dist-packages (from datasets) (6.0.2)\n",
            "Requirement already satisfied: aiohappyeyeballs>=2.3.0 in /usr/local/lib/python3.10/dist-packages (from aiohttp->datasets) (2.4.3)\n",
            "Requirement already satisfied: aiosignal>=1.1.2 in /usr/local/lib/python3.10/dist-packages (from aiohttp->datasets) (1.3.1)\n",
            "Requirement already satisfied: attrs>=17.3.0 in /usr/local/lib/python3.10/dist-packages (from aiohttp->datasets) (24.2.0)\n",
            "Requirement already satisfied: frozenlist>=1.1.1 in /usr/local/lib/python3.10/dist-packages (from aiohttp->datasets) (1.5.0)\n",
            "Requirement already satisfied: multidict<7.0,>=4.5 in /usr/local/lib/python3.10/dist-packages (from aiohttp->datasets) (6.1.0)\n",
            "Requirement already satisfied: yarl<2.0,>=1.12.0 in /usr/local/lib/python3.10/dist-packages (from aiohttp->datasets) (1.17.1)\n",
            "Requirement already satisfied: async-timeout<5.0,>=4.0 in /usr/local/lib/python3.10/dist-packages (from aiohttp->datasets) (4.0.3)\n",
            "Requirement already satisfied: filelock in /usr/local/lib/python3.10/dist-packages (from huggingface-hub<1.0.0,>=0.14.0->datasets) (3.16.1)\n",
            "Requirement already satisfied: typing-extensions>=3.7.4.3 in /usr/local/lib/python3.10/dist-packages (from huggingface-hub<1.0.0,>=0.14.0->datasets) (4.12.2)\n",
            "Requirement already satisfied: charset-normalizer<4,>=2 in /usr/local/lib/python3.10/dist-packages (from requests>=2.19.0->datasets) (3.4.0)\n",
            "Requirement already satisfied: idna<4,>=2.5 in /usr/local/lib/python3.10/dist-packages (from requests>=2.19.0->datasets) (3.10)\n",
            "Requirement already satisfied: urllib3<3,>=1.21.1 in /usr/local/lib/python3.10/dist-packages (from requests>=2.19.0->datasets) (2.2.3)\n",
            "Requirement already satisfied: certifi>=2017.4.17 in /usr/local/lib/python3.10/dist-packages (from requests>=2.19.0->datasets) (2024.8.30)\n",
            "Requirement already satisfied: python-dateutil>=2.8.2 in /usr/local/lib/python3.10/dist-packages (from pandas->datasets) (2.8.2)\n",
            "Requirement already satisfied: pytz>=2020.1 in /usr/local/lib/python3.10/dist-packages (from pandas->datasets) (2024.2)\n",
            "Requirement already satisfied: tzdata>=2022.7 in /usr/local/lib/python3.10/dist-packages (from pandas->datasets) (2024.2)\n",
            "Requirement already satisfied: six>=1.5 in /usr/local/lib/python3.10/dist-packages (from python-dateutil>=2.8.2->pandas->datasets) (1.16.0)\n",
            "Requirement already satisfied: propcache>=0.2.0 in /usr/local/lib/python3.10/dist-packages (from yarl<2.0,>=1.12.0->aiohttp->datasets) (0.2.0)\n"
          ]
        }
      ],
      "source": [
        "!pip install datasets\n"
      ]
    },
    {
      "cell_type": "code",
      "execution_count": null,
      "metadata": {
        "id": "JbQ361mLyelq"
      },
      "outputs": [],
      "source": [
        "from datasets import Dataset\n",
        "# Convert DataFrames to Hugging Face Datasets\n",
        "train_dataset = Dataset.from_pandas(train_data)\n",
        "val_dataset = Dataset.from_pandas(val_data)\n"
      ]
    },
    {
      "cell_type": "markdown",
      "metadata": {
        "id": "FXlYywGOzvvy"
      },
      "source": [
        "###  3. Define Tokenization and Preprocessing Function"
      ]
    },
    {
      "cell_type": "code",
      "execution_count": null,
      "metadata": {
        "colab": {
          "base_uri": "https://localhost:8080/",
          "height": 81,
          "referenced_widgets": [
            "cd6b57338616400aa2eb7fdec771db4e",
            "3a73df4d41194f4e8399cff0db99eba3",
            "7ffac5ec93d746cf89a8fc14be8ca8fb",
            "9ebbdf4e293f42fe9a60d7aa9d770dc5",
            "b16dde6786c94bbe8364d6916c4fa3a7",
            "6e03e2936ef64b088e536c87af704773",
            "ffeb8c32f821459e8572bfe276b7dc3e",
            "fa810404aaf146ed80a4479d9916c743",
            "087604d5488848249a7ed8bbb3e2cbf4",
            "9235d7ec96424980926b445179c40a5c",
            "7ccc81138f8f4eed988cacd34673c2b8",
            "9ca1c4fe95994e92a6956ccc1d7188d3",
            "8ace5ee83d4545f18846e7b7abcd8ebb",
            "6595b7b50d56430c948cff4979f3d789",
            "a81785fad28748db90a67e9c2327f201",
            "9547d7416e40481ea3d02a6bce9f0135",
            "95fe4a0bcc4a453fb53aea0633a1a8e2",
            "359ff284d3a1494980ed1c54e205cd88",
            "aa95fb9c21bb4740b10201711bdaaf3f",
            "2540d0494ca34d6399fad889d37b277d",
            "fc2af586b16746fe8b768b3f5598eecc",
            "a3dc2d8018d04ca5863939edfc891924"
          ]
        },
        "id": "zE6DpCa4zxte",
        "outputId": "61a9cd88-fa45-4355-d4ed-4285a0950f9b"
      },
      "outputs": [
        {
          "output_type": "display_data",
          "data": {
            "text/plain": [
              "Map:   0%|          | 0/1600 [00:00<?, ? examples/s]"
            ],
            "application/vnd.jupyter.widget-view+json": {
              "version_major": 2,
              "version_minor": 0,
              "model_id": "cd6b57338616400aa2eb7fdec771db4e"
            }
          },
          "metadata": {}
        },
        {
          "output_type": "display_data",
          "data": {
            "text/plain": [
              "Map:   0%|          | 0/400 [00:00<?, ? examples/s]"
            ],
            "application/vnd.jupyter.widget-view+json": {
              "version_major": 2,
              "version_minor": 0,
              "model_id": "9ca1c4fe95994e92a6956ccc1d7188d3"
            }
          },
          "metadata": {}
        }
      ],
      "source": [
        "def preprocess_function(examples):\n",
        "    inputs = examples['question']\n",
        "    targets = examples['answer']\n",
        "\n",
        "    # Tokenize inputs and targets\n",
        "    model_inputs = tokenizer(inputs, max_length=512, truncation=True, padding=\"max_length\")\n",
        "\n",
        "    # Setup the tokenizer for targets\n",
        "    labels = tokenizer(targets, max_length=512, truncation=True, padding=\"max_length\")\n",
        "\n",
        "    model_inputs[\"labels\"] = labels[\"input_ids\"]\n",
        "    return model_inputs\n",
        "\n",
        "# Apply the preprocessing function to the datasets\n",
        "train_dataset = train_dataset.map(preprocess_function, batched=True)\n",
        "val_dataset = val_dataset.map(preprocess_function, batched=True)\n"
      ]
    },
    {
      "cell_type": "code",
      "source": [
        "print(val_data[:5])\n"
      ],
      "metadata": {
        "colab": {
          "base_uri": "https://localhost:8080/"
        },
        "id": "Ae4XKu8HU0rR",
        "outputId": "2a32c509-24b9-464b-c5d8-b5138d7eb046"
      },
      "execution_count": null,
      "outputs": [
        {
          "output_type": "stream",
          "name": "stdout",
          "text": [
            "                                               question  \\\n",
            "1860                        What is (are) Thalassemia ?   \n",
            "353   what research (or clinical trials) is being do...   \n",
            "1333  What is the outlook for Childhood Central Nerv...   \n",
            "905   what research (or clinical trials) is being do...   \n",
            "1289  What are the stages of Chronic Myeloproliferat...   \n",
            "\n",
            "                                                 answer  \n",
            "1860  Thalassemias are inherited blood disorders. If...  \n",
            "353   The National Eye Institute, or NEI, is conduct...  \n",
            "1333  Certain factors affect prognosis (chance of re...  \n",
            "905   New types of treatment are being tested in cli...  \n",
            "1289  Key Points - There is no standard staging syst...  \n"
          ]
        }
      ]
    },
    {
      "cell_type": "code",
      "source": [
        "print(val_data)"
      ],
      "metadata": {
        "colab": {
          "base_uri": "https://localhost:8080/"
        },
        "id": "2LmLinYrX_-Q",
        "outputId": "d87e49b0-170e-4525-80d3-cc587911ea1d"
      },
      "execution_count": null,
      "outputs": [
        {
          "output_type": "stream",
          "name": "stdout",
          "text": [
            "                                               question  \\\n",
            "1860                        What is (are) Thalassemia ?   \n",
            "353   what research (or clinical trials) is being do...   \n",
            "1333  What is the outlook for Childhood Central Nerv...   \n",
            "905   what research (or clinical trials) is being do...   \n",
            "1289  What are the stages of Chronic Myeloproliferat...   \n",
            "...                                                 ...   \n",
            "965              What are the stages of Rectal Cancer ?   \n",
            "1284  Who is at risk for Adult Acute Lymphoblastic L...   \n",
            "1739                       What is (are) Hypoglycemia ?   \n",
            "261               How to diagnose Alzheimer's Disease ?   \n",
            "535                             What causes Psoriasis ?   \n",
            "\n",
            "                                                 answer  \n",
            "1860  Thalassemias are inherited blood disorders. If...  \n",
            "353   The National Eye Institute, or NEI, is conduct...  \n",
            "1333  Certain factors affect prognosis (chance of re...  \n",
            "905   New types of treatment are being tested in cli...  \n",
            "1289  Key Points - There is no standard staging syst...  \n",
            "...                                                 ...  \n",
            "965   Key Points - After rectal cancer has been diag...  \n",
            "1284  Previous chemotherapy and exposure to radiatio...  \n",
            "1739  Hypoglycemia means low blood glucose, or blood...  \n",
            "261   An early, accurate diagnosis of Alzheimer's di...  \n",
            "535   Although the cause of psoriasis is not complet...  \n",
            "\n",
            "[400 rows x 2 columns]\n"
          ]
        }
      ]
    },
    {
      "cell_type": "markdown",
      "metadata": {
        "id": "-UBSoaxUz0q6"
      },
      "source": [
        "### 4. Set Up Training Arguments"
      ]
    },
    {
      "cell_type": "code",
      "execution_count": null,
      "metadata": {
        "id": "3ot9g9_K0zYs"
      },
      "outputs": [],
      "source": [
        "import torch\n",
        "torch.cuda.empty_cache()\n"
      ]
    },
    {
      "cell_type": "code",
      "execution_count": null,
      "metadata": {
        "id": "il8FDLBpz7p-"
      },
      "outputs": [],
      "source": [
        "from transformers import AutoModelForQuestionAnswering, Trainer, TrainingArguments\n",
        "from transformers import TrainingArguments\n",
        "\n",
        "\n",
        "training_args = TrainingArguments(\n",
        "    output_dir=\"./results\",\n",
        "    evaluation_strategy=\"epoch\",\n",
        "    logging_strategy=\"steps\",   # Enables step-by-step logging\n",
        "    logging_steps=10,           # Display training loss every 10 steps\n",
        "    learning_rate=2e-5,\n",
        "    per_device_train_batch_size=8,\n",
        "    per_device_eval_batch_size=8,\n",
        "    num_train_epochs=3,\n",
        "    weight_decay=0.01,\n",
        ")\n",
        "model.gradient_checkpointing_enable()\n"
      ]
    },
    {
      "cell_type": "markdown",
      "metadata": {
        "id": "n5rqX9zm0Mr9"
      },
      "source": [
        "### 5. Initialize the Trainer and train the model"
      ]
    },
    {
      "cell_type": "code",
      "execution_count": null,
      "metadata": {
        "colab": {
          "base_uri": "https://localhost:8080/",
          "height": 484
        },
        "id": "PIVjqgLw0OXw",
        "outputId": "2e98699c-05df-4156-801d-1d4e3076efd1"
      },
      "outputs": [
        {
          "output_type": "stream",
          "name": "stderr",
          "text": [
            "/usr/local/lib/python3.10/dist-packages/accelerate/accelerator.py:457: FutureWarning: Passing the following arguments to `Accelerator` is deprecated and will be removed in version 1.0 of Accelerate: dict_keys(['dispatch_batches']). Please pass an `accelerate.DataLoaderConfiguration` instead: \n",
            "dataloader_config = DataLoaderConfiguration(dispatch_batches=None)\n",
            "  warnings.warn(\n",
            "\u001b[34m\u001b[1mwandb\u001b[0m: Using wandb-core as the SDK backend. Please refer to https://wandb.me/wandb-core for more information.\n",
            "\u001b[34m\u001b[1mwandb\u001b[0m: Currently logged in as: \u001b[33msarasafer59\u001b[0m (\u001b[33msarasafer59-esprit\u001b[0m). Use \u001b[1m`wandb login --relogin`\u001b[0m to force relogin\n"
          ]
        },
        {
          "output_type": "display_data",
          "data": {
            "text/plain": [
              "<IPython.core.display.HTML object>"
            ],
            "text/html": [
              "Tracking run with wandb version 0.18.5"
            ]
          },
          "metadata": {}
        },
        {
          "output_type": "display_data",
          "data": {
            "text/plain": [
              "<IPython.core.display.HTML object>"
            ],
            "text/html": [
              "Run data is saved locally in <code>/content/wandb/run-20241112_192632-e4p1j89t</code>"
            ]
          },
          "metadata": {}
        },
        {
          "output_type": "display_data",
          "data": {
            "text/plain": [
              "<IPython.core.display.HTML object>"
            ],
            "text/html": [
              "Syncing run <strong><a href='https://wandb.ai/sarasafer59-esprit/huggingface/runs/e4p1j89t' target=\"_blank\">vivid-thunder-20</a></strong> to <a href='https://wandb.ai/sarasafer59-esprit/huggingface' target=\"_blank\">Weights & Biases</a> (<a href='https://wandb.me/run' target=\"_blank\">docs</a>)<br/>"
            ]
          },
          "metadata": {}
        },
        {
          "output_type": "display_data",
          "data": {
            "text/plain": [
              "<IPython.core.display.HTML object>"
            ],
            "text/html": [
              " View project at <a href='https://wandb.ai/sarasafer59-esprit/huggingface' target=\"_blank\">https://wandb.ai/sarasafer59-esprit/huggingface</a>"
            ]
          },
          "metadata": {}
        },
        {
          "output_type": "display_data",
          "data": {
            "text/plain": [
              "<IPython.core.display.HTML object>"
            ],
            "text/html": [
              " View run at <a href='https://wandb.ai/sarasafer59-esprit/huggingface/runs/e4p1j89t' target=\"_blank\">https://wandb.ai/sarasafer59-esprit/huggingface/runs/e4p1j89t</a>"
            ]
          },
          "metadata": {}
        },
        {
          "output_type": "stream",
          "name": "stderr",
          "text": [
            "/usr/local/lib/python3.10/dist-packages/torch/_dynamo/eval_frame.py:632: UserWarning: torch.utils.checkpoint: the use_reentrant parameter should be passed explicitly. In version 2.5 we will raise an exception if use_reentrant is not passed. use_reentrant=False is recommended, but if you need to preserve the current default behavior, you can pass use_reentrant=True. Refer to docs for more details on the differences between the two variants.\n",
            "  return fn(*args, **kwargs)\n",
            "`use_cache=True` is incompatible with gradient checkpointing. Setting `use_cache=False`...\n"
          ]
        },
        {
          "output_type": "display_data",
          "data": {
            "text/plain": [
              "<IPython.core.display.HTML object>"
            ],
            "text/html": [
              "\n",
              "    <div>\n",
              "      \n",
              "      <progress value='600' max='600' style='width:300px; height:20px; vertical-align: middle;'></progress>\n",
              "      [600/600 56:26, Epoch 3/3]\n",
              "    </div>\n",
              "    <table border=\"1\" class=\"dataframe\">\n",
              "  <thead>\n",
              " <tr style=\"text-align: left;\">\n",
              "      <th>Epoch</th>\n",
              "      <th>Training Loss</th>\n",
              "      <th>Validation Loss</th>\n",
              "    </tr>\n",
              "  </thead>\n",
              "  <tbody>\n",
              "    <tr>\n",
              "      <td>1</td>\n",
              "      <td>1.242700</td>\n",
              "      <td>1.062044</td>\n",
              "    </tr>\n",
              "    <tr>\n",
              "      <td>2</td>\n",
              "      <td>1.014700</td>\n",
              "      <td>0.927548</td>\n",
              "    </tr>\n",
              "    <tr>\n",
              "      <td>3</td>\n",
              "      <td>0.924500</td>\n",
              "      <td>0.909394</td>\n",
              "    </tr>\n",
              "  </tbody>\n",
              "</table><p>"
            ]
          },
          "metadata": {}
        },
        {
          "output_type": "stream",
          "name": "stderr",
          "text": [
            "/usr/local/lib/python3.10/dist-packages/torch/_dynamo/eval_frame.py:632: UserWarning: torch.utils.checkpoint: the use_reentrant parameter should be passed explicitly. In version 2.5 we will raise an exception if use_reentrant is not passed. use_reentrant=False is recommended, but if you need to preserve the current default behavior, you can pass use_reentrant=True. Refer to docs for more details on the differences between the two variants.\n",
            "  return fn(*args, **kwargs)\n"
          ]
        },
        {
          "output_type": "execute_result",
          "data": {
            "text/plain": [
              "TrainOutput(global_step=600, training_loss=3.0281810029347738, metrics={'train_runtime': 3397.4751, 'train_samples_per_second': 1.413, 'train_steps_per_second': 0.177, 'total_flos': 1.10628861640704e+16, 'train_loss': 3.0281810029347738, 'epoch': 3.0})"
            ]
          },
          "metadata": {},
          "execution_count": 25
        }
      ],
      "source": [
        "trainer = Trainer(\n",
        "    model=model,\n",
        "    args=training_args,\n",
        "    train_dataset=train_dataset,\n",
        "    eval_dataset=val_dataset,\n",
        ")\n",
        "\n",
        "trainer.train()"
      ]
    },
    {
      "cell_type": "markdown",
      "metadata": {
        "id": "3zQPvhaoRQJw"
      },
      "source": [
        "### 6. Save the model"
      ]
    },
    {
      "cell_type": "code",
      "execution_count": null,
      "metadata": {
        "id": "cKIJCk-XInBE"
      },
      "outputs": [],
      "source": [
        "trainer.save_model(\"./fine_tuned_flan_t5_large\")\n",
        "tokenizer.save_pretrained(\"./fine_tuned_flan_t5_large\")\n"
      ]
    },
    {
      "cell_type": "markdown",
      "metadata": {
        "id": "lBQPK0YmRYhG"
      },
      "source": [
        "## **Evaluation before Fine Tuning**"
      ]
    },
    {
      "cell_type": "markdown",
      "metadata": {
        "id": "yDzWP8Sg0UFZ"
      },
      "source": [
        "### 1. Evaluate Model Performance Quantitatively"
      ]
    },
    {
      "cell_type": "markdown",
      "metadata": {
        "id": "s-pM_JLZR2Ff"
      },
      "source": [
        "#### **Validation loss**"
      ]
    },
    {
      "cell_type": "code",
      "execution_count": null,
      "metadata": {
        "colab": {
          "base_uri": "https://localhost:8080/",
          "height": 54
        },
        "id": "-1IZx1-uJCOA",
        "outputId": "ec6074e8-022c-4020-ed5c-02ba561ca135"
      },
      "outputs": [
        {
          "output_type": "display_data",
          "data": {
            "text/plain": [
              "<IPython.core.display.HTML object>"
            ],
            "text/html": [
              "\n",
              "    <div>\n",
              "      \n",
              "      <progress value='100' max='50' style='width:300px; height:20px; vertical-align: middle;'></progress>\n",
              "      [50/50 07:41]\n",
              "    </div>\n",
              "    "
            ]
          },
          "metadata": {}
        },
        {
          "output_type": "stream",
          "name": "stdout",
          "text": [
            "Validation Loss: 0.9094\n"
          ]
        }
      ],
      "source": [
        "# Evaluate model performance on the validation set\n",
        "eval_results = trainer.evaluate()\n",
        "print(f\"Validation Loss: {eval_results['eval_loss']:.4f}\")\n"
      ]
    },
    {
      "cell_type": "markdown",
      "metadata": {
        "id": "zgT2GpQETE6o"
      },
      "source": [
        "**BLEU Score**"
      ]
    },
    {
      "cell_type": "code",
      "execution_count": null,
      "metadata": {
        "colab": {
          "base_uri": "https://localhost:8080/"
        },
        "id": "7FSc4vt7TKbe",
        "outputId": "f7b9ea7d-d935-4801-d2a9-4773645610b1"
      },
      "outputs": [
        {
          "output_type": "stream",
          "name": "stdout",
          "text": [
            "Average BLEU score: 0.008185154286891651\n"
          ]
        }
      ],
      "source": [
        "from nltk.translate.bleu_score import sentence_bleu, SmoothingFunction\n",
        "\n",
        "def calculate_bleu(model, tokenizer, dataset, num_samples=100):\n",
        "    bleu_scores = []\n",
        "    device = model.device  # Make sure the model and tokenizer are on the same device\n",
        "\n",
        "    for i in range(min(num_samples, len(dataset))):\n",
        "        sample = dataset[i]\n",
        "\n",
        "        # Input text consists only of the question in this case\n",
        "        input_text = sample['question']\n",
        "\n",
        "        # Tokenize and prepare input\n",
        "        inputs = tokenizer(input_text, return_tensors=\"pt\").to(device)\n",
        "        outputs = model.generate(inputs['input_ids'], max_length=100)\n",
        "\n",
        "        # Decode the generated output\n",
        "        generated_text = tokenizer.decode(outputs[0], skip_special_tokens=True)\n",
        "\n",
        "        # Reference answer for calculating BLEU score\n",
        "        reference_text = sample['answer']\n",
        "\n",
        "        # Calculate BLEU score with smoothing\n",
        "        score = sentence_bleu([reference_text.split()], generated_text.split(),\n",
        "                              smoothing_function=SmoothingFunction().method1)\n",
        "        bleu_scores.append(score)\n",
        "\n",
        "    # Calculate the average BLEU score across all samples\n",
        "    avg_bleu_score = sum(bleu_scores) / len(bleu_scores)\n",
        "    print(\"Average BLEU score:\", avg_bleu_score)\n",
        "    return avg_bleu_score\n",
        "\n",
        "# Now run the BLEU calculation on your model and dataset\n",
        "average_bleu = calculate_bleu(model, tokenizer, val_dataset, num_samples=100)\n"
      ]
    },
    {
      "cell_type": "markdown",
      "metadata": {
        "id": "z9zc4N_cWJOW"
      },
      "source": [
        "**ROUGE (Recall-Oriented Understudy for Gisting Evaluation)**\n"
      ]
    },
    {
      "cell_type": "code",
      "execution_count": null,
      "metadata": {
        "colab": {
          "base_uri": "https://localhost:8080/"
        },
        "id": "OsqVv_z3XBm9",
        "outputId": "437c13e2-3e83-4d66-a7e6-169be1a41cda"
      },
      "outputs": [
        {
          "output_type": "stream",
          "name": "stdout",
          "text": [
            "Average ROUGE score: {'rouge1': 0.18099617450861827, 'rouge2': 0.039737180608210076, 'rougeL': 0.1378623999401774, 'rougeLsum': 0.1378623999401774}\n"
          ]
        }
      ],
      "source": [
        "import evaluate\n",
        "\n",
        "# Load ROUGE metric\n",
        "rouge = evaluate.load(\"rouge\")\n",
        "\n",
        "def calculate_rouge(model, tokenizer, dataset, num_samples=100):\n",
        "    rouge_scores = []\n",
        "    for i in range(num_samples):\n",
        "        sample = dataset[i]\n",
        "        input_text = sample['question']\n",
        "        reference = sample['answer']\n",
        "\n",
        "        # Generate the model's answer\n",
        "        inputs = tokenizer(input_text, return_tensors=\"pt\").to(model.device)\n",
        "        output_ids = model.generate(inputs[\"input_ids\"], max_length=100)\n",
        "        generated_answer = tokenizer.decode(output_ids[0], skip_special_tokens=True)\n",
        "\n",
        "        # Compute ROUGE score\n",
        "        rouge_score = rouge.compute(predictions=[generated_answer], references=[reference])\n",
        "        rouge_scores.append(rouge_score)\n",
        "\n",
        "    # Calculate average ROUGE scores\n",
        "    avg_rouge = {key: sum(score[key] for score in rouge_scores) / num_samples for key in rouge_scores[0]}\n",
        "    print(\"Average ROUGE score:\", avg_rouge)\n",
        "    return avg_rouge\n",
        "rouge = calculate_rouge(model, tokenizer, val_dataset, num_samples=100)"
      ]
    },
    {
      "cell_type": "markdown",
      "metadata": {
        "id": "sSB4OkzJY9vc"
      },
      "source": [
        "####**Perplexity**"
      ]
    },
    {
      "cell_type": "code",
      "execution_count": null,
      "metadata": {
        "colab": {
          "base_uri": "https://localhost:8080/"
        },
        "id": "78N4amioZA_f",
        "outputId": "a6090155-eb19-4579-9093-392277ffcf3c"
      },
      "outputs": [
        {
          "output_type": "stream",
          "name": "stderr",
          "text": [
            "Token indices sequence length is longer than the specified maximum sequence length for this model (1648 > 512). Running this sequence through the model will result in indexing errors\n"
          ]
        },
        {
          "output_type": "stream",
          "name": "stdout",
          "text": [
            "Average Perplexity: 6.247942788600922\n"
          ]
        }
      ],
      "source": [
        "import torch.nn.functional as F\n",
        "\n",
        "def calculate_perplexity(model, tokenizer, dataset, num_samples=100):\n",
        "    perplexities = []\n",
        "    for i in range(min(num_samples, len(dataset))):\n",
        "        sample = dataset[i]\n",
        "        input_text = sample['question']\n",
        "        reference_text = sample['answer']\n",
        "\n",
        "        inputs = tokenizer(input_text, return_tensors=\"pt\").to(model.device)\n",
        "        labels = tokenizer(reference_text, return_tensors=\"pt\").input_ids.to(model.device)\n",
        "\n",
        "        with torch.no_grad():\n",
        "            outputs = model(**inputs, labels=labels)\n",
        "            loss = outputs.loss\n",
        "            perplexity = torch.exp(loss).item()\n",
        "            perplexities.append(perplexity)\n",
        "\n",
        "    avg_perplexity = sum(perplexities) / len(perplexities)\n",
        "    print(\"Average Perplexity:\", avg_perplexity)\n",
        "    return avg_perplexity\n",
        "\n",
        "perplexity = calculate_perplexity(model, tokenizer, val_dataset, num_samples=100)"
      ]
    },
    {
      "cell_type": "markdown",
      "metadata": {
        "id": "lZt5ZglKR7DR"
      },
      "source": [
        "### 2. Define the Test Function Qualitatively\n",
        "\n",
        "Create a function to handle testing on a set of input questions and contexts. This function will generate answers using the fine-tuned model and print or store the results for evaluation."
      ]
    },
    {
      "cell_type": "code",
      "execution_count": null,
      "metadata": {
        "id": "tg7yRK0_IyRa"
      },
      "outputs": [],
      "source": [
        "import torch\n",
        "\n",
        "def test_model(model, tokenizer, dataset, num_samples=5, max_length=100):\n",
        "    model.eval()  # Set model to evaluation mode\n",
        "    device = torch.device(\"cuda\" if torch.cuda.is_available() else \"cpu\")\n",
        "    model = model.to(device)\n",
        "\n",
        "    # Loop over the dataset and generate predictions\n",
        "    for i in range(num_samples):\n",
        "        # Prepare inputs\n",
        "        sample = dataset[i]\n",
        "        input_text = sample['question'] + \" \" + sample['answer']  # Adjust based on your dataset structure\n",
        "        inputs = tokenizer(input_text, return_tensors=\"pt\").to(device)\n",
        "\n",
        "        # Generate output\n",
        "        with torch.no_grad():\n",
        "            outputs = model.generate(inputs['input_ids'], max_length=max_length)\n",
        "\n",
        "        # Decode and print the generated answer\n",
        "        generated_answer = tokenizer.decode(outputs[0], skip_special_tokens=True)\n",
        "        true_answer = sample['answer']  # Adjust if necessary for your dataset\n",
        "\n",
        "        print(f\"Question: {sample['question']}\")\n",
        "        print(f\"Context: {sample['answer']}\")\n",
        "        print(f\"Generated Answer: {generated_answer}\")\n",
        "        print(f\"True Answer: {true_answer}\")\n",
        "        print(\"=\" * 50)\n",
        "\n",
        "\n"
      ]
    },
    {
      "cell_type": "code",
      "execution_count": null,
      "metadata": {
        "colab": {
          "base_uri": "https://localhost:8080/"
        },
        "id": "VU37e5gGR94-",
        "outputId": "ed851a54-4c13-4476-8010-98e303c0e792"
      },
      "outputs": [
        {
          "output_type": "stream",
          "name": "stdout",
          "text": [
            "Question: What is (are) Thalassemia ?\n",
            "Context: Thalassemias are inherited blood disorders. If you have one, your body makes fewer healthy red blood cells and less hemoglobin. Hemoglobin is a protein that carries oxygen to the body. That leads to anemia. Thalassemias occur most often among people of Italian, Greek, Middle Eastern, Southern Asian, and African descent. Thalassemias can be mild or severe. Some people have no symptoms or mild anemia. The most common severe type in the United States is called Cooley's anemia. It usually appears during the first two years of life. People with it may have severe anemia, slowed growth and delayed puberty, and problems with the spleen, liver, heart, or bones. Doctors diagnose thalassemias using blood tests. Treatments include blood transfusions and treatment to remove excess iron from the body. If you have mild symptoms or no symptoms, you may not need treatment. In some severe cases, you may need a bone marrow transplant. NIH: National Heart, Lung, and Blood Institute\n",
            "Generated Answer: Thalassemias are inherited blood disorders. If you have one, your body makes fewer healthy red blood cells and less hemoglobin. Hemoglobin is a protein that carries oxygen to the body. That leads to anemia. Thalassemias occur most often among people of Italian, Greek, Middle Eastern, Southern Asian, and African descent. Thalassemias can be mild or severe. Some people have no symptoms or mild anemia. The most\n",
            "True Answer: Thalassemias are inherited blood disorders. If you have one, your body makes fewer healthy red blood cells and less hemoglobin. Hemoglobin is a protein that carries oxygen to the body. That leads to anemia. Thalassemias occur most often among people of Italian, Greek, Middle Eastern, Southern Asian, and African descent. Thalassemias can be mild or severe. Some people have no symptoms or mild anemia. The most common severe type in the United States is called Cooley's anemia. It usually appears during the first two years of life. People with it may have severe anemia, slowed growth and delayed puberty, and problems with the spleen, liver, heart, or bones. Doctors diagnose thalassemias using blood tests. Treatments include blood transfusions and treatment to remove excess iron from the body. If you have mild symptoms or no symptoms, you may not need treatment. In some severe cases, you may need a bone marrow transplant. NIH: National Heart, Lung, and Blood Institute\n",
            "==================================================\n",
            "Question: what research (or clinical trials) is being done for Diabetic Retinopathy ?\n",
            "Context: The National Eye Institute, or NEI, is conducting and supporting research that seeks better ways to detect, treat, and prevent vision loss in people with diabetes. This research is conducted through studies in the laboratory and with patients. For example, researchers are studying drugs for the treatment of proliferative retinopathy that may reduce the need for laser surgery.\n",
            "Generated Answer: Research is being conducted to find better ways to detect, treat, and prevent vision loss in people with diabetes. This research is conducted through studies in the laboratory and with patients. For example, researchers are studying drugs for the treatment of proliferative retinopathy that may reduce the need for laser surgery.\n",
            "True Answer: The National Eye Institute, or NEI, is conducting and supporting research that seeks better ways to detect, treat, and prevent vision loss in people with diabetes. This research is conducted through studies in the laboratory and with patients. For example, researchers are studying drugs for the treatment of proliferative retinopathy that may reduce the need for laser surgery.\n",
            "==================================================\n",
            "Question: What is the outlook for Childhood Central Nervous System Germ Cell Tumors ?\n",
            "Context: Certain factors affect prognosis (chance of recovery). The prognosis (chance of recovery) depends on the following: - The type of germ cell tumor. - The type and level of any tumor markers. - Where the tumor is in the brain or in the spinal cord. - Whether the cancer has spread within the brain and spinal cord or to other parts of the body. - Whether the tumor is newly diagnosed or has recurred (come back) after treatment.\n",
            "Generated Answer: Whether the tumor is newly diagnosed or has recurred (come back) after treatment.\n",
            "True Answer: Certain factors affect prognosis (chance of recovery). The prognosis (chance of recovery) depends on the following: - The type of germ cell tumor. - The type and level of any tumor markers. - Where the tumor is in the brain or in the spinal cord. - Whether the cancer has spread within the brain and spinal cord or to other parts of the body. - Whether the tumor is newly diagnosed or has recurred (come back) after treatment.\n",
            "==================================================\n",
            "Question: what research (or clinical trials) is being done for Renal Cell Cancer ?\n",
            "Context: New types of treatment are being tested in clinical trials. Information about clinical trials is available from the NCI website. Patients may want to think about taking part in a clinical trial. For some patients, taking part in a clinical trial may be the best treatment choice. Clinical trials are part of the cancer research process. Clinical trials are done to find out if new cancer treatments are safe and effective or better than the standard treatment. Many of today's standard treatments for cancer are based on earlier clinical trials. Patients who take part in a clinical trial may receive the standard treatment or be among the first to receive a new treatment. Patients who take part in clinical trials also help improve the way cancer will be treated in the future. Even when clinical trials do not lead to effective new treatments, they often answer important questions and help move research forward. Patients can enter clinical trials before, during, or after starting their cancer treatment. Some clinical trials only include patients who have not yet received treatment. Other trials test treatments for patients whose cancer has not gotten better. There are also clinical trials that test new ways to stop cancer from recurring (coming back) or reduce the side effects of cancer treatment. Clinical trials are taking place in many parts of the country. See the Treatment Options section that follows for links to current treatment clinical trials. These have been retrieved from NCI's listing of clinical trials.\n",
            "Generated Answer: Clinical trials are part of the cancer research process. Clinical trials are done to find out if new cancer treatments are safe and effective or better than the standard treatment. Many of today's standard treatments for cancer are based on earlier clinical trials. Patients who take part in a clinical trial may receive the standard treatment or be among the first to receive a new treatment. Patients who take part in clinical trials also help improve the way cancer will be treated in the future. Even when clinical\n",
            "True Answer: New types of treatment are being tested in clinical trials. Information about clinical trials is available from the NCI website. Patients may want to think about taking part in a clinical trial. For some patients, taking part in a clinical trial may be the best treatment choice. Clinical trials are part of the cancer research process. Clinical trials are done to find out if new cancer treatments are safe and effective or better than the standard treatment. Many of today's standard treatments for cancer are based on earlier clinical trials. Patients who take part in a clinical trial may receive the standard treatment or be among the first to receive a new treatment. Patients who take part in clinical trials also help improve the way cancer will be treated in the future. Even when clinical trials do not lead to effective new treatments, they often answer important questions and help move research forward. Patients can enter clinical trials before, during, or after starting their cancer treatment. Some clinical trials only include patients who have not yet received treatment. Other trials test treatments for patients whose cancer has not gotten better. There are also clinical trials that test new ways to stop cancer from recurring (coming back) or reduce the side effects of cancer treatment. Clinical trials are taking place in many parts of the country. See the Treatment Options section that follows for links to current treatment clinical trials. These have been retrieved from NCI's listing of clinical trials.\n",
            "==================================================\n",
            "Question: What are the stages of Chronic Myeloproliferative Neoplasms ?\n",
            "Context: Key Points - There is no standard staging system for chronic myeloproliferative neoplasms. There is no standard staging system for chronic myeloproliferative neoplasms. Staging is the process used to find out how far the cancer has spread. There is no standard staging system for chronic myeloproliferative neoplasms. Treatment is based on the type of myeloproliferative neoplasm the patient has. It is important to know the type in order to plan treatment.\n",
            "Generated Answer: There is no standard staging system for chronic myeloproliferative neoplasms. Treatment is based on the type of myeloproliferative neoplasm the patient has. It is important to know the type in order to plan treatment.\n",
            "True Answer: Key Points - There is no standard staging system for chronic myeloproliferative neoplasms. There is no standard staging system for chronic myeloproliferative neoplasms. Staging is the process used to find out how far the cancer has spread. There is no standard staging system for chronic myeloproliferative neoplasms. Treatment is based on the type of myeloproliferative neoplasm the patient has. It is important to know the type in order to plan treatment.\n",
            "==================================================\n"
          ]
        }
      ],
      "source": [
        "test_model(model, tokenizer, val_dataset, num_samples=5, max_length=100)\n"
      ]
    },
    {
      "cell_type": "markdown",
      "metadata": {
        "id": "fMj1xptBZYOj"
      },
      "source": [
        "## **Fine**-**tuning**"
      ]
    },
    {
      "cell_type": "markdown",
      "metadata": {
        "id": "nGBHP6tDdOpK"
      },
      "source": [
        "### **1. Applying PEFT with LoRA**"
      ]
    },
    {
      "cell_type": "markdown",
      "source": [
        "Parameter-Efficient Fine-Tuning (PEFT) with LoRA (Low-Rank Adaptation) is a method to fine-tune large language models efficiently by training only small, low-rank matrices added to specific layers, while keeping the original model weights frozen. This significantly reduces the number of parameters that need to be adjusted, making fine-tuning faster and less resource-intensive.\n",
        "\n",
        "Key Points:\n",
        "\n",
        "- Efficiency: Only the added low-rank matrices are trained, so memory and computational costs are minimized.\n",
        "- Task-Specific Adaptation: LoRA allows fine-tuning for specific tasks without modifying the core model, useful for deploying large models across various applications.\n",
        "- Speed: Fewer parameters to update means faster fine-tuning, ideal for iterative tasks or constrained hardware environments.\n",
        "\n",
        "LoRA in PEFT is especially useful for adapting large models on specialized tasks without needing extensive computational resources."
      ],
      "metadata": {
        "id": "BCfapGK5pYf8"
      }
    },
    {
      "cell_type": "markdown",
      "metadata": {
        "id": "M6r2mBh0MpoG"
      },
      "source": [
        "##### Install Necessary Libraries"
      ]
    },
    {
      "cell_type": "code",
      "execution_count": null,
      "metadata": {
        "id": "nL7zKovfMwtN"
      },
      "outputs": [],
      "source": [
        "from transformers import T5Tokenizer, T5ForConditionalGeneration, Trainer, TrainingArguments\n",
        "from peft import LoraConfig, get_peft_model\n",
        "import torch"
      ]
    },
    {
      "cell_type": "markdown",
      "metadata": {
        "id": "ZxMk4yTCRh1n"
      },
      "source": [
        "#### Load the Pretrained Model and Tokenizer"
      ]
    },
    {
      "cell_type": "code",
      "execution_count": null,
      "metadata": {
        "id": "jcGe1Vw_RmAI",
        "colab": {
          "base_uri": "https://localhost:8080/"
        },
        "outputId": "7b42092e-3d45-40a3-d507-57f8ad885d0b"
      },
      "outputs": [
        {
          "output_type": "stream",
          "name": "stderr",
          "text": [
            "/usr/local/lib/python3.10/dist-packages/huggingface_hub/file_download.py:1150: FutureWarning: `resume_download` is deprecated and will be removed in version 1.0.0. Downloads always resume when possible. If you want to force a new download, use `force_download=True`.\n",
            "  warnings.warn(\n"
          ]
        }
      ],
      "source": [
        "# Load model directly\n",
        "from transformers import AutoTokenizer, AutoModelForSeq2SeqLM\n",
        "\n",
        "tokenizer = AutoTokenizer.from_pretrained(\"google/flan-t5-large\")\n",
        "model_lora = AutoModelForSeq2SeqLM.from_pretrained(\"google/flan-t5-large\")\n"
      ]
    },
    {
      "cell_type": "markdown",
      "metadata": {
        "id": "jCPa7HI9Rq5N"
      },
      "source": [
        "#### Configure LoRA\n"
      ]
    },
    {
      "cell_type": "code",
      "execution_count": null,
      "metadata": {
        "id": "co8HKkFJRshU"
      },
      "outputs": [],
      "source": [
        "from peft import TaskType\n",
        "\n",
        "lora_config = LoraConfig(\n",
        "    task_type=TaskType.SEQ_2_SEQ_LM,  # Since T5 is a sequence-to-sequence model\n",
        "    inference_mode=False,  # Set to False for training mode\n",
        "    r=8,  # Rank of the LoRA : how many parameters LoRA will use.\n",
        "    lora_alpha=32,  # Scaling factor for LoRA\n",
        "    lora_dropout=0.1  # prevent overfitting by randomly \"dropping out\" parts of the LoRA layers\n",
        ")\n",
        "\n",
        "# Wrap the model with LoRA\n",
        "model = get_peft_model(model_lora, lora_config)\n"
      ]
    },
    {
      "cell_type": "markdown",
      "metadata": {
        "id": "koUYPSXohN5a"
      },
      "source": [
        "#### Prepare The Dataset"
      ]
    },
    {
      "cell_type": "code",
      "execution_count": null,
      "metadata": {
        "id": "4ASpdjFFYIDl"
      },
      "outputs": [],
      "source": [
        "from datasets import Dataset\n",
        "# Convert DataFrames to Hugging Face Datasets\n",
        "train_data = Dataset.from_pandas(train_data)\n",
        "val_data = Dataset.from_pandas(val_data)"
      ]
    },
    {
      "cell_type": "code",
      "execution_count": null,
      "metadata": {
        "colab": {
          "base_uri": "https://localhost:8080/",
          "height": 81,
          "referenced_widgets": [
            "4761c83dfa8f4dbebfd0797f45530240",
            "62979ebb8e3e479595e2c3a685ced258",
            "13011e85ca224728ba1ffb5c4c84538c",
            "a430a9b799584b45993b0b4b6607e968",
            "daf5817a1955436c8bb50cc7665324ad",
            "39715dd69e514f3b833584825fc84e87",
            "10320feabc3d4b1c8de2b0012a529ce0",
            "786b73ff658a4505884fb0a52e78e3fd",
            "97af4ebf74d04345b065e269f78bff6f",
            "6b2c23c3ca93445ba762560dc4217564",
            "060d070913b2445eb5185dff61b130a6",
            "3b1e7421e32b4fd48e5ee8c88eff96e0",
            "5aa9270168eb4ec7ad6f3f5f6bf859d4",
            "ee4732cb0d0a46fbae72659d6836fe7b",
            "27bbc4ef8a9c4092a8e25e7b150cb08b",
            "354cad2a969c417e922d75686e72f601",
            "e5dfeca998ba4df798cf925b6078697f",
            "a34f8cc210a544a09056148c859fd401",
            "55253e6d9e764ae6be1a51de88d8b065",
            "1eedf14abbcd41c5865d465372a30894",
            "e2d276b87145419893b49c807065b5e6",
            "26932279bcb04a0490c331eb3b9dcf33"
          ]
        },
        "id": "PgvcZrE0kxi_",
        "outputId": "9963ed28-e12c-41ef-9b54-b40aab1dddfc"
      },
      "outputs": [
        {
          "output_type": "display_data",
          "data": {
            "text/plain": [
              "Map:   0%|          | 0/1600 [00:00<?, ? examples/s]"
            ],
            "application/vnd.jupyter.widget-view+json": {
              "version_major": 2,
              "version_minor": 0,
              "model_id": "4761c83dfa8f4dbebfd0797f45530240"
            }
          },
          "metadata": {}
        },
        {
          "output_type": "display_data",
          "data": {
            "text/plain": [
              "Map:   0%|          | 0/400 [00:00<?, ? examples/s]"
            ],
            "application/vnd.jupyter.widget-view+json": {
              "version_major": 2,
              "version_minor": 0,
              "model_id": "3b1e7421e32b4fd48e5ee8c88eff96e0"
            }
          },
          "metadata": {}
        }
      ],
      "source": [
        "def preprocess_function(examples):\n",
        "    inputs = [f\"Question: {q}\" for q in examples[\"question\"]]\n",
        "    targets = examples[\"answer\"]\n",
        "    model_inputs = tokenizer(inputs, max_length=128, padding=\"max_length\", truncation=True)\n",
        "    labels = tokenizer(targets, max_length=128, padding=\"max_length\", truncation=True).input_ids\n",
        "\n",
        "    model_inputs[\"labels\"] = labels\n",
        "    return model_inputs\n",
        "\n",
        "# Apply preprocessing on your dataset\n",
        "train_data = train_data.map(preprocess_function, batched=True)\n",
        "val_data = val_data.map(preprocess_function, batched=True)\n"
      ]
    },
    {
      "cell_type": "markdown",
      "metadata": {
        "id": "XtESEOmAUWIl"
      },
      "source": [
        "#### Train the model"
      ]
    },
    {
      "cell_type": "code",
      "execution_count": null,
      "metadata": {
        "colab": {
          "base_uri": "https://localhost:8080/",
          "height": 363
        },
        "id": "2nUoU7jQplH5",
        "outputId": "5f53236a-b267-4b64-9fee-62aedbb81883"
      },
      "outputs": [
        {
          "output_type": "stream",
          "name": "stderr",
          "text": [
            "/usr/local/lib/python3.10/dist-packages/accelerate/accelerator.py:457: FutureWarning: Passing the following arguments to `Accelerator` is deprecated and will be removed in version 1.0 of Accelerate: dict_keys(['dispatch_batches']). Please pass an `accelerate.DataLoaderConfiguration` instead: \n",
            "dataloader_config = DataLoaderConfiguration(dispatch_batches=None)\n",
            "  warnings.warn(\n"
          ]
        },
        {
          "output_type": "display_data",
          "data": {
            "text/plain": [
              "<IPython.core.display.HTML object>"
            ],
            "text/html": [
              "\n",
              "    <div>\n",
              "      \n",
              "      <progress value='1200' max='1200' style='width:300px; height:20px; vertical-align: middle;'></progress>\n",
              "      [1200/1200 07:05, Epoch 3/3]\n",
              "    </div>\n",
              "    <table border=\"1\" class=\"dataframe\">\n",
              "  <thead>\n",
              " <tr style=\"text-align: left;\">\n",
              "      <th>Epoch</th>\n",
              "      <th>Training Loss</th>\n",
              "      <th>Validation Loss</th>\n",
              "    </tr>\n",
              "  </thead>\n",
              "  <tbody>\n",
              "    <tr>\n",
              "      <td>1</td>\n",
              "      <td>No log</td>\n",
              "      <td>1.682542</td>\n",
              "    </tr>\n",
              "    <tr>\n",
              "      <td>2</td>\n",
              "      <td>2.517800</td>\n",
              "      <td>1.573104</td>\n",
              "    </tr>\n",
              "    <tr>\n",
              "      <td>3</td>\n",
              "      <td>1.672400</td>\n",
              "      <td>1.550586</td>\n",
              "    </tr>\n",
              "  </tbody>\n",
              "</table><p>"
            ]
          },
          "metadata": {}
        },
        {
          "output_type": "stream",
          "name": "stderr",
          "text": [
            "/usr/local/lib/python3.10/dist-packages/huggingface_hub/file_download.py:1150: FutureWarning: `resume_download` is deprecated and will be removed in version 1.0.0. Downloads always resume when possible. If you want to force a new download, use `force_download=True`.\n",
            "  warnings.warn(\n"
          ]
        },
        {
          "output_type": "execute_result",
          "data": {
            "text/plain": [
              "('./lora_fine_tuned_model/tokenizer_config.json',\n",
              " './lora_fine_tuned_model/special_tokens_map.json',\n",
              " './lora_fine_tuned_model/spiece.model',\n",
              " './lora_fine_tuned_model/added_tokens.json',\n",
              " './lora_fine_tuned_model/tokenizer.json')"
            ]
          },
          "metadata": {},
          "execution_count": 59
        }
      ],
      "source": [
        "#Training was done using the Trainer API from Hugging Face\n",
        "training_args = TrainingArguments(\n",
        "    output_dir=\"./lora_fine_tuned_model\",\n",
        "    evaluation_strategy=\"epoch\",\n",
        "    learning_rate=5e-4,  # LoRA often benefits from a higher learning rate\n",
        "    num_train_epochs=3,\n",
        "    per_device_train_batch_size=4,  # Adjust based on your hardware capacity\n",
        "    save_steps=10_000,\n",
        "    weight_decay=0.01,\n",
        "    logging_dir='./logs',\n",
        "    logging_steps=500,\n",
        ")\n",
        "trainer = Trainer(\n",
        "    model=model,\n",
        "    args=training_args,\n",
        "    train_dataset=train_data,\n",
        "    eval_dataset=val_data,\n",
        ")\n",
        "\n",
        "# Start training\n",
        "trainer.train()\n",
        "\n",
        "# Save the final model and tokenizer\n",
        "trainer.save_model(\"./lora_fine_tuned_model\")\n",
        "tokenizer.save_pretrained(\"./lora_fine_tuned_model\")\n"
      ]
    },
    {
      "cell_type": "markdown",
      "metadata": {
        "id": "HyABLavY36dZ"
      },
      "source": [
        "#### **Evaluation after using LoRA**"
      ]
    },
    {
      "cell_type": "markdown",
      "metadata": {
        "id": "-yxqA4YepF5_"
      },
      "source": [
        "#####Qualitative testing"
      ]
    },
    {
      "cell_type": "code",
      "execution_count": null,
      "metadata": {
        "colab": {
          "base_uri": "https://localhost:8080/"
        },
        "id": "Jci9cDb85wy9",
        "outputId": "b2b98957-42fe-47ac-8f05-6ec84df6343b"
      },
      "outputs": [
        {
          "output_type": "stream",
          "name": "stdout",
          "text": [
            "Input Question: What is (are) Thalassemia ?\n",
            "True Answer: Thalassemias are inherited blood disorders. If you have one, your body makes fewer healthy red blood cells and less hemoglobin. Hemoglobin is a protein that carries oxygen to the body. That leads to anemia. Thalassemias occur most often among people of Italian, Greek, Middle Eastern, Southern Asian, and African descent. Thalassemias can be mild or severe. Some people have no symptoms or mild anemia. The most common severe type in the United States is called Cooley's anemia. It usually appears during the first two years of life. People with it may have severe anemia, slowed growth and delayed puberty, and problems with the spleen, liver, heart, or bones. Doctors diagnose thalassemias using blood tests. Treatments include blood transfusions and treatment to remove excess iron from the body. If you have mild symptoms or no symptoms, you may not need treatment. In some severe cases, you may need a bone marrow transplant. NIH: National Heart, Lung, and Blood Institute\n",
            "Generated Answer: Thalassemia is a disease in which the blood is too thin. It is caused by a protein called thalassaemia. The protein is made by the body's own red blood cells. It is a protein that is found in red blood cells. It is a protein that is found in red blood cells. It is a protein that is found in red blood cells. It is a protein that is found in red blood cells. It is \n",
            "\n",
            "Input Question: what research (or clinical trials) is being done for Diabetic Retinopathy ?\n",
            "True Answer: The National Eye Institute, or NEI, is conducting and supporting research that seeks better ways to detect, treat, and prevent vision loss in people with diabetes. This research is conducted through studies in the laboratory and with patients. For example, researchers are studying drugs for the treatment of proliferative retinopathy that may reduce the need for laser surgery.\n",
            "Generated Answer: Research is being done to find out if new treatments can reduce the risk of diabetic retinopathy. The goal of the research is to find out if new treatments can reduce the risk of diabetic retinopathy. The research is being done in collaboration with researchers at the University of California, Berkeley, and the National Institutes of Health. The goal of the research is to find out if new treatments can reduce the risk of diabetic retinopathy. The\n",
            "\n",
            "Input Question: What is the outlook for Childhood Central Nervous System Germ Cell Tumors ?\n",
            "True Answer: Certain factors affect prognosis (chance of recovery). The prognosis (chance of recovery) depends on the following: - The type of germ cell tumor. - The type and level of any tumor markers. - Where the tumor is in the brain or in the spinal cord. - Whether the cancer has spread within the brain and spinal cord or to other parts of the body. - Whether the tumor is newly diagnosed or has recurred (come back) after treatment.\n",
            "Generated Answer: Key Points - There are no standard prognosis (chance of recovery) for childhood central nervous system germ cell tumors. - There are no standard prognosis (chance of recovery) for childhood central nervous system germ cell tumors. - Children with childhood central nervous system germ cell tumors may have a better prognosis after treatment. - The prognosis (chance of recovery) depends on the following: -\n",
            "\n",
            "Input Question: what research (or clinical trials) is being done for Renal Cell Cancer ?\n",
            "True Answer: New types of treatment are being tested in clinical trials. Information about clinical trials is available from the NCI website. Patients may want to think about taking part in a clinical trial. For some patients, taking part in a clinical trial may be the best treatment choice. Clinical trials are part of the cancer research process. Clinical trials are done to find out if new cancer treatments are safe and effective or better than the standard treatment. Many of today's standard treatments for cancer are based on earlier clinical trials. Patients who take part in a clinical trial may receive the standard treatment or be among the first to receive a new treatment. Patients who take part in clinical trials also help improve the way cancer will be treated in the future. Even when clinical trials do not lead to effective new treatments, they often answer important questions and help move research forward. Patients can enter clinical trials before, during, or after starting their cancer treatment. Some clinical trials only include patients who have not yet received treatment. Other trials test treatments for patients whose cancer has not gotten better. There are also clinical trials that test new ways to stop cancer from recurring (coming back) or reduce the side effects of cancer treatment. Clinical trials are taking place in many parts of the country. See the Treatment Options section that follows for links to current treatment clinical trials. These have been retrieved from NCI's listing of clinical trials.\n",
            "Generated Answer: New types of treatment are being tested in clinical trials. Information about clinical trials is available from the NCI website. Patients may want to think about taking part in a clinical trial. For some patients, taking part in a clinical trial may be the best treatment choice. Clinical trials are part of the cancer research process. Clinical trials are done to find out if new cancer treatments are safe and effective or better than the standard treatment. The standard treatment for cancer is to have the standard treatment\n",
            "\n",
            "Input Question: What are the stages of Chronic Myeloproliferative Neoplasms ?\n",
            "True Answer: Key Points - There is no standard staging system for chronic myeloproliferative neoplasms. There is no standard staging system for chronic myeloproliferative neoplasms. Staging is the process used to find out how far the cancer has spread. There is no standard staging system for chronic myeloproliferative neoplasms. Treatment is based on the type of myeloproliferative neoplasm the patient has. It is important to know the type in order to plan treatment.\n",
            "Generated Answer: Key Points - After chronic myeloproliferative neoplasms have been diagnosed, tests are done to find out if cancer cells have spread within the bone marrow or to other parts of the body. - There are three ways that cancer spreads in the body. - Cancer may spread from where it began to other parts of the body. - There are three ways that cancer spreads in the body. - Cancer may spread\n",
            "\n"
          ]
        }
      ],
      "source": [
        "def test_model(model, tokenizer, dataset, num_samples=5, max_length=100):\n",
        "    model.eval()  # Set model to evaluation mode\n",
        "    device = torch.device(\"cuda\" if torch.cuda.is_available() else \"cpu\")\n",
        "    model.to(device)\n",
        "\n",
        "    for i in range(num_samples):\n",
        "        sample = dataset[i]\n",
        "        input_text = sample['question']\n",
        "        true_answer = sample['answer']  # Assuming the true answer is under 'answer' in your dataset\n",
        "\n",
        "        # Tokenize input text and move to the correct device\n",
        "        inputs = tokenizer(input_text, return_tensors=\"pt\").to(device)\n",
        "\n",
        "        # Generate output\n",
        "        with torch.no_grad():\n",
        "            outputs = model.generate(input_ids=inputs['input_ids'], max_length=max_length)\n",
        "\n",
        "        # Decode generated and true answers\n",
        "        generated_answer = tokenizer.decode(outputs[0], skip_special_tokens=True)\n",
        "        print(f\"Input Question: {input_text}\")\n",
        "        print(f\"True Answer: {true_answer}\")\n",
        "        print(f\"Generated Answer: {generated_answer}\\n\")\n",
        "\n",
        "# Run the function\n",
        "test_model(model, tokenizer, val_data, num_samples=5, max_length=100)\n"
      ]
    },
    {
      "cell_type": "markdown",
      "metadata": {
        "id": "WGfFoqfT4KBM"
      },
      "source": [
        "#####**Validation loss**"
      ]
    },
    {
      "cell_type": "code",
      "execution_count": null,
      "metadata": {
        "colab": {
          "base_uri": "https://localhost:8080/",
          "height": 54
        },
        "id": "byMd6UeC4FdC",
        "outputId": "f31f97d3-1c98-4edb-a7ca-731fcdda0cd3"
      },
      "outputs": [
        {
          "output_type": "display_data",
          "data": {
            "text/plain": [
              "<IPython.core.display.HTML object>"
            ],
            "text/html": [
              "\n",
              "    <div>\n",
              "      \n",
              "      <progress value='50' max='50' style='width:300px; height:20px; vertical-align: middle;'></progress>\n",
              "      [50/50 00:12]\n",
              "    </div>\n",
              "    "
            ]
          },
          "metadata": {}
        },
        {
          "output_type": "stream",
          "name": "stdout",
          "text": [
            "Validation Loss: 1.5506\n"
          ]
        }
      ],
      "source": [
        "# Evaluate model performance on the validation set\n",
        "eval_results = trainer.evaluate()\n",
        "print(f\"Validation Loss: {eval_results['eval_loss']:.4f}\")"
      ]
    },
    {
      "cell_type": "markdown",
      "metadata": {
        "id": "3UZOy1ge7JV9"
      },
      "source": [
        "#####**BLEU** **Score**"
      ]
    },
    {
      "cell_type": "code",
      "execution_count": null,
      "metadata": {
        "colab": {
          "base_uri": "https://localhost:8080/"
        },
        "id": "f_ChAXxN7Qv1",
        "outputId": "f348be57-d248-414d-8325-c3359fef0c8e"
      },
      "outputs": [
        {
          "output_type": "stream",
          "name": "stdout",
          "text": [
            "Average BLEU score: 0.027946411910918324\n"
          ]
        }
      ],
      "source": [
        "from nltk.translate.bleu_score import sentence_bleu, SmoothingFunction\n",
        "\n",
        "def calculate_bleu(model, tokenizer, dataset, num_samples=100):\n",
        "    bleu_scores = []\n",
        "    device = model.device  # Ensure the model and tokenizer are on the same device\n",
        "\n",
        "    for i in range(min(num_samples, len(dataset))):\n",
        "        sample = dataset[i]\n",
        "\n",
        "        # Input text consists only of the question in this case\n",
        "        input_text = sample['question']\n",
        "\n",
        "        # Tokenize and prepare input\n",
        "        inputs = tokenizer(input_text, return_tensors=\"pt\").to(device)\n",
        "\n",
        "        # Access base model's generate method\n",
        "        outputs = model.base_model.generate(inputs['input_ids'], max_length=100)\n",
        "\n",
        "        # Decode the generated output\n",
        "        generated_text = tokenizer.decode(outputs[0], skip_special_tokens=True)\n",
        "\n",
        "        # Reference answer for calculating BLEU score\n",
        "        reference_text = sample['answer']\n",
        "\n",
        "        # Calculate BLEU score with smoothing\n",
        "        score = sentence_bleu([reference_text.split()], generated_text.split(),\n",
        "                              smoothing_function=SmoothingFunction().method1)\n",
        "        bleu_scores.append(score)\n",
        "\n",
        "    # Calculate the average BLEU score across all samples\n",
        "    avg_bleu_score = sum(bleu_scores) / len(bleu_scores)\n",
        "    print(\"Average BLEU score:\", avg_bleu_score)\n",
        "    return avg_bleu_score\n",
        "\n",
        "# Run the BLEU calculation\n",
        "average_bleu = calculate_bleu(model, tokenizer, val_data, num_samples=100)\n"
      ]
    },
    {
      "cell_type": "markdown",
      "metadata": {
        "id": "3jRtVYAwf5bP"
      },
      "source": [
        "##### **Perplexity**"
      ]
    },
    {
      "cell_type": "code",
      "execution_count": null,
      "metadata": {
        "colab": {
          "base_uri": "https://localhost:8080/"
        },
        "id": "IfIBcDATgAzF",
        "outputId": "f0cf9a2e-1c33-4dc5-fa4f-300b3f293689"
      },
      "outputs": [
        {
          "output_type": "stream",
          "name": "stderr",
          "text": [
            "Token indices sequence length is longer than the specified maximum sequence length for this model (1648 > 512). Running this sequence through the model will result in indexing errors\n"
          ]
        },
        {
          "output_type": "stream",
          "name": "stdout",
          "text": [
            "Average Perplexity: 7.777258045673371\n"
          ]
        }
      ],
      "source": [
        "import torch.nn.functional as F\n",
        "\n",
        "def calculate_perplexity(model, tokenizer, dataset, num_samples=100):\n",
        "    perplexities = []\n",
        "    for i in range(min(num_samples, len(dataset))):\n",
        "        sample = dataset[i]\n",
        "        input_text = sample['question']\n",
        "        reference_text = sample['answer']\n",
        "\n",
        "        inputs = tokenizer(input_text, return_tensors=\"pt\").to(model.device)\n",
        "        labels = tokenizer(reference_text, return_tensors=\"pt\").input_ids.to(model.device)\n",
        "\n",
        "        with torch.no_grad():\n",
        "            outputs = model(**inputs, labels=labels)\n",
        "            loss = outputs.loss\n",
        "            perplexity = torch.exp(loss).item()\n",
        "            perplexities.append(perplexity)\n",
        "\n",
        "    avg_perplexity = sum(perplexities) / len(perplexities)\n",
        "    print(\"Average Perplexity:\", avg_perplexity)\n",
        "    return avg_perplexity\n",
        "\n",
        "perplexity = calculate_perplexity(model, tokenizer, val_data, num_samples=100)"
      ]
    },
    {
      "cell_type": "markdown",
      "metadata": {
        "id": "eULO10S_hOx1"
      },
      "source": [
        "## **2.** **Applying Prompt Tuning**"
      ]
    },
    {
      "cell_type": "markdown",
      "source": [
        "Prompt Tuning is another technique that modifies the input to the model by adding\n",
        "a trainable soft prompt to guide the model’s behavior. Unlike traditional fine-tuning,\n",
        "where model weights are modified, prompt tuning only adds a small, learnable set of\n",
        "prompt embeddings to the model’s input embeddings.\n"
      ],
      "metadata": {
        "id": "MIut-xiIri2L"
      }
    },
    {
      "cell_type": "markdown",
      "source": [
        "### Define Soft Prompt Tuning Layer"
      ],
      "metadata": {
        "id": "jAmep40iuL0-"
      }
    },
    {
      "cell_type": "code",
      "source": [
        "class SoftPromptTuning(torch.nn.Module):\n",
        "    def __init__(self, model, prompt_length=10, hidden_size=768):\n",
        "        super(SoftPromptTuning, self).__init__()\n",
        "        self.prompt_embeddings = torch.nn.Parameter(torch.randn(prompt_length, hidden_size) * 0.01)  # Smaller values\n",
        "        self.model = model\n",
        "        self.prompt_length = prompt_length\n",
        "\n",
        "    def forward(self, input_ids, attention_mask, labels=None):\n",
        "        # Get the input embeddings\n",
        "        inputs_embeds = self.model.get_input_embeddings()(input_ids)\n",
        "\n",
        "        # Add the soft prompt to the beginning of the input embeddings\n",
        "        prompt_embeds = self.prompt_embeddings.unsqueeze(0).expand(inputs_embeds.size(0), -1, -1)\n",
        "        inputs_embeds = torch.cat([prompt_embeds, inputs_embeds], dim=1)\n",
        "\n",
        "        # Adjust the attention mask for the prompt tokens\n",
        "        prompt_mask = torch.ones((attention_mask.size(0), self.prompt_length), device=attention_mask.device)\n",
        "        attention_mask = torch.cat([prompt_mask, attention_mask], dim=1)\n",
        "\n",
        "        # Pass through the model with modified inputs\n",
        "        outputs = self.model(inputs_embeds=inputs_embeds, attention_mask=attention_mask, labels=labels)\n",
        "        return outputs\n"
      ],
      "metadata": {
        "id": "H-k5tr4guNJj"
      },
      "execution_count": null,
      "outputs": []
    },
    {
      "cell_type": "markdown",
      "source": [
        "### Load Model and Wrap It with Soft Prompt Tuning"
      ],
      "metadata": {
        "id": "mntC6FFrf8m6"
      }
    },
    {
      "cell_type": "code",
      "source": [
        "# Load base model and tokenizer\n",
        "model_name = \"google/flan-t5-large\"\n",
        "tokenizer = AutoTokenizer.from_pretrained(model_name)\n",
        "base_model = AutoModelForSeq2SeqLM.from_pretrained(model_name)\n",
        "\n",
        "# Define soft prompt tuning with model wrapper\n",
        "soft_prompt_model = SoftPromptTuning(base_model, prompt_length=10, hidden_size=base_model.config.d_model)\n"
      ],
      "metadata": {
        "colab": {
          "base_uri": "https://localhost:8080/",
          "height": 365,
          "referenced_widgets": [
            "03b28532322648c482e9616c1a4ac81f",
            "e586bff9d16648e284e62d3faf3551f6",
            "c7d1f6f101644ea9881fa0f25bfabda6",
            "3833c5edac1643d39fed38e70b5b010c",
            "dda733f6964644829f4259d31e4f7871",
            "9d0febec5d454ec68f80275fb8b04c9f",
            "d0e0ca975d0f4428911fa703ff154907",
            "f8a3f7e521124263b4f776980eb4e45b",
            "38e508a67ad44373982dcd3b4d87ec38",
            "8a41e3e8bedb4077a91f1594764126bc",
            "c4729e3725424deaaa61a2991f7b2ae7",
            "5c9ebd884c29423bb6619d948c78d716",
            "50d89ab7f7ca41139258ebaf9fc16d37",
            "14180a13bb484c90bc92e7593df4177f",
            "136b1ca6424a44c2bb4d54b40fb5401a",
            "1772efe6fbbc42419368cc63fc9950f0",
            "c360de6d6b2e4cd58cfe36102dc4c28b",
            "80797fa4ebc246948fa33ad6c7ee45b5",
            "6072fd9e341b47a38bdbeb07261857fe",
            "f65040e7d3494421b03eadc5357c691f",
            "d1c68001835c451fbd29404d436e1891",
            "c84934ca40e243518afc5d21cea6f088",
            "393da5b8d3604b97847c9c4421272407",
            "f4ddcc7a0a7b49979aa4a7cb00f48909",
            "b1b7c5895ca6457bbea2932c59afd916",
            "fc5f7abe17654c77bfe3bbb867354f05",
            "98779592b447468b8930b1bdb4cd1bbf",
            "1ea0f3037e3e43a691e894fae4cb2a8e",
            "3f4147ed8cad4035aac44c146faba16e",
            "cd5df01e7ae14866b52650df3a0797a6",
            "77ca88a7152445b8bf38999dd9d3d4af",
            "2d1fd7c5f54b4e2f83a542ad8b2e7ffc",
            "f48369ce087e411b9d9ab0b0c74b7f8f",
            "caa96e4f5f804bfdb5adc5826de792cf",
            "ce381cc6edee4dfaadfe49589bd22d80",
            "94359891e6c14b079250e9788a73a447",
            "32544f8dce28460d99b8cd889505b4b0",
            "d12d04ec527549bd921f6c16d4da701e",
            "67fdb8b0fd554c588516aa301569acee",
            "7f61c88d87d141af9576224c838607fe",
            "b9ebeea2ad8c408cb09092d2a115c8a5",
            "30f0fa4e4dc945a89a32ef1d2074074c",
            "3ca90cebc54f41f7adff8ed4ed958318",
            "eb302679068f43008211b0ed3a37492b",
            "ee454c26768b44b2a8dc61d640f8d19d",
            "98ba8111ccee409b92555786e64cb991",
            "dbf857b080624a529a57c22526cf403a",
            "baa1bdac9e76417789b1e5877f561f8b",
            "f0d53164ebbd40aea60973dccb04e138",
            "d6ddc52d226443bfb4218f8cc133f84b",
            "3ff09522bca84bb090368f9fe4543c57",
            "0a979d7961e0438ebc98f10eab68c9fe",
            "1bc39661b84a4b5b950177543c1decec",
            "b68fe811bc6249259b5ba99e955b46b4",
            "dd3308cfa9124770a7b7bdbf21ef9471",
            "e75bef15f8f34800aa6e3a86be9b0469",
            "148b2e55aff8433aa717b4232e170072",
            "c910c7a4a5914222920a74e663fe7b87",
            "0a15a277645d4e8bb5f378bcefc06c03",
            "f90349af7a08461f95154f94c26cf1a9",
            "fa30d96c5fe1401e9a4124d8b3eb60b1",
            "3ed659f73ef94acf91215662ffa50a73",
            "ce92c0ddad8746338fed914137c61114",
            "3f1e1fa037104096837ac55b6fcdc321",
            "9534be3a86ef4b4e82d5b346050fbcb9",
            "95d2540a007f460cafbae9e16cc49598",
            "ac7206434c5d42248e86e4c479981bc5",
            "fcb17987099d48fb85348d66bfa11e05",
            "66c03ac9cdc042ffb4efe30ab95f12f9",
            "32a061b9417248d2b7f6fe177781395b",
            "0f6a800fb34445aea806efb2b9909a69",
            "f18fc70ff14e406888055379eeb23754",
            "498ef36842c44a4b8c1aa9def8d02f3e",
            "bc71c1126d40402b8c5dc305fbfc4e99",
            "279953116e784f8a9e971f3725111148",
            "7630eb831d954288b9616ee94ca62706",
            "2e9ef978a2a9498aa6a2975b2fb1407e"
          ]
        },
        "id": "Vep_mgndf8Cm",
        "outputId": "6ee478ab-434d-4464-9753-c56b74ab11b0"
      },
      "execution_count": null,
      "outputs": [
        {
          "output_type": "stream",
          "name": "stderr",
          "text": [
            "/usr/local/lib/python3.10/dist-packages/huggingface_hub/utils/_auth.py:94: UserWarning: \n",
            "The secret `HF_TOKEN` does not exist in your Colab secrets.\n",
            "To authenticate with the Hugging Face Hub, create a token in your settings tab (https://huggingface.co/settings/tokens), set it as secret in your Google Colab and restart your session.\n",
            "You will be able to reuse this secret in all of your notebooks.\n",
            "Please note that authentication is recommended but still optional to access public models or datasets.\n",
            "  warnings.warn(\n"
          ]
        },
        {
          "output_type": "display_data",
          "data": {
            "text/plain": [
              "tokenizer_config.json:   0%|          | 0.00/2.54k [00:00<?, ?B/s]"
            ],
            "application/vnd.jupyter.widget-view+json": {
              "version_major": 2,
              "version_minor": 0,
              "model_id": "03b28532322648c482e9616c1a4ac81f"
            }
          },
          "metadata": {}
        },
        {
          "output_type": "display_data",
          "data": {
            "text/plain": [
              "spiece.model:   0%|          | 0.00/792k [00:00<?, ?B/s]"
            ],
            "application/vnd.jupyter.widget-view+json": {
              "version_major": 2,
              "version_minor": 0,
              "model_id": "5c9ebd884c29423bb6619d948c78d716"
            }
          },
          "metadata": {}
        },
        {
          "output_type": "display_data",
          "data": {
            "text/plain": [
              "tokenizer.json:   0%|          | 0.00/2.42M [00:00<?, ?B/s]"
            ],
            "application/vnd.jupyter.widget-view+json": {
              "version_major": 2,
              "version_minor": 0,
              "model_id": "393da5b8d3604b97847c9c4421272407"
            }
          },
          "metadata": {}
        },
        {
          "output_type": "display_data",
          "data": {
            "text/plain": [
              "special_tokens_map.json:   0%|          | 0.00/2.20k [00:00<?, ?B/s]"
            ],
            "application/vnd.jupyter.widget-view+json": {
              "version_major": 2,
              "version_minor": 0,
              "model_id": "caa96e4f5f804bfdb5adc5826de792cf"
            }
          },
          "metadata": {}
        },
        {
          "output_type": "display_data",
          "data": {
            "text/plain": [
              "config.json:   0%|          | 0.00/662 [00:00<?, ?B/s]"
            ],
            "application/vnd.jupyter.widget-view+json": {
              "version_major": 2,
              "version_minor": 0,
              "model_id": "ee454c26768b44b2a8dc61d640f8d19d"
            }
          },
          "metadata": {}
        },
        {
          "output_type": "display_data",
          "data": {
            "text/plain": [
              "model.safetensors:   0%|          | 0.00/3.13G [00:00<?, ?B/s]"
            ],
            "application/vnd.jupyter.widget-view+json": {
              "version_major": 2,
              "version_minor": 0,
              "model_id": "e75bef15f8f34800aa6e3a86be9b0469"
            }
          },
          "metadata": {}
        },
        {
          "output_type": "display_data",
          "data": {
            "text/plain": [
              "generation_config.json:   0%|          | 0.00/147 [00:00<?, ?B/s]"
            ],
            "application/vnd.jupyter.widget-view+json": {
              "version_major": 2,
              "version_minor": 0,
              "model_id": "ac7206434c5d42248e86e4c479981bc5"
            }
          },
          "metadata": {}
        }
      ]
    },
    {
      "cell_type": "markdown",
      "source": [
        "### Prepare the Dataset\n"
      ],
      "metadata": {
        "id": "GJ-lTdlvjUub"
      }
    },
    {
      "cell_type": "code",
      "source": [
        "from datasets import Dataset\n",
        "# Convert DataFrames to Hugging Face Datasets\n",
        "train_data_prompt = Dataset.from_pandas(train_data)\n",
        "val_data_prompt = Dataset.from_pandas(val_data)"
      ],
      "metadata": {
        "id": "tc63wNJUgOor"
      },
      "execution_count": null,
      "outputs": []
    },
    {
      "cell_type": "markdown",
      "source": [
        "### Define the Prompt and Data Preprocessing"
      ],
      "metadata": {
        "id": "DlT466tRjX1F"
      }
    },
    {
      "cell_type": "code",
      "source": [
        "def preprocess_function(examples):\n",
        "    # Add prompts to questions\n",
        "    inputs = [\"Answer the following medical question: \" + question for question in examples[\"question\"]]\n",
        "    targets = examples[\"answer\"]\n",
        "    model_inputs = tokenizer(inputs, max_length=512, truncation=True, padding=\"max_length\")\n",
        "    labels = tokenizer(targets, max_length=128, truncation=True, padding=\"max_length\").input_ids\n",
        "    model_inputs[\"labels\"] = labels\n",
        "    return model_inputs\n",
        "\n",
        "# Tokenize data\n",
        "train_data_tokenized = train_data_prompt.map(preprocess_function, batched=True)\n",
        "val_data_tokenized = val_data_prompt.map(preprocess_function, batched=True)"
      ],
      "metadata": {
        "colab": {
          "base_uri": "https://localhost:8080/",
          "height": 81,
          "referenced_widgets": [
            "8562af65d71f474da0c2ff32550f3220",
            "14214d8935e04513850da91f9f5e16fb",
            "a5a73a8369b4400baec672778be9a9d9",
            "7fb92ad054e24a9fa81b058d84413f1b",
            "1bb61e0115714043a229c721f679cea3",
            "4c2151b5986341b7ba434225206fe32f",
            "4781cdefb6e547b2b0b5a429bd91f41f",
            "f3830c1545ca4fc6adb50a3d4b2f26a0",
            "a96ca108a1b94cfc976aeaed9b5d2c60",
            "038042b291024f84b06a194bb44245d3",
            "4d5f3810d2f9405da1a83540480d4c35",
            "cbf7d93ff09e48369f308855eceeec9e",
            "21ae4c0ff7c8421991bd0ce670bef01f",
            "232f9ac8d7e84200b48bcf8c30520c2e",
            "f3bb360e1e3c45be85d1a5e1e201b4c2",
            "e7839c749fc14d50bc23a62ffd0d202d",
            "c7badaba443844f0aa96d1267061f7fe",
            "cffeb13ae8914c5498679ad35f7738a3",
            "e20963a5d70f4e3a932371abb6006d59",
            "becc2a321b9f449bafafa81d9b41f257",
            "60ed96b59503470395e71e6ca5b6f95b",
            "670ce69ce01f4517a7acd94f4fa73f9f"
          ]
        },
        "id": "ANc4JHQ8jlVM",
        "outputId": "a89637ea-41c0-4917-ad16-ecd843108a3f"
      },
      "execution_count": null,
      "outputs": [
        {
          "output_type": "display_data",
          "data": {
            "text/plain": [
              "Map:   0%|          | 0/1600 [00:00<?, ? examples/s]"
            ],
            "application/vnd.jupyter.widget-view+json": {
              "version_major": 2,
              "version_minor": 0,
              "model_id": "8562af65d71f474da0c2ff32550f3220"
            }
          },
          "metadata": {}
        },
        {
          "output_type": "display_data",
          "data": {
            "text/plain": [
              "Map:   0%|          | 0/400 [00:00<?, ? examples/s]"
            ],
            "application/vnd.jupyter.widget-view+json": {
              "version_major": 2,
              "version_minor": 0,
              "model_id": "cbf7d93ff09e48369f308855eceeec9e"
            }
          },
          "metadata": {}
        }
      ]
    },
    {
      "cell_type": "markdown",
      "source": [
        "### Initialize the Trainer with Prompt Tuning Parameters"
      ],
      "metadata": {
        "id": "8HQoNBb4j1jr"
      }
    },
    {
      "cell_type": "code",
      "source": [
        "import torch\n",
        "from transformers import Seq2SeqTrainer, Seq2SeqTrainingArguments, Trainer\n",
        "\n",
        "# Reduce batch size and add gradient accumulation\n",
        "training_args = Seq2SeqTrainingArguments(\n",
        "    output_dir=\"./soft_prompt_tuning\",\n",
        "    evaluation_strategy=\"epoch\",  # Use \"no\" if you want to skip validation during training\n",
        "    learning_rate=5e-6,\n",
        "    per_device_train_batch_size=1,  # Lower batch size\n",
        "    per_device_eval_batch_size=1,\n",
        "    num_train_epochs=5,\n",
        "    weight_decay=0.01,\n",
        "    predict_with_generate=True,\n",
        "    max_grad_norm=1.0,\n",
        "    gradient_accumulation_steps=4,  # Use accumulation for larger effective batch size\n",
        "    fp16=False,\n",
        "    save_safetensors=False,\n",
        "    save_steps=0,\n",
        ")\n",
        "\n",
        "# Enable gradient checkpointing\n",
        "base_model.gradient_checkpointing_enable()\n",
        "\n",
        "for param in soft_prompt_model.model.parameters():\n",
        "    param.requires_grad = False\n",
        "# Clear any cached memory\n",
        "torch.cuda.empty_cache()\n",
        "\n",
        "# Initialize the trainer\n",
        "trainer = Trainer(\n",
        "\n",
        "    model=soft_prompt_model,\n",
        "    args=training_args,\n",
        "    train_dataset=train_data_tokenized,\n",
        "    eval_dataset=val_data_tokenized,\n",
        "    tokenizer=tokenizer,\n",
        ")\n",
        "\n",
        "# Train the model\n",
        "trainer.train()\n"
      ],
      "metadata": {
        "colab": {
          "base_uri": "https://localhost:8080/",
          "height": 356
        },
        "id": "7BLDpVKczTWk",
        "outputId": "0712aa26-83c8-4fba-a237-308d58510fc7"
      },
      "execution_count": null,
      "outputs": [
        {
          "output_type": "stream",
          "name": "stderr",
          "text": [
            "/usr/local/lib/python3.10/dist-packages/transformers/training_args.py:1568: FutureWarning: `evaluation_strategy` is deprecated and will be removed in version 4.46 of 🤗 Transformers. Use `eval_strategy` instead\n",
            "  warnings.warn(\n",
            "<ipython-input-27-ac89f9f3a660>:30: FutureWarning: `tokenizer` is deprecated and will be removed in version 5.0.0 for `Trainer.__init__`. Use `processing_class` instead.\n",
            "  trainer = Trainer(\n"
          ]
        },
        {
          "output_type": "display_data",
          "data": {
            "text/plain": [
              "<IPython.core.display.HTML object>"
            ],
            "text/html": [
              "\n",
              "    <div>\n",
              "      \n",
              "      <progress value='2000' max='2000' style='width:300px; height:20px; vertical-align: middle;'></progress>\n",
              "      [2000/2000 49:50, Epoch 5/5]\n",
              "    </div>\n",
              "    <table border=\"1\" class=\"dataframe\">\n",
              "  <thead>\n",
              " <tr style=\"text-align: left;\">\n",
              "      <th>Epoch</th>\n",
              "      <th>Training Loss</th>\n",
              "      <th>Validation Loss</th>\n",
              "    </tr>\n",
              "  </thead>\n",
              "  <tbody>\n",
              "    <tr>\n",
              "      <td>1</td>\n",
              "      <td>No log</td>\n",
              "      <td>4.614409</td>\n",
              "    </tr>\n",
              "    <tr>\n",
              "      <td>2</td>\n",
              "      <td>5.075200</td>\n",
              "      <td>4.623473</td>\n",
              "    </tr>\n",
              "    <tr>\n",
              "      <td>3</td>\n",
              "      <td>5.114200</td>\n",
              "      <td>4.613799</td>\n",
              "    </tr>\n",
              "    <tr>\n",
              "      <td>4</td>\n",
              "      <td>4.950800</td>\n",
              "      <td>4.617537</td>\n",
              "    </tr>\n",
              "    <tr>\n",
              "      <td>5</td>\n",
              "      <td>5.112500</td>\n",
              "      <td>4.621651</td>\n",
              "    </tr>\n",
              "  </tbody>\n",
              "</table><p>"
            ]
          },
          "metadata": {}
        },
        {
          "output_type": "execute_result",
          "data": {
            "text/plain": [
              "TrainOutput(global_step=2000, training_loss=5.063213500976563, metrics={'train_runtime': 2991.9796, 'train_samples_per_second': 2.674, 'train_steps_per_second': 0.668, 'total_flos': 0.0, 'train_loss': 5.063213500976563, 'epoch': 5.0})"
            ]
          },
          "metadata": {},
          "execution_count": 27
        }
      ]
    },
    {
      "cell_type": "markdown",
      "source": [
        "### Evaluation after Prompt Tuning"
      ],
      "metadata": {
        "id": "5ecSSO2o8S34"
      }
    },
    {
      "cell_type": "markdown",
      "source": [
        "#### 1. Validation loss"
      ],
      "metadata": {
        "id": "UEHKMAmJ2Y_n"
      }
    },
    {
      "cell_type": "code",
      "source": [
        "results = trainer.evaluate()\n",
        "print(results)\n"
      ],
      "metadata": {
        "id": "0Wi2E1978gwc",
        "colab": {
          "base_uri": "https://localhost:8080/",
          "height": 74
        },
        "outputId": "48f6fdad-b814-421c-c1f9-7030c865de6d"
      },
      "execution_count": null,
      "outputs": [
        {
          "output_type": "display_data",
          "data": {
            "text/plain": [
              "<IPython.core.display.HTML object>"
            ],
            "text/html": [
              "\n",
              "    <div>\n",
              "      \n",
              "      <progress value='400' max='400' style='width:300px; height:20px; vertical-align: middle;'></progress>\n",
              "      [400/400 00:38]\n",
              "    </div>\n",
              "    "
            ]
          },
          "metadata": {}
        },
        {
          "output_type": "stream",
          "name": "stdout",
          "text": [
            "{'eval_loss': 4.6216511726379395, 'eval_runtime': 38.3464, 'eval_samples_per_second': 10.431, 'eval_steps_per_second': 10.431, 'epoch': 5.0}\n"
          ]
        }
      ]
    },
    {
      "cell_type": "markdown",
      "source": [
        "#### 1. Define the test function"
      ],
      "metadata": {
        "id": "OUArKTIc2fJf"
      }
    },
    {
      "cell_type": "markdown",
      "source": [
        "#####  **Testing Without adding a Prompt**\n",
        "\n"
      ],
      "metadata": {
        "id": "d1msPUEr2kqV"
      }
    },
    {
      "cell_type": "code",
      "source": [
        "import torch\n",
        "\n",
        "def test_soft_prompt_tuning(soft_prompt_model, base_model, tokenizer, dataset, num_samples=5, max_length=100):\n",
        "    \"\"\"\n",
        "    Test the T5 model with soft prompt tuning by generating answers to questions.\n",
        "\n",
        "    Args:\n",
        "    - soft_prompt_model: The model wrapper with soft prompt tuning.\n",
        "    - base_model: The underlying T5 model that performs generation.\n",
        "    - tokenizer: Tokenizer for encoding and decoding text.\n",
        "    - dataset: Dataset containing questions and answers.\n",
        "    - num_samples: Number of samples to test.\n",
        "    - max_length: Maximum length of the generated answer.\n",
        "    \"\"\"\n",
        "\n",
        "    base_model.eval()  # Set model to evaluation mode\n",
        "    device = torch.device(\"cuda\" if torch.cuda.is_available() else \"cpu\")\n",
        "    base_model.to(device)\n",
        "\n",
        "    for i in range(num_samples):\n",
        "        # Extract a question and true answer from the dataset\n",
        "        sample = dataset[i]\n",
        "        input_text = sample['question']\n",
        "        true_answer = sample['answer']\n",
        "\n",
        "        # Tokenize input question\n",
        "        inputs = tokenizer(input_text, return_tensors=\"pt\").to(device)\n",
        "\n",
        "        # Retrieve the soft prompt embeddings from the soft_prompt_model\n",
        "        prompt_embeds = soft_prompt_model.prompt_embeddings.unsqueeze(0).expand(inputs['input_ids'].size(0), -1, -1).to(device)\n",
        "\n",
        "        # Get T5 input embeddings for the tokenized question and concatenate with soft prompts\n",
        "        input_embeddings = base_model.get_input_embeddings()(inputs['input_ids'])\n",
        "        combined_embeddings = torch.cat((prompt_embeds, input_embeddings), dim=1)\n",
        "\n",
        "        # Adjust attention mask to account for the prompt length\n",
        "        prompt_mask = torch.ones((inputs['attention_mask'].size(0), soft_prompt_model.prompt_length), device=device)\n",
        "        attention_mask = torch.cat([prompt_mask, inputs['attention_mask']], dim=1)\n",
        "\n",
        "        # Generate output using the base model with the combined embeddings and modified attention mask\n",
        "        with torch.no_grad():\n",
        "            outputs = base_model.generate(inputs_embeds=combined_embeddings, attention_mask=attention_mask, max_length=max_length)\n",
        "\n",
        "        # Decode the generated output\n",
        "        generated_answer = tokenizer.decode(outputs[0], skip_special_tokens=True)\n",
        "\n",
        "        # Display results\n",
        "        print(f\"Input Question: {input_text}\")\n",
        "        print(f\"True Answer: {true_answer}\")\n",
        "        print(f\"Generated Answer: {generated_answer}\\n\")\n",
        "\n",
        "# Usage example:\n",
        "# Assuming `val_data_tokenized` is your validation dataset and has been prepared with question-answer pairs\n",
        "test_soft_prompt_tuning(soft_prompt_model, base_model, tokenizer, val_data_tokenized, num_samples=5, max_length=100)\n"
      ],
      "metadata": {
        "id": "WvTmEKvD8ymy",
        "colab": {
          "base_uri": "https://localhost:8080/"
        },
        "outputId": "32bb343e-aac3-4cec-9fbf-9d3347dd135a"
      },
      "execution_count": null,
      "outputs": [
        {
          "output_type": "stream",
          "name": "stdout",
          "text": [
            "Input Question: What is (are) Thalassemia ?\n",
            "True Answer: Thalassemias are inherited blood disorders. If you have one, your body makes fewer healthy red blood cells and less hemoglobin. Hemoglobin is a protein that carries oxygen to the body. That leads to anemia. Thalassemias occur most often among people of Italian, Greek, Middle Eastern, Southern Asian, and African descent. Thalassemias can be mild or severe. Some people have no symptoms or mild anemia. The most common severe type in the United States is called Cooley's anemia. It usually appears during the first two years of life. People with it may have severe anemia, slowed growth and delayed puberty, and problems with the spleen, liver, heart, or bones. Doctors diagnose thalassemias using blood tests. Treatments include blood transfusions and treatment to remove excess iron from the body. If you have mild symptoms or no symptoms, you may not need treatment. In some severe cases, you may need a bone marrow transplant. NIH: National Heart, Lung, and Blood Institute\n",
            "Generated Answer: a group of inherited disorders\n",
            "\n",
            "Input Question: what research (or clinical trials) is being done for Diabetic Retinopathy ?\n",
            "True Answer: The National Eye Institute, or NEI, is conducting and supporting research that seeks better ways to detect, treat, and prevent vision loss in people with diabetes. This research is conducted through studies in the laboratory and with patients. For example, researchers are studying drugs for the treatment of proliferative retinopathy that may reduce the need for laser surgery.\n",
            "Generated Answer: a study of the effects of a drug on the retina\n",
            "\n",
            "Input Question: What is the outlook for Childhood Central Nervous System Germ Cell Tumors ?\n",
            "True Answer: Certain factors affect prognosis (chance of recovery). The prognosis (chance of recovery) depends on the following: - The type of germ cell tumor. - The type and level of any tumor markers. - Where the tumor is in the brain or in the spinal cord. - Whether the cancer has spread within the brain and spinal cord or to other parts of the body. - Whether the tumor is newly diagnosed or has recurred (come back) after treatment.\n",
            "Generated Answer: The outlook for Childhood Central Nervous System Germ Cell Tumors is that the tumors will be reversible.\n",
            "\n",
            "Input Question: what research (or clinical trials) is being done for Renal Cell Cancer ?\n",
            "True Answer: New types of treatment are being tested in clinical trials. Information about clinical trials is available from the NCI website. Patients may want to think about taking part in a clinical trial. For some patients, taking part in a clinical trial may be the best treatment choice. Clinical trials are part of the cancer research process. Clinical trials are done to find out if new cancer treatments are safe and effective or better than the standard treatment. Many of today's standard treatments for cancer are based on earlier clinical trials. Patients who take part in a clinical trial may receive the standard treatment or be among the first to receive a new treatment. Patients who take part in clinical trials also help improve the way cancer will be treated in the future. Even when clinical trials do not lead to effective new treatments, they often answer important questions and help move research forward. Patients can enter clinical trials before, during, or after starting their cancer treatment. Some clinical trials only include patients who have not yet received treatment. Other trials test treatments for patients whose cancer has not gotten better. There are also clinical trials that test new ways to stop cancer from recurring (coming back) or reduce the side effects of cancer treatment. Clinical trials are taking place in many parts of the country. See the Treatment Options section that follows for links to current treatment clinical trials. These have been retrieved from NCI's listing of clinical trials.\n",
            "Generated Answer: marrow transplant\n",
            "\n",
            "Input Question: What are the stages of Chronic Myeloproliferative Neoplasms ?\n",
            "True Answer: Key Points - There is no standard staging system for chronic myeloproliferative neoplasms. There is no standard staging system for chronic myeloproliferative neoplasms. Staging is the process used to find out how far the cancer has spread. There is no standard staging system for chronic myeloproliferative neoplasms. Treatment is based on the type of myeloproliferative neoplasm the patient has. It is important to know the type in order to plan treatment.\n",
            "Generated Answer: Stages of Chronic Myeloproliferative Neoplasms\n",
            "\n"
          ]
        }
      ]
    },
    {
      "cell_type": "markdown",
      "source": [
        "##### **Testing with a prompt**"
      ],
      "metadata": {
        "id": "UmUJr4r-4loj"
      }
    },
    {
      "cell_type": "code",
      "source": [
        "import torch\n",
        "\n",
        "def test_detailed_generation(soft_prompt_model, base_model, tokenizer, dataset, num_samples=5, max_length=200):\n",
        "    \"\"\"\n",
        "    Test the T5 model with soft prompt tuning by generating more detailed answers to healthcare questions.\n",
        "\n",
        "    Args:\n",
        "    - soft_prompt_model: The model wrapper with soft prompt tuning.\n",
        "    - base_model: The underlying T5 model that performs generation.\n",
        "    - tokenizer: Tokenizer for encoding and decoding text.\n",
        "    - dataset: Dataset containing questions and answers.\n",
        "    - num_samples: Number of samples to test.\n",
        "    - max_length: Maximum length of the generated answer.\n",
        "    \"\"\"\n",
        "\n",
        "    base_model.eval()  # Set model to evaluation mode\n",
        "    device = torch.device(\"cuda\" if torch.cuda.is_available() else \"cpu\")\n",
        "    base_model.to(device)\n",
        "\n",
        "    for i in range(num_samples):\n",
        "        # Extract a question and true answer from the dataset\n",
        "        sample = dataset[i]\n",
        "        input_text = sample['question']\n",
        "        true_answer = sample['answer']\n",
        "\n",
        "        # Add a prompt prefix to encourage detailed responses\n",
        "        prompt_text = \"Provide a detailed medical explanation: \" + input_text\n",
        "\n",
        "        # Tokenize the prompt text\n",
        "        inputs = tokenizer(prompt_text, return_tensors=\"pt\").to(device)\n",
        "\n",
        "        # Retrieve the soft prompt embeddings from the soft_prompt_model\n",
        "        prompt_embeds = soft_prompt_model.prompt_embeddings.unsqueeze(0).expand(inputs['input_ids'].size(0), -1, -1).to(device)\n",
        "\n",
        "        # Get T5 input embeddings for the tokenized question and concatenate with soft prompts\n",
        "        input_embeddings = base_model.get_input_embeddings()(inputs['input_ids'])\n",
        "        combined_embeddings = torch.cat((prompt_embeds, input_embeddings), dim=1)\n",
        "\n",
        "        # Adjust attention mask to account for the prompt length\n",
        "        prompt_mask = torch.ones((inputs['attention_mask'].size(0), soft_prompt_model.prompt_length), device=device)\n",
        "        attention_mask = torch.cat([prompt_mask, inputs['attention_mask']], dim=1)\n",
        "\n",
        "        # Generate output with adjusted generation parameters\n",
        "        with torch.no_grad():\n",
        "            outputs = base_model.generate(\n",
        "                inputs_embeds=combined_embeddings,\n",
        "                attention_mask=attention_mask,\n",
        "                max_length=max_length,  # Allowing longer responses\n",
        "                temperature=0.7,        # Adjusting creativity level\n",
        "                top_k=50,               # Limiting sampling to top 50 tokens\n",
        "                top_p=0.9               # Nucleus sampling for more coherent output\n",
        "            )\n",
        "\n",
        "        # Decode the generated output\n",
        "        generated_answer = tokenizer.decode(outputs[0], skip_special_tokens=True)\n",
        "\n",
        "        # Display results\n",
        "        print(f\"Input Question: {input_text}\")\n",
        "        print(f\"True Answer: {true_answer}\")\n",
        "        print(f\"Generated Answer: {generated_answer}\\n\")\n",
        "\n",
        "# Usage example:\n",
        "# Assuming `val_data_tokenized` is your validation dataset and has been prepared with question-answer pairs\n",
        "test_detailed_generation(soft_prompt_model, base_model, tokenizer, val_data_tokenized, num_samples=5, max_length=200)\n"
      ],
      "metadata": {
        "id": "qBbnhweV2een",
        "outputId": "c56a243c-18a6-4ee1-f985-46ac33f4d2fd",
        "colab": {
          "base_uri": "https://localhost:8080/"
        }
      },
      "execution_count": null,
      "outputs": [
        {
          "output_type": "stream",
          "name": "stderr",
          "text": [
            "/usr/local/lib/python3.10/dist-packages/transformers/generation/configuration_utils.py:590: UserWarning: `do_sample` is set to `False`. However, `temperature` is set to `0.7` -- this flag is only used in sample-based generation modes. You should set `do_sample=True` or unset `temperature`.\n",
            "  warnings.warn(\n",
            "/usr/local/lib/python3.10/dist-packages/transformers/generation/configuration_utils.py:595: UserWarning: `do_sample` is set to `False`. However, `top_p` is set to `0.9` -- this flag is only used in sample-based generation modes. You should set `do_sample=True` or unset `top_p`.\n",
            "  warnings.warn(\n"
          ]
        },
        {
          "output_type": "stream",
          "name": "stdout",
          "text": [
            "Input Question: What is (are) Thalassemia ?\n",
            "True Answer: Thalassemias are inherited blood disorders. If you have one, your body makes fewer healthy red blood cells and less hemoglobin. Hemoglobin is a protein that carries oxygen to the body. That leads to anemia. Thalassemias occur most often among people of Italian, Greek, Middle Eastern, Southern Asian, and African descent. Thalassemias can be mild or severe. Some people have no symptoms or mild anemia. The most common severe type in the United States is called Cooley's anemia. It usually appears during the first two years of life. People with it may have severe anemia, slowed growth and delayed puberty, and problems with the spleen, liver, heart, or bones. Doctors diagnose thalassemias using blood tests. Treatments include blood transfusions and treatment to remove excess iron from the body. If you have mild symptoms or no symptoms, you may not need treatment. In some severe cases, you may need a bone marrow transplant. NIH: National Heart, Lung, and Blood Institute\n",
            "Generated Answer: Thalassemia is a condition in which the body does not have enough red blood cells to carry oxygen and nutrients to the cells.\n",
            "\n",
            "Input Question: what research (or clinical trials) is being done for Diabetic Retinopathy ?\n",
            "True Answer: The National Eye Institute, or NEI, is conducting and supporting research that seeks better ways to detect, treat, and prevent vision loss in people with diabetes. This research is conducted through studies in the laboratory and with patients. For example, researchers are studying drugs for the treatment of proliferative retinopathy that may reduce the need for laser surgery.\n",
            "Generated Answer: Diabetic Retinopathy is a condition in which the retina is damaged by damage to the blood vessels.\n",
            "\n",
            "Input Question: What is the outlook for Childhood Central Nervous System Germ Cell Tumors ?\n",
            "True Answer: Certain factors affect prognosis (chance of recovery). The prognosis (chance of recovery) depends on the following: - The type of germ cell tumor. - The type and level of any tumor markers. - Where the tumor is in the brain or in the spinal cord. - Whether the cancer has spread within the brain and spinal cord or to other parts of the body. - Whether the tumor is newly diagnosed or has recurred (come back) after treatment.\n",
            "Generated Answer: Childhood Central Nervous System Germ Cell Tumors are rare and usually develop in childhood.\n",
            "\n",
            "Input Question: what research (or clinical trials) is being done for Renal Cell Cancer ?\n",
            "True Answer: New types of treatment are being tested in clinical trials. Information about clinical trials is available from the NCI website. Patients may want to think about taking part in a clinical trial. For some patients, taking part in a clinical trial may be the best treatment choice. Clinical trials are part of the cancer research process. Clinical trials are done to find out if new cancer treatments are safe and effective or better than the standard treatment. Many of today's standard treatments for cancer are based on earlier clinical trials. Patients who take part in a clinical trial may receive the standard treatment or be among the first to receive a new treatment. Patients who take part in clinical trials also help improve the way cancer will be treated in the future. Even when clinical trials do not lead to effective new treatments, they often answer important questions and help move research forward. Patients can enter clinical trials before, during, or after starting their cancer treatment. Some clinical trials only include patients who have not yet received treatment. Other trials test treatments for patients whose cancer has not gotten better. There are also clinical trials that test new ways to stop cancer from recurring (coming back) or reduce the side effects of cancer treatment. Clinical trials are taking place in many parts of the country. See the Treatment Options section that follows for links to current treatment clinical trials. These have been retrieved from NCI's listing of clinical trials.\n",
            "Generated Answer: Renal cell cancer is a disease of the kidneys .\n",
            "\n",
            "Input Question: What are the stages of Chronic Myeloproliferative Neoplasms ?\n",
            "True Answer: Key Points - There is no standard staging system for chronic myeloproliferative neoplasms. There is no standard staging system for chronic myeloproliferative neoplasms. Staging is the process used to find out how far the cancer has spread. There is no standard staging system for chronic myeloproliferative neoplasms. Treatment is based on the type of myeloproliferative neoplasm the patient has. It is important to know the type in order to plan treatment.\n",
            "Generated Answer: Chronic myeloproliferative neoplasms are a group of cancers that are characterized by the presence of multiple myeloma cells .\n",
            "\n"
          ]
        }
      ]
    },
    {
      "cell_type": "markdown",
      "source": [
        "##### **BLEU score**"
      ],
      "metadata": {
        "id": "g4u6o3-e4uCY"
      }
    },
    {
      "cell_type": "code",
      "source": [
        "!pip install evaluate\n"
      ],
      "metadata": {
        "id": "mSgJwN6jVsXp",
        "outputId": "6ae440fe-ed78-4bae-fae8-a53b9b99c9f6",
        "colab": {
          "base_uri": "https://localhost:8080/"
        }
      },
      "execution_count": null,
      "outputs": [
        {
          "output_type": "stream",
          "name": "stdout",
          "text": [
            "Collecting evaluate\n",
            "  Downloading evaluate-0.4.3-py3-none-any.whl.metadata (9.2 kB)\n",
            "Requirement already satisfied: datasets>=2.0.0 in /usr/local/lib/python3.10/dist-packages (from evaluate) (3.1.0)\n",
            "Requirement already satisfied: numpy>=1.17 in /usr/local/lib/python3.10/dist-packages (from evaluate) (1.26.4)\n",
            "Requirement already satisfied: dill in /usr/local/lib/python3.10/dist-packages (from evaluate) (0.3.8)\n",
            "Requirement already satisfied: pandas in /usr/local/lib/python3.10/dist-packages (from evaluate) (2.2.2)\n",
            "Requirement already satisfied: requests>=2.19.0 in /usr/local/lib/python3.10/dist-packages (from evaluate) (2.32.3)\n",
            "Requirement already satisfied: tqdm>=4.62.1 in /usr/local/lib/python3.10/dist-packages (from evaluate) (4.66.6)\n",
            "Requirement already satisfied: xxhash in /usr/local/lib/python3.10/dist-packages (from evaluate) (3.5.0)\n",
            "Requirement already satisfied: multiprocess in /usr/local/lib/python3.10/dist-packages (from evaluate) (0.70.16)\n",
            "Requirement already satisfied: fsspec>=2021.05.0 in /usr/local/lib/python3.10/dist-packages (from fsspec[http]>=2021.05.0->evaluate) (2024.9.0)\n",
            "Requirement already satisfied: huggingface-hub>=0.7.0 in /usr/local/lib/python3.10/dist-packages (from evaluate) (0.26.2)\n",
            "Requirement already satisfied: packaging in /usr/local/lib/python3.10/dist-packages (from evaluate) (24.2)\n",
            "Requirement already satisfied: filelock in /usr/local/lib/python3.10/dist-packages (from datasets>=2.0.0->evaluate) (3.16.1)\n",
            "Requirement already satisfied: pyarrow>=15.0.0 in /usr/local/lib/python3.10/dist-packages (from datasets>=2.0.0->evaluate) (17.0.0)\n",
            "Requirement already satisfied: aiohttp in /usr/local/lib/python3.10/dist-packages (from datasets>=2.0.0->evaluate) (3.10.10)\n",
            "Requirement already satisfied: pyyaml>=5.1 in /usr/local/lib/python3.10/dist-packages (from datasets>=2.0.0->evaluate) (6.0.2)\n",
            "Requirement already satisfied: typing-extensions>=3.7.4.3 in /usr/local/lib/python3.10/dist-packages (from huggingface-hub>=0.7.0->evaluate) (4.12.2)\n",
            "Requirement already satisfied: charset-normalizer<4,>=2 in /usr/local/lib/python3.10/dist-packages (from requests>=2.19.0->evaluate) (3.4.0)\n",
            "Requirement already satisfied: idna<4,>=2.5 in /usr/local/lib/python3.10/dist-packages (from requests>=2.19.0->evaluate) (3.10)\n",
            "Requirement already satisfied: urllib3<3,>=1.21.1 in /usr/local/lib/python3.10/dist-packages (from requests>=2.19.0->evaluate) (2.2.3)\n",
            "Requirement already satisfied: certifi>=2017.4.17 in /usr/local/lib/python3.10/dist-packages (from requests>=2.19.0->evaluate) (2024.8.30)\n",
            "Requirement already satisfied: python-dateutil>=2.8.2 in /usr/local/lib/python3.10/dist-packages (from pandas->evaluate) (2.8.2)\n",
            "Requirement already satisfied: pytz>=2020.1 in /usr/local/lib/python3.10/dist-packages (from pandas->evaluate) (2024.2)\n",
            "Requirement already satisfied: tzdata>=2022.7 in /usr/local/lib/python3.10/dist-packages (from pandas->evaluate) (2024.2)\n",
            "Requirement already satisfied: aiohappyeyeballs>=2.3.0 in /usr/local/lib/python3.10/dist-packages (from aiohttp->datasets>=2.0.0->evaluate) (2.4.3)\n",
            "Requirement already satisfied: aiosignal>=1.1.2 in /usr/local/lib/python3.10/dist-packages (from aiohttp->datasets>=2.0.0->evaluate) (1.3.1)\n",
            "Requirement already satisfied: attrs>=17.3.0 in /usr/local/lib/python3.10/dist-packages (from aiohttp->datasets>=2.0.0->evaluate) (24.2.0)\n",
            "Requirement already satisfied: frozenlist>=1.1.1 in /usr/local/lib/python3.10/dist-packages (from aiohttp->datasets>=2.0.0->evaluate) (1.5.0)\n",
            "Requirement already satisfied: multidict<7.0,>=4.5 in /usr/local/lib/python3.10/dist-packages (from aiohttp->datasets>=2.0.0->evaluate) (6.1.0)\n",
            "Requirement already satisfied: yarl<2.0,>=1.12.0 in /usr/local/lib/python3.10/dist-packages (from aiohttp->datasets>=2.0.0->evaluate) (1.17.1)\n",
            "Requirement already satisfied: async-timeout<5.0,>=4.0 in /usr/local/lib/python3.10/dist-packages (from aiohttp->datasets>=2.0.0->evaluate) (4.0.3)\n",
            "Requirement already satisfied: six>=1.5 in /usr/local/lib/python3.10/dist-packages (from python-dateutil>=2.8.2->pandas->evaluate) (1.16.0)\n",
            "Requirement already satisfied: propcache>=0.2.0 in /usr/local/lib/python3.10/dist-packages (from yarl<2.0,>=1.12.0->aiohttp->datasets>=2.0.0->evaluate) (0.2.0)\n",
            "Downloading evaluate-0.4.3-py3-none-any.whl (84 kB)\n",
            "\u001b[2K   \u001b[90m━━━━━━━━━━━━━━━━━━━━━━━━━━━━━━━━━━━━━━━━\u001b[0m \u001b[32m84.0/84.0 kB\u001b[0m \u001b[31m3.7 MB/s\u001b[0m eta \u001b[36m0:00:00\u001b[0m\n",
            "\u001b[?25hInstalling collected packages: evaluate\n",
            "Successfully installed evaluate-0.4.3\n"
          ]
        }
      ]
    },
    {
      "cell_type": "code",
      "source": [
        "import torch\n",
        "from nltk.translate.bleu_score import sentence_bleu, SmoothingFunction\n",
        "\n",
        "def test_detailed_generation_with_bleu(soft_prompt_model, base_model, tokenizer, dataset, num_samples=5, max_length=200):\n",
        "    \"\"\"\n",
        "    Test the T5 model with soft prompt tuning by generating answers to healthcare questions\n",
        "    and calculate BLEU scores to evaluate the generated answers.\n",
        "\n",
        "    Args:\n",
        "    - soft_prompt_model: The model wrapper with soft prompt tuning.\n",
        "    - base_model: The underlying T5 model that performs generation.\n",
        "    - tokenizer: Tokenizer for encoding and decoding text.\n",
        "    - dataset: Dataset containing questions and answers.\n",
        "    - num_samples: Number of samples to test.\n",
        "    - max_length: Maximum length of the generated answer.\n",
        "    \"\"\"\n",
        "\n",
        "    base_model.eval()  # Set model to evaluation mode\n",
        "    device = torch.device(\"cuda\" if torch.cuda.is_available() else \"cpu\")\n",
        "    base_model.to(device)\n",
        "\n",
        "    bleu_scores = []  # List to store individual BLEU scores\n",
        "\n",
        "    for i in range(num_samples):\n",
        "        # Extract a question and true answer from the dataset\n",
        "        sample = dataset[i]\n",
        "        input_text = sample['question']\n",
        "        true_answer = sample['answer']\n",
        "\n",
        "        # Add a prompt prefix to encourage detailed responses\n",
        "        prompt_text = \"Provide a detailed medical explanation: \" + input_text\n",
        "\n",
        "        # Tokenize the prompt text\n",
        "        inputs = tokenizer(prompt_text, return_tensors=\"pt\").to(device)\n",
        "\n",
        "        # Retrieve the soft prompt embeddings from the soft_prompt_model\n",
        "        prompt_embeds = soft_prompt_model.prompt_embeddings.unsqueeze(0).expand(inputs['input_ids'].size(0), -1, -1).to(device)\n",
        "\n",
        "        # Get T5 input embeddings for the tokenized question and concatenate with soft prompts\n",
        "        input_embeddings = base_model.get_input_embeddings()(inputs['input_ids'])\n",
        "        combined_embeddings = torch.cat((prompt_embeds, input_embeddings), dim=1)\n",
        "\n",
        "        # Adjust attention mask to account for the prompt length\n",
        "        prompt_mask = torch.ones((inputs['attention_mask'].size(0), soft_prompt_model.prompt_length), device=device)\n",
        "        attention_mask = torch.cat([prompt_mask, inputs['attention_mask']], dim=1)\n",
        "\n",
        "        # Generate output with adjusted generation parameters\n",
        "        with torch.no_grad():\n",
        "            outputs = base_model.generate(\n",
        "                inputs_embeds=combined_embeddings,\n",
        "                attention_mask=attention_mask,\n",
        "                max_length=max_length,\n",
        "                temperature=0.7,\n",
        "                top_k=50,\n",
        "                top_p=0.9\n",
        "            )\n",
        "\n",
        "        # Decode the generated output\n",
        "        generated_answer = tokenizer.decode(outputs[0], skip_special_tokens=True)\n",
        "\n",
        "        # Calculate BLEU score\n",
        "        reference = [true_answer.split()]  # Reference answer tokenized into a list of words\n",
        "        hypothesis = generated_answer.split()  # Generated answer tokenized into a list of words\n",
        "        bleu_score = sentence_bleu(reference, hypothesis, smoothing_function=SmoothingFunction().method1)\n",
        "        bleu_scores.append(bleu_score)\n",
        "\n",
        "        # Display results\n",
        "        print(f\"Input Question: {input_text}\")\n",
        "        print(f\"True Answer: {true_answer}\")\n",
        "        print(f\"Generated Answer: {generated_answer}\")\n",
        "        print(f\"BLEU Score: {bleu_score}\\n\")\n",
        "\n",
        "    # Calculate the average BLEU score across all samples\n",
        "    avg_bleu_score = sum(bleu_scores) / len(bleu_scores)\n",
        "    print(f\"Average BLEU Score across {num_samples} samples: {avg_bleu_score}\")\n",
        "\n",
        "# Usage example:\n",
        "# Assuming `val_data_tokenized` is your validation dataset with question-answer pairs\n",
        "test_detailed_generation_with_bleu(soft_prompt_model, base_model, tokenizer, val_data_tokenized, num_samples=5, max_length=200)\n"
      ],
      "metadata": {
        "id": "hLJChxaQUyes",
        "outputId": "378b971e-0430-4913-bcfd-3108a607c049",
        "colab": {
          "base_uri": "https://localhost:8080/"
        }
      },
      "execution_count": null,
      "outputs": [
        {
          "output_type": "stream",
          "name": "stdout",
          "text": [
            "Input Question: What is (are) Thalassemia ?\n",
            "True Answer: Thalassemias are inherited blood disorders. If you have one, your body makes fewer healthy red blood cells and less hemoglobin. Hemoglobin is a protein that carries oxygen to the body. That leads to anemia. Thalassemias occur most often among people of Italian, Greek, Middle Eastern, Southern Asian, and African descent. Thalassemias can be mild or severe. Some people have no symptoms or mild anemia. The most common severe type in the United States is called Cooley's anemia. It usually appears during the first two years of life. People with it may have severe anemia, slowed growth and delayed puberty, and problems with the spleen, liver, heart, or bones. Doctors diagnose thalassemias using blood tests. Treatments include blood transfusions and treatment to remove excess iron from the body. If you have mild symptoms or no symptoms, you may not need treatment. In some severe cases, you may need a bone marrow transplant. NIH: National Heart, Lung, and Blood Institute\n",
            "Generated Answer: Thalassemia is a condition in which the body does not have enough red blood cells to carry oxygen and nutrients to the cells.\n",
            "BLEU Score: 0.000205858154811052\n",
            "\n",
            "Input Question: what research (or clinical trials) is being done for Diabetic Retinopathy ?\n",
            "True Answer: The National Eye Institute, or NEI, is conducting and supporting research that seeks better ways to detect, treat, and prevent vision loss in people with diabetes. This research is conducted through studies in the laboratory and with patients. For example, researchers are studying drugs for the treatment of proliferative retinopathy that may reduce the need for laser surgery.\n",
            "Generated Answer: Diabetic Retinopathy is a condition in which the retina is damaged by damage to the blood vessels.\n",
            "BLEU Score: 0.0016140785255282452\n",
            "\n",
            "Input Question: What is the outlook for Childhood Central Nervous System Germ Cell Tumors ?\n",
            "True Answer: Certain factors affect prognosis (chance of recovery). The prognosis (chance of recovery) depends on the following: - The type of germ cell tumor. - The type and level of any tumor markers. - Where the tumor is in the brain or in the spinal cord. - Whether the cancer has spread within the brain and spinal cord or to other parts of the body. - Whether the tumor is newly diagnosed or has recurred (come back) after treatment.\n",
            "Generated Answer: Childhood Central Nervous System Germ Cell Tumors are rare and usually develop in childhood.\n",
            "BLEU Score: 0.00017569118259751015\n",
            "\n",
            "Input Question: what research (or clinical trials) is being done for Renal Cell Cancer ?\n",
            "True Answer: New types of treatment are being tested in clinical trials. Information about clinical trials is available from the NCI website. Patients may want to think about taking part in a clinical trial. For some patients, taking part in a clinical trial may be the best treatment choice. Clinical trials are part of the cancer research process. Clinical trials are done to find out if new cancer treatments are safe and effective or better than the standard treatment. Many of today's standard treatments for cancer are based on earlier clinical trials. Patients who take part in a clinical trial may receive the standard treatment or be among the first to receive a new treatment. Patients who take part in clinical trials also help improve the way cancer will be treated in the future. Even when clinical trials do not lead to effective new treatments, they often answer important questions and help move research forward. Patients can enter clinical trials before, during, or after starting their cancer treatment. Some clinical trials only include patients who have not yet received treatment. Other trials test treatments for patients whose cancer has not gotten better. There are also clinical trials that test new ways to stop cancer from recurring (coming back) or reduce the side effects of cancer treatment. Clinical trials are taking place in many parts of the country. See the Treatment Options section that follows for links to current treatment clinical trials. These have been retrieved from NCI's listing of clinical trials.\n",
            "Generated Answer: Renal cell cancer is a disease of the kidneys .\n",
            "BLEU Score: 2.3415139498374413e-12\n",
            "\n",
            "Input Question: What are the stages of Chronic Myeloproliferative Neoplasms ?\n",
            "True Answer: Key Points - There is no standard staging system for chronic myeloproliferative neoplasms. There is no standard staging system for chronic myeloproliferative neoplasms. Staging is the process used to find out how far the cancer has spread. There is no standard staging system for chronic myeloproliferative neoplasms. Treatment is based on the type of myeloproliferative neoplasm the patient has. It is important to know the type in order to plan treatment.\n",
            "Generated Answer: Chronic myeloproliferative neoplasms are a group of cancers that are characterized by the presence of multiple myeloma cells .\n",
            "BLEU Score: 0.0008680328020122081\n",
            "\n",
            "Average BLEU Score across 5 samples: 0.000572732133458106\n"
          ]
        }
      ]
    },
    {
      "cell_type": "markdown",
      "source": [
        "##### **ROUGE score**"
      ],
      "metadata": {
        "id": "pPpuaNPg4z8K"
      }
    },
    {
      "cell_type": "code",
      "source": [
        "!pip install rouge_score"
      ],
      "metadata": {
        "id": "85qunJMAV0S1",
        "outputId": "61d72b6e-a108-4dba-90ae-c2ef6fcab0de",
        "colab": {
          "base_uri": "https://localhost:8080/"
        }
      },
      "execution_count": null,
      "outputs": [
        {
          "output_type": "stream",
          "name": "stdout",
          "text": [
            "Collecting rouge_score\n",
            "  Downloading rouge_score-0.1.2.tar.gz (17 kB)\n",
            "  Preparing metadata (setup.py) ... \u001b[?25l\u001b[?25hdone\n",
            "Requirement already satisfied: absl-py in /usr/local/lib/python3.10/dist-packages (from rouge_score) (1.4.0)\n",
            "Requirement already satisfied: nltk in /usr/local/lib/python3.10/dist-packages (from rouge_score) (3.9.1)\n",
            "Requirement already satisfied: numpy in /usr/local/lib/python3.10/dist-packages (from rouge_score) (1.26.4)\n",
            "Requirement already satisfied: six>=1.14.0 in /usr/local/lib/python3.10/dist-packages (from rouge_score) (1.16.0)\n",
            "Requirement already satisfied: click in /usr/local/lib/python3.10/dist-packages (from nltk->rouge_score) (8.1.7)\n",
            "Requirement already satisfied: joblib in /usr/local/lib/python3.10/dist-packages (from nltk->rouge_score) (1.4.2)\n",
            "Requirement already satisfied: regex>=2021.8.3 in /usr/local/lib/python3.10/dist-packages (from nltk->rouge_score) (2024.9.11)\n",
            "Requirement already satisfied: tqdm in /usr/local/lib/python3.10/dist-packages (from nltk->rouge_score) (4.66.6)\n",
            "Building wheels for collected packages: rouge_score\n",
            "  Building wheel for rouge_score (setup.py) ... \u001b[?25l\u001b[?25hdone\n",
            "  Created wheel for rouge_score: filename=rouge_score-0.1.2-py3-none-any.whl size=24935 sha256=b1e9a83db7aa94dcc9d12787167be49373070c9440fef4b305434c6a046a52c0\n",
            "  Stored in directory: /root/.cache/pip/wheels/5f/dd/89/461065a73be61a532ff8599a28e9beef17985c9e9c31e541b4\n",
            "Successfully built rouge_score\n",
            "Installing collected packages: rouge_score\n",
            "Successfully installed rouge_score-0.1.2\n"
          ]
        }
      ]
    },
    {
      "cell_type": "code",
      "source": [
        "import torch\n",
        "from transformers import pipeline\n",
        "from evaluate import load\n",
        "\n",
        "# Load the ROUGE metric\n",
        "rouge = load(\"rouge\")\n",
        "\n",
        "def test_detailed_generation_with_rouge(soft_prompt_model, base_model, tokenizer, dataset, num_samples=5, max_length=200):\n",
        "    \"\"\"\n",
        "    Test the T5 model with soft prompt tuning by generating answers to healthcare questions\n",
        "    and calculate ROUGE scores to evaluate the generated answers.\n",
        "\n",
        "    Args:\n",
        "    - soft_prompt_model: The model wrapper with soft prompt tuning.\n",
        "    - base_model: The underlying T5 model that performs generation.\n",
        "    - tokenizer: Tokenizer for encoding and decoding text.\n",
        "    - dataset: Dataset containing questions and answers.\n",
        "    - num_samples: Number of samples to test.\n",
        "    - max_length: Maximum length of the generated answer.\n",
        "    \"\"\"\n",
        "\n",
        "    base_model.eval()  # Set model to evaluation mode\n",
        "    device = torch.device(\"cuda\" if torch.cuda.is_available() else \"cpu\")\n",
        "    base_model.to(device)\n",
        "\n",
        "    # Lists to store generated answers and true answers for ROUGE calculation\n",
        "    generated_answers = []\n",
        "    true_answers = []\n",
        "\n",
        "    for i in range(num_samples):\n",
        "        # Extract a question and true answer from the dataset\n",
        "        sample = dataset[i]\n",
        "        input_text = sample['question']\n",
        "        true_answer = sample['answer']\n",
        "\n",
        "        # Add a prompt prefix to encourage detailed responses\n",
        "        prompt_text = \"Provide a detailed medical explanation: \" + input_text\n",
        "\n",
        "        # Tokenize the prompt text\n",
        "        inputs = tokenizer(prompt_text, return_tensors=\"pt\").to(device)\n",
        "\n",
        "        # Retrieve the soft prompt embeddings from the soft_prompt_model\n",
        "        prompt_embeds = soft_prompt_model.prompt_embeddings.unsqueeze(0).expand(inputs['input_ids'].size(0), -1, -1).to(device)\n",
        "\n",
        "        # Get T5 input embeddings for the tokenized question and concatenate with soft prompts\n",
        "        input_embeddings = base_model.get_input_embeddings()(inputs['input_ids'])\n",
        "        combined_embeddings = torch.cat((prompt_embeds, input_embeddings), dim=1)\n",
        "\n",
        "        # Adjust attention mask to account for the prompt length\n",
        "        prompt_mask = torch.ones((inputs['attention_mask'].size(0), soft_prompt_model.prompt_length), device=device)\n",
        "        attention_mask = torch.cat([prompt_mask, inputs['attention_mask']], dim=1)\n",
        "\n",
        "        # Generate output with adjusted generation parameters\n",
        "        with torch.no_grad():\n",
        "            outputs = base_model.generate(\n",
        "                inputs_embeds=combined_embeddings,\n",
        "                attention_mask=attention_mask,\n",
        "                max_length=max_length,\n",
        "                temperature=0.7,\n",
        "                top_k=50,\n",
        "                top_p=0.9\n",
        "            )\n",
        "\n",
        "        # Decode the generated output\n",
        "        generated_answer = tokenizer.decode(outputs[0], skip_special_tokens=True)\n",
        "\n",
        "        # Store answers for ROUGE score calculation\n",
        "        generated_answers.append(generated_answer)\n",
        "        true_answers.append(true_answer)\n",
        "\n",
        "        # Display results\n",
        "        print(f\"Input Question: {input_text}\")\n",
        "        print(f\"True Answer: {true_answer}\")\n",
        "        print(f\"Generated Answer: {generated_answer}\\n\")\n",
        "\n",
        "    # Calculate ROUGE scores\n",
        "    results = rouge.compute(predictions=generated_answers, references=true_answers)\n",
        "    print(\"ROUGE Scores:\")\n",
        "    print(f\"ROUGE-1: {results['rouge1']}\")\n",
        "    print(f\"ROUGE-2: {results['rouge2']}\")\n",
        "    print(f\"ROUGE-L: {results['rougeL']}\")\n",
        "\n",
        "# Usage example:\n",
        "# Assuming `val_data_tokenized` is your validation dataset with question-answer pairs\n",
        "test_detailed_generation_with_rouge(soft_prompt_model, base_model, tokenizer, val_data_tokenized, num_samples=5, max_length=200)\n"
      ],
      "metadata": {
        "id": "DI-sPCwoU3_d",
        "outputId": "5e8e54e7-f1d6-4050-81f3-475c27cdca04",
        "colab": {
          "base_uri": "https://localhost:8080/"
        }
      },
      "execution_count": null,
      "outputs": [
        {
          "output_type": "stream",
          "name": "stdout",
          "text": [
            "Input Question: What is (are) Thalassemia ?\n",
            "True Answer: Thalassemias are inherited blood disorders. If you have one, your body makes fewer healthy red blood cells and less hemoglobin. Hemoglobin is a protein that carries oxygen to the body. That leads to anemia. Thalassemias occur most often among people of Italian, Greek, Middle Eastern, Southern Asian, and African descent. Thalassemias can be mild or severe. Some people have no symptoms or mild anemia. The most common severe type in the United States is called Cooley's anemia. It usually appears during the first two years of life. People with it may have severe anemia, slowed growth and delayed puberty, and problems with the spleen, liver, heart, or bones. Doctors diagnose thalassemias using blood tests. Treatments include blood transfusions and treatment to remove excess iron from the body. If you have mild symptoms or no symptoms, you may not need treatment. In some severe cases, you may need a bone marrow transplant. NIH: National Heart, Lung, and Blood Institute\n",
            "Generated Answer: Thalassemia is a condition in which the body does not have enough red blood cells to carry oxygen and nutrients to the cells.\n",
            "\n",
            "Input Question: what research (or clinical trials) is being done for Diabetic Retinopathy ?\n",
            "True Answer: The National Eye Institute, or NEI, is conducting and supporting research that seeks better ways to detect, treat, and prevent vision loss in people with diabetes. This research is conducted through studies in the laboratory and with patients. For example, researchers are studying drugs for the treatment of proliferative retinopathy that may reduce the need for laser surgery.\n",
            "Generated Answer: Diabetic Retinopathy is a condition in which the retina is damaged by damage to the blood vessels.\n",
            "\n",
            "Input Question: What is the outlook for Childhood Central Nervous System Germ Cell Tumors ?\n",
            "True Answer: Certain factors affect prognosis (chance of recovery). The prognosis (chance of recovery) depends on the following: - The type of germ cell tumor. - The type and level of any tumor markers. - Where the tumor is in the brain or in the spinal cord. - Whether the cancer has spread within the brain and spinal cord or to other parts of the body. - Whether the tumor is newly diagnosed or has recurred (come back) after treatment.\n",
            "Generated Answer: Childhood Central Nervous System Germ Cell Tumors are rare and usually develop in childhood.\n",
            "\n",
            "Input Question: what research (or clinical trials) is being done for Renal Cell Cancer ?\n",
            "True Answer: New types of treatment are being tested in clinical trials. Information about clinical trials is available from the NCI website. Patients may want to think about taking part in a clinical trial. For some patients, taking part in a clinical trial may be the best treatment choice. Clinical trials are part of the cancer research process. Clinical trials are done to find out if new cancer treatments are safe and effective or better than the standard treatment. Many of today's standard treatments for cancer are based on earlier clinical trials. Patients who take part in a clinical trial may receive the standard treatment or be among the first to receive a new treatment. Patients who take part in clinical trials also help improve the way cancer will be treated in the future. Even when clinical trials do not lead to effective new treatments, they often answer important questions and help move research forward. Patients can enter clinical trials before, during, or after starting their cancer treatment. Some clinical trials only include patients who have not yet received treatment. Other trials test treatments for patients whose cancer has not gotten better. There are also clinical trials that test new ways to stop cancer from recurring (coming back) or reduce the side effects of cancer treatment. Clinical trials are taking place in many parts of the country. See the Treatment Options section that follows for links to current treatment clinical trials. These have been retrieved from NCI's listing of clinical trials.\n",
            "Generated Answer: Renal cell cancer is a disease of the kidneys .\n",
            "\n",
            "Input Question: What are the stages of Chronic Myeloproliferative Neoplasms ?\n",
            "True Answer: Key Points - There is no standard staging system for chronic myeloproliferative neoplasms. There is no standard staging system for chronic myeloproliferative neoplasms. Staging is the process used to find out how far the cancer has spread. There is no standard staging system for chronic myeloproliferative neoplasms. Treatment is based on the type of myeloproliferative neoplasm the patient has. It is important to know the type in order to plan treatment.\n",
            "Generated Answer: Chronic myeloproliferative neoplasms are a group of cancers that are characterized by the presence of multiple myeloma cells .\n",
            "\n",
            "ROUGE Scores:\n",
            "ROUGE-1: 0.11911075131764788\n",
            "ROUGE-2: 0.026669706642346865\n",
            "ROUGE-L: 0.08839000080379392\n"
          ]
        }
      ]
    },
    {
      "cell_type": "markdown",
      "source": [
        "##### **Perplexity**"
      ],
      "metadata": {
        "id": "ftQm4Mno5Or3"
      }
    },
    {
      "cell_type": "code",
      "source": [
        "def test_detailed_generation_with_perplexity_and_answer(soft_prompt_model, base_model, tokenizer, dataset, num_samples=5, max_length=200):\n",
        "    base_model.eval()\n",
        "    device = torch.device(\"cuda\" if torch.cuda.is_available() else \"cpu\")\n",
        "    base_model.to(device)\n",
        "\n",
        "    perplexities = []\n",
        "    generated_answers = []\n",
        "    true_answers = []\n",
        "\n",
        "    for i in range(num_samples):\n",
        "        sample = dataset[i]\n",
        "        input_text = sample['question']\n",
        "        true_answer = sample['answer']\n",
        "\n",
        "        # Add prompt\n",
        "        prompt_text = \"Provide a detailed medical explanation: \" + input_text\n",
        "        inputs = tokenizer(prompt_text, return_tensors=\"pt\").to(device)\n",
        "        target = tokenizer(true_answer, return_tensors=\"pt\").input_ids.to(device)\n",
        "\n",
        "        prompt_embeds = soft_prompt_model.prompt_embeddings.unsqueeze(0).expand(inputs['input_ids'].size(0), -1, -1).to(device)\n",
        "        input_embeddings = base_model.get_input_embeddings()(inputs['input_ids'])\n",
        "        combined_embeddings = torch.cat((prompt_embeds, input_embeddings), dim=1)\n",
        "\n",
        "        prompt_mask = torch.ones((inputs['attention_mask'].size(0), soft_prompt_model.prompt_length), device=device)\n",
        "        attention_mask = torch.cat([prompt_mask, inputs['attention_mask']], dim=1)\n",
        "\n",
        "        # Calculate loss for perplexity\n",
        "        with torch.no_grad():\n",
        "            outputs = base_model(input_ids=inputs['input_ids'], labels=target)\n",
        "            loss = outputs.loss.item()\n",
        "\n",
        "        perplexity = math.exp(loss)\n",
        "        perplexities.append(perplexity)\n",
        "\n",
        "        # Generate an answer\n",
        "        with torch.no_grad():\n",
        "            generated_output = base_model.generate(\n",
        "                inputs_embeds=combined_embeddings,\n",
        "                attention_mask=attention_mask,\n",
        "                max_length=max_length,\n",
        "                temperature=0.7,\n",
        "                top_k=50,\n",
        "                top_p=0.9\n",
        "            )\n",
        "            generated_answer = tokenizer.decode(generated_output[0], skip_special_tokens=True)\n",
        "            generated_answers.append(generated_answer)\n",
        "            true_answers.append(true_answer)\n",
        "\n",
        "        # Display results\n",
        "        print(f\"Input Question: {input_text}\")\n",
        "        print(f\"True Answer: {true_answer}\")\n",
        "        print(f\"Generated Answer: {generated_answer}\")\n",
        "        print(f\"Perplexity: {perplexity}\\n\")\n",
        "\n",
        "    # Average perplexity\n",
        "    avg_perplexity = sum(perplexities) / len(perplexities)\n",
        "    print(\"Average Perplexity:\", avg_perplexity)\n",
        "\n",
        "# Usage\n",
        "test_detailed_generation_with_perplexity_and_answer(soft_prompt_model, base_model, tokenizer, val_data_tokenized, num_samples=5, max_length=200)\n"
      ],
      "metadata": {
        "id": "LD0j17zmV55H",
        "outputId": "b02ab9fb-4b8b-4324-b00d-71639c24cce8",
        "colab": {
          "base_uri": "https://localhost:8080/"
        }
      },
      "execution_count": null,
      "outputs": [
        {
          "output_type": "stream",
          "name": "stdout",
          "text": [
            "Input Question: What is (are) Thalassemia ?\n",
            "True Answer: Thalassemias are inherited blood disorders. If you have one, your body makes fewer healthy red blood cells and less hemoglobin. Hemoglobin is a protein that carries oxygen to the body. That leads to anemia. Thalassemias occur most often among people of Italian, Greek, Middle Eastern, Southern Asian, and African descent. Thalassemias can be mild or severe. Some people have no symptoms or mild anemia. The most common severe type in the United States is called Cooley's anemia. It usually appears during the first two years of life. People with it may have severe anemia, slowed growth and delayed puberty, and problems with the spleen, liver, heart, or bones. Doctors diagnose thalassemias using blood tests. Treatments include blood transfusions and treatment to remove excess iron from the body. If you have mild symptoms or no symptoms, you may not need treatment. In some severe cases, you may need a bone marrow transplant. NIH: National Heart, Lung, and Blood Institute\n",
            "Generated Answer: Thalassemia is a condition in which the body does not have enough red blood cells to carry oxygen and nutrients to the cells.\n",
            "Perplexity: 7.606480038935786\n",
            "\n",
            "Input Question: what research (or clinical trials) is being done for Diabetic Retinopathy ?\n",
            "True Answer: The National Eye Institute, or NEI, is conducting and supporting research that seeks better ways to detect, treat, and prevent vision loss in people with diabetes. This research is conducted through studies in the laboratory and with patients. For example, researchers are studying drugs for the treatment of proliferative retinopathy that may reduce the need for laser surgery.\n",
            "Generated Answer: Diabetic Retinopathy is a condition in which the retina is damaged by damage to the blood vessels.\n",
            "Perplexity: 10.215371003161884\n",
            "\n",
            "Input Question: What is the outlook for Childhood Central Nervous System Germ Cell Tumors ?\n",
            "True Answer: Certain factors affect prognosis (chance of recovery). The prognosis (chance of recovery) depends on the following: - The type of germ cell tumor. - The type and level of any tumor markers. - Where the tumor is in the brain or in the spinal cord. - Whether the cancer has spread within the brain and spinal cord or to other parts of the body. - Whether the tumor is newly diagnosed or has recurred (come back) after treatment.\n",
            "Generated Answer: Childhood Central Nervous System Germ Cell Tumors are rare and usually develop in childhood.\n",
            "Perplexity: 8.258508178087476\n",
            "\n",
            "Input Question: what research (or clinical trials) is being done for Renal Cell Cancer ?\n",
            "True Answer: New types of treatment are being tested in clinical trials. Information about clinical trials is available from the NCI website. Patients may want to think about taking part in a clinical trial. For some patients, taking part in a clinical trial may be the best treatment choice. Clinical trials are part of the cancer research process. Clinical trials are done to find out if new cancer treatments are safe and effective or better than the standard treatment. Many of today's standard treatments for cancer are based on earlier clinical trials. Patients who take part in a clinical trial may receive the standard treatment or be among the first to receive a new treatment. Patients who take part in clinical trials also help improve the way cancer will be treated in the future. Even when clinical trials do not lead to effective new treatments, they often answer important questions and help move research forward. Patients can enter clinical trials before, during, or after starting their cancer treatment. Some clinical trials only include patients who have not yet received treatment. Other trials test treatments for patients whose cancer has not gotten better. There are also clinical trials that test new ways to stop cancer from recurring (coming back) or reduce the side effects of cancer treatment. Clinical trials are taking place in many parts of the country. See the Treatment Options section that follows for links to current treatment clinical trials. These have been retrieved from NCI's listing of clinical trials.\n",
            "Generated Answer: Renal cell cancer is a disease of the kidneys .\n",
            "Perplexity: 10.508202705884676\n",
            "\n",
            "Input Question: What are the stages of Chronic Myeloproliferative Neoplasms ?\n",
            "True Answer: Key Points - There is no standard staging system for chronic myeloproliferative neoplasms. There is no standard staging system for chronic myeloproliferative neoplasms. Staging is the process used to find out how far the cancer has spread. There is no standard staging system for chronic myeloproliferative neoplasms. Treatment is based on the type of myeloproliferative neoplasm the patient has. It is important to know the type in order to plan treatment.\n",
            "Generated Answer: Chronic myeloproliferative neoplasms are a group of cancers that are characterized by the presence of multiple myeloma cells .\n",
            "Perplexity: 3.6724060750375584\n",
            "\n",
            "Average Perplexity: 8.052193600221475\n"
          ]
        }
      ]
    },
    {
      "cell_type": "markdown",
      "source": [
        "####Comparison Between The different Types of training"
      ],
      "metadata": {
        "id": "rAfjOyfKJquA"
      }
    },
    {
      "cell_type": "markdown",
      "source": [
        "![image.png](data:image/png;base64,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)"
      ],
      "metadata": {
        "id": "1gOMBSvr8WD4"
      }
    },
    {
      "cell_type": "markdown",
      "source": [
        "# Fine-Tuning ILLAMA Model:"
      ],
      "metadata": {
        "id": "-Sq_-UalgiKf"
      }
    },
    {
      "cell_type": "markdown",
      "source": [
        "##Load the Model and Strat Training"
      ],
      "metadata": {
        "id": "svyeXs0H_eve"
      }
    },
    {
      "cell_type": "code",
      "source": [
        "model_id = \"genaitraining/llama-2-7b-domain-tuned\""
      ],
      "metadata": {
        "id": "MdtZxWBvUaXm"
      },
      "execution_count": null,
      "outputs": []
    },
    {
      "cell_type": "code",
      "source": [
        "!huggingface-cli login"
      ],
      "metadata": {
        "id": "R4D3aprMUf3M",
        "colab": {
          "base_uri": "https://localhost:8080/"
        },
        "outputId": "41db3705-3103-4b7e-c73b-c38818554320"
      },
      "execution_count": null,
      "outputs": [
        {
          "output_type": "stream",
          "name": "stdout",
          "text": [
            "\n",
            "    _|    _|  _|    _|    _|_|_|    _|_|_|  _|_|_|  _|      _|    _|_|_|      _|_|_|_|    _|_|      _|_|_|  _|_|_|_|\n",
            "    _|    _|  _|    _|  _|        _|          _|    _|_|    _|  _|            _|        _|    _|  _|        _|\n",
            "    _|_|_|_|  _|    _|  _|  _|_|  _|  _|_|    _|    _|  _|  _|  _|  _|_|      _|_|_|    _|_|_|_|  _|        _|_|_|\n",
            "    _|    _|  _|    _|  _|    _|  _|    _|    _|    _|    _|_|  _|    _|      _|        _|    _|  _|        _|\n",
            "    _|    _|    _|_|      _|_|_|    _|_|_|  _|_|_|  _|      _|    _|_|_|      _|        _|    _|    _|_|_|  _|_|_|_|\n",
            "    \n",
            "    To login, `huggingface_hub` requires a token generated from https://huggingface.co/settings/tokens .\n",
            "Token: \n",
            "Add token as git credential? (Y/n) n\n",
            "Token is valid (permission: fineGrained).\n",
            "Your token has been saved to /root/.cache/huggingface/token\n",
            "Login successful\n"
          ]
        }
      ]
    },
    {
      "cell_type": "code",
      "source": [
        "# Get the type\n",
        "compute_dtype = getattr(torch, \"float16\")\n",
        "\n",
        "# BitsAndBytesConfig int-4 config\n",
        "bnb_config = BitsAndBytesConfig(\n",
        "    load_in_4bit=True,\n",
        "    bnb_4bit_use_double_quant=False,\n",
        "    bnb_4bit_quant_type=\"nf4\",\n",
        "    bnb_4bit_compute_dtype=compute_dtype\n",
        ")\n"
      ],
      "metadata": {
        "id": "5-OL7AW-xE_r"
      },
      "execution_count": null,
      "outputs": []
    },
    {
      "cell_type": "code",
      "source": [
        "%%time\n",
        "# Load the tokenizer\n",
        "tokenizer = AutoTokenizer.from_pretrained(model_id, trust_remote_code=True)\n",
        "tokenizer.pad_token = tokenizer.eos_token\n",
        "tokenizer.padding_side = \"right\""
      ],
      "metadata": {
        "id": "BSa6kxamqurB",
        "colab": {
          "base_uri": "https://localhost:8080/",
          "height": 149,
          "referenced_widgets": [
            "91c654232115415a9178d8760b02254b",
            "4b5235ef3e3841b9bf61fbcf9274d769",
            "6b2a298b7d9d47ce8c5fd79c4002e5f6",
            "40667746965c4f86b0d8c34e19e9df4a",
            "da4021f417034fb6b565792cb1b37cbd",
            "c119b89325c441a886c7c7e02e313414",
            "f2c2d9f3400547f1ba2273538a15be87",
            "368358145ac048949509707dc2759f3a",
            "b387329aff3a49f48acb4f7dbee88194",
            "26eeb08da3bc4bd4adcef0ce828cb71b",
            "9557302d961a4c4f8128da945f4b3778",
            "041948f010ca48db8f0d9432ea5cda16",
            "8288845740c841b9ba98b2e396366543",
            "d656a52769114479af0dc07c6583b221",
            "02ea30e1145349bc804673c7f0eb510c",
            "dd236edfc7c14cf99eeebf2b11e740a2",
            "eff953302ba0418e82a9eee20b8216c6",
            "b831ff1b99f24cec8a2c1b7483462f8e",
            "35797af4774e438a9f3da838d9726d0c",
            "d9d1b53d0d2d495bbde951d1acd157b3",
            "ec520e37bfb24e6a969e2d0921d38455",
            "6927b5115634408e816e7421db29048d",
            "a3dc6084186c4521b4186c1fbbd8a28c",
            "57ffd1f744144ac3a70ac77465896d65",
            "9bc74c1eee03464aad43f73f41ed0b62",
            "e9cb4c3e1c8a483cb9cd76cfe747ea88",
            "81e86e6646bb4755ba20efeb98724774",
            "5ead3047c8054567905679e73d950f23",
            "9a8195f195a04348bbde2c2906be809d",
            "550ee75235744d15b96f7b62f0c60d46",
            "b3adfeaa36344144abac52b6d12e78aa",
            "1f2c088c96004f6c9c515a612261210d",
            "77eb618e3fb34bef8227d3ccc1ac9ac6"
          ]
        },
        "outputId": "f1b5affa-d29b-47fa-830a-9ca831c809cc"
      },
      "execution_count": null,
      "outputs": [
        {
          "output_type": "display_data",
          "data": {
            "text/plain": [
              "Downloading tokenizer_config.json:   0%|          | 0.00/1.71k [00:00<?, ?B/s]"
            ],
            "application/vnd.jupyter.widget-view+json": {
              "version_major": 2,
              "version_minor": 0,
              "model_id": "91c654232115415a9178d8760b02254b"
            }
          },
          "metadata": {}
        },
        {
          "output_type": "display_data",
          "data": {
            "text/plain": [
              "Downloading tokenizer.json:   0%|          | 0.00/1.84M [00:00<?, ?B/s]"
            ],
            "application/vnd.jupyter.widget-view+json": {
              "version_major": 2,
              "version_minor": 0,
              "model_id": "041948f010ca48db8f0d9432ea5cda16"
            }
          },
          "metadata": {}
        },
        {
          "output_type": "display_data",
          "data": {
            "text/plain": [
              "Downloading (…)cial_tokens_map.json:   0%|          | 0.00/437 [00:00<?, ?B/s]"
            ],
            "application/vnd.jupyter.widget-view+json": {
              "version_major": 2,
              "version_minor": 0,
              "model_id": "a3dc6084186c4521b4186c1fbbd8a28c"
            }
          },
          "metadata": {}
        },
        {
          "output_type": "stream",
          "name": "stdout",
          "text": [
            "CPU times: user 183 ms, sys: 35.9 ms, total: 219 ms\n",
            "Wall time: 1.4 s\n"
          ]
        }
      ]
    },
    {
      "cell_type": "code",
      "source": [
        "%%time\n",
        "# Load the pretrained model\n",
        "model = AutoModelForCausalLM.from_pretrained(model_id,\n",
        "                                             quantization_config=bnb_config,\n",
        "                                             device_map=\"auto\")"
      ],
      "metadata": {
        "id": "d_GhlJY7wnn6",
        "colab": {
          "base_uri": "https://localhost:8080/",
          "height": 309,
          "referenced_widgets": [
            "fd8e41d3b0c4466d9dfca1538f8058f3",
            "1898d82b1bc7483cbf5fffa06279b871",
            "f41129c7cd1e42b0a949cfdbeb7946fe",
            "bd5d32e24eaf439694eb91ec7092e0fc",
            "b22a0036b1724a24ab5cecf9ae9dba09",
            "8dc906681ced41b5a9d161412811a4ae",
            "3483485d69f549879a7b6923e7f42f65",
            "91a342dd6f274823b351843a1e40154d",
            "ecb348ee5d584f26bf8be695b8037a88",
            "d655a5ef857a4cae84448f09bc7a49e6",
            "d8bab254145743bc95fe7cb885cc4081",
            "fbde1998f4ea439f9ebeaa22bbad5061",
            "8074c013318e4936b7e0437de1c58ce9",
            "ec9a8a7dd23b4da1b1837acc01bffcd6",
            "1450ff0bfa51428f893e856553446104",
            "795d89a33ae0403ba02d78eef0e7f2a2",
            "0bf9fec2601b40dbb5df837153c8f323",
            "b862658f82c04821988cb69fe61c10a3",
            "424e16639ad04be0b4d132044cd44976",
            "7dea9e8e593d47afbc03efb6ea68dd96",
            "a8e95af9af9c461f8c8579412777436b",
            "3d90163d249245c9bbf3ead0a984f2e6",
            "744f3d26250e400e992070490a89a433",
            "c4f03f277aac4b278c3b51a19c1c75bd",
            "66a4c625edd1461bbba05a48022e8413",
            "3f1a203a10b64d0caa3c794554cdcc7e",
            "0d208181d1084a6f817a3992bb2ebe2f",
            "4d7c775573614b0ea7bef0ee96002ac4",
            "451d35309f854f28b0978d5d15c5f80a",
            "3beb8e4e59f242f5aad49d6becac1608",
            "e806156b7b934e35adffa7ec5c62bfba",
            "700303cfdb8246288be968333fb2dcb9",
            "33fe1d27b4ea46ed9a8232a4040cb37d",
            "480000d9293c4d59a55369afc7e88bfc",
            "23f2b895430d40dabab4abb87fa50e9f",
            "cfc4acac2cdf4c9fb4ca6846c576117f",
            "697db243d6984d3298ff15bf30c902aa",
            "228ca57764244058a078a7f3ecb2f6c1",
            "56ebeb9b4caa4fa48b84aa90d057a01d",
            "2ed3c1c32a0f4a14a46f02e335f626ac",
            "6dd08104d5b3488e877f3da5cb62ad00",
            "902048af13844e0681aefdb63dce28bc",
            "ff73b965861e45f7a9b4a1a0690c0b77",
            "40daee7adafe452b8cfa9ddc4a387b0f",
            "6df6fd06eea94712a068f3f8689406c5",
            "eff4c40c875745199ccf9dee42c94259",
            "8d784a68594248729a7e0d86846a2692",
            "b54c495a853644708732489e98103317",
            "5f28ee9692d44199bfad2119c14251fb",
            "53ac9d4540f14fabaed507ee4bd0b0ad",
            "f42916df60e54de282aae2d20adf5134",
            "0f0456eea7d44c9e8452e355e29a7b0e",
            "fb4b681be6134ed294fa7cdaaf84aabe",
            "4570991680304ca7ade275b48b29b771",
            "ceb2b01ba18f418990697b6acbdacdfc",
            "bd401fb1116c43c79d0850f872154a38",
            "a4c974c3cea74519a9504c18b7f64866",
            "bb473b069a794f888ab50b1d687b84e7",
            "3532afe280bc4026a67c88455510a7a5",
            "b78d5c553da24c1d9288ca0dc3f7b1ab",
            "90def104b6904921b8ffc9b87f8dc5f1",
            "a5392b72821d4b769c55593d564e5a17",
            "f150f2b10794469f86611b0cc6d6b7fd",
            "8e540641aec642719c6b936a5d57cd1b",
            "0f58fa84cb684e268b7f4c99a41b7dac",
            "fd99687297a54aec988dff208bb86828",
            "91baf83770ee4c599c409e45e2ab4b65",
            "3fb81b59d774451b94793a4cc9fb2028",
            "3e165c71db1442d4859782f8f4e2f0e2",
            "5691d4b2d6be4d2493b88b0b2327b50a",
            "c634d7bb5fc34cc78d69cbb9d4552993",
            "a56b186bbe9442e294df29d17b490088",
            "65cf933c5a9a4339a0fffafa20ab8716",
            "1ebb982edbf64f3a8cafcbfc25daaf41",
            "96a8ff6cc12d435f9d7bb61391c9bc92",
            "6ccc3efa2c304769966330bc5fdf7ca1",
            "13c35a5ad86b4d8e9fb0b6d67f3bca46",
            "2552ba28e01c460f823fa4dfe702c99b",
            "ad291e2f48ec4ad198a68b2c0cb38b29",
            "e1328c6349cf49c9953c04471349e33a",
            "f877a556a0434f1c8f91616ad2e99ec3",
            "a33da3a11c164ca9b198b92389d14f77",
            "023716b93df44fa9bc3a9da490ffbe6c",
            "f3c069fbd70645eaa77c0762f5a2842d",
            "7934d4f2499c4e58afebaaee3f0deba9",
            "b5d86c249bff4cc19d480ef0764b0eac",
            "783f449f21884787bc6390771b188b48",
            "cfadacdf0a354bf39757ae72b5941f65"
          ]
        },
        "outputId": "bcc235e4-d241-4175-86e6-bf155aceffd6"
      },
      "execution_count": null,
      "outputs": [
        {
          "output_type": "display_data",
          "data": {
            "text/plain": [
              "Downloading config.json:   0%|          | 0.00/661 [00:00<?, ?B/s]"
            ],
            "application/vnd.jupyter.widget-view+json": {
              "version_major": 2,
              "version_minor": 0,
              "model_id": "fd8e41d3b0c4466d9dfca1538f8058f3"
            }
          },
          "metadata": {}
        },
        {
          "output_type": "display_data",
          "data": {
            "text/plain": [
              "Downloading (…)fetensors.index.json:   0%|          | 0.00/23.9k [00:00<?, ?B/s]"
            ],
            "application/vnd.jupyter.widget-view+json": {
              "version_major": 2,
              "version_minor": 0,
              "model_id": "fbde1998f4ea439f9ebeaa22bbad5061"
            }
          },
          "metadata": {}
        },
        {
          "output_type": "display_data",
          "data": {
            "text/plain": [
              "Downloading shards:   0%|          | 0/3 [00:00<?, ?it/s]"
            ],
            "application/vnd.jupyter.widget-view+json": {
              "version_major": 2,
              "version_minor": 0,
              "model_id": "744f3d26250e400e992070490a89a433"
            }
          },
          "metadata": {}
        },
        {
          "output_type": "display_data",
          "data": {
            "text/plain": [
              "Downloading (…)of-00003.safetensors:   0%|          | 0.00/4.94G [00:00<?, ?B/s]"
            ],
            "application/vnd.jupyter.widget-view+json": {
              "version_major": 2,
              "version_minor": 0,
              "model_id": "480000d9293c4d59a55369afc7e88bfc"
            }
          },
          "metadata": {}
        },
        {
          "output_type": "display_data",
          "data": {
            "text/plain": [
              "Downloading (…)of-00003.safetensors:   0%|          | 0.00/4.95G [00:00<?, ?B/s]"
            ],
            "application/vnd.jupyter.widget-view+json": {
              "version_major": 2,
              "version_minor": 0,
              "model_id": "6df6fd06eea94712a068f3f8689406c5"
            }
          },
          "metadata": {}
        },
        {
          "output_type": "display_data",
          "data": {
            "text/plain": [
              "Downloading (…)of-00003.safetensors:   0%|          | 0.00/3.59G [00:00<?, ?B/s]"
            ],
            "application/vnd.jupyter.widget-view+json": {
              "version_major": 2,
              "version_minor": 0,
              "model_id": "bd401fb1116c43c79d0850f872154a38"
            }
          },
          "metadata": {}
        },
        {
          "output_type": "display_data",
          "data": {
            "text/plain": [
              "Loading checkpoint shards:   0%|          | 0/3 [00:00<?, ?it/s]"
            ],
            "application/vnd.jupyter.widget-view+json": {
              "version_major": 2,
              "version_minor": 0,
              "model_id": "91baf83770ee4c599c409e45e2ab4b65"
            }
          },
          "metadata": {}
        },
        {
          "output_type": "display_data",
          "data": {
            "text/plain": [
              "Downloading generation_config.json:   0%|          | 0.00/183 [00:00<?, ?B/s]"
            ],
            "application/vnd.jupyter.widget-view+json": {
              "version_major": 2,
              "version_minor": 0,
              "model_id": "2552ba28e01c460f823fa4dfe702c99b"
            }
          },
          "metadata": {}
        },
        {
          "output_type": "stream",
          "name": "stdout",
          "text": [
            "CPU times: user 27.5 s, sys: 31.6 s, total: 59.1 s\n",
            "Wall time: 6min 26s\n"
          ]
        }
      ]
    },
    {
      "cell_type": "markdown",
      "source": [
        "## Fine-Tuning with LoRA"
      ],
      "metadata": {
        "id": "zPUhMI4UAxR1"
      }
    },
    {
      "cell_type": "code",
      "source": [
        "# LoRA config based on QLoRA paper\n",
        "peft_config = LoraConfig(\n",
        "                          lora_alpha=16,\n",
        "                          lora_dropout=0.1,\n",
        "                          r=64,\n",
        "                          bias=\"none\",\n",
        "                          task_type=\"CAUSAL_LM\"\n",
        "                        )"
      ],
      "metadata": {
        "id": "8JwVGA88xNrg"
      },
      "execution_count": null,
      "outputs": []
    },
    {
      "cell_type": "code",
      "source": [
        "# Define the training arguments. For full list of arguments, check\n",
        "#https://huggingface.co/docs/transformers/main_classes/trainer#transformers.TrainingArguments\n",
        "args = TrainingArguments(\n",
        "    output_dir='llama2-7b-tuned-qna',\n",
        "    num_train_epochs=2, # adjust based on the data size\n",
        "    per_device_train_batch_size=2, # use 4 if you have more GPU RAM\n",
        "    save_strategy=\"epoch\", #steps\n",
        "    # evaluation_strategy=\"epoch\",\n",
        "    learning_rate=2e-4,\n",
        "    fp16=True,\n",
        "    seed=42\n",
        ")"
      ],
      "metadata": {
        "id": "hbCaZbitxuW7"
      },
      "execution_count": null,
      "outputs": []
    },
    {
      "cell_type": "code",
      "source": [
        "# Create the trainer\n",
        "trainer = SFTTrainer(\n",
        "    model=model,\n",
        "    train_dataset=train,\n",
        "     eval_dataset=test,\n",
        "    dataset_text_field='text',\n",
        "    peft_config=peft_config,\n",
        "    max_seq_length=1042,\n",
        "    tokenizer=tokenizer,\n",
        "    args=args,\n",
        "    packing=True,\n",
        ")"
      ],
      "metadata": {
        "id": "GKRtirQOy_P5",
        "colab": {
          "base_uri": "https://localhost:8080/"
        },
        "outputId": "cb70edcf-f7c0-493f-9b71-f34b057b2b11"
      },
      "execution_count": null,
      "outputs": [
        {
          "output_type": "stream",
          "name": "stderr",
          "text": [
            "/usr/local/lib/python3.10/dist-packages/peft/utils/other.py:102: FutureWarning: prepare_model_for_int8_training is deprecated and will be removed in a future version. Use prepare_model_for_kbit_training instead.\n",
            "  warnings.warn(\n",
            "/usr/local/lib/python3.10/dist-packages/accelerate/accelerator.py:427: FutureWarning: `torch.cuda.amp.GradScaler(args...)` is deprecated. Please use `torch.amp.GradScaler('cuda', args...)` instead.\n",
            "  self.scaler = torch.cuda.amp.GradScaler(**kwargs)\n"
          ]
        }
      ]
    },
    {
      "cell_type": "code",
      "source": [
        "# train\n",
        "trainer.train()"
      ],
      "metadata": {
        "id": "I-XPLvS7zQ4n",
        "colab": {
          "base_uri": "https://localhost:8080/",
          "height": 474
        },
        "outputId": "7e7be30b-02c3-417c-f6e2-c3535148d230"
      },
      "execution_count": null,
      "outputs": [
        {
          "output_type": "stream",
          "name": "stderr",
          "text": [
            "/usr/local/lib/python3.10/dist-packages/accelerate/accelerator.py:1301: FutureWarning: `torch.cuda.amp.autocast(args...)` is deprecated. Please use `torch.amp.autocast('cuda', args...)` instead.\n",
            "  new_forward = torch.cuda.amp.autocast(dtype=torch.float16)(model_forward_func)\n",
            "\u001b[34m\u001b[1mwandb\u001b[0m: Using wandb-core as the SDK backend.  Please refer to https://wandb.me/wandb-core for more information.\n"
          ]
        },
        {
          "output_type": "display_data",
          "data": {
            "text/plain": [
              "<IPython.core.display.Javascript object>"
            ],
            "application/javascript": [
              "\n",
              "        window._wandbApiKey = new Promise((resolve, reject) => {\n",
              "            function loadScript(url) {\n",
              "            return new Promise(function(resolve, reject) {\n",
              "                let newScript = document.createElement(\"script\");\n",
              "                newScript.onerror = reject;\n",
              "                newScript.onload = resolve;\n",
              "                document.body.appendChild(newScript);\n",
              "                newScript.src = url;\n",
              "            });\n",
              "            }\n",
              "            loadScript(\"https://cdn.jsdelivr.net/npm/postmate/build/postmate.min.js\").then(() => {\n",
              "            const iframe = document.createElement('iframe')\n",
              "            iframe.style.cssText = \"width:0;height:0;border:none\"\n",
              "            document.body.appendChild(iframe)\n",
              "            const handshake = new Postmate({\n",
              "                container: iframe,\n",
              "                url: 'https://wandb.ai/authorize'\n",
              "            });\n",
              "            const timeout = setTimeout(() => reject(\"Couldn't auto authenticate\"), 5000)\n",
              "            handshake.then(function(child) {\n",
              "                child.on('authorize', data => {\n",
              "                    clearTimeout(timeout)\n",
              "                    resolve(data)\n",
              "                });\n",
              "            });\n",
              "            })\n",
              "        });\n",
              "    "
            ]
          },
          "metadata": {}
        },
        {
          "output_type": "stream",
          "name": "stderr",
          "text": [
            "\u001b[34m\u001b[1mwandb\u001b[0m: Logging into wandb.ai. (Learn how to deploy a W&B server locally: https://wandb.me/wandb-server)\n",
            "\u001b[34m\u001b[1mwandb\u001b[0m: You can find your API key in your browser here: https://wandb.ai/authorize\n",
            "wandb: Paste an API key from your profile and hit enter, or press ctrl+c to quit:"
          ]
        },
        {
          "name": "stdout",
          "output_type": "stream",
          "text": [
            " ··········\n"
          ]
        },
        {
          "output_type": "stream",
          "name": "stderr",
          "text": [
            "\u001b[34m\u001b[1mwandb\u001b[0m: Appending key for api.wandb.ai to your netrc file: /root/.netrc\n"
          ]
        },
        {
          "output_type": "display_data",
          "data": {
            "text/plain": [
              "<IPython.core.display.HTML object>"
            ],
            "text/html": [
              "Tracking run with wandb version 0.18.6"
            ]
          },
          "metadata": {}
        },
        {
          "output_type": "display_data",
          "data": {
            "text/plain": [
              "<IPython.core.display.HTML object>"
            ],
            "text/html": [
              "Run data is saved locally in <code>/content/wandb/run-20241114_000142-ce3pnjyg</code>"
            ]
          },
          "metadata": {}
        },
        {
          "output_type": "display_data",
          "data": {
            "text/plain": [
              "<IPython.core.display.HTML object>"
            ],
            "text/html": [
              "Syncing run <strong><a href='https://wandb.ai/aigp/huggingface/runs/ce3pnjyg' target=\"_blank\">ruby-sun-69</a></strong> to <a href='https://wandb.ai/aigp/huggingface' target=\"_blank\">Weights & Biases</a> (<a href='https://wandb.me/developer-guide' target=\"_blank\">docs</a>)<br/>"
            ]
          },
          "metadata": {}
        },
        {
          "output_type": "display_data",
          "data": {
            "text/plain": [
              "<IPython.core.display.HTML object>"
            ],
            "text/html": [
              " View project at <a href='https://wandb.ai/aigp/huggingface' target=\"_blank\">https://wandb.ai/aigp/huggingface</a>"
            ]
          },
          "metadata": {}
        },
        {
          "output_type": "display_data",
          "data": {
            "text/plain": [
              "<IPython.core.display.HTML object>"
            ],
            "text/html": [
              " View run at <a href='https://wandb.ai/aigp/huggingface/runs/ce3pnjyg' target=\"_blank\">https://wandb.ai/aigp/huggingface/runs/ce3pnjyg</a>"
            ]
          },
          "metadata": {}
        },
        {
          "output_type": "stream",
          "name": "stderr",
          "text": [
            "You're using a LlamaTokenizerFast tokenizer. Please note that with a fast tokenizer, using the `__call__` method is faster than using a method to encode the text followed by a call to the `pad` method to get a padded encoding.\n",
            "`use_cache=True` is incompatible with gradient checkpointing. Setting `use_cache=False`...\n",
            "/usr/local/lib/python3.10/dist-packages/torch/_dynamo/eval_frame.py:632: UserWarning: torch.utils.checkpoint: the use_reentrant parameter should be passed explicitly. In version 2.5 we will raise an exception if use_reentrant is not passed. use_reentrant=False is recommended, but if you need to preserve the current default behavior, you can pass use_reentrant=True. Refer to docs for more details on the differences between the two variants.\n",
            "  return fn(*args, **kwargs)\n"
          ]
        },
        {
          "output_type": "display_data",
          "data": {
            "text/plain": [
              "<IPython.core.display.HTML object>"
            ],
            "text/html": [
              "\n",
              "    <div>\n",
              "      \n",
              "      <progress value='154' max='400' style='width:300px; height:20px; vertical-align: middle;'></progress>\n",
              "      [154/400 19:35 < 31:41, 0.13 it/s, Epoch 1/2]\n",
              "    </div>\n",
              "    <table border=\"1\" class=\"dataframe\">\n",
              "  <thead>\n",
              " <tr style=\"text-align: left;\">\n",
              "      <th>Step</th>\n",
              "      <th>Training Loss</th>\n",
              "    </tr>\n",
              "  </thead>\n",
              "  <tbody>\n",
              "  </tbody>\n",
              "</table><p>"
            ]
          },
          "metadata": {}
        },
        {
          "output_type": "stream",
          "name": "stderr",
          "text": [
            "/usr/local/lib/python3.10/dist-packages/torch/_dynamo/eval_frame.py:632: UserWarning: torch.utils.checkpoint: the use_reentrant parameter should be passed explicitly. In version 2.5 we will raise an exception if use_reentrant is not passed. use_reentrant=False is recommended, but if you need to preserve the current default behavior, you can pass use_reentrant=True. Refer to docs for more details on the differences between the two variants.\n",
            "  return fn(*args, **kwargs)\n"
          ]
        },
        {
          "output_type": "execute_result",
          "data": {
            "text/plain": [
              "TrainOutput(global_step=154, training_loss=1.1683961942598418, metrics={'train_runtime': 1229.9873, 'train_samples_per_second': 0.65, 'train_steps_per_second': 0.325, 'total_flos': 1.2704781746405376e+16, 'train_loss': 1.1683961942598418, 'epoch': 1.39})"
            ]
          },
          "metadata": {},
          "execution_count": 25
        }
      ]
    },
    {
      "cell_type": "code",
      "source": [
        "# save model in local\n",
        "trainer.save_model()"
      ],
      "metadata": {
        "id": "ab6cNxpz68FQ"
      },
      "execution_count": null,
      "outputs": []
    },
    {
      "cell_type": "markdown",
      "source": [
        "Clean the memory"
      ],
      "metadata": {
        "id": "TxWD7KsvKWF1"
      }
    },
    {
      "cell_type": "code",
      "source": [
        "# Empty VRAM\n",
        "del model\n",
        "del trainer\n",
        "import gc\n",
        "gc.collect()\n",
        "gc.collect()"
      ],
      "metadata": {
        "id": "eKr5H6dzL97a",
        "colab": {
          "base_uri": "https://localhost:8080/"
        },
        "outputId": "44d5906a-b635-4e0a-fdb8-632a7d305a09"
      },
      "execution_count": null,
      "outputs": [
        {
          "output_type": "execute_result",
          "data": {
            "text/plain": [
              "0"
            ]
          },
          "metadata": {},
          "execution_count": 27
        }
      ]
    },
    {
      "cell_type": "code",
      "source": [
        "torch.cuda.empty_cache()"
      ],
      "metadata": {
        "id": "R1h7kunlRuWE"
      },
      "execution_count": null,
      "outputs": []
    },
    {
      "cell_type": "code",
      "source": [
        "gc.collect()"
      ],
      "metadata": {
        "id": "70Nd6txqMeIt",
        "colab": {
          "base_uri": "https://localhost:8080/"
        },
        "outputId": "8a97092f-14a9-4fac-e6c0-f010c9e4ee82"
      },
      "execution_count": null,
      "outputs": [
        {
          "output_type": "execute_result",
          "data": {
            "text/plain": [
              "18635"
            ]
          },
          "metadata": {},
          "execution_count": 29
        }
      ]
    },
    {
      "cell_type": "code",
      "source": [
        "!accelerate config"
      ],
      "metadata": {
        "id": "95Q3NkzqI3y8",
        "colab": {
          "base_uri": "https://localhost:8080/"
        },
        "outputId": "f25f307c-3c74-45b4-bd7e-6215f9c3d33e"
      },
      "execution_count": null,
      "outputs": [
        {
          "output_type": "stream",
          "name": "stdout",
          "text": [
            "/usr/local/lib/python3.10/dist-packages/transformers/utils/generic.py:441: FutureWarning: `torch.utils._pytree._register_pytree_node` is deprecated. Please use `torch.utils._pytree.register_pytree_node` instead.\n",
            "  _torch_pytree._register_pytree_node(\n",
            "/usr/local/lib/python3.10/dist-packages/transformers/utils/generic.py:309: FutureWarning: `torch.utils._pytree._register_pytree_node` is deprecated. Please use `torch.utils._pytree.register_pytree_node` instead.\n",
            "  _torch_pytree._register_pytree_node(\n",
            "2024-11-14 00:23:31.623018: E external/local_xla/xla/stream_executor/cuda/cuda_fft.cc:485] Unable to register cuFFT factory: Attempting to register factory for plugin cuFFT when one has already been registered\n",
            "2024-11-14 00:23:31.648265: E external/local_xla/xla/stream_executor/cuda/cuda_dnn.cc:8454] Unable to register cuDNN factory: Attempting to register factory for plugin cuDNN when one has already been registered\n",
            "2024-11-14 00:23:31.656989: E external/local_xla/xla/stream_executor/cuda/cuda_blas.cc:1452] Unable to register cuBLAS factory: Attempting to register factory for plugin cuBLAS when one has already been registered\n",
            "2024-11-14 00:23:33.230516: W tensorflow/compiler/tf2tensorrt/utils/py_utils.cc:38] TF-TRT Warning: Could not find TensorRT\n",
            "----------------------------------------------------------------------------------------------------In which compute environment are you running?\n",
            "Please input a choice index (starting from 0), and press enter\n",
            " ➔  \u001b[32mThis machine\u001b[0m\n",
            "    AWS (Amazon SageMaker)\n",
            "\u001b[2A\u001b[?25l0\n",
            "\u001b[32mThis machine\u001b[0m\n",
            "----------------------------------------------------------------------------------------------------Which type of machine are you using?\n",
            "Please input a choice index (starting from 0), and press enter\n",
            " ➔  \u001b[32mNo distributed training\u001b[0m\n",
            "    multi-CPU\n",
            "    multi-XPU\n",
            "    multi-GPU\n",
            "    multi-NPU\n",
            "    TPU\n",
            "\u001b[6A\u001b[?25l3\n",
            "\u001b[32mmulti-GPU\u001b[0m\n",
            "\u001b[?25hHow many different machines will you use (use more than 1 for multi-node training)? [1]: 1\n",
            "Do you wish to optimize your script with torch dynamo?[yes/NO]:NO\n",
            "Do you want to use DeepSpeed? [yes/NO]: NO\n",
            "Do you want to use FullyShardedDataParallel? [yes/NO]: NO\n",
            "Do you want to use Megatron-LM ? [yes/NO]: NO\n",
            "How many GPU(s) should be used for distributed training? [1]:1\n",
            "What GPU(s) (by id) should be used for training on this machine as a comma-seperated list? [all]:1\n",
            "----------------------------------------------------------------------------------------------------Do you wish to use FP16 or BF16 (mixed precision)?\n",
            "Please input a choice index (starting from 0), and press enter\n",
            " ➔  \u001b[32mno\u001b[0m\n",
            "    fp16\n",
            "    bf16\n",
            "    fp8\n",
            "\u001b[4A\u001b[?25lfp8\n",
            "\u001b[32mno\u001b[0m\n",
            "\u001b[?25haccelerate configuration saved at /root/.cache/huggingface/accelerate/default_config.yaml\n"
          ]
        }
      ]
    },
    {
      "cell_type": "code",
      "source": [
        "%%time\n",
        "from peft import AutoPeftModelForCausalLM\n",
        "\n",
        "new_model = AutoPeftModelForCausalLM.from_pretrained(\n",
        "    'llama2-7b-tuned-qna',\n",
        "    low_cpu_mem_usage=True,\n",
        "    return_dict=True,\n",
        "    torch_dtype=torch.float16,\n",
        "    device_map=\"auto\"\n",
        "      # Specify a directory for offloading\n",
        ")\n"
      ],
      "metadata": {
        "id": "Fxamw2PPL804",
        "colab": {
          "base_uri": "https://localhost:8080/",
          "height": 85,
          "referenced_widgets": [
            "12d7da57f0764647ad5571461fb5071d",
            "bcbb7642d2cf4eb187d7cf3bb5c1d450",
            "90298cfeb56f4af58c05dbc37197ac79",
            "0898359c46204c009a4ebc2558befd07",
            "4b727da8d4f6479f913c67668b2d3415",
            "d29a22a8bc42416c98ca2a0fcf187c10",
            "bab3f781e7564421aaaa7e00d4197e1b",
            "d170451de7a74345940cb0c69488d266",
            "5f4fc0cec7804153ad41b62f0b0b6050",
            "393e71803c964b2895bfb83d82c6893c",
            "4127171461334a2cb0b00cc48bf9c29e"
          ]
        },
        "outputId": "b90992a0-a5d5-4647-fd7d-3fd07e96bd9d"
      },
      "execution_count": null,
      "outputs": [
        {
          "output_type": "display_data",
          "data": {
            "text/plain": [
              "Loading checkpoint shards:   0%|          | 0/3 [00:00<?, ?it/s]"
            ],
            "application/vnd.jupyter.widget-view+json": {
              "version_major": 2,
              "version_minor": 0,
              "model_id": "12d7da57f0764647ad5571461fb5071d"
            }
          },
          "metadata": {}
        },
        {
          "output_type": "stream",
          "name": "stdout",
          "text": [
            "CPU times: user 22.7 s, sys: 7.4 s, total: 30 s\n",
            "Wall time: 1min 17s\n"
          ]
        }
      ]
    },
    {
      "cell_type": "markdown",
      "source": [
        "## Evaluation"
      ],
      "metadata": {
        "id": "oJyb1HW00uEU"
      }
    },
    {
      "cell_type": "code",
      "source": [
        "prompt = \"What to do for Viral Gastroenteritis ?\"\n",
        "#ground truth = \"The output format of the tasks that the Florence-2 model can handle is text forms, whether it be captioning, object detection, grounding or segmentation.\""
      ],
      "metadata": {
        "id": "aF0qgucZzGId"
      },
      "execution_count": null,
      "outputs": []
    },
    {
      "cell_type": "code",
      "source": [
        "input_ids = tokenizer(prompt, return_tensors=\"pt\", truncation=True).input_ids.cuda()"
      ],
      "metadata": {
        "id": "FZmo95n-y581",
        "colab": {
          "base_uri": "https://localhost:8080/"
        },
        "outputId": "d327e3ba-a16e-41c5-9e55-c77b96956918"
      },
      "execution_count": null,
      "outputs": [
        {
          "output_type": "stream",
          "name": "stderr",
          "text": [
            "Asking to truncate to max_length but no maximum length is provided and the model has no predefined maximum length. Default to no truncation.\n"
          ]
        }
      ]
    },
    {
      "cell_type": "code",
      "source": [
        "outputs = new_model.generate(input_ids=input_ids,\n",
        "                         max_new_tokens=200,\n",
        "                        #  do_sample=True,\n",
        "                        #  top_p=0.9,\n",
        "                         temperature=0.6)"
      ],
      "metadata": {
        "id": "2VltHAt5Tl4f"
      },
      "execution_count": null,
      "outputs": []
    },
    {
      "cell_type": "code",
      "source": [
        "result = tokenizer.batch_decode(outputs.detach().cpu().numpy(), skip_special_tokens=True)[0]"
      ],
      "metadata": {
        "id": "fsh00mi1Tni4"
      },
      "execution_count": null,
      "outputs": []
    },
    {
      "cell_type": "code",
      "source": [
        "print(result)"
      ],
      "metadata": {
        "id": "FXhoyV9kT67s",
        "colab": {
          "base_uri": "https://localhost:8080/"
        },
        "outputId": "21203a7c-7be5-4205-d585-a1e9f4dc71ee"
      },
      "execution_count": null,
      "outputs": [
        {
          "output_type": "stream",
          "name": "stdout",
          "text": [
            "What to do for Viral Gastroenteritis ?\n",
            " Bland fluids can help replace those lost through vomiting and diarrhea. In some cases, a doctor may advise you to drink an oral rehydration solution. The solution contains water, salts, and sugars that help replace those lost. You can buy oral rehydration solution at most drugstores and supermarkets. If you have diarrhea or vomiting, you may want to try a solution that contains electrolytes, like coconut water or sports drinks. These can help replace the salts and sugars lost in your body. If you are vomiting or have diarrhea, you should drink small amounts of fluid often. This will help replace the fluids you lose. You may want to try sipping clear liquids like water, clear broths, or electrolyte solutions. You can also try drinking small amounts of milk or fruit juice. If you have\n"
          ]
        }
      ]
    },
    {
      "cell_type": "code",
      "source": [
        "def compute_perplexity(model, eval_dataset):\n",
        "    model.eval()\n",
        "    total_loss = 0\n",
        "    count = 0\n",
        "    for batch in eval_dataset:\n",
        "        inputs = tokenizer(batch['text'], return_tensors='pt', padding=True, truncation=True, max_length=1042).input_ids\n",
        "        inputs = inputs.to(model.device)\n",
        "        with torch.no_grad():\n",
        "            outputs = model(input_ids=inputs, labels=inputs)\n",
        "            total_loss += outputs.loss.item() * inputs.size(0)\n",
        "            count += inputs.size(0)\n",
        "    return torch.exp(torch.tensor(total_loss / count))\n",
        "\n",
        "# Calculate and print Perplexity as the evaluation score\n",
        "perplexity = compute_perplexity(new_model, test)\n",
        "print(f\"Perplexity on the evaluation set: {perplexity}\")"
      ],
      "metadata": {
        "colab": {
          "base_uri": "https://localhost:8080/"
        },
        "id": "xV0eIocZGwfd",
        "outputId": "0d4b427f-f8f2-4a55-fbc7-c9eaf8ea34d6"
      },
      "execution_count": null,
      "outputs": [
        {
          "output_type": "stream",
          "name": "stdout",
          "text": [
            "Perplexity on the evaluation set: 3.235490322113037\n"
          ]
        }
      ]
    },
    {
      "cell_type": "code",
      "source": [
        "from datasets import load_metric\n",
        "from tqdm import tqdm\n",
        "\n",
        "# Load Exact Match metric\n",
        "exact_match_metric = load_metric(\"exact_match\")\n",
        "\n",
        "# Function to evaluate exact match score\n",
        "def evaluate_exact_match(model, eval_dataset):\n",
        "    model.eval()\n",
        "    predictions, references = [], []\n",
        "\n",
        "    for sample in tqdm(eval_dataset, desc=\"Evaluating exact match\"):\n",
        "        input_text = sample['text']\n",
        "        # Tokenize input and generate the response\n",
        "        inputs = tokenizer(input_text, return_tensors='pt', padding=True, truncation=True, max_length=512).to(model.device)\n",
        "\n",
        "        with torch.no_grad():\n",
        "            # Use generate with kwargs (no need to pass inputs as a positional argument)\n",
        "            output_ids = model.generate(input_ids=inputs['input_ids'], max_length=50, num_beams=1)  # Adjust max_length as needed\n",
        "        generated_text = tokenizer.decode(output_ids[0], skip_special_tokens=True)\n",
        "\n",
        "        predictions.append(generated_text)\n",
        "        references.append(input_text)  # In practice, you would use actual reference texts here\n",
        "\n",
        "    # Calculate exact match score\n",
        "    exact_match_metric.add_batch(predictions=predictions, references=references)\n",
        "    em_score = exact_match_metric.compute()\n",
        "\n",
        "    return em_score\n",
        "\n",
        "# Run evaluation\n",
        "em_score = evaluate_exact_match(new_model, test)\n",
        "print(f\"Exact Match Score: {em_score['exact_match']:.4f}\")\n",
        "\n"
      ],
      "metadata": {
        "id": "dJOCM92tP-IM",
        "outputId": "bf605530-f838-4291-a157-30b1361dc3bf",
        "colab": {
          "base_uri": "https://localhost:8080/"
        }
      },
      "execution_count": null,
      "outputs": [
        {
          "output_type": "stream",
          "name": "stderr",
          "text": [
            "\rEvaluating exact match:   0%|          | 0/100 [00:00<?, ?it/s]/usr/local/lib/python3.10/dist-packages/transformers/generation/utils.py:1281: UserWarning: Input length of input_ids is 320, but `max_length` is set to 50. This can lead to unexpected behavior. You should consider increasing `max_new_tokens`.\n",
            "  warnings.warn(\n",
            "Evaluating exact match:   1%|          | 1/100 [00:02<04:32,  2.75s/it]/usr/local/lib/python3.10/dist-packages/transformers/generation/utils.py:1281: UserWarning: Input length of input_ids is 512, but `max_length` is set to 50. This can lead to unexpected behavior. You should consider increasing `max_new_tokens`.\n",
            "  warnings.warn(\n",
            "Evaluating exact match:   3%|▎         | 3/100 [00:06<03:30,  2.17s/it]/usr/local/lib/python3.10/dist-packages/transformers/generation/utils.py:1281: UserWarning: Input length of input_ids is 412, but `max_length` is set to 50. This can lead to unexpected behavior. You should consider increasing `max_new_tokens`.\n",
            "  warnings.warn(\n",
            "Evaluating exact match:   5%|▌         | 5/100 [00:11<03:23,  2.14s/it]/usr/local/lib/python3.10/dist-packages/transformers/generation/utils.py:1281: UserWarning: Input length of input_ids is 242, but `max_length` is set to 50. This can lead to unexpected behavior. You should consider increasing `max_new_tokens`.\n",
            "  warnings.warn(\n",
            "Evaluating exact match:   6%|▌         | 6/100 [00:12<03:10,  2.02s/it]/usr/local/lib/python3.10/dist-packages/transformers/generation/utils.py:1281: UserWarning: Input length of input_ids is 308, but `max_length` is set to 50. This can lead to unexpected behavior. You should consider increasing `max_new_tokens`.\n",
            "  warnings.warn(\n",
            "Evaluating exact match:   7%|▋         | 7/100 [00:14<02:52,  1.86s/it]/usr/local/lib/python3.10/dist-packages/transformers/generation/utils.py:1281: UserWarning: Input length of input_ids is 435, but `max_length` is set to 50. This can lead to unexpected behavior. You should consider increasing `max_new_tokens`.\n",
            "  warnings.warn(\n",
            "Evaluating exact match:   8%|▊         | 8/100 [00:16<02:54,  1.89s/it]/usr/local/lib/python3.10/dist-packages/transformers/generation/utils.py:1281: UserWarning: Input length of input_ids is 67, but `max_length` is set to 50. This can lead to unexpected behavior. You should consider increasing `max_new_tokens`.\n",
            "  warnings.warn(\n",
            "Evaluating exact match:  10%|█         | 10/100 [00:19<02:30,  1.67s/it]/usr/local/lib/python3.10/dist-packages/transformers/generation/utils.py:1281: UserWarning: Input length of input_ids is 90, but `max_length` is set to 50. This can lead to unexpected behavior. You should consider increasing `max_new_tokens`.\n",
            "  warnings.warn(\n",
            "Evaluating exact match:  11%|█         | 11/100 [00:20<02:16,  1.54s/it]/usr/local/lib/python3.10/dist-packages/transformers/generation/utils.py:1281: UserWarning: Input length of input_ids is 151, but `max_length` is set to 50. This can lead to unexpected behavior. You should consider increasing `max_new_tokens`.\n",
            "  warnings.warn(\n",
            "Evaluating exact match:  12%|█▏        | 12/100 [00:21<02:02,  1.39s/it]/usr/local/lib/python3.10/dist-packages/transformers/generation/utils.py:1281: UserWarning: Input length of input_ids is 227, but `max_length` is set to 50. This can lead to unexpected behavior. You should consider increasing `max_new_tokens`.\n",
            "  warnings.warn(\n",
            "Evaluating exact match:  13%|█▎        | 13/100 [00:22<01:53,  1.30s/it]/usr/local/lib/python3.10/dist-packages/transformers/generation/utils.py:1281: UserWarning: Input length of input_ids is 488, but `max_length` is set to 50. This can lead to unexpected behavior. You should consider increasing `max_new_tokens`.\n",
            "  warnings.warn(\n",
            "Evaluating exact match:  14%|█▍        | 14/100 [00:23<01:49,  1.27s/it]/usr/local/lib/python3.10/dist-packages/transformers/generation/utils.py:1281: UserWarning: Input length of input_ids is 124, but `max_length` is set to 50. This can lead to unexpected behavior. You should consider increasing `max_new_tokens`.\n",
            "  warnings.warn(\n",
            "Evaluating exact match:  15%|█▌        | 15/100 [00:24<01:41,  1.20s/it]/usr/local/lib/python3.10/dist-packages/transformers/generation/utils.py:1281: UserWarning: Input length of input_ids is 63, but `max_length` is set to 50. This can lead to unexpected behavior. You should consider increasing `max_new_tokens`.\n",
            "  warnings.warn(\n",
            "Evaluating exact match:  17%|█▋        | 17/100 [00:27<01:37,  1.17s/it]/usr/local/lib/python3.10/dist-packages/transformers/generation/utils.py:1281: UserWarning: Input length of input_ids is 254, but `max_length` is set to 50. This can lead to unexpected behavior. You should consider increasing `max_new_tokens`.\n",
            "  warnings.warn(\n",
            "Evaluating exact match:  18%|█▊        | 18/100 [00:28<01:33,  1.14s/it]/usr/local/lib/python3.10/dist-packages/transformers/generation/utils.py:1281: UserWarning: Input length of input_ids is 112, but `max_length` is set to 50. This can lead to unexpected behavior. You should consider increasing `max_new_tokens`.\n",
            "  warnings.warn(\n",
            "Evaluating exact match:  19%|█▉        | 19/100 [00:29<01:28,  1.10s/it]/usr/local/lib/python3.10/dist-packages/transformers/generation/utils.py:1281: UserWarning: Input length of input_ids is 448, but `max_length` is set to 50. This can lead to unexpected behavior. You should consider increasing `max_new_tokens`.\n",
            "  warnings.warn(\n",
            "Evaluating exact match:  20%|██        | 20/100 [00:30<01:29,  1.11s/it]/usr/local/lib/python3.10/dist-packages/transformers/generation/utils.py:1281: UserWarning: Input length of input_ids is 118, but `max_length` is set to 50. This can lead to unexpected behavior. You should consider increasing `max_new_tokens`.\n",
            "  warnings.warn(\n",
            "Evaluating exact match:  21%|██        | 21/100 [00:31<01:27,  1.11s/it]/usr/local/lib/python3.10/dist-packages/transformers/generation/utils.py:1281: UserWarning: Input length of input_ids is 72, but `max_length` is set to 50. This can lead to unexpected behavior. You should consider increasing `max_new_tokens`.\n",
            "  warnings.warn(\n",
            "Evaluating exact match:  22%|██▏       | 22/100 [00:32<01:26,  1.11s/it]/usr/local/lib/python3.10/dist-packages/transformers/generation/utils.py:1281: UserWarning: Input length of input_ids is 130, but `max_length` is set to 50. This can lead to unexpected behavior. You should consider increasing `max_new_tokens`.\n",
            "  warnings.warn(\n",
            "Evaluating exact match:  25%|██▌       | 25/100 [00:36<01:27,  1.16s/it]/usr/local/lib/python3.10/dist-packages/transformers/generation/utils.py:1281: UserWarning: Input length of input_ids is 163, but `max_length` is set to 50. This can lead to unexpected behavior. You should consider increasing `max_new_tokens`.\n",
            "  warnings.warn(\n",
            "Evaluating exact match:  29%|██▉       | 29/100 [00:40<01:20,  1.13s/it]/usr/local/lib/python3.10/dist-packages/transformers/generation/utils.py:1281: UserWarning: Input length of input_ids is 80, but `max_length` is set to 50. This can lead to unexpected behavior. You should consider increasing `max_new_tokens`.\n",
            "  warnings.warn(\n",
            "Evaluating exact match:  31%|███       | 31/100 [00:42<01:19,  1.15s/it]/usr/local/lib/python3.10/dist-packages/transformers/generation/utils.py:1281: UserWarning: Input length of input_ids is 296, but `max_length` is set to 50. This can lead to unexpected behavior. You should consider increasing `max_new_tokens`.\n",
            "  warnings.warn(\n",
            "Evaluating exact match:  32%|███▏      | 32/100 [00:44<01:18,  1.15s/it]/usr/local/lib/python3.10/dist-packages/transformers/generation/utils.py:1281: UserWarning: Input length of input_ids is 141, but `max_length` is set to 50. This can lead to unexpected behavior. You should consider increasing `max_new_tokens`.\n",
            "  warnings.warn(\n",
            "Evaluating exact match:  34%|███▍      | 34/100 [00:46<01:18,  1.19s/it]/usr/local/lib/python3.10/dist-packages/transformers/generation/utils.py:1281: UserWarning: Input length of input_ids is 416, but `max_length` is set to 50. This can lead to unexpected behavior. You should consider increasing `max_new_tokens`.\n",
            "  warnings.warn(\n",
            "Evaluating exact match:  35%|███▌      | 35/100 [00:47<01:21,  1.25s/it]/usr/local/lib/python3.10/dist-packages/transformers/generation/utils.py:1281: UserWarning: Input length of input_ids is 109, but `max_length` is set to 50. This can lead to unexpected behavior. You should consider increasing `max_new_tokens`.\n",
            "  warnings.warn(\n",
            "Evaluating exact match:  37%|███▋      | 37/100 [00:50<01:16,  1.21s/it]/usr/local/lib/python3.10/dist-packages/transformers/generation/utils.py:1281: UserWarning: Input length of input_ids is 173, but `max_length` is set to 50. This can lead to unexpected behavior. You should consider increasing `max_new_tokens`.\n",
            "  warnings.warn(\n",
            "Evaluating exact match:  38%|███▊      | 38/100 [00:51<01:11,  1.16s/it]/usr/local/lib/python3.10/dist-packages/transformers/generation/utils.py:1281: UserWarning: Input length of input_ids is 81, but `max_length` is set to 50. This can lead to unexpected behavior. You should consider increasing `max_new_tokens`.\n",
            "  warnings.warn(\n",
            "Evaluating exact match:  40%|████      | 40/100 [00:53<01:09,  1.16s/it]/usr/local/lib/python3.10/dist-packages/transformers/generation/utils.py:1281: UserWarning: Input length of input_ids is 411, but `max_length` is set to 50. This can lead to unexpected behavior. You should consider increasing `max_new_tokens`.\n",
            "  warnings.warn(\n",
            "Evaluating exact match:  41%|████      | 41/100 [00:54<01:09,  1.19s/it]/usr/local/lib/python3.10/dist-packages/transformers/generation/utils.py:1281: UserWarning: Input length of input_ids is 216, but `max_length` is set to 50. This can lead to unexpected behavior. You should consider increasing `max_new_tokens`.\n",
            "  warnings.warn(\n",
            "Evaluating exact match:  42%|████▏     | 42/100 [00:55<01:06,  1.15s/it]/usr/local/lib/python3.10/dist-packages/transformers/generation/utils.py:1281: UserWarning: Input length of input_ids is 110, but `max_length` is set to 50. This can lead to unexpected behavior. You should consider increasing `max_new_tokens`.\n",
            "  warnings.warn(\n",
            "Evaluating exact match:  43%|████▎     | 43/100 [00:56<01:03,  1.11s/it]/usr/local/lib/python3.10/dist-packages/transformers/generation/utils.py:1281: UserWarning: Input length of input_ids is 152, but `max_length` is set to 50. This can lead to unexpected behavior. You should consider increasing `max_new_tokens`.\n",
            "  warnings.warn(\n",
            "Evaluating exact match:  46%|████▌     | 46/100 [01:00<01:03,  1.18s/it]/usr/local/lib/python3.10/dist-packages/transformers/generation/utils.py:1281: UserWarning: Input length of input_ids is 481, but `max_length` is set to 50. This can lead to unexpected behavior. You should consider increasing `max_new_tokens`.\n",
            "  warnings.warn(\n",
            "Evaluating exact match:  47%|████▋     | 47/100 [01:01<01:04,  1.22s/it]/usr/local/lib/python3.10/dist-packages/transformers/generation/utils.py:1281: UserWarning: Input length of input_ids is 125, but `max_length` is set to 50. This can lead to unexpected behavior. You should consider increasing `max_new_tokens`.\n",
            "  warnings.warn(\n",
            "Evaluating exact match:  48%|████▊     | 48/100 [01:02<01:02,  1.21s/it]/usr/local/lib/python3.10/dist-packages/transformers/generation/utils.py:1281: UserWarning: Input length of input_ids is 93, but `max_length` is set to 50. This can lead to unexpected behavior. You should consider increasing `max_new_tokens`.\n",
            "  warnings.warn(\n",
            "Evaluating exact match:  49%|████▉     | 49/100 [01:04<00:59,  1.17s/it]/usr/local/lib/python3.10/dist-packages/transformers/generation/utils.py:1281: UserWarning: Input length of input_ids is 241, but `max_length` is set to 50. This can lead to unexpected behavior. You should consider increasing `max_new_tokens`.\n",
            "  warnings.warn(\n",
            "Evaluating exact match:  50%|█████     | 50/100 [01:05<00:57,  1.15s/it]/usr/local/lib/python3.10/dist-packages/transformers/generation/utils.py:1281: UserWarning: Input length of input_ids is 131, but `max_length` is set to 50. This can lead to unexpected behavior. You should consider increasing `max_new_tokens`.\n",
            "  warnings.warn(\n",
            "Evaluating exact match:  51%|█████     | 51/100 [01:06<00:54,  1.12s/it]/usr/local/lib/python3.10/dist-packages/transformers/generation/utils.py:1281: UserWarning: Input length of input_ids is 200, but `max_length` is set to 50. This can lead to unexpected behavior. You should consider increasing `max_new_tokens`.\n",
            "  warnings.warn(\n",
            "Evaluating exact match:  52%|█████▏    | 52/100 [01:07<00:54,  1.13s/it]/usr/local/lib/python3.10/dist-packages/transformers/generation/utils.py:1281: UserWarning: Input length of input_ids is 240, but `max_length` is set to 50. This can lead to unexpected behavior. You should consider increasing `max_new_tokens`.\n",
            "  warnings.warn(\n",
            "Evaluating exact match:  54%|█████▍    | 54/100 [01:10<00:57,  1.25s/it]/usr/local/lib/python3.10/dist-packages/transformers/generation/utils.py:1281: UserWarning: Input length of input_ids is 346, but `max_length` is set to 50. This can lead to unexpected behavior. You should consider increasing `max_new_tokens`.\n",
            "  warnings.warn(\n",
            "Evaluating exact match:  55%|█████▌    | 55/100 [01:11<00:57,  1.28s/it]/usr/local/lib/python3.10/dist-packages/transformers/generation/utils.py:1281: UserWarning: Input length of input_ids is 236, but `max_length` is set to 50. This can lead to unexpected behavior. You should consider increasing `max_new_tokens`.\n",
            "  warnings.warn(\n",
            "Evaluating exact match:  58%|█████▊    | 58/100 [01:15<00:55,  1.33s/it]/usr/local/lib/python3.10/dist-packages/transformers/generation/utils.py:1281: UserWarning: Input length of input_ids is 68, but `max_length` is set to 50. This can lead to unexpected behavior. You should consider increasing `max_new_tokens`.\n",
            "  warnings.warn(\n",
            "Evaluating exact match:  61%|██████    | 61/100 [01:19<00:49,  1.26s/it]/usr/local/lib/python3.10/dist-packages/transformers/generation/utils.py:1281: UserWarning: Input length of input_ids is 79, but `max_length` is set to 50. This can lead to unexpected behavior. You should consider increasing `max_new_tokens`.\n",
            "  warnings.warn(\n",
            "Evaluating exact match:  62%|██████▏   | 62/100 [01:19<00:44,  1.18s/it]/usr/local/lib/python3.10/dist-packages/transformers/generation/utils.py:1281: UserWarning: Input length of input_ids is 180, but `max_length` is set to 50. This can lead to unexpected behavior. You should consider increasing `max_new_tokens`.\n",
            "  warnings.warn(\n",
            "Evaluating exact match:  63%|██████▎   | 63/100 [01:20<00:41,  1.13s/it]/usr/local/lib/python3.10/dist-packages/transformers/generation/utils.py:1281: UserWarning: Input length of input_ids is 171, but `max_length` is set to 50. This can lead to unexpected behavior. You should consider increasing `max_new_tokens`.\n",
            "  warnings.warn(\n",
            "Evaluating exact match:  65%|██████▌   | 65/100 [01:23<00:46,  1.32s/it]/usr/local/lib/python3.10/dist-packages/transformers/generation/utils.py:1281: UserWarning: Input length of input_ids is 108, but `max_length` is set to 50. This can lead to unexpected behavior. You should consider increasing `max_new_tokens`.\n",
            "  warnings.warn(\n",
            "Evaluating exact match:  68%|██████▊   | 68/100 [01:27<00:39,  1.22s/it]/usr/local/lib/python3.10/dist-packages/transformers/generation/utils.py:1281: UserWarning: Input length of input_ids is 226, but `max_length` is set to 50. This can lead to unexpected behavior. You should consider increasing `max_new_tokens`.\n",
            "  warnings.warn(\n",
            "Evaluating exact match:  69%|██████▉   | 69/100 [01:28<00:36,  1.19s/it]/usr/local/lib/python3.10/dist-packages/transformers/generation/utils.py:1281: UserWarning: Input length of input_ids is 442, but `max_length` is set to 50. This can lead to unexpected behavior. You should consider increasing `max_new_tokens`.\n",
            "  warnings.warn(\n",
            "Evaluating exact match:  71%|███████   | 71/100 [01:30<00:34,  1.19s/it]/usr/local/lib/python3.10/dist-packages/transformers/generation/utils.py:1281: UserWarning: Input length of input_ids is 189, but `max_length` is set to 50. This can lead to unexpected behavior. You should consider increasing `max_new_tokens`.\n",
            "  warnings.warn(\n",
            "Evaluating exact match:  72%|███████▏  | 72/100 [01:31<00:32,  1.17s/it]/usr/local/lib/python3.10/dist-packages/transformers/generation/utils.py:1281: UserWarning: Input length of input_ids is 203, but `max_length` is set to 50. This can lead to unexpected behavior. You should consider increasing `max_new_tokens`.\n",
            "  warnings.warn(\n",
            "Evaluating exact match:  73%|███████▎  | 73/100 [01:32<00:30,  1.13s/it]/usr/local/lib/python3.10/dist-packages/transformers/generation/utils.py:1281: UserWarning: Input length of input_ids is 215, but `max_length` is set to 50. This can lead to unexpected behavior. You should consider increasing `max_new_tokens`.\n",
            "  warnings.warn(\n",
            "Evaluating exact match:  76%|███████▌  | 76/100 [01:36<00:26,  1.12s/it]/usr/local/lib/python3.10/dist-packages/transformers/generation/utils.py:1281: UserWarning: Input length of input_ids is 263, but `max_length` is set to 50. This can lead to unexpected behavior. You should consider increasing `max_new_tokens`.\n",
            "  warnings.warn(\n",
            "Evaluating exact match:  79%|███████▉  | 79/100 [01:40<00:26,  1.26s/it]/usr/local/lib/python3.10/dist-packages/transformers/generation/utils.py:1281: UserWarning: Input length of input_ids is 92, but `max_length` is set to 50. This can lead to unexpected behavior. You should consider increasing `max_new_tokens`.\n",
            "  warnings.warn(\n",
            "Evaluating exact match:  81%|████████  | 81/100 [01:43<00:24,  1.30s/it]/usr/local/lib/python3.10/dist-packages/transformers/generation/utils.py:1281: UserWarning: Input length of input_ids is 62, but `max_length` is set to 50. This can lead to unexpected behavior. You should consider increasing `max_new_tokens`.\n",
            "  warnings.warn(\n",
            "Evaluating exact match:  86%|████████▌ | 86/100 [01:50<00:19,  1.42s/it]/usr/local/lib/python3.10/dist-packages/transformers/generation/utils.py:1281: UserWarning: Input length of input_ids is 155, but `max_length` is set to 50. This can lead to unexpected behavior. You should consider increasing `max_new_tokens`.\n",
            "  warnings.warn(\n",
            "Evaluating exact match:  88%|████████▊ | 88/100 [01:52<00:15,  1.32s/it]/usr/local/lib/python3.10/dist-packages/transformers/generation/utils.py:1281: UserWarning: Input length of input_ids is 123, but `max_length` is set to 50. This can lead to unexpected behavior. You should consider increasing `max_new_tokens`.\n",
            "  warnings.warn(\n",
            "Evaluating exact match:  92%|█████████▏| 92/100 [01:58<00:11,  1.38s/it]/usr/local/lib/python3.10/dist-packages/transformers/generation/utils.py:1281: UserWarning: Input length of input_ids is 325, but `max_length` is set to 50. This can lead to unexpected behavior. You should consider increasing `max_new_tokens`.\n",
            "  warnings.warn(\n",
            "Evaluating exact match:  93%|█████████▎| 93/100 [01:59<00:10,  1.43s/it]/usr/local/lib/python3.10/dist-packages/transformers/generation/utils.py:1281: UserWarning: Input length of input_ids is 257, but `max_length` is set to 50. This can lead to unexpected behavior. You should consider increasing `max_new_tokens`.\n",
            "  warnings.warn(\n",
            "Evaluating exact match:  95%|█████████▌| 95/100 [02:03<00:07,  1.53s/it]/usr/local/lib/python3.10/dist-packages/transformers/generation/utils.py:1281: UserWarning: Input length of input_ids is 73, but `max_length` is set to 50. This can lead to unexpected behavior. You should consider increasing `max_new_tokens`.\n",
            "  warnings.warn(\n",
            "Evaluating exact match:  96%|█████████▌| 96/100 [02:04<00:05,  1.42s/it]/usr/local/lib/python3.10/dist-packages/transformers/generation/utils.py:1281: UserWarning: Input length of input_ids is 160, but `max_length` is set to 50. This can lead to unexpected behavior. You should consider increasing `max_new_tokens`.\n",
            "  warnings.warn(\n",
            "Evaluating exact match:  97%|█████████▋| 97/100 [02:05<00:04,  1.35s/it]/usr/local/lib/python3.10/dist-packages/transformers/generation/utils.py:1281: UserWarning: Input length of input_ids is 270, but `max_length` is set to 50. This can lead to unexpected behavior. You should consider increasing `max_new_tokens`.\n",
            "  warnings.warn(\n",
            "Evaluating exact match: 100%|██████████| 100/100 [02:09<00:00,  1.29s/it]"
          ]
        },
        {
          "output_type": "stream",
          "name": "stdout",
          "text": [
            "Exact Match Score: 38.0000\n"
          ]
        },
        {
          "output_type": "stream",
          "name": "stderr",
          "text": [
            "\n"
          ]
        }
      ]
    },
    {
      "cell_type": "markdown",
      "source": [
        "### Summary of the Evaluation metrics with ILLAMA"
      ],
      "metadata": {
        "id": "2tmVBZ8FJ1ju"
      }
    },
    {
      "cell_type": "markdown",
      "source": [
        "![image.png](data:image/png;base64,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)"
      ],
      "metadata": {
        "id": "uNsJhiBhKCN4"
      }
    },
    {
      "cell_type": "markdown",
      "source": [
        "# Conclusion:\n",
        "\n",
        "In conclusion, this project provided an effective solution for adapting large-scale lan-\n",
        "guage models for specific use cases with high efficiency, without compromising the per-\n",
        "formance needed for real-world applications. Future work can build on this foundation\n",
        "by exploring additional optimization techniques, experimenting with different fine-tuning\n",
        "strategies, and expanding the scope of tasks to further improve model adaptability and\n",
        "robustness."
      ],
      "metadata": {
        "id": "AVmXnyqeN6vj"
      }
    },
    {
      "cell_type": "code",
      "source": [],
      "metadata": {
        "id": "TBDm9K0zJ64U"
      },
      "execution_count": null,
      "outputs": []
    }
  ],
  "metadata": {
    "accelerator": "GPU",
    "colab": {
      "gpuType": "L4",
      "provenance": [],
      "machine_shape": "hm"
    },
    "kernelspec": {
      "display_name": "Python 3",
      "name": "python3"
    },
    "language_info": {
      "name": "python"
    },
    "widgets": {
      "application/vnd.jupyter.widget-state+json": {
        "cd6b57338616400aa2eb7fdec771db4e": {
          "model_module": "@jupyter-widgets/controls",
          "model_name": "HBoxModel",
          "model_module_version": "1.5.0",
          "state": {
            "_dom_classes": [],
            "_model_module": "@jupyter-widgets/controls",
            "_model_module_version": "1.5.0",
            "_model_name": "HBoxModel",
            "_view_count": null,
            "_view_module": "@jupyter-widgets/controls",
            "_view_module_version": "1.5.0",
            "_view_name": "HBoxView",
            "box_style": "",
            "children": [
              "IPY_MODEL_3a73df4d41194f4e8399cff0db99eba3",
              "IPY_MODEL_7ffac5ec93d746cf89a8fc14be8ca8fb",
              "IPY_MODEL_9ebbdf4e293f42fe9a60d7aa9d770dc5"
            ],
            "layout": "IPY_MODEL_b16dde6786c94bbe8364d6916c4fa3a7"
          }
        },
        "3a73df4d41194f4e8399cff0db99eba3": {
          "model_module": "@jupyter-widgets/controls",
          "model_name": "HTMLModel",
          "model_module_version": "1.5.0",
          "state": {
            "_dom_classes": [],
            "_model_module": "@jupyter-widgets/controls",
            "_model_module_version": "1.5.0",
            "_model_name": "HTMLModel",
            "_view_count": null,
            "_view_module": "@jupyter-widgets/controls",
            "_view_module_version": "1.5.0",
            "_view_name": "HTMLView",
            "description": "",
            "description_tooltip": null,
            "layout": "IPY_MODEL_6e03e2936ef64b088e536c87af704773",
            "placeholder": "​",
            "style": "IPY_MODEL_ffeb8c32f821459e8572bfe276b7dc3e",
            "value": "Map: 100%"
          }
        },
        "7ffac5ec93d746cf89a8fc14be8ca8fb": {
          "model_module": "@jupyter-widgets/controls",
          "model_name": "FloatProgressModel",
          "model_module_version": "1.5.0",
          "state": {
            "_dom_classes": [],
            "_model_module": "@jupyter-widgets/controls",
            "_model_module_version": "1.5.0",
            "_model_name": "FloatProgressModel",
            "_view_count": null,
            "_view_module": "@jupyter-widgets/controls",
            "_view_module_version": "1.5.0",
            "_view_name": "ProgressView",
            "bar_style": "success",
            "description": "",
            "description_tooltip": null,
            "layout": "IPY_MODEL_fa810404aaf146ed80a4479d9916c743",
            "max": 1600,
            "min": 0,
            "orientation": "horizontal",
            "style": "IPY_MODEL_087604d5488848249a7ed8bbb3e2cbf4",
            "value": 1600
          }
        },
        "9ebbdf4e293f42fe9a60d7aa9d770dc5": {
          "model_module": "@jupyter-widgets/controls",
          "model_name": "HTMLModel",
          "model_module_version": "1.5.0",
          "state": {
            "_dom_classes": [],
            "_model_module": "@jupyter-widgets/controls",
            "_model_module_version": "1.5.0",
            "_model_name": "HTMLModel",
            "_view_count": null,
            "_view_module": "@jupyter-widgets/controls",
            "_view_module_version": "1.5.0",
            "_view_name": "HTMLView",
            "description": "",
            "description_tooltip": null,
            "layout": "IPY_MODEL_9235d7ec96424980926b445179c40a5c",
            "placeholder": "​",
            "style": "IPY_MODEL_7ccc81138f8f4eed988cacd34673c2b8",
            "value": " 1600/1600 [00:01&lt;00:00, 1481.55 examples/s]"
          }
        },
        "b16dde6786c94bbe8364d6916c4fa3a7": {
          "model_module": "@jupyter-widgets/base",
          "model_name": "LayoutModel",
          "model_module_version": "1.2.0",
          "state": {
            "_model_module": "@jupyter-widgets/base",
            "_model_module_version": "1.2.0",
            "_model_name": "LayoutModel",
            "_view_count": null,
            "_view_module": "@jupyter-widgets/base",
            "_view_module_version": "1.2.0",
            "_view_name": "LayoutView",
            "align_content": null,
            "align_items": null,
            "align_self": null,
            "border": null,
            "bottom": null,
            "display": null,
            "flex": null,
            "flex_flow": null,
            "grid_area": null,
            "grid_auto_columns": null,
            "grid_auto_flow": null,
            "grid_auto_rows": null,
            "grid_column": null,
            "grid_gap": null,
            "grid_row": null,
            "grid_template_areas": null,
            "grid_template_columns": null,
            "grid_template_rows": null,
            "height": null,
            "justify_content": null,
            "justify_items": null,
            "left": null,
            "margin": null,
            "max_height": null,
            "max_width": null,
            "min_height": null,
            "min_width": null,
            "object_fit": null,
            "object_position": null,
            "order": null,
            "overflow": null,
            "overflow_x": null,
            "overflow_y": null,
            "padding": null,
            "right": null,
            "top": null,
            "visibility": null,
            "width": null
          }
        },
        "6e03e2936ef64b088e536c87af704773": {
          "model_module": "@jupyter-widgets/base",
          "model_name": "LayoutModel",
          "model_module_version": "1.2.0",
          "state": {
            "_model_module": "@jupyter-widgets/base",
            "_model_module_version": "1.2.0",
            "_model_name": "LayoutModel",
            "_view_count": null,
            "_view_module": "@jupyter-widgets/base",
            "_view_module_version": "1.2.0",
            "_view_name": "LayoutView",
            "align_content": null,
            "align_items": null,
            "align_self": null,
            "border": null,
            "bottom": null,
            "display": null,
            "flex": null,
            "flex_flow": null,
            "grid_area": null,
            "grid_auto_columns": null,
            "grid_auto_flow": null,
            "grid_auto_rows": null,
            "grid_column": null,
            "grid_gap": null,
            "grid_row": null,
            "grid_template_areas": null,
            "grid_template_columns": null,
            "grid_template_rows": null,
            "height": null,
            "justify_content": null,
            "justify_items": null,
            "left": null,
            "margin": null,
            "max_height": null,
            "max_width": null,
            "min_height": null,
            "min_width": null,
            "object_fit": null,
            "object_position": null,
            "order": null,
            "overflow": null,
            "overflow_x": null,
            "overflow_y": null,
            "padding": null,
            "right": null,
            "top": null,
            "visibility": null,
            "width": null
          }
        },
        "ffeb8c32f821459e8572bfe276b7dc3e": {
          "model_module": "@jupyter-widgets/controls",
          "model_name": "DescriptionStyleModel",
          "model_module_version": "1.5.0",
          "state": {
            "_model_module": "@jupyter-widgets/controls",
            "_model_module_version": "1.5.0",
            "_model_name": "DescriptionStyleModel",
            "_view_count": null,
            "_view_module": "@jupyter-widgets/base",
            "_view_module_version": "1.2.0",
            "_view_name": "StyleView",
            "description_width": ""
          }
        },
        "fa810404aaf146ed80a4479d9916c743": {
          "model_module": "@jupyter-widgets/base",
          "model_name": "LayoutModel",
          "model_module_version": "1.2.0",
          "state": {
            "_model_module": "@jupyter-widgets/base",
            "_model_module_version": "1.2.0",
            "_model_name": "LayoutModel",
            "_view_count": null,
            "_view_module": "@jupyter-widgets/base",
            "_view_module_version": "1.2.0",
            "_view_name": "LayoutView",
            "align_content": null,
            "align_items": null,
            "align_self": null,
            "border": null,
            "bottom": null,
            "display": null,
            "flex": null,
            "flex_flow": null,
            "grid_area": null,
            "grid_auto_columns": null,
            "grid_auto_flow": null,
            "grid_auto_rows": null,
            "grid_column": null,
            "grid_gap": null,
            "grid_row": null,
            "grid_template_areas": null,
            "grid_template_columns": null,
            "grid_template_rows": null,
            "height": null,
            "justify_content": null,
            "justify_items": null,
            "left": null,
            "margin": null,
            "max_height": null,
            "max_width": null,
            "min_height": null,
            "min_width": null,
            "object_fit": null,
            "object_position": null,
            "order": null,
            "overflow": null,
            "overflow_x": null,
            "overflow_y": null,
            "padding": null,
            "right": null,
            "top": null,
            "visibility": null,
            "width": null
          }
        },
        "087604d5488848249a7ed8bbb3e2cbf4": {
          "model_module": "@jupyter-widgets/controls",
          "model_name": "ProgressStyleModel",
          "model_module_version": "1.5.0",
          "state": {
            "_model_module": "@jupyter-widgets/controls",
            "_model_module_version": "1.5.0",
            "_model_name": "ProgressStyleModel",
            "_view_count": null,
            "_view_module": "@jupyter-widgets/base",
            "_view_module_version": "1.2.0",
            "_view_name": "StyleView",
            "bar_color": null,
            "description_width": ""
          }
        },
        "9235d7ec96424980926b445179c40a5c": {
          "model_module": "@jupyter-widgets/base",
          "model_name": "LayoutModel",
          "model_module_version": "1.2.0",
          "state": {
            "_model_module": "@jupyter-widgets/base",
            "_model_module_version": "1.2.0",
            "_model_name": "LayoutModel",
            "_view_count": null,
            "_view_module": "@jupyter-widgets/base",
            "_view_module_version": "1.2.0",
            "_view_name": "LayoutView",
            "align_content": null,
            "align_items": null,
            "align_self": null,
            "border": null,
            "bottom": null,
            "display": null,
            "flex": null,
            "flex_flow": null,
            "grid_area": null,
            "grid_auto_columns": null,
            "grid_auto_flow": null,
            "grid_auto_rows": null,
            "grid_column": null,
            "grid_gap": null,
            "grid_row": null,
            "grid_template_areas": null,
            "grid_template_columns": null,
            "grid_template_rows": null,
            "height": null,
            "justify_content": null,
            "justify_items": null,
            "left": null,
            "margin": null,
            "max_height": null,
            "max_width": null,
            "min_height": null,
            "min_width": null,
            "object_fit": null,
            "object_position": null,
            "order": null,
            "overflow": null,
            "overflow_x": null,
            "overflow_y": null,
            "padding": null,
            "right": null,
            "top": null,
            "visibility": null,
            "width": null
          }
        },
        "7ccc81138f8f4eed988cacd34673c2b8": {
          "model_module": "@jupyter-widgets/controls",
          "model_name": "DescriptionStyleModel",
          "model_module_version": "1.5.0",
          "state": {
            "_model_module": "@jupyter-widgets/controls",
            "_model_module_version": "1.5.0",
            "_model_name": "DescriptionStyleModel",
            "_view_count": null,
            "_view_module": "@jupyter-widgets/base",
            "_view_module_version": "1.2.0",
            "_view_name": "StyleView",
            "description_width": ""
          }
        },
        "9ca1c4fe95994e92a6956ccc1d7188d3": {
          "model_module": "@jupyter-widgets/controls",
          "model_name": "HBoxModel",
          "model_module_version": "1.5.0",
          "state": {
            "_dom_classes": [],
            "_model_module": "@jupyter-widgets/controls",
            "_model_module_version": "1.5.0",
            "_model_name": "HBoxModel",
            "_view_count": null,
            "_view_module": "@jupyter-widgets/controls",
            "_view_module_version": "1.5.0",
            "_view_name": "HBoxView",
            "box_style": "",
            "children": [
              "IPY_MODEL_8ace5ee83d4545f18846e7b7abcd8ebb",
              "IPY_MODEL_6595b7b50d56430c948cff4979f3d789",
              "IPY_MODEL_a81785fad28748db90a67e9c2327f201"
            ],
            "layout": "IPY_MODEL_9547d7416e40481ea3d02a6bce9f0135"
          }
        },
        "8ace5ee83d4545f18846e7b7abcd8ebb": {
          "model_module": "@jupyter-widgets/controls",
          "model_name": "HTMLModel",
          "model_module_version": "1.5.0",
          "state": {
            "_dom_classes": [],
            "_model_module": "@jupyter-widgets/controls",
            "_model_module_version": "1.5.0",
            "_model_name": "HTMLModel",
            "_view_count": null,
            "_view_module": "@jupyter-widgets/controls",
            "_view_module_version": "1.5.0",
            "_view_name": "HTMLView",
            "description": "",
            "description_tooltip": null,
            "layout": "IPY_MODEL_95fe4a0bcc4a453fb53aea0633a1a8e2",
            "placeholder": "​",
            "style": "IPY_MODEL_359ff284d3a1494980ed1c54e205cd88",
            "value": "Map: 100%"
          }
        },
        "6595b7b50d56430c948cff4979f3d789": {
          "model_module": "@jupyter-widgets/controls",
          "model_name": "FloatProgressModel",
          "model_module_version": "1.5.0",
          "state": {
            "_dom_classes": [],
            "_model_module": "@jupyter-widgets/controls",
            "_model_module_version": "1.5.0",
            "_model_name": "FloatProgressModel",
            "_view_count": null,
            "_view_module": "@jupyter-widgets/controls",
            "_view_module_version": "1.5.0",
            "_view_name": "ProgressView",
            "bar_style": "success",
            "description": "",
            "description_tooltip": null,
            "layout": "IPY_MODEL_aa95fb9c21bb4740b10201711bdaaf3f",
            "max": 400,
            "min": 0,
            "orientation": "horizontal",
            "style": "IPY_MODEL_2540d0494ca34d6399fad889d37b277d",
            "value": 400
          }
        },
        "a81785fad28748db90a67e9c2327f201": {
          "model_module": "@jupyter-widgets/controls",
          "model_name": "HTMLModel",
          "model_module_version": "1.5.0",
          "state": {
            "_dom_classes": [],
            "_model_module": "@jupyter-widgets/controls",
            "_model_module_version": "1.5.0",
            "_model_name": "HTMLModel",
            "_view_count": null,
            "_view_module": "@jupyter-widgets/controls",
            "_view_module_version": "1.5.0",
            "_view_name": "HTMLView",
            "description": "",
            "description_tooltip": null,
            "layout": "IPY_MODEL_fc2af586b16746fe8b768b3f5598eecc",
            "placeholder": "​",
            "style": "IPY_MODEL_a3dc2d8018d04ca5863939edfc891924",
            "value": " 400/400 [00:00&lt;00:00, 1754.17 examples/s]"
          }
        },
        "9547d7416e40481ea3d02a6bce9f0135": {
          "model_module": "@jupyter-widgets/base",
          "model_name": "LayoutModel",
          "model_module_version": "1.2.0",
          "state": {
            "_model_module": "@jupyter-widgets/base",
            "_model_module_version": "1.2.0",
            "_model_name": "LayoutModel",
            "_view_count": null,
            "_view_module": "@jupyter-widgets/base",
            "_view_module_version": "1.2.0",
            "_view_name": "LayoutView",
            "align_content": null,
            "align_items": null,
            "align_self": null,
            "border": null,
            "bottom": null,
            "display": null,
            "flex": null,
            "flex_flow": null,
            "grid_area": null,
            "grid_auto_columns": null,
            "grid_auto_flow": null,
            "grid_auto_rows": null,
            "grid_column": null,
            "grid_gap": null,
            "grid_row": null,
            "grid_template_areas": null,
            "grid_template_columns": null,
            "grid_template_rows": null,
            "height": null,
            "justify_content": null,
            "justify_items": null,
            "left": null,
            "margin": null,
            "max_height": null,
            "max_width": null,
            "min_height": null,
            "min_width": null,
            "object_fit": null,
            "object_position": null,
            "order": null,
            "overflow": null,
            "overflow_x": null,
            "overflow_y": null,
            "padding": null,
            "right": null,
            "top": null,
            "visibility": null,
            "width": null
          }
        },
        "95fe4a0bcc4a453fb53aea0633a1a8e2": {
          "model_module": "@jupyter-widgets/base",
          "model_name": "LayoutModel",
          "model_module_version": "1.2.0",
          "state": {
            "_model_module": "@jupyter-widgets/base",
            "_model_module_version": "1.2.0",
            "_model_name": "LayoutModel",
            "_view_count": null,
            "_view_module": "@jupyter-widgets/base",
            "_view_module_version": "1.2.0",
            "_view_name": "LayoutView",
            "align_content": null,
            "align_items": null,
            "align_self": null,
            "border": null,
            "bottom": null,
            "display": null,
            "flex": null,
            "flex_flow": null,
            "grid_area": null,
            "grid_auto_columns": null,
            "grid_auto_flow": null,
            "grid_auto_rows": null,
            "grid_column": null,
            "grid_gap": null,
            "grid_row": null,
            "grid_template_areas": null,
            "grid_template_columns": null,
            "grid_template_rows": null,
            "height": null,
            "justify_content": null,
            "justify_items": null,
            "left": null,
            "margin": null,
            "max_height": null,
            "max_width": null,
            "min_height": null,
            "min_width": null,
            "object_fit": null,
            "object_position": null,
            "order": null,
            "overflow": null,
            "overflow_x": null,
            "overflow_y": null,
            "padding": null,
            "right": null,
            "top": null,
            "visibility": null,
            "width": null
          }
        },
        "359ff284d3a1494980ed1c54e205cd88": {
          "model_module": "@jupyter-widgets/controls",
          "model_name": "DescriptionStyleModel",
          "model_module_version": "1.5.0",
          "state": {
            "_model_module": "@jupyter-widgets/controls",
            "_model_module_version": "1.5.0",
            "_model_name": "DescriptionStyleModel",
            "_view_count": null,
            "_view_module": "@jupyter-widgets/base",
            "_view_module_version": "1.2.0",
            "_view_name": "StyleView",
            "description_width": ""
          }
        },
        "aa95fb9c21bb4740b10201711bdaaf3f": {
          "model_module": "@jupyter-widgets/base",
          "model_name": "LayoutModel",
          "model_module_version": "1.2.0",
          "state": {
            "_model_module": "@jupyter-widgets/base",
            "_model_module_version": "1.2.0",
            "_model_name": "LayoutModel",
            "_view_count": null,
            "_view_module": "@jupyter-widgets/base",
            "_view_module_version": "1.2.0",
            "_view_name": "LayoutView",
            "align_content": null,
            "align_items": null,
            "align_self": null,
            "border": null,
            "bottom": null,
            "display": null,
            "flex": null,
            "flex_flow": null,
            "grid_area": null,
            "grid_auto_columns": null,
            "grid_auto_flow": null,
            "grid_auto_rows": null,
            "grid_column": null,
            "grid_gap": null,
            "grid_row": null,
            "grid_template_areas": null,
            "grid_template_columns": null,
            "grid_template_rows": null,
            "height": null,
            "justify_content": null,
            "justify_items": null,
            "left": null,
            "margin": null,
            "max_height": null,
            "max_width": null,
            "min_height": null,
            "min_width": null,
            "object_fit": null,
            "object_position": null,
            "order": null,
            "overflow": null,
            "overflow_x": null,
            "overflow_y": null,
            "padding": null,
            "right": null,
            "top": null,
            "visibility": null,
            "width": null
          }
        },
        "2540d0494ca34d6399fad889d37b277d": {
          "model_module": "@jupyter-widgets/controls",
          "model_name": "ProgressStyleModel",
          "model_module_version": "1.5.0",
          "state": {
            "_model_module": "@jupyter-widgets/controls",
            "_model_module_version": "1.5.0",
            "_model_name": "ProgressStyleModel",
            "_view_count": null,
            "_view_module": "@jupyter-widgets/base",
            "_view_module_version": "1.2.0",
            "_view_name": "StyleView",
            "bar_color": null,
            "description_width": ""
          }
        },
        "fc2af586b16746fe8b768b3f5598eecc": {
          "model_module": "@jupyter-widgets/base",
          "model_name": "LayoutModel",
          "model_module_version": "1.2.0",
          "state": {
            "_model_module": "@jupyter-widgets/base",
            "_model_module_version": "1.2.0",
            "_model_name": "LayoutModel",
            "_view_count": null,
            "_view_module": "@jupyter-widgets/base",
            "_view_module_version": "1.2.0",
            "_view_name": "LayoutView",
            "align_content": null,
            "align_items": null,
            "align_self": null,
            "border": null,
            "bottom": null,
            "display": null,
            "flex": null,
            "flex_flow": null,
            "grid_area": null,
            "grid_auto_columns": null,
            "grid_auto_flow": null,
            "grid_auto_rows": null,
            "grid_column": null,
            "grid_gap": null,
            "grid_row": null,
            "grid_template_areas": null,
            "grid_template_columns": null,
            "grid_template_rows": null,
            "height": null,
            "justify_content": null,
            "justify_items": null,
            "left": null,
            "margin": null,
            "max_height": null,
            "max_width": null,
            "min_height": null,
            "min_width": null,
            "object_fit": null,
            "object_position": null,
            "order": null,
            "overflow": null,
            "overflow_x": null,
            "overflow_y": null,
            "padding": null,
            "right": null,
            "top": null,
            "visibility": null,
            "width": null
          }
        },
        "a3dc2d8018d04ca5863939edfc891924": {
          "model_module": "@jupyter-widgets/controls",
          "model_name": "DescriptionStyleModel",
          "model_module_version": "1.5.0",
          "state": {
            "_model_module": "@jupyter-widgets/controls",
            "_model_module_version": "1.5.0",
            "_model_name": "DescriptionStyleModel",
            "_view_count": null,
            "_view_module": "@jupyter-widgets/base",
            "_view_module_version": "1.2.0",
            "_view_name": "StyleView",
            "description_width": ""
          }
        },
        "4761c83dfa8f4dbebfd0797f45530240": {
          "model_module": "@jupyter-widgets/controls",
          "model_name": "HBoxModel",
          "model_module_version": "1.5.0",
          "state": {
            "_dom_classes": [],
            "_model_module": "@jupyter-widgets/controls",
            "_model_module_version": "1.5.0",
            "_model_name": "HBoxModel",
            "_view_count": null,
            "_view_module": "@jupyter-widgets/controls",
            "_view_module_version": "1.5.0",
            "_view_name": "HBoxView",
            "box_style": "",
            "children": [
              "IPY_MODEL_62979ebb8e3e479595e2c3a685ced258",
              "IPY_MODEL_13011e85ca224728ba1ffb5c4c84538c",
              "IPY_MODEL_a430a9b799584b45993b0b4b6607e968"
            ],
            "layout": "IPY_MODEL_daf5817a1955436c8bb50cc7665324ad"
          }
        },
        "62979ebb8e3e479595e2c3a685ced258": {
          "model_module": "@jupyter-widgets/controls",
          "model_name": "HTMLModel",
          "model_module_version": "1.5.0",
          "state": {
            "_dom_classes": [],
            "_model_module": "@jupyter-widgets/controls",
            "_model_module_version": "1.5.0",
            "_model_name": "HTMLModel",
            "_view_count": null,
            "_view_module": "@jupyter-widgets/controls",
            "_view_module_version": "1.5.0",
            "_view_name": "HTMLView",
            "description": "",
            "description_tooltip": null,
            "layout": "IPY_MODEL_39715dd69e514f3b833584825fc84e87",
            "placeholder": "​",
            "style": "IPY_MODEL_10320feabc3d4b1c8de2b0012a529ce0",
            "value": "Map: 100%"
          }
        },
        "13011e85ca224728ba1ffb5c4c84538c": {
          "model_module": "@jupyter-widgets/controls",
          "model_name": "FloatProgressModel",
          "model_module_version": "1.5.0",
          "state": {
            "_dom_classes": [],
            "_model_module": "@jupyter-widgets/controls",
            "_model_module_version": "1.5.0",
            "_model_name": "FloatProgressModel",
            "_view_count": null,
            "_view_module": "@jupyter-widgets/controls",
            "_view_module_version": "1.5.0",
            "_view_name": "ProgressView",
            "bar_style": "success",
            "description": "",
            "description_tooltip": null,
            "layout": "IPY_MODEL_786b73ff658a4505884fb0a52e78e3fd",
            "max": 1600,
            "min": 0,
            "orientation": "horizontal",
            "style": "IPY_MODEL_97af4ebf74d04345b065e269f78bff6f",
            "value": 1600
          }
        },
        "a430a9b799584b45993b0b4b6607e968": {
          "model_module": "@jupyter-widgets/controls",
          "model_name": "HTMLModel",
          "model_module_version": "1.5.0",
          "state": {
            "_dom_classes": [],
            "_model_module": "@jupyter-widgets/controls",
            "_model_module_version": "1.5.0",
            "_model_name": "HTMLModel",
            "_view_count": null,
            "_view_module": "@jupyter-widgets/controls",
            "_view_module_version": "1.5.0",
            "_view_name": "HTMLView",
            "description": "",
            "description_tooltip": null,
            "layout": "IPY_MODEL_6b2c23c3ca93445ba762560dc4217564",
            "placeholder": "​",
            "style": "IPY_MODEL_060d070913b2445eb5185dff61b130a6",
            "value": " 1600/1600 [00:00&lt;00:00, 2529.74 examples/s]"
          }
        },
        "daf5817a1955436c8bb50cc7665324ad": {
          "model_module": "@jupyter-widgets/base",
          "model_name": "LayoutModel",
          "model_module_version": "1.2.0",
          "state": {
            "_model_module": "@jupyter-widgets/base",
            "_model_module_version": "1.2.0",
            "_model_name": "LayoutModel",
            "_view_count": null,
            "_view_module": "@jupyter-widgets/base",
            "_view_module_version": "1.2.0",
            "_view_name": "LayoutView",
            "align_content": null,
            "align_items": null,
            "align_self": null,
            "border": null,
            "bottom": null,
            "display": null,
            "flex": null,
            "flex_flow": null,
            "grid_area": null,
            "grid_auto_columns": null,
            "grid_auto_flow": null,
            "grid_auto_rows": null,
            "grid_column": null,
            "grid_gap": null,
            "grid_row": null,
            "grid_template_areas": null,
            "grid_template_columns": null,
            "grid_template_rows": null,
            "height": null,
            "justify_content": null,
            "justify_items": null,
            "left": null,
            "margin": null,
            "max_height": null,
            "max_width": null,
            "min_height": null,
            "min_width": null,
            "object_fit": null,
            "object_position": null,
            "order": null,
            "overflow": null,
            "overflow_x": null,
            "overflow_y": null,
            "padding": null,
            "right": null,
            "top": null,
            "visibility": null,
            "width": null
          }
        },
        "39715dd69e514f3b833584825fc84e87": {
          "model_module": "@jupyter-widgets/base",
          "model_name": "LayoutModel",
          "model_module_version": "1.2.0",
          "state": {
            "_model_module": "@jupyter-widgets/base",
            "_model_module_version": "1.2.0",
            "_model_name": "LayoutModel",
            "_view_count": null,
            "_view_module": "@jupyter-widgets/base",
            "_view_module_version": "1.2.0",
            "_view_name": "LayoutView",
            "align_content": null,
            "align_items": null,
            "align_self": null,
            "border": null,
            "bottom": null,
            "display": null,
            "flex": null,
            "flex_flow": null,
            "grid_area": null,
            "grid_auto_columns": null,
            "grid_auto_flow": null,
            "grid_auto_rows": null,
            "grid_column": null,
            "grid_gap": null,
            "grid_row": null,
            "grid_template_areas": null,
            "grid_template_columns": null,
            "grid_template_rows": null,
            "height": null,
            "justify_content": null,
            "justify_items": null,
            "left": null,
            "margin": null,
            "max_height": null,
            "max_width": null,
            "min_height": null,
            "min_width": null,
            "object_fit": null,
            "object_position": null,
            "order": null,
            "overflow": null,
            "overflow_x": null,
            "overflow_y": null,
            "padding": null,
            "right": null,
            "top": null,
            "visibility": null,
            "width": null
          }
        },
        "10320feabc3d4b1c8de2b0012a529ce0": {
          "model_module": "@jupyter-widgets/controls",
          "model_name": "DescriptionStyleModel",
          "model_module_version": "1.5.0",
          "state": {
            "_model_module": "@jupyter-widgets/controls",
            "_model_module_version": "1.5.0",
            "_model_name": "DescriptionStyleModel",
            "_view_count": null,
            "_view_module": "@jupyter-widgets/base",
            "_view_module_version": "1.2.0",
            "_view_name": "StyleView",
            "description_width": ""
          }
        },
        "786b73ff658a4505884fb0a52e78e3fd": {
          "model_module": "@jupyter-widgets/base",
          "model_name": "LayoutModel",
          "model_module_version": "1.2.0",
          "state": {
            "_model_module": "@jupyter-widgets/base",
            "_model_module_version": "1.2.0",
            "_model_name": "LayoutModel",
            "_view_count": null,
            "_view_module": "@jupyter-widgets/base",
            "_view_module_version": "1.2.0",
            "_view_name": "LayoutView",
            "align_content": null,
            "align_items": null,
            "align_self": null,
            "border": null,
            "bottom": null,
            "display": null,
            "flex": null,
            "flex_flow": null,
            "grid_area": null,
            "grid_auto_columns": null,
            "grid_auto_flow": null,
            "grid_auto_rows": null,
            "grid_column": null,
            "grid_gap": null,
            "grid_row": null,
            "grid_template_areas": null,
            "grid_template_columns": null,
            "grid_template_rows": null,
            "height": null,
            "justify_content": null,
            "justify_items": null,
            "left": null,
            "margin": null,
            "max_height": null,
            "max_width": null,
            "min_height": null,
            "min_width": null,
            "object_fit": null,
            "object_position": null,
            "order": null,
            "overflow": null,
            "overflow_x": null,
            "overflow_y": null,
            "padding": null,
            "right": null,
            "top": null,
            "visibility": null,
            "width": null
          }
        },
        "97af4ebf74d04345b065e269f78bff6f": {
          "model_module": "@jupyter-widgets/controls",
          "model_name": "ProgressStyleModel",
          "model_module_version": "1.5.0",
          "state": {
            "_model_module": "@jupyter-widgets/controls",
            "_model_module_version": "1.5.0",
            "_model_name": "ProgressStyleModel",
            "_view_count": null,
            "_view_module": "@jupyter-widgets/base",
            "_view_module_version": "1.2.0",
            "_view_name": "StyleView",
            "bar_color": null,
            "description_width": ""
          }
        },
        "6b2c23c3ca93445ba762560dc4217564": {
          "model_module": "@jupyter-widgets/base",
          "model_name": "LayoutModel",
          "model_module_version": "1.2.0",
          "state": {
            "_model_module": "@jupyter-widgets/base",
            "_model_module_version": "1.2.0",
            "_model_name": "LayoutModel",
            "_view_count": null,
            "_view_module": "@jupyter-widgets/base",
            "_view_module_version": "1.2.0",
            "_view_name": "LayoutView",
            "align_content": null,
            "align_items": null,
            "align_self": null,
            "border": null,
            "bottom": null,
            "display": null,
            "flex": null,
            "flex_flow": null,
            "grid_area": null,
            "grid_auto_columns": null,
            "grid_auto_flow": null,
            "grid_auto_rows": null,
            "grid_column": null,
            "grid_gap": null,
            "grid_row": null,
            "grid_template_areas": null,
            "grid_template_columns": null,
            "grid_template_rows": null,
            "height": null,
            "justify_content": null,
            "justify_items": null,
            "left": null,
            "margin": null,
            "max_height": null,
            "max_width": null,
            "min_height": null,
            "min_width": null,
            "object_fit": null,
            "object_position": null,
            "order": null,
            "overflow": null,
            "overflow_x": null,
            "overflow_y": null,
            "padding": null,
            "right": null,
            "top": null,
            "visibility": null,
            "width": null
          }
        },
        "060d070913b2445eb5185dff61b130a6": {
          "model_module": "@jupyter-widgets/controls",
          "model_name": "DescriptionStyleModel",
          "model_module_version": "1.5.0",
          "state": {
            "_model_module": "@jupyter-widgets/controls",
            "_model_module_version": "1.5.0",
            "_model_name": "DescriptionStyleModel",
            "_view_count": null,
            "_view_module": "@jupyter-widgets/base",
            "_view_module_version": "1.2.0",
            "_view_name": "StyleView",
            "description_width": ""
          }
        },
        "3b1e7421e32b4fd48e5ee8c88eff96e0": {
          "model_module": "@jupyter-widgets/controls",
          "model_name": "HBoxModel",
          "model_module_version": "1.5.0",
          "state": {
            "_dom_classes": [],
            "_model_module": "@jupyter-widgets/controls",
            "_model_module_version": "1.5.0",
            "_model_name": "HBoxModel",
            "_view_count": null,
            "_view_module": "@jupyter-widgets/controls",
            "_view_module_version": "1.5.0",
            "_view_name": "HBoxView",
            "box_style": "",
            "children": [
              "IPY_MODEL_5aa9270168eb4ec7ad6f3f5f6bf859d4",
              "IPY_MODEL_ee4732cb0d0a46fbae72659d6836fe7b",
              "IPY_MODEL_27bbc4ef8a9c4092a8e25e7b150cb08b"
            ],
            "layout": "IPY_MODEL_354cad2a969c417e922d75686e72f601"
          }
        },
        "5aa9270168eb4ec7ad6f3f5f6bf859d4": {
          "model_module": "@jupyter-widgets/controls",
          "model_name": "HTMLModel",
          "model_module_version": "1.5.0",
          "state": {
            "_dom_classes": [],
            "_model_module": "@jupyter-widgets/controls",
            "_model_module_version": "1.5.0",
            "_model_name": "HTMLModel",
            "_view_count": null,
            "_view_module": "@jupyter-widgets/controls",
            "_view_module_version": "1.5.0",
            "_view_name": "HTMLView",
            "description": "",
            "description_tooltip": null,
            "layout": "IPY_MODEL_e5dfeca998ba4df798cf925b6078697f",
            "placeholder": "​",
            "style": "IPY_MODEL_a34f8cc210a544a09056148c859fd401",
            "value": "Map: 100%"
          }
        },
        "ee4732cb0d0a46fbae72659d6836fe7b": {
          "model_module": "@jupyter-widgets/controls",
          "model_name": "FloatProgressModel",
          "model_module_version": "1.5.0",
          "state": {
            "_dom_classes": [],
            "_model_module": "@jupyter-widgets/controls",
            "_model_module_version": "1.5.0",
            "_model_name": "FloatProgressModel",
            "_view_count": null,
            "_view_module": "@jupyter-widgets/controls",
            "_view_module_version": "1.5.0",
            "_view_name": "ProgressView",
            "bar_style": "success",
            "description": "",
            "description_tooltip": null,
            "layout": "IPY_MODEL_55253e6d9e764ae6be1a51de88d8b065",
            "max": 400,
            "min": 0,
            "orientation": "horizontal",
            "style": "IPY_MODEL_1eedf14abbcd41c5865d465372a30894",
            "value": 400
          }
        },
        "27bbc4ef8a9c4092a8e25e7b150cb08b": {
          "model_module": "@jupyter-widgets/controls",
          "model_name": "HTMLModel",
          "model_module_version": "1.5.0",
          "state": {
            "_dom_classes": [],
            "_model_module": "@jupyter-widgets/controls",
            "_model_module_version": "1.5.0",
            "_model_name": "HTMLModel",
            "_view_count": null,
            "_view_module": "@jupyter-widgets/controls",
            "_view_module_version": "1.5.0",
            "_view_name": "HTMLView",
            "description": "",
            "description_tooltip": null,
            "layout": "IPY_MODEL_e2d276b87145419893b49c807065b5e6",
            "placeholder": "​",
            "style": "IPY_MODEL_26932279bcb04a0490c331eb3b9dcf33",
            "value": " 400/400 [00:00&lt;00:00, 2314.55 examples/s]"
          }
        },
        "354cad2a969c417e922d75686e72f601": {
          "model_module": "@jupyter-widgets/base",
          "model_name": "LayoutModel",
          "model_module_version": "1.2.0",
          "state": {
            "_model_module": "@jupyter-widgets/base",
            "_model_module_version": "1.2.0",
            "_model_name": "LayoutModel",
            "_view_count": null,
            "_view_module": "@jupyter-widgets/base",
            "_view_module_version": "1.2.0",
            "_view_name": "LayoutView",
            "align_content": null,
            "align_items": null,
            "align_self": null,
            "border": null,
            "bottom": null,
            "display": null,
            "flex": null,
            "flex_flow": null,
            "grid_area": null,
            "grid_auto_columns": null,
            "grid_auto_flow": null,
            "grid_auto_rows": null,
            "grid_column": null,
            "grid_gap": null,
            "grid_row": null,
            "grid_template_areas": null,
            "grid_template_columns": null,
            "grid_template_rows": null,
            "height": null,
            "justify_content": null,
            "justify_items": null,
            "left": null,
            "margin": null,
            "max_height": null,
            "max_width": null,
            "min_height": null,
            "min_width": null,
            "object_fit": null,
            "object_position": null,
            "order": null,
            "overflow": null,
            "overflow_x": null,
            "overflow_y": null,
            "padding": null,
            "right": null,
            "top": null,
            "visibility": null,
            "width": null
          }
        },
        "e5dfeca998ba4df798cf925b6078697f": {
          "model_module": "@jupyter-widgets/base",
          "model_name": "LayoutModel",
          "model_module_version": "1.2.0",
          "state": {
            "_model_module": "@jupyter-widgets/base",
            "_model_module_version": "1.2.0",
            "_model_name": "LayoutModel",
            "_view_count": null,
            "_view_module": "@jupyter-widgets/base",
            "_view_module_version": "1.2.0",
            "_view_name": "LayoutView",
            "align_content": null,
            "align_items": null,
            "align_self": null,
            "border": null,
            "bottom": null,
            "display": null,
            "flex": null,
            "flex_flow": null,
            "grid_area": null,
            "grid_auto_columns": null,
            "grid_auto_flow": null,
            "grid_auto_rows": null,
            "grid_column": null,
            "grid_gap": null,
            "grid_row": null,
            "grid_template_areas": null,
            "grid_template_columns": null,
            "grid_template_rows": null,
            "height": null,
            "justify_content": null,
            "justify_items": null,
            "left": null,
            "margin": null,
            "max_height": null,
            "max_width": null,
            "min_height": null,
            "min_width": null,
            "object_fit": null,
            "object_position": null,
            "order": null,
            "overflow": null,
            "overflow_x": null,
            "overflow_y": null,
            "padding": null,
            "right": null,
            "top": null,
            "visibility": null,
            "width": null
          }
        },
        "a34f8cc210a544a09056148c859fd401": {
          "model_module": "@jupyter-widgets/controls",
          "model_name": "DescriptionStyleModel",
          "model_module_version": "1.5.0",
          "state": {
            "_model_module": "@jupyter-widgets/controls",
            "_model_module_version": "1.5.0",
            "_model_name": "DescriptionStyleModel",
            "_view_count": null,
            "_view_module": "@jupyter-widgets/base",
            "_view_module_version": "1.2.0",
            "_view_name": "StyleView",
            "description_width": ""
          }
        },
        "55253e6d9e764ae6be1a51de88d8b065": {
          "model_module": "@jupyter-widgets/base",
          "model_name": "LayoutModel",
          "model_module_version": "1.2.0",
          "state": {
            "_model_module": "@jupyter-widgets/base",
            "_model_module_version": "1.2.0",
            "_model_name": "LayoutModel",
            "_view_count": null,
            "_view_module": "@jupyter-widgets/base",
            "_view_module_version": "1.2.0",
            "_view_name": "LayoutView",
            "align_content": null,
            "align_items": null,
            "align_self": null,
            "border": null,
            "bottom": null,
            "display": null,
            "flex": null,
            "flex_flow": null,
            "grid_area": null,
            "grid_auto_columns": null,
            "grid_auto_flow": null,
            "grid_auto_rows": null,
            "grid_column": null,
            "grid_gap": null,
            "grid_row": null,
            "grid_template_areas": null,
            "grid_template_columns": null,
            "grid_template_rows": null,
            "height": null,
            "justify_content": null,
            "justify_items": null,
            "left": null,
            "margin": null,
            "max_height": null,
            "max_width": null,
            "min_height": null,
            "min_width": null,
            "object_fit": null,
            "object_position": null,
            "order": null,
            "overflow": null,
            "overflow_x": null,
            "overflow_y": null,
            "padding": null,
            "right": null,
            "top": null,
            "visibility": null,
            "width": null
          }
        },
        "1eedf14abbcd41c5865d465372a30894": {
          "model_module": "@jupyter-widgets/controls",
          "model_name": "ProgressStyleModel",
          "model_module_version": "1.5.0",
          "state": {
            "_model_module": "@jupyter-widgets/controls",
            "_model_module_version": "1.5.0",
            "_model_name": "ProgressStyleModel",
            "_view_count": null,
            "_view_module": "@jupyter-widgets/base",
            "_view_module_version": "1.2.0",
            "_view_name": "StyleView",
            "bar_color": null,
            "description_width": ""
          }
        },
        "e2d276b87145419893b49c807065b5e6": {
          "model_module": "@jupyter-widgets/base",
          "model_name": "LayoutModel",
          "model_module_version": "1.2.0",
          "state": {
            "_model_module": "@jupyter-widgets/base",
            "_model_module_version": "1.2.0",
            "_model_name": "LayoutModel",
            "_view_count": null,
            "_view_module": "@jupyter-widgets/base",
            "_view_module_version": "1.2.0",
            "_view_name": "LayoutView",
            "align_content": null,
            "align_items": null,
            "align_self": null,
            "border": null,
            "bottom": null,
            "display": null,
            "flex": null,
            "flex_flow": null,
            "grid_area": null,
            "grid_auto_columns": null,
            "grid_auto_flow": null,
            "grid_auto_rows": null,
            "grid_column": null,
            "grid_gap": null,
            "grid_row": null,
            "grid_template_areas": null,
            "grid_template_columns": null,
            "grid_template_rows": null,
            "height": null,
            "justify_content": null,
            "justify_items": null,
            "left": null,
            "margin": null,
            "max_height": null,
            "max_width": null,
            "min_height": null,
            "min_width": null,
            "object_fit": null,
            "object_position": null,
            "order": null,
            "overflow": null,
            "overflow_x": null,
            "overflow_y": null,
            "padding": null,
            "right": null,
            "top": null,
            "visibility": null,
            "width": null
          }
        },
        "26932279bcb04a0490c331eb3b9dcf33": {
          "model_module": "@jupyter-widgets/controls",
          "model_name": "DescriptionStyleModel",
          "model_module_version": "1.5.0",
          "state": {
            "_model_module": "@jupyter-widgets/controls",
            "_model_module_version": "1.5.0",
            "_model_name": "DescriptionStyleModel",
            "_view_count": null,
            "_view_module": "@jupyter-widgets/base",
            "_view_module_version": "1.2.0",
            "_view_name": "StyleView",
            "description_width": ""
          }
        },
        "03b28532322648c482e9616c1a4ac81f": {
          "model_module": "@jupyter-widgets/controls",
          "model_name": "HBoxModel",
          "model_module_version": "1.5.0",
          "state": {
            "_dom_classes": [],
            "_model_module": "@jupyter-widgets/controls",
            "_model_module_version": "1.5.0",
            "_model_name": "HBoxModel",
            "_view_count": null,
            "_view_module": "@jupyter-widgets/controls",
            "_view_module_version": "1.5.0",
            "_view_name": "HBoxView",
            "box_style": "",
            "children": [
              "IPY_MODEL_e586bff9d16648e284e62d3faf3551f6",
              "IPY_MODEL_c7d1f6f101644ea9881fa0f25bfabda6",
              "IPY_MODEL_3833c5edac1643d39fed38e70b5b010c"
            ],
            "layout": "IPY_MODEL_dda733f6964644829f4259d31e4f7871"
          }
        },
        "e586bff9d16648e284e62d3faf3551f6": {
          "model_module": "@jupyter-widgets/controls",
          "model_name": "HTMLModel",
          "model_module_version": "1.5.0",
          "state": {
            "_dom_classes": [],
            "_model_module": "@jupyter-widgets/controls",
            "_model_module_version": "1.5.0",
            "_model_name": "HTMLModel",
            "_view_count": null,
            "_view_module": "@jupyter-widgets/controls",
            "_view_module_version": "1.5.0",
            "_view_name": "HTMLView",
            "description": "",
            "description_tooltip": null,
            "layout": "IPY_MODEL_9d0febec5d454ec68f80275fb8b04c9f",
            "placeholder": "​",
            "style": "IPY_MODEL_d0e0ca975d0f4428911fa703ff154907",
            "value": "tokenizer_config.json: 100%"
          }
        },
        "c7d1f6f101644ea9881fa0f25bfabda6": {
          "model_module": "@jupyter-widgets/controls",
          "model_name": "FloatProgressModel",
          "model_module_version": "1.5.0",
          "state": {
            "_dom_classes": [],
            "_model_module": "@jupyter-widgets/controls",
            "_model_module_version": "1.5.0",
            "_model_name": "FloatProgressModel",
            "_view_count": null,
            "_view_module": "@jupyter-widgets/controls",
            "_view_module_version": "1.5.0",
            "_view_name": "ProgressView",
            "bar_style": "success",
            "description": "",
            "description_tooltip": null,
            "layout": "IPY_MODEL_f8a3f7e521124263b4f776980eb4e45b",
            "max": 2539,
            "min": 0,
            "orientation": "horizontal",
            "style": "IPY_MODEL_38e508a67ad44373982dcd3b4d87ec38",
            "value": 2539
          }
        },
        "3833c5edac1643d39fed38e70b5b010c": {
          "model_module": "@jupyter-widgets/controls",
          "model_name": "HTMLModel",
          "model_module_version": "1.5.0",
          "state": {
            "_dom_classes": [],
            "_model_module": "@jupyter-widgets/controls",
            "_model_module_version": "1.5.0",
            "_model_name": "HTMLModel",
            "_view_count": null,
            "_view_module": "@jupyter-widgets/controls",
            "_view_module_version": "1.5.0",
            "_view_name": "HTMLView",
            "description": "",
            "description_tooltip": null,
            "layout": "IPY_MODEL_8a41e3e8bedb4077a91f1594764126bc",
            "placeholder": "​",
            "style": "IPY_MODEL_c4729e3725424deaaa61a2991f7b2ae7",
            "value": " 2.54k/2.54k [00:00&lt;00:00, 192kB/s]"
          }
        },
        "dda733f6964644829f4259d31e4f7871": {
          "model_module": "@jupyter-widgets/base",
          "model_name": "LayoutModel",
          "model_module_version": "1.2.0",
          "state": {
            "_model_module": "@jupyter-widgets/base",
            "_model_module_version": "1.2.0",
            "_model_name": "LayoutModel",
            "_view_count": null,
            "_view_module": "@jupyter-widgets/base",
            "_view_module_version": "1.2.0",
            "_view_name": "LayoutView",
            "align_content": null,
            "align_items": null,
            "align_self": null,
            "border": null,
            "bottom": null,
            "display": null,
            "flex": null,
            "flex_flow": null,
            "grid_area": null,
            "grid_auto_columns": null,
            "grid_auto_flow": null,
            "grid_auto_rows": null,
            "grid_column": null,
            "grid_gap": null,
            "grid_row": null,
            "grid_template_areas": null,
            "grid_template_columns": null,
            "grid_template_rows": null,
            "height": null,
            "justify_content": null,
            "justify_items": null,
            "left": null,
            "margin": null,
            "max_height": null,
            "max_width": null,
            "min_height": null,
            "min_width": null,
            "object_fit": null,
            "object_position": null,
            "order": null,
            "overflow": null,
            "overflow_x": null,
            "overflow_y": null,
            "padding": null,
            "right": null,
            "top": null,
            "visibility": null,
            "width": null
          }
        },
        "9d0febec5d454ec68f80275fb8b04c9f": {
          "model_module": "@jupyter-widgets/base",
          "model_name": "LayoutModel",
          "model_module_version": "1.2.0",
          "state": {
            "_model_module": "@jupyter-widgets/base",
            "_model_module_version": "1.2.0",
            "_model_name": "LayoutModel",
            "_view_count": null,
            "_view_module": "@jupyter-widgets/base",
            "_view_module_version": "1.2.0",
            "_view_name": "LayoutView",
            "align_content": null,
            "align_items": null,
            "align_self": null,
            "border": null,
            "bottom": null,
            "display": null,
            "flex": null,
            "flex_flow": null,
            "grid_area": null,
            "grid_auto_columns": null,
            "grid_auto_flow": null,
            "grid_auto_rows": null,
            "grid_column": null,
            "grid_gap": null,
            "grid_row": null,
            "grid_template_areas": null,
            "grid_template_columns": null,
            "grid_template_rows": null,
            "height": null,
            "justify_content": null,
            "justify_items": null,
            "left": null,
            "margin": null,
            "max_height": null,
            "max_width": null,
            "min_height": null,
            "min_width": null,
            "object_fit": null,
            "object_position": null,
            "order": null,
            "overflow": null,
            "overflow_x": null,
            "overflow_y": null,
            "padding": null,
            "right": null,
            "top": null,
            "visibility": null,
            "width": null
          }
        },
        "d0e0ca975d0f4428911fa703ff154907": {
          "model_module": "@jupyter-widgets/controls",
          "model_name": "DescriptionStyleModel",
          "model_module_version": "1.5.0",
          "state": {
            "_model_module": "@jupyter-widgets/controls",
            "_model_module_version": "1.5.0",
            "_model_name": "DescriptionStyleModel",
            "_view_count": null,
            "_view_module": "@jupyter-widgets/base",
            "_view_module_version": "1.2.0",
            "_view_name": "StyleView",
            "description_width": ""
          }
        },
        "f8a3f7e521124263b4f776980eb4e45b": {
          "model_module": "@jupyter-widgets/base",
          "model_name": "LayoutModel",
          "model_module_version": "1.2.0",
          "state": {
            "_model_module": "@jupyter-widgets/base",
            "_model_module_version": "1.2.0",
            "_model_name": "LayoutModel",
            "_view_count": null,
            "_view_module": "@jupyter-widgets/base",
            "_view_module_version": "1.2.0",
            "_view_name": "LayoutView",
            "align_content": null,
            "align_items": null,
            "align_self": null,
            "border": null,
            "bottom": null,
            "display": null,
            "flex": null,
            "flex_flow": null,
            "grid_area": null,
            "grid_auto_columns": null,
            "grid_auto_flow": null,
            "grid_auto_rows": null,
            "grid_column": null,
            "grid_gap": null,
            "grid_row": null,
            "grid_template_areas": null,
            "grid_template_columns": null,
            "grid_template_rows": null,
            "height": null,
            "justify_content": null,
            "justify_items": null,
            "left": null,
            "margin": null,
            "max_height": null,
            "max_width": null,
            "min_height": null,
            "min_width": null,
            "object_fit": null,
            "object_position": null,
            "order": null,
            "overflow": null,
            "overflow_x": null,
            "overflow_y": null,
            "padding": null,
            "right": null,
            "top": null,
            "visibility": null,
            "width": null
          }
        },
        "38e508a67ad44373982dcd3b4d87ec38": {
          "model_module": "@jupyter-widgets/controls",
          "model_name": "ProgressStyleModel",
          "model_module_version": "1.5.0",
          "state": {
            "_model_module": "@jupyter-widgets/controls",
            "_model_module_version": "1.5.0",
            "_model_name": "ProgressStyleModel",
            "_view_count": null,
            "_view_module": "@jupyter-widgets/base",
            "_view_module_version": "1.2.0",
            "_view_name": "StyleView",
            "bar_color": null,
            "description_width": ""
          }
        },
        "8a41e3e8bedb4077a91f1594764126bc": {
          "model_module": "@jupyter-widgets/base",
          "model_name": "LayoutModel",
          "model_module_version": "1.2.0",
          "state": {
            "_model_module": "@jupyter-widgets/base",
            "_model_module_version": "1.2.0",
            "_model_name": "LayoutModel",
            "_view_count": null,
            "_view_module": "@jupyter-widgets/base",
            "_view_module_version": "1.2.0",
            "_view_name": "LayoutView",
            "align_content": null,
            "align_items": null,
            "align_self": null,
            "border": null,
            "bottom": null,
            "display": null,
            "flex": null,
            "flex_flow": null,
            "grid_area": null,
            "grid_auto_columns": null,
            "grid_auto_flow": null,
            "grid_auto_rows": null,
            "grid_column": null,
            "grid_gap": null,
            "grid_row": null,
            "grid_template_areas": null,
            "grid_template_columns": null,
            "grid_template_rows": null,
            "height": null,
            "justify_content": null,
            "justify_items": null,
            "left": null,
            "margin": null,
            "max_height": null,
            "max_width": null,
            "min_height": null,
            "min_width": null,
            "object_fit": null,
            "object_position": null,
            "order": null,
            "overflow": null,
            "overflow_x": null,
            "overflow_y": null,
            "padding": null,
            "right": null,
            "top": null,
            "visibility": null,
            "width": null
          }
        },
        "c4729e3725424deaaa61a2991f7b2ae7": {
          "model_module": "@jupyter-widgets/controls",
          "model_name": "DescriptionStyleModel",
          "model_module_version": "1.5.0",
          "state": {
            "_model_module": "@jupyter-widgets/controls",
            "_model_module_version": "1.5.0",
            "_model_name": "DescriptionStyleModel",
            "_view_count": null,
            "_view_module": "@jupyter-widgets/base",
            "_view_module_version": "1.2.0",
            "_view_name": "StyleView",
            "description_width": ""
          }
        },
        "5c9ebd884c29423bb6619d948c78d716": {
          "model_module": "@jupyter-widgets/controls",
          "model_name": "HBoxModel",
          "model_module_version": "1.5.0",
          "state": {
            "_dom_classes": [],
            "_model_module": "@jupyter-widgets/controls",
            "_model_module_version": "1.5.0",
            "_model_name": "HBoxModel",
            "_view_count": null,
            "_view_module": "@jupyter-widgets/controls",
            "_view_module_version": "1.5.0",
            "_view_name": "HBoxView",
            "box_style": "",
            "children": [
              "IPY_MODEL_50d89ab7f7ca41139258ebaf9fc16d37",
              "IPY_MODEL_14180a13bb484c90bc92e7593df4177f",
              "IPY_MODEL_136b1ca6424a44c2bb4d54b40fb5401a"
            ],
            "layout": "IPY_MODEL_1772efe6fbbc42419368cc63fc9950f0"
          }
        },
        "50d89ab7f7ca41139258ebaf9fc16d37": {
          "model_module": "@jupyter-widgets/controls",
          "model_name": "HTMLModel",
          "model_module_version": "1.5.0",
          "state": {
            "_dom_classes": [],
            "_model_module": "@jupyter-widgets/controls",
            "_model_module_version": "1.5.0",
            "_model_name": "HTMLModel",
            "_view_count": null,
            "_view_module": "@jupyter-widgets/controls",
            "_view_module_version": "1.5.0",
            "_view_name": "HTMLView",
            "description": "",
            "description_tooltip": null,
            "layout": "IPY_MODEL_c360de6d6b2e4cd58cfe36102dc4c28b",
            "placeholder": "​",
            "style": "IPY_MODEL_80797fa4ebc246948fa33ad6c7ee45b5",
            "value": "spiece.model: 100%"
          }
        },
        "14180a13bb484c90bc92e7593df4177f": {
          "model_module": "@jupyter-widgets/controls",
          "model_name": "FloatProgressModel",
          "model_module_version": "1.5.0",
          "state": {
            "_dom_classes": [],
            "_model_module": "@jupyter-widgets/controls",
            "_model_module_version": "1.5.0",
            "_model_name": "FloatProgressModel",
            "_view_count": null,
            "_view_module": "@jupyter-widgets/controls",
            "_view_module_version": "1.5.0",
            "_view_name": "ProgressView",
            "bar_style": "success",
            "description": "",
            "description_tooltip": null,
            "layout": "IPY_MODEL_6072fd9e341b47a38bdbeb07261857fe",
            "max": 791656,
            "min": 0,
            "orientation": "horizontal",
            "style": "IPY_MODEL_f65040e7d3494421b03eadc5357c691f",
            "value": 791656
          }
        },
        "136b1ca6424a44c2bb4d54b40fb5401a": {
          "model_module": "@jupyter-widgets/controls",
          "model_name": "HTMLModel",
          "model_module_version": "1.5.0",
          "state": {
            "_dom_classes": [],
            "_model_module": "@jupyter-widgets/controls",
            "_model_module_version": "1.5.0",
            "_model_name": "HTMLModel",
            "_view_count": null,
            "_view_module": "@jupyter-widgets/controls",
            "_view_module_version": "1.5.0",
            "_view_name": "HTMLView",
            "description": "",
            "description_tooltip": null,
            "layout": "IPY_MODEL_d1c68001835c451fbd29404d436e1891",
            "placeholder": "​",
            "style": "IPY_MODEL_c84934ca40e243518afc5d21cea6f088",
            "value": " 792k/792k [00:00&lt;00:00, 9.18MB/s]"
          }
        },
        "1772efe6fbbc42419368cc63fc9950f0": {
          "model_module": "@jupyter-widgets/base",
          "model_name": "LayoutModel",
          "model_module_version": "1.2.0",
          "state": {
            "_model_module": "@jupyter-widgets/base",
            "_model_module_version": "1.2.0",
            "_model_name": "LayoutModel",
            "_view_count": null,
            "_view_module": "@jupyter-widgets/base",
            "_view_module_version": "1.2.0",
            "_view_name": "LayoutView",
            "align_content": null,
            "align_items": null,
            "align_self": null,
            "border": null,
            "bottom": null,
            "display": null,
            "flex": null,
            "flex_flow": null,
            "grid_area": null,
            "grid_auto_columns": null,
            "grid_auto_flow": null,
            "grid_auto_rows": null,
            "grid_column": null,
            "grid_gap": null,
            "grid_row": null,
            "grid_template_areas": null,
            "grid_template_columns": null,
            "grid_template_rows": null,
            "height": null,
            "justify_content": null,
            "justify_items": null,
            "left": null,
            "margin": null,
            "max_height": null,
            "max_width": null,
            "min_height": null,
            "min_width": null,
            "object_fit": null,
            "object_position": null,
            "order": null,
            "overflow": null,
            "overflow_x": null,
            "overflow_y": null,
            "padding": null,
            "right": null,
            "top": null,
            "visibility": null,
            "width": null
          }
        },
        "c360de6d6b2e4cd58cfe36102dc4c28b": {
          "model_module": "@jupyter-widgets/base",
          "model_name": "LayoutModel",
          "model_module_version": "1.2.0",
          "state": {
            "_model_module": "@jupyter-widgets/base",
            "_model_module_version": "1.2.0",
            "_model_name": "LayoutModel",
            "_view_count": null,
            "_view_module": "@jupyter-widgets/base",
            "_view_module_version": "1.2.0",
            "_view_name": "LayoutView",
            "align_content": null,
            "align_items": null,
            "align_self": null,
            "border": null,
            "bottom": null,
            "display": null,
            "flex": null,
            "flex_flow": null,
            "grid_area": null,
            "grid_auto_columns": null,
            "grid_auto_flow": null,
            "grid_auto_rows": null,
            "grid_column": null,
            "grid_gap": null,
            "grid_row": null,
            "grid_template_areas": null,
            "grid_template_columns": null,
            "grid_template_rows": null,
            "height": null,
            "justify_content": null,
            "justify_items": null,
            "left": null,
            "margin": null,
            "max_height": null,
            "max_width": null,
            "min_height": null,
            "min_width": null,
            "object_fit": null,
            "object_position": null,
            "order": null,
            "overflow": null,
            "overflow_x": null,
            "overflow_y": null,
            "padding": null,
            "right": null,
            "top": null,
            "visibility": null,
            "width": null
          }
        },
        "80797fa4ebc246948fa33ad6c7ee45b5": {
          "model_module": "@jupyter-widgets/controls",
          "model_name": "DescriptionStyleModel",
          "model_module_version": "1.5.0",
          "state": {
            "_model_module": "@jupyter-widgets/controls",
            "_model_module_version": "1.5.0",
            "_model_name": "DescriptionStyleModel",
            "_view_count": null,
            "_view_module": "@jupyter-widgets/base",
            "_view_module_version": "1.2.0",
            "_view_name": "StyleView",
            "description_width": ""
          }
        },
        "6072fd9e341b47a38bdbeb07261857fe": {
          "model_module": "@jupyter-widgets/base",
          "model_name": "LayoutModel",
          "model_module_version": "1.2.0",
          "state": {
            "_model_module": "@jupyter-widgets/base",
            "_model_module_version": "1.2.0",
            "_model_name": "LayoutModel",
            "_view_count": null,
            "_view_module": "@jupyter-widgets/base",
            "_view_module_version": "1.2.0",
            "_view_name": "LayoutView",
            "align_content": null,
            "align_items": null,
            "align_self": null,
            "border": null,
            "bottom": null,
            "display": null,
            "flex": null,
            "flex_flow": null,
            "grid_area": null,
            "grid_auto_columns": null,
            "grid_auto_flow": null,
            "grid_auto_rows": null,
            "grid_column": null,
            "grid_gap": null,
            "grid_row": null,
            "grid_template_areas": null,
            "grid_template_columns": null,
            "grid_template_rows": null,
            "height": null,
            "justify_content": null,
            "justify_items": null,
            "left": null,
            "margin": null,
            "max_height": null,
            "max_width": null,
            "min_height": null,
            "min_width": null,
            "object_fit": null,
            "object_position": null,
            "order": null,
            "overflow": null,
            "overflow_x": null,
            "overflow_y": null,
            "padding": null,
            "right": null,
            "top": null,
            "visibility": null,
            "width": null
          }
        },
        "f65040e7d3494421b03eadc5357c691f": {
          "model_module": "@jupyter-widgets/controls",
          "model_name": "ProgressStyleModel",
          "model_module_version": "1.5.0",
          "state": {
            "_model_module": "@jupyter-widgets/controls",
            "_model_module_version": "1.5.0",
            "_model_name": "ProgressStyleModel",
            "_view_count": null,
            "_view_module": "@jupyter-widgets/base",
            "_view_module_version": "1.2.0",
            "_view_name": "StyleView",
            "bar_color": null,
            "description_width": ""
          }
        },
        "d1c68001835c451fbd29404d436e1891": {
          "model_module": "@jupyter-widgets/base",
          "model_name": "LayoutModel",
          "model_module_version": "1.2.0",
          "state": {
            "_model_module": "@jupyter-widgets/base",
            "_model_module_version": "1.2.0",
            "_model_name": "LayoutModel",
            "_view_count": null,
            "_view_module": "@jupyter-widgets/base",
            "_view_module_version": "1.2.0",
            "_view_name": "LayoutView",
            "align_content": null,
            "align_items": null,
            "align_self": null,
            "border": null,
            "bottom": null,
            "display": null,
            "flex": null,
            "flex_flow": null,
            "grid_area": null,
            "grid_auto_columns": null,
            "grid_auto_flow": null,
            "grid_auto_rows": null,
            "grid_column": null,
            "grid_gap": null,
            "grid_row": null,
            "grid_template_areas": null,
            "grid_template_columns": null,
            "grid_template_rows": null,
            "height": null,
            "justify_content": null,
            "justify_items": null,
            "left": null,
            "margin": null,
            "max_height": null,
            "max_width": null,
            "min_height": null,
            "min_width": null,
            "object_fit": null,
            "object_position": null,
            "order": null,
            "overflow": null,
            "overflow_x": null,
            "overflow_y": null,
            "padding": null,
            "right": null,
            "top": null,
            "visibility": null,
            "width": null
          }
        },
        "c84934ca40e243518afc5d21cea6f088": {
          "model_module": "@jupyter-widgets/controls",
          "model_name": "DescriptionStyleModel",
          "model_module_version": "1.5.0",
          "state": {
            "_model_module": "@jupyter-widgets/controls",
            "_model_module_version": "1.5.0",
            "_model_name": "DescriptionStyleModel",
            "_view_count": null,
            "_view_module": "@jupyter-widgets/base",
            "_view_module_version": "1.2.0",
            "_view_name": "StyleView",
            "description_width": ""
          }
        },
        "393da5b8d3604b97847c9c4421272407": {
          "model_module": "@jupyter-widgets/controls",
          "model_name": "HBoxModel",
          "model_module_version": "1.5.0",
          "state": {
            "_dom_classes": [],
            "_model_module": "@jupyter-widgets/controls",
            "_model_module_version": "1.5.0",
            "_model_name": "HBoxModel",
            "_view_count": null,
            "_view_module": "@jupyter-widgets/controls",
            "_view_module_version": "1.5.0",
            "_view_name": "HBoxView",
            "box_style": "",
            "children": [
              "IPY_MODEL_f4ddcc7a0a7b49979aa4a7cb00f48909",
              "IPY_MODEL_b1b7c5895ca6457bbea2932c59afd916",
              "IPY_MODEL_fc5f7abe17654c77bfe3bbb867354f05"
            ],
            "layout": "IPY_MODEL_98779592b447468b8930b1bdb4cd1bbf"
          }
        },
        "f4ddcc7a0a7b49979aa4a7cb00f48909": {
          "model_module": "@jupyter-widgets/controls",
          "model_name": "HTMLModel",
          "model_module_version": "1.5.0",
          "state": {
            "_dom_classes": [],
            "_model_module": "@jupyter-widgets/controls",
            "_model_module_version": "1.5.0",
            "_model_name": "HTMLModel",
            "_view_count": null,
            "_view_module": "@jupyter-widgets/controls",
            "_view_module_version": "1.5.0",
            "_view_name": "HTMLView",
            "description": "",
            "description_tooltip": null,
            "layout": "IPY_MODEL_1ea0f3037e3e43a691e894fae4cb2a8e",
            "placeholder": "​",
            "style": "IPY_MODEL_3f4147ed8cad4035aac44c146faba16e",
            "value": "tokenizer.json: 100%"
          }
        },
        "b1b7c5895ca6457bbea2932c59afd916": {
          "model_module": "@jupyter-widgets/controls",
          "model_name": "FloatProgressModel",
          "model_module_version": "1.5.0",
          "state": {
            "_dom_classes": [],
            "_model_module": "@jupyter-widgets/controls",
            "_model_module_version": "1.5.0",
            "_model_name": "FloatProgressModel",
            "_view_count": null,
            "_view_module": "@jupyter-widgets/controls",
            "_view_module_version": "1.5.0",
            "_view_name": "ProgressView",
            "bar_style": "success",
            "description": "",
            "description_tooltip": null,
            "layout": "IPY_MODEL_cd5df01e7ae14866b52650df3a0797a6",
            "max": 2424064,
            "min": 0,
            "orientation": "horizontal",
            "style": "IPY_MODEL_77ca88a7152445b8bf38999dd9d3d4af",
            "value": 2424064
          }
        },
        "fc5f7abe17654c77bfe3bbb867354f05": {
          "model_module": "@jupyter-widgets/controls",
          "model_name": "HTMLModel",
          "model_module_version": "1.5.0",
          "state": {
            "_dom_classes": [],
            "_model_module": "@jupyter-widgets/controls",
            "_model_module_version": "1.5.0",
            "_model_name": "HTMLModel",
            "_view_count": null,
            "_view_module": "@jupyter-widgets/controls",
            "_view_module_version": "1.5.0",
            "_view_name": "HTMLView",
            "description": "",
            "description_tooltip": null,
            "layout": "IPY_MODEL_2d1fd7c5f54b4e2f83a542ad8b2e7ffc",
            "placeholder": "​",
            "style": "IPY_MODEL_f48369ce087e411b9d9ab0b0c74b7f8f",
            "value": " 2.42M/2.42M [00:00&lt;00:00, 9.23MB/s]"
          }
        },
        "98779592b447468b8930b1bdb4cd1bbf": {
          "model_module": "@jupyter-widgets/base",
          "model_name": "LayoutModel",
          "model_module_version": "1.2.0",
          "state": {
            "_model_module": "@jupyter-widgets/base",
            "_model_module_version": "1.2.0",
            "_model_name": "LayoutModel",
            "_view_count": null,
            "_view_module": "@jupyter-widgets/base",
            "_view_module_version": "1.2.0",
            "_view_name": "LayoutView",
            "align_content": null,
            "align_items": null,
            "align_self": null,
            "border": null,
            "bottom": null,
            "display": null,
            "flex": null,
            "flex_flow": null,
            "grid_area": null,
            "grid_auto_columns": null,
            "grid_auto_flow": null,
            "grid_auto_rows": null,
            "grid_column": null,
            "grid_gap": null,
            "grid_row": null,
            "grid_template_areas": null,
            "grid_template_columns": null,
            "grid_template_rows": null,
            "height": null,
            "justify_content": null,
            "justify_items": null,
            "left": null,
            "margin": null,
            "max_height": null,
            "max_width": null,
            "min_height": null,
            "min_width": null,
            "object_fit": null,
            "object_position": null,
            "order": null,
            "overflow": null,
            "overflow_x": null,
            "overflow_y": null,
            "padding": null,
            "right": null,
            "top": null,
            "visibility": null,
            "width": null
          }
        },
        "1ea0f3037e3e43a691e894fae4cb2a8e": {
          "model_module": "@jupyter-widgets/base",
          "model_name": "LayoutModel",
          "model_module_version": "1.2.0",
          "state": {
            "_model_module": "@jupyter-widgets/base",
            "_model_module_version": "1.2.0",
            "_model_name": "LayoutModel",
            "_view_count": null,
            "_view_module": "@jupyter-widgets/base",
            "_view_module_version": "1.2.0",
            "_view_name": "LayoutView",
            "align_content": null,
            "align_items": null,
            "align_self": null,
            "border": null,
            "bottom": null,
            "display": null,
            "flex": null,
            "flex_flow": null,
            "grid_area": null,
            "grid_auto_columns": null,
            "grid_auto_flow": null,
            "grid_auto_rows": null,
            "grid_column": null,
            "grid_gap": null,
            "grid_row": null,
            "grid_template_areas": null,
            "grid_template_columns": null,
            "grid_template_rows": null,
            "height": null,
            "justify_content": null,
            "justify_items": null,
            "left": null,
            "margin": null,
            "max_height": null,
            "max_width": null,
            "min_height": null,
            "min_width": null,
            "object_fit": null,
            "object_position": null,
            "order": null,
            "overflow": null,
            "overflow_x": null,
            "overflow_y": null,
            "padding": null,
            "right": null,
            "top": null,
            "visibility": null,
            "width": null
          }
        },
        "3f4147ed8cad4035aac44c146faba16e": {
          "model_module": "@jupyter-widgets/controls",
          "model_name": "DescriptionStyleModel",
          "model_module_version": "1.5.0",
          "state": {
            "_model_module": "@jupyter-widgets/controls",
            "_model_module_version": "1.5.0",
            "_model_name": "DescriptionStyleModel",
            "_view_count": null,
            "_view_module": "@jupyter-widgets/base",
            "_view_module_version": "1.2.0",
            "_view_name": "StyleView",
            "description_width": ""
          }
        },
        "cd5df01e7ae14866b52650df3a0797a6": {
          "model_module": "@jupyter-widgets/base",
          "model_name": "LayoutModel",
          "model_module_version": "1.2.0",
          "state": {
            "_model_module": "@jupyter-widgets/base",
            "_model_module_version": "1.2.0",
            "_model_name": "LayoutModel",
            "_view_count": null,
            "_view_module": "@jupyter-widgets/base",
            "_view_module_version": "1.2.0",
            "_view_name": "LayoutView",
            "align_content": null,
            "align_items": null,
            "align_self": null,
            "border": null,
            "bottom": null,
            "display": null,
            "flex": null,
            "flex_flow": null,
            "grid_area": null,
            "grid_auto_columns": null,
            "grid_auto_flow": null,
            "grid_auto_rows": null,
            "grid_column": null,
            "grid_gap": null,
            "grid_row": null,
            "grid_template_areas": null,
            "grid_template_columns": null,
            "grid_template_rows": null,
            "height": null,
            "justify_content": null,
            "justify_items": null,
            "left": null,
            "margin": null,
            "max_height": null,
            "max_width": null,
            "min_height": null,
            "min_width": null,
            "object_fit": null,
            "object_position": null,
            "order": null,
            "overflow": null,
            "overflow_x": null,
            "overflow_y": null,
            "padding": null,
            "right": null,
            "top": null,
            "visibility": null,
            "width": null
          }
        },
        "77ca88a7152445b8bf38999dd9d3d4af": {
          "model_module": "@jupyter-widgets/controls",
          "model_name": "ProgressStyleModel",
          "model_module_version": "1.5.0",
          "state": {
            "_model_module": "@jupyter-widgets/controls",
            "_model_module_version": "1.5.0",
            "_model_name": "ProgressStyleModel",
            "_view_count": null,
            "_view_module": "@jupyter-widgets/base",
            "_view_module_version": "1.2.0",
            "_view_name": "StyleView",
            "bar_color": null,
            "description_width": ""
          }
        },
        "2d1fd7c5f54b4e2f83a542ad8b2e7ffc": {
          "model_module": "@jupyter-widgets/base",
          "model_name": "LayoutModel",
          "model_module_version": "1.2.0",
          "state": {
            "_model_module": "@jupyter-widgets/base",
            "_model_module_version": "1.2.0",
            "_model_name": "LayoutModel",
            "_view_count": null,
            "_view_module": "@jupyter-widgets/base",
            "_view_module_version": "1.2.0",
            "_view_name": "LayoutView",
            "align_content": null,
            "align_items": null,
            "align_self": null,
            "border": null,
            "bottom": null,
            "display": null,
            "flex": null,
            "flex_flow": null,
            "grid_area": null,
            "grid_auto_columns": null,
            "grid_auto_flow": null,
            "grid_auto_rows": null,
            "grid_column": null,
            "grid_gap": null,
            "grid_row": null,
            "grid_template_areas": null,
            "grid_template_columns": null,
            "grid_template_rows": null,
            "height": null,
            "justify_content": null,
            "justify_items": null,
            "left": null,
            "margin": null,
            "max_height": null,
            "max_width": null,
            "min_height": null,
            "min_width": null,
            "object_fit": null,
            "object_position": null,
            "order": null,
            "overflow": null,
            "overflow_x": null,
            "overflow_y": null,
            "padding": null,
            "right": null,
            "top": null,
            "visibility": null,
            "width": null
          }
        },
        "f48369ce087e411b9d9ab0b0c74b7f8f": {
          "model_module": "@jupyter-widgets/controls",
          "model_name": "DescriptionStyleModel",
          "model_module_version": "1.5.0",
          "state": {
            "_model_module": "@jupyter-widgets/controls",
            "_model_module_version": "1.5.0",
            "_model_name": "DescriptionStyleModel",
            "_view_count": null,
            "_view_module": "@jupyter-widgets/base",
            "_view_module_version": "1.2.0",
            "_view_name": "StyleView",
            "description_width": ""
          }
        },
        "caa96e4f5f804bfdb5adc5826de792cf": {
          "model_module": "@jupyter-widgets/controls",
          "model_name": "HBoxModel",
          "model_module_version": "1.5.0",
          "state": {
            "_dom_classes": [],
            "_model_module": "@jupyter-widgets/controls",
            "_model_module_version": "1.5.0",
            "_model_name": "HBoxModel",
            "_view_count": null,
            "_view_module": "@jupyter-widgets/controls",
            "_view_module_version": "1.5.0",
            "_view_name": "HBoxView",
            "box_style": "",
            "children": [
              "IPY_MODEL_ce381cc6edee4dfaadfe49589bd22d80",
              "IPY_MODEL_94359891e6c14b079250e9788a73a447",
              "IPY_MODEL_32544f8dce28460d99b8cd889505b4b0"
            ],
            "layout": "IPY_MODEL_d12d04ec527549bd921f6c16d4da701e"
          }
        },
        "ce381cc6edee4dfaadfe49589bd22d80": {
          "model_module": "@jupyter-widgets/controls",
          "model_name": "HTMLModel",
          "model_module_version": "1.5.0",
          "state": {
            "_dom_classes": [],
            "_model_module": "@jupyter-widgets/controls",
            "_model_module_version": "1.5.0",
            "_model_name": "HTMLModel",
            "_view_count": null,
            "_view_module": "@jupyter-widgets/controls",
            "_view_module_version": "1.5.0",
            "_view_name": "HTMLView",
            "description": "",
            "description_tooltip": null,
            "layout": "IPY_MODEL_67fdb8b0fd554c588516aa301569acee",
            "placeholder": "​",
            "style": "IPY_MODEL_7f61c88d87d141af9576224c838607fe",
            "value": "special_tokens_map.json: 100%"
          }
        },
        "94359891e6c14b079250e9788a73a447": {
          "model_module": "@jupyter-widgets/controls",
          "model_name": "FloatProgressModel",
          "model_module_version": "1.5.0",
          "state": {
            "_dom_classes": [],
            "_model_module": "@jupyter-widgets/controls",
            "_model_module_version": "1.5.0",
            "_model_name": "FloatProgressModel",
            "_view_count": null,
            "_view_module": "@jupyter-widgets/controls",
            "_view_module_version": "1.5.0",
            "_view_name": "ProgressView",
            "bar_style": "success",
            "description": "",
            "description_tooltip": null,
            "layout": "IPY_MODEL_b9ebeea2ad8c408cb09092d2a115c8a5",
            "max": 2201,
            "min": 0,
            "orientation": "horizontal",
            "style": "IPY_MODEL_30f0fa4e4dc945a89a32ef1d2074074c",
            "value": 2201
          }
        },
        "32544f8dce28460d99b8cd889505b4b0": {
          "model_module": "@jupyter-widgets/controls",
          "model_name": "HTMLModel",
          "model_module_version": "1.5.0",
          "state": {
            "_dom_classes": [],
            "_model_module": "@jupyter-widgets/controls",
            "_model_module_version": "1.5.0",
            "_model_name": "HTMLModel",
            "_view_count": null,
            "_view_module": "@jupyter-widgets/controls",
            "_view_module_version": "1.5.0",
            "_view_name": "HTMLView",
            "description": "",
            "description_tooltip": null,
            "layout": "IPY_MODEL_3ca90cebc54f41f7adff8ed4ed958318",
            "placeholder": "​",
            "style": "IPY_MODEL_eb302679068f43008211b0ed3a37492b",
            "value": " 2.20k/2.20k [00:00&lt;00:00, 163kB/s]"
          }
        },
        "d12d04ec527549bd921f6c16d4da701e": {
          "model_module": "@jupyter-widgets/base",
          "model_name": "LayoutModel",
          "model_module_version": "1.2.0",
          "state": {
            "_model_module": "@jupyter-widgets/base",
            "_model_module_version": "1.2.0",
            "_model_name": "LayoutModel",
            "_view_count": null,
            "_view_module": "@jupyter-widgets/base",
            "_view_module_version": "1.2.0",
            "_view_name": "LayoutView",
            "align_content": null,
            "align_items": null,
            "align_self": null,
            "border": null,
            "bottom": null,
            "display": null,
            "flex": null,
            "flex_flow": null,
            "grid_area": null,
            "grid_auto_columns": null,
            "grid_auto_flow": null,
            "grid_auto_rows": null,
            "grid_column": null,
            "grid_gap": null,
            "grid_row": null,
            "grid_template_areas": null,
            "grid_template_columns": null,
            "grid_template_rows": null,
            "height": null,
            "justify_content": null,
            "justify_items": null,
            "left": null,
            "margin": null,
            "max_height": null,
            "max_width": null,
            "min_height": null,
            "min_width": null,
            "object_fit": null,
            "object_position": null,
            "order": null,
            "overflow": null,
            "overflow_x": null,
            "overflow_y": null,
            "padding": null,
            "right": null,
            "top": null,
            "visibility": null,
            "width": null
          }
        },
        "67fdb8b0fd554c588516aa301569acee": {
          "model_module": "@jupyter-widgets/base",
          "model_name": "LayoutModel",
          "model_module_version": "1.2.0",
          "state": {
            "_model_module": "@jupyter-widgets/base",
            "_model_module_version": "1.2.0",
            "_model_name": "LayoutModel",
            "_view_count": null,
            "_view_module": "@jupyter-widgets/base",
            "_view_module_version": "1.2.0",
            "_view_name": "LayoutView",
            "align_content": null,
            "align_items": null,
            "align_self": null,
            "border": null,
            "bottom": null,
            "display": null,
            "flex": null,
            "flex_flow": null,
            "grid_area": null,
            "grid_auto_columns": null,
            "grid_auto_flow": null,
            "grid_auto_rows": null,
            "grid_column": null,
            "grid_gap": null,
            "grid_row": null,
            "grid_template_areas": null,
            "grid_template_columns": null,
            "grid_template_rows": null,
            "height": null,
            "justify_content": null,
            "justify_items": null,
            "left": null,
            "margin": null,
            "max_height": null,
            "max_width": null,
            "min_height": null,
            "min_width": null,
            "object_fit": null,
            "object_position": null,
            "order": null,
            "overflow": null,
            "overflow_x": null,
            "overflow_y": null,
            "padding": null,
            "right": null,
            "top": null,
            "visibility": null,
            "width": null
          }
        },
        "7f61c88d87d141af9576224c838607fe": {
          "model_module": "@jupyter-widgets/controls",
          "model_name": "DescriptionStyleModel",
          "model_module_version": "1.5.0",
          "state": {
            "_model_module": "@jupyter-widgets/controls",
            "_model_module_version": "1.5.0",
            "_model_name": "DescriptionStyleModel",
            "_view_count": null,
            "_view_module": "@jupyter-widgets/base",
            "_view_module_version": "1.2.0",
            "_view_name": "StyleView",
            "description_width": ""
          }
        },
        "b9ebeea2ad8c408cb09092d2a115c8a5": {
          "model_module": "@jupyter-widgets/base",
          "model_name": "LayoutModel",
          "model_module_version": "1.2.0",
          "state": {
            "_model_module": "@jupyter-widgets/base",
            "_model_module_version": "1.2.0",
            "_model_name": "LayoutModel",
            "_view_count": null,
            "_view_module": "@jupyter-widgets/base",
            "_view_module_version": "1.2.0",
            "_view_name": "LayoutView",
            "align_content": null,
            "align_items": null,
            "align_self": null,
            "border": null,
            "bottom": null,
            "display": null,
            "flex": null,
            "flex_flow": null,
            "grid_area": null,
            "grid_auto_columns": null,
            "grid_auto_flow": null,
            "grid_auto_rows": null,
            "grid_column": null,
            "grid_gap": null,
            "grid_row": null,
            "grid_template_areas": null,
            "grid_template_columns": null,
            "grid_template_rows": null,
            "height": null,
            "justify_content": null,
            "justify_items": null,
            "left": null,
            "margin": null,
            "max_height": null,
            "max_width": null,
            "min_height": null,
            "min_width": null,
            "object_fit": null,
            "object_position": null,
            "order": null,
            "overflow": null,
            "overflow_x": null,
            "overflow_y": null,
            "padding": null,
            "right": null,
            "top": null,
            "visibility": null,
            "width": null
          }
        },
        "30f0fa4e4dc945a89a32ef1d2074074c": {
          "model_module": "@jupyter-widgets/controls",
          "model_name": "ProgressStyleModel",
          "model_module_version": "1.5.0",
          "state": {
            "_model_module": "@jupyter-widgets/controls",
            "_model_module_version": "1.5.0",
            "_model_name": "ProgressStyleModel",
            "_view_count": null,
            "_view_module": "@jupyter-widgets/base",
            "_view_module_version": "1.2.0",
            "_view_name": "StyleView",
            "bar_color": null,
            "description_width": ""
          }
        },
        "3ca90cebc54f41f7adff8ed4ed958318": {
          "model_module": "@jupyter-widgets/base",
          "model_name": "LayoutModel",
          "model_module_version": "1.2.0",
          "state": {
            "_model_module": "@jupyter-widgets/base",
            "_model_module_version": "1.2.0",
            "_model_name": "LayoutModel",
            "_view_count": null,
            "_view_module": "@jupyter-widgets/base",
            "_view_module_version": "1.2.0",
            "_view_name": "LayoutView",
            "align_content": null,
            "align_items": null,
            "align_self": null,
            "border": null,
            "bottom": null,
            "display": null,
            "flex": null,
            "flex_flow": null,
            "grid_area": null,
            "grid_auto_columns": null,
            "grid_auto_flow": null,
            "grid_auto_rows": null,
            "grid_column": null,
            "grid_gap": null,
            "grid_row": null,
            "grid_template_areas": null,
            "grid_template_columns": null,
            "grid_template_rows": null,
            "height": null,
            "justify_content": null,
            "justify_items": null,
            "left": null,
            "margin": null,
            "max_height": null,
            "max_width": null,
            "min_height": null,
            "min_width": null,
            "object_fit": null,
            "object_position": null,
            "order": null,
            "overflow": null,
            "overflow_x": null,
            "overflow_y": null,
            "padding": null,
            "right": null,
            "top": null,
            "visibility": null,
            "width": null
          }
        },
        "eb302679068f43008211b0ed3a37492b": {
          "model_module": "@jupyter-widgets/controls",
          "model_name": "DescriptionStyleModel",
          "model_module_version": "1.5.0",
          "state": {
            "_model_module": "@jupyter-widgets/controls",
            "_model_module_version": "1.5.0",
            "_model_name": "DescriptionStyleModel",
            "_view_count": null,
            "_view_module": "@jupyter-widgets/base",
            "_view_module_version": "1.2.0",
            "_view_name": "StyleView",
            "description_width": ""
          }
        },
        "ee454c26768b44b2a8dc61d640f8d19d": {
          "model_module": "@jupyter-widgets/controls",
          "model_name": "HBoxModel",
          "model_module_version": "1.5.0",
          "state": {
            "_dom_classes": [],
            "_model_module": "@jupyter-widgets/controls",
            "_model_module_version": "1.5.0",
            "_model_name": "HBoxModel",
            "_view_count": null,
            "_view_module": "@jupyter-widgets/controls",
            "_view_module_version": "1.5.0",
            "_view_name": "HBoxView",
            "box_style": "",
            "children": [
              "IPY_MODEL_98ba8111ccee409b92555786e64cb991",
              "IPY_MODEL_dbf857b080624a529a57c22526cf403a",
              "IPY_MODEL_baa1bdac9e76417789b1e5877f561f8b"
            ],
            "layout": "IPY_MODEL_f0d53164ebbd40aea60973dccb04e138"
          }
        },
        "98ba8111ccee409b92555786e64cb991": {
          "model_module": "@jupyter-widgets/controls",
          "model_name": "HTMLModel",
          "model_module_version": "1.5.0",
          "state": {
            "_dom_classes": [],
            "_model_module": "@jupyter-widgets/controls",
            "_model_module_version": "1.5.0",
            "_model_name": "HTMLModel",
            "_view_count": null,
            "_view_module": "@jupyter-widgets/controls",
            "_view_module_version": "1.5.0",
            "_view_name": "HTMLView",
            "description": "",
            "description_tooltip": null,
            "layout": "IPY_MODEL_d6ddc52d226443bfb4218f8cc133f84b",
            "placeholder": "​",
            "style": "IPY_MODEL_3ff09522bca84bb090368f9fe4543c57",
            "value": "config.json: 100%"
          }
        },
        "dbf857b080624a529a57c22526cf403a": {
          "model_module": "@jupyter-widgets/controls",
          "model_name": "FloatProgressModel",
          "model_module_version": "1.5.0",
          "state": {
            "_dom_classes": [],
            "_model_module": "@jupyter-widgets/controls",
            "_model_module_version": "1.5.0",
            "_model_name": "FloatProgressModel",
            "_view_count": null,
            "_view_module": "@jupyter-widgets/controls",
            "_view_module_version": "1.5.0",
            "_view_name": "ProgressView",
            "bar_style": "success",
            "description": "",
            "description_tooltip": null,
            "layout": "IPY_MODEL_0a979d7961e0438ebc98f10eab68c9fe",
            "max": 662,
            "min": 0,
            "orientation": "horizontal",
            "style": "IPY_MODEL_1bc39661b84a4b5b950177543c1decec",
            "value": 662
          }
        },
        "baa1bdac9e76417789b1e5877f561f8b": {
          "model_module": "@jupyter-widgets/controls",
          "model_name": "HTMLModel",
          "model_module_version": "1.5.0",
          "state": {
            "_dom_classes": [],
            "_model_module": "@jupyter-widgets/controls",
            "_model_module_version": "1.5.0",
            "_model_name": "HTMLModel",
            "_view_count": null,
            "_view_module": "@jupyter-widgets/controls",
            "_view_module_version": "1.5.0",
            "_view_name": "HTMLView",
            "description": "",
            "description_tooltip": null,
            "layout": "IPY_MODEL_b68fe811bc6249259b5ba99e955b46b4",
            "placeholder": "​",
            "style": "IPY_MODEL_dd3308cfa9124770a7b7bdbf21ef9471",
            "value": " 662/662 [00:00&lt;00:00, 60.1kB/s]"
          }
        },
        "f0d53164ebbd40aea60973dccb04e138": {
          "model_module": "@jupyter-widgets/base",
          "model_name": "LayoutModel",
          "model_module_version": "1.2.0",
          "state": {
            "_model_module": "@jupyter-widgets/base",
            "_model_module_version": "1.2.0",
            "_model_name": "LayoutModel",
            "_view_count": null,
            "_view_module": "@jupyter-widgets/base",
            "_view_module_version": "1.2.0",
            "_view_name": "LayoutView",
            "align_content": null,
            "align_items": null,
            "align_self": null,
            "border": null,
            "bottom": null,
            "display": null,
            "flex": null,
            "flex_flow": null,
            "grid_area": null,
            "grid_auto_columns": null,
            "grid_auto_flow": null,
            "grid_auto_rows": null,
            "grid_column": null,
            "grid_gap": null,
            "grid_row": null,
            "grid_template_areas": null,
            "grid_template_columns": null,
            "grid_template_rows": null,
            "height": null,
            "justify_content": null,
            "justify_items": null,
            "left": null,
            "margin": null,
            "max_height": null,
            "max_width": null,
            "min_height": null,
            "min_width": null,
            "object_fit": null,
            "object_position": null,
            "order": null,
            "overflow": null,
            "overflow_x": null,
            "overflow_y": null,
            "padding": null,
            "right": null,
            "top": null,
            "visibility": null,
            "width": null
          }
        },
        "d6ddc52d226443bfb4218f8cc133f84b": {
          "model_module": "@jupyter-widgets/base",
          "model_name": "LayoutModel",
          "model_module_version": "1.2.0",
          "state": {
            "_model_module": "@jupyter-widgets/base",
            "_model_module_version": "1.2.0",
            "_model_name": "LayoutModel",
            "_view_count": null,
            "_view_module": "@jupyter-widgets/base",
            "_view_module_version": "1.2.0",
            "_view_name": "LayoutView",
            "align_content": null,
            "align_items": null,
            "align_self": null,
            "border": null,
            "bottom": null,
            "display": null,
            "flex": null,
            "flex_flow": null,
            "grid_area": null,
            "grid_auto_columns": null,
            "grid_auto_flow": null,
            "grid_auto_rows": null,
            "grid_column": null,
            "grid_gap": null,
            "grid_row": null,
            "grid_template_areas": null,
            "grid_template_columns": null,
            "grid_template_rows": null,
            "height": null,
            "justify_content": null,
            "justify_items": null,
            "left": null,
            "margin": null,
            "max_height": null,
            "max_width": null,
            "min_height": null,
            "min_width": null,
            "object_fit": null,
            "object_position": null,
            "order": null,
            "overflow": null,
            "overflow_x": null,
            "overflow_y": null,
            "padding": null,
            "right": null,
            "top": null,
            "visibility": null,
            "width": null
          }
        },
        "3ff09522bca84bb090368f9fe4543c57": {
          "model_module": "@jupyter-widgets/controls",
          "model_name": "DescriptionStyleModel",
          "model_module_version": "1.5.0",
          "state": {
            "_model_module": "@jupyter-widgets/controls",
            "_model_module_version": "1.5.0",
            "_model_name": "DescriptionStyleModel",
            "_view_count": null,
            "_view_module": "@jupyter-widgets/base",
            "_view_module_version": "1.2.0",
            "_view_name": "StyleView",
            "description_width": ""
          }
        },
        "0a979d7961e0438ebc98f10eab68c9fe": {
          "model_module": "@jupyter-widgets/base",
          "model_name": "LayoutModel",
          "model_module_version": "1.2.0",
          "state": {
            "_model_module": "@jupyter-widgets/base",
            "_model_module_version": "1.2.0",
            "_model_name": "LayoutModel",
            "_view_count": null,
            "_view_module": "@jupyter-widgets/base",
            "_view_module_version": "1.2.0",
            "_view_name": "LayoutView",
            "align_content": null,
            "align_items": null,
            "align_self": null,
            "border": null,
            "bottom": null,
            "display": null,
            "flex": null,
            "flex_flow": null,
            "grid_area": null,
            "grid_auto_columns": null,
            "grid_auto_flow": null,
            "grid_auto_rows": null,
            "grid_column": null,
            "grid_gap": null,
            "grid_row": null,
            "grid_template_areas": null,
            "grid_template_columns": null,
            "grid_template_rows": null,
            "height": null,
            "justify_content": null,
            "justify_items": null,
            "left": null,
            "margin": null,
            "max_height": null,
            "max_width": null,
            "min_height": null,
            "min_width": null,
            "object_fit": null,
            "object_position": null,
            "order": null,
            "overflow": null,
            "overflow_x": null,
            "overflow_y": null,
            "padding": null,
            "right": null,
            "top": null,
            "visibility": null,
            "width": null
          }
        },
        "1bc39661b84a4b5b950177543c1decec": {
          "model_module": "@jupyter-widgets/controls",
          "model_name": "ProgressStyleModel",
          "model_module_version": "1.5.0",
          "state": {
            "_model_module": "@jupyter-widgets/controls",
            "_model_module_version": "1.5.0",
            "_model_name": "ProgressStyleModel",
            "_view_count": null,
            "_view_module": "@jupyter-widgets/base",
            "_view_module_version": "1.2.0",
            "_view_name": "StyleView",
            "bar_color": null,
            "description_width": ""
          }
        },
        "b68fe811bc6249259b5ba99e955b46b4": {
          "model_module": "@jupyter-widgets/base",
          "model_name": "LayoutModel",
          "model_module_version": "1.2.0",
          "state": {
            "_model_module": "@jupyter-widgets/base",
            "_model_module_version": "1.2.0",
            "_model_name": "LayoutModel",
            "_view_count": null,
            "_view_module": "@jupyter-widgets/base",
            "_view_module_version": "1.2.0",
            "_view_name": "LayoutView",
            "align_content": null,
            "align_items": null,
            "align_self": null,
            "border": null,
            "bottom": null,
            "display": null,
            "flex": null,
            "flex_flow": null,
            "grid_area": null,
            "grid_auto_columns": null,
            "grid_auto_flow": null,
            "grid_auto_rows": null,
            "grid_column": null,
            "grid_gap": null,
            "grid_row": null,
            "grid_template_areas": null,
            "grid_template_columns": null,
            "grid_template_rows": null,
            "height": null,
            "justify_content": null,
            "justify_items": null,
            "left": null,
            "margin": null,
            "max_height": null,
            "max_width": null,
            "min_height": null,
            "min_width": null,
            "object_fit": null,
            "object_position": null,
            "order": null,
            "overflow": null,
            "overflow_x": null,
            "overflow_y": null,
            "padding": null,
            "right": null,
            "top": null,
            "visibility": null,
            "width": null
          }
        },
        "dd3308cfa9124770a7b7bdbf21ef9471": {
          "model_module": "@jupyter-widgets/controls",
          "model_name": "DescriptionStyleModel",
          "model_module_version": "1.5.0",
          "state": {
            "_model_module": "@jupyter-widgets/controls",
            "_model_module_version": "1.5.0",
            "_model_name": "DescriptionStyleModel",
            "_view_count": null,
            "_view_module": "@jupyter-widgets/base",
            "_view_module_version": "1.2.0",
            "_view_name": "StyleView",
            "description_width": ""
          }
        },
        "e75bef15f8f34800aa6e3a86be9b0469": {
          "model_module": "@jupyter-widgets/controls",
          "model_name": "HBoxModel",
          "model_module_version": "1.5.0",
          "state": {
            "_dom_classes": [],
            "_model_module": "@jupyter-widgets/controls",
            "_model_module_version": "1.5.0",
            "_model_name": "HBoxModel",
            "_view_count": null,
            "_view_module": "@jupyter-widgets/controls",
            "_view_module_version": "1.5.0",
            "_view_name": "HBoxView",
            "box_style": "",
            "children": [
              "IPY_MODEL_148b2e55aff8433aa717b4232e170072",
              "IPY_MODEL_c910c7a4a5914222920a74e663fe7b87",
              "IPY_MODEL_0a15a277645d4e8bb5f378bcefc06c03"
            ],
            "layout": "IPY_MODEL_f90349af7a08461f95154f94c26cf1a9"
          }
        },
        "148b2e55aff8433aa717b4232e170072": {
          "model_module": "@jupyter-widgets/controls",
          "model_name": "HTMLModel",
          "model_module_version": "1.5.0",
          "state": {
            "_dom_classes": [],
            "_model_module": "@jupyter-widgets/controls",
            "_model_module_version": "1.5.0",
            "_model_name": "HTMLModel",
            "_view_count": null,
            "_view_module": "@jupyter-widgets/controls",
            "_view_module_version": "1.5.0",
            "_view_name": "HTMLView",
            "description": "",
            "description_tooltip": null,
            "layout": "IPY_MODEL_fa30d96c5fe1401e9a4124d8b3eb60b1",
            "placeholder": "​",
            "style": "IPY_MODEL_3ed659f73ef94acf91215662ffa50a73",
            "value": "model.safetensors: 100%"
          }
        },
        "c910c7a4a5914222920a74e663fe7b87": {
          "model_module": "@jupyter-widgets/controls",
          "model_name": "FloatProgressModel",
          "model_module_version": "1.5.0",
          "state": {
            "_dom_classes": [],
            "_model_module": "@jupyter-widgets/controls",
            "_model_module_version": "1.5.0",
            "_model_name": "FloatProgressModel",
            "_view_count": null,
            "_view_module": "@jupyter-widgets/controls",
            "_view_module_version": "1.5.0",
            "_view_name": "ProgressView",
            "bar_style": "success",
            "description": "",
            "description_tooltip": null,
            "layout": "IPY_MODEL_ce92c0ddad8746338fed914137c61114",
            "max": 3132668804,
            "min": 0,
            "orientation": "horizontal",
            "style": "IPY_MODEL_3f1e1fa037104096837ac55b6fcdc321",
            "value": 3132668804
          }
        },
        "0a15a277645d4e8bb5f378bcefc06c03": {
          "model_module": "@jupyter-widgets/controls",
          "model_name": "HTMLModel",
          "model_module_version": "1.5.0",
          "state": {
            "_dom_classes": [],
            "_model_module": "@jupyter-widgets/controls",
            "_model_module_version": "1.5.0",
            "_model_name": "HTMLModel",
            "_view_count": null,
            "_view_module": "@jupyter-widgets/controls",
            "_view_module_version": "1.5.0",
            "_view_name": "HTMLView",
            "description": "",
            "description_tooltip": null,
            "layout": "IPY_MODEL_9534be3a86ef4b4e82d5b346050fbcb9",
            "placeholder": "​",
            "style": "IPY_MODEL_95d2540a007f460cafbae9e16cc49598",
            "value": " 3.13G/3.13G [00:35&lt;00:00, 92.7MB/s]"
          }
        },
        "f90349af7a08461f95154f94c26cf1a9": {
          "model_module": "@jupyter-widgets/base",
          "model_name": "LayoutModel",
          "model_module_version": "1.2.0",
          "state": {
            "_model_module": "@jupyter-widgets/base",
            "_model_module_version": "1.2.0",
            "_model_name": "LayoutModel",
            "_view_count": null,
            "_view_module": "@jupyter-widgets/base",
            "_view_module_version": "1.2.0",
            "_view_name": "LayoutView",
            "align_content": null,
            "align_items": null,
            "align_self": null,
            "border": null,
            "bottom": null,
            "display": null,
            "flex": null,
            "flex_flow": null,
            "grid_area": null,
            "grid_auto_columns": null,
            "grid_auto_flow": null,
            "grid_auto_rows": null,
            "grid_column": null,
            "grid_gap": null,
            "grid_row": null,
            "grid_template_areas": null,
            "grid_template_columns": null,
            "grid_template_rows": null,
            "height": null,
            "justify_content": null,
            "justify_items": null,
            "left": null,
            "margin": null,
            "max_height": null,
            "max_width": null,
            "min_height": null,
            "min_width": null,
            "object_fit": null,
            "object_position": null,
            "order": null,
            "overflow": null,
            "overflow_x": null,
            "overflow_y": null,
            "padding": null,
            "right": null,
            "top": null,
            "visibility": null,
            "width": null
          }
        },
        "fa30d96c5fe1401e9a4124d8b3eb60b1": {
          "model_module": "@jupyter-widgets/base",
          "model_name": "LayoutModel",
          "model_module_version": "1.2.0",
          "state": {
            "_model_module": "@jupyter-widgets/base",
            "_model_module_version": "1.2.0",
            "_model_name": "LayoutModel",
            "_view_count": null,
            "_view_module": "@jupyter-widgets/base",
            "_view_module_version": "1.2.0",
            "_view_name": "LayoutView",
            "align_content": null,
            "align_items": null,
            "align_self": null,
            "border": null,
            "bottom": null,
            "display": null,
            "flex": null,
            "flex_flow": null,
            "grid_area": null,
            "grid_auto_columns": null,
            "grid_auto_flow": null,
            "grid_auto_rows": null,
            "grid_column": null,
            "grid_gap": null,
            "grid_row": null,
            "grid_template_areas": null,
            "grid_template_columns": null,
            "grid_template_rows": null,
            "height": null,
            "justify_content": null,
            "justify_items": null,
            "left": null,
            "margin": null,
            "max_height": null,
            "max_width": null,
            "min_height": null,
            "min_width": null,
            "object_fit": null,
            "object_position": null,
            "order": null,
            "overflow": null,
            "overflow_x": null,
            "overflow_y": null,
            "padding": null,
            "right": null,
            "top": null,
            "visibility": null,
            "width": null
          }
        },
        "3ed659f73ef94acf91215662ffa50a73": {
          "model_module": "@jupyter-widgets/controls",
          "model_name": "DescriptionStyleModel",
          "model_module_version": "1.5.0",
          "state": {
            "_model_module": "@jupyter-widgets/controls",
            "_model_module_version": "1.5.0",
            "_model_name": "DescriptionStyleModel",
            "_view_count": null,
            "_view_module": "@jupyter-widgets/base",
            "_view_module_version": "1.2.0",
            "_view_name": "StyleView",
            "description_width": ""
          }
        },
        "ce92c0ddad8746338fed914137c61114": {
          "model_module": "@jupyter-widgets/base",
          "model_name": "LayoutModel",
          "model_module_version": "1.2.0",
          "state": {
            "_model_module": "@jupyter-widgets/base",
            "_model_module_version": "1.2.0",
            "_model_name": "LayoutModel",
            "_view_count": null,
            "_view_module": "@jupyter-widgets/base",
            "_view_module_version": "1.2.0",
            "_view_name": "LayoutView",
            "align_content": null,
            "align_items": null,
            "align_self": null,
            "border": null,
            "bottom": null,
            "display": null,
            "flex": null,
            "flex_flow": null,
            "grid_area": null,
            "grid_auto_columns": null,
            "grid_auto_flow": null,
            "grid_auto_rows": null,
            "grid_column": null,
            "grid_gap": null,
            "grid_row": null,
            "grid_template_areas": null,
            "grid_template_columns": null,
            "grid_template_rows": null,
            "height": null,
            "justify_content": null,
            "justify_items": null,
            "left": null,
            "margin": null,
            "max_height": null,
            "max_width": null,
            "min_height": null,
            "min_width": null,
            "object_fit": null,
            "object_position": null,
            "order": null,
            "overflow": null,
            "overflow_x": null,
            "overflow_y": null,
            "padding": null,
            "right": null,
            "top": null,
            "visibility": null,
            "width": null
          }
        },
        "3f1e1fa037104096837ac55b6fcdc321": {
          "model_module": "@jupyter-widgets/controls",
          "model_name": "ProgressStyleModel",
          "model_module_version": "1.5.0",
          "state": {
            "_model_module": "@jupyter-widgets/controls",
            "_model_module_version": "1.5.0",
            "_model_name": "ProgressStyleModel",
            "_view_count": null,
            "_view_module": "@jupyter-widgets/base",
            "_view_module_version": "1.2.0",
            "_view_name": "StyleView",
            "bar_color": null,
            "description_width": ""
          }
        },
        "9534be3a86ef4b4e82d5b346050fbcb9": {
          "model_module": "@jupyter-widgets/base",
          "model_name": "LayoutModel",
          "model_module_version": "1.2.0",
          "state": {
            "_model_module": "@jupyter-widgets/base",
            "_model_module_version": "1.2.0",
            "_model_name": "LayoutModel",
            "_view_count": null,
            "_view_module": "@jupyter-widgets/base",
            "_view_module_version": "1.2.0",
            "_view_name": "LayoutView",
            "align_content": null,
            "align_items": null,
            "align_self": null,
            "border": null,
            "bottom": null,
            "display": null,
            "flex": null,
            "flex_flow": null,
            "grid_area": null,
            "grid_auto_columns": null,
            "grid_auto_flow": null,
            "grid_auto_rows": null,
            "grid_column": null,
            "grid_gap": null,
            "grid_row": null,
            "grid_template_areas": null,
            "grid_template_columns": null,
            "grid_template_rows": null,
            "height": null,
            "justify_content": null,
            "justify_items": null,
            "left": null,
            "margin": null,
            "max_height": null,
            "max_width": null,
            "min_height": null,
            "min_width": null,
            "object_fit": null,
            "object_position": null,
            "order": null,
            "overflow": null,
            "overflow_x": null,
            "overflow_y": null,
            "padding": null,
            "right": null,
            "top": null,
            "visibility": null,
            "width": null
          }
        },
        "95d2540a007f460cafbae9e16cc49598": {
          "model_module": "@jupyter-widgets/controls",
          "model_name": "DescriptionStyleModel",
          "model_module_version": "1.5.0",
          "state": {
            "_model_module": "@jupyter-widgets/controls",
            "_model_module_version": "1.5.0",
            "_model_name": "DescriptionStyleModel",
            "_view_count": null,
            "_view_module": "@jupyter-widgets/base",
            "_view_module_version": "1.2.0",
            "_view_name": "StyleView",
            "description_width": ""
          }
        },
        "ac7206434c5d42248e86e4c479981bc5": {
          "model_module": "@jupyter-widgets/controls",
          "model_name": "HBoxModel",
          "model_module_version": "1.5.0",
          "state": {
            "_dom_classes": [],
            "_model_module": "@jupyter-widgets/controls",
            "_model_module_version": "1.5.0",
            "_model_name": "HBoxModel",
            "_view_count": null,
            "_view_module": "@jupyter-widgets/controls",
            "_view_module_version": "1.5.0",
            "_view_name": "HBoxView",
            "box_style": "",
            "children": [
              "IPY_MODEL_fcb17987099d48fb85348d66bfa11e05",
              "IPY_MODEL_66c03ac9cdc042ffb4efe30ab95f12f9",
              "IPY_MODEL_32a061b9417248d2b7f6fe177781395b"
            ],
            "layout": "IPY_MODEL_0f6a800fb34445aea806efb2b9909a69"
          }
        },
        "fcb17987099d48fb85348d66bfa11e05": {
          "model_module": "@jupyter-widgets/controls",
          "model_name": "HTMLModel",
          "model_module_version": "1.5.0",
          "state": {
            "_dom_classes": [],
            "_model_module": "@jupyter-widgets/controls",
            "_model_module_version": "1.5.0",
            "_model_name": "HTMLModel",
            "_view_count": null,
            "_view_module": "@jupyter-widgets/controls",
            "_view_module_version": "1.5.0",
            "_view_name": "HTMLView",
            "description": "",
            "description_tooltip": null,
            "layout": "IPY_MODEL_f18fc70ff14e406888055379eeb23754",
            "placeholder": "​",
            "style": "IPY_MODEL_498ef36842c44a4b8c1aa9def8d02f3e",
            "value": "generation_config.json: 100%"
          }
        },
        "66c03ac9cdc042ffb4efe30ab95f12f9": {
          "model_module": "@jupyter-widgets/controls",
          "model_name": "FloatProgressModel",
          "model_module_version": "1.5.0",
          "state": {
            "_dom_classes": [],
            "_model_module": "@jupyter-widgets/controls",
            "_model_module_version": "1.5.0",
            "_model_name": "FloatProgressModel",
            "_view_count": null,
            "_view_module": "@jupyter-widgets/controls",
            "_view_module_version": "1.5.0",
            "_view_name": "ProgressView",
            "bar_style": "success",
            "description": "",
            "description_tooltip": null,
            "layout": "IPY_MODEL_bc71c1126d40402b8c5dc305fbfc4e99",
            "max": 147,
            "min": 0,
            "orientation": "horizontal",
            "style": "IPY_MODEL_279953116e784f8a9e971f3725111148",
            "value": 147
          }
        },
        "32a061b9417248d2b7f6fe177781395b": {
          "model_module": "@jupyter-widgets/controls",
          "model_name": "HTMLModel",
          "model_module_version": "1.5.0",
          "state": {
            "_dom_classes": [],
            "_model_module": "@jupyter-widgets/controls",
            "_model_module_version": "1.5.0",
            "_model_name": "HTMLModel",
            "_view_count": null,
            "_view_module": "@jupyter-widgets/controls",
            "_view_module_version": "1.5.0",
            "_view_name": "HTMLView",
            "description": "",
            "description_tooltip": null,
            "layout": "IPY_MODEL_7630eb831d954288b9616ee94ca62706",
            "placeholder": "​",
            "style": "IPY_MODEL_2e9ef978a2a9498aa6a2975b2fb1407e",
            "value": " 147/147 [00:00&lt;00:00, 12.0kB/s]"
          }
        },
        "0f6a800fb34445aea806efb2b9909a69": {
          "model_module": "@jupyter-widgets/base",
          "model_name": "LayoutModel",
          "model_module_version": "1.2.0",
          "state": {
            "_model_module": "@jupyter-widgets/base",
            "_model_module_version": "1.2.0",
            "_model_name": "LayoutModel",
            "_view_count": null,
            "_view_module": "@jupyter-widgets/base",
            "_view_module_version": "1.2.0",
            "_view_name": "LayoutView",
            "align_content": null,
            "align_items": null,
            "align_self": null,
            "border": null,
            "bottom": null,
            "display": null,
            "flex": null,
            "flex_flow": null,
            "grid_area": null,
            "grid_auto_columns": null,
            "grid_auto_flow": null,
            "grid_auto_rows": null,
            "grid_column": null,
            "grid_gap": null,
            "grid_row": null,
            "grid_template_areas": null,
            "grid_template_columns": null,
            "grid_template_rows": null,
            "height": null,
            "justify_content": null,
            "justify_items": null,
            "left": null,
            "margin": null,
            "max_height": null,
            "max_width": null,
            "min_height": null,
            "min_width": null,
            "object_fit": null,
            "object_position": null,
            "order": null,
            "overflow": null,
            "overflow_x": null,
            "overflow_y": null,
            "padding": null,
            "right": null,
            "top": null,
            "visibility": null,
            "width": null
          }
        },
        "f18fc70ff14e406888055379eeb23754": {
          "model_module": "@jupyter-widgets/base",
          "model_name": "LayoutModel",
          "model_module_version": "1.2.0",
          "state": {
            "_model_module": "@jupyter-widgets/base",
            "_model_module_version": "1.2.0",
            "_model_name": "LayoutModel",
            "_view_count": null,
            "_view_module": "@jupyter-widgets/base",
            "_view_module_version": "1.2.0",
            "_view_name": "LayoutView",
            "align_content": null,
            "align_items": null,
            "align_self": null,
            "border": null,
            "bottom": null,
            "display": null,
            "flex": null,
            "flex_flow": null,
            "grid_area": null,
            "grid_auto_columns": null,
            "grid_auto_flow": null,
            "grid_auto_rows": null,
            "grid_column": null,
            "grid_gap": null,
            "grid_row": null,
            "grid_template_areas": null,
            "grid_template_columns": null,
            "grid_template_rows": null,
            "height": null,
            "justify_content": null,
            "justify_items": null,
            "left": null,
            "margin": null,
            "max_height": null,
            "max_width": null,
            "min_height": null,
            "min_width": null,
            "object_fit": null,
            "object_position": null,
            "order": null,
            "overflow": null,
            "overflow_x": null,
            "overflow_y": null,
            "padding": null,
            "right": null,
            "top": null,
            "visibility": null,
            "width": null
          }
        },
        "498ef36842c44a4b8c1aa9def8d02f3e": {
          "model_module": "@jupyter-widgets/controls",
          "model_name": "DescriptionStyleModel",
          "model_module_version": "1.5.0",
          "state": {
            "_model_module": "@jupyter-widgets/controls",
            "_model_module_version": "1.5.0",
            "_model_name": "DescriptionStyleModel",
            "_view_count": null,
            "_view_module": "@jupyter-widgets/base",
            "_view_module_version": "1.2.0",
            "_view_name": "StyleView",
            "description_width": ""
          }
        },
        "bc71c1126d40402b8c5dc305fbfc4e99": {
          "model_module": "@jupyter-widgets/base",
          "model_name": "LayoutModel",
          "model_module_version": "1.2.0",
          "state": {
            "_model_module": "@jupyter-widgets/base",
            "_model_module_version": "1.2.0",
            "_model_name": "LayoutModel",
            "_view_count": null,
            "_view_module": "@jupyter-widgets/base",
            "_view_module_version": "1.2.0",
            "_view_name": "LayoutView",
            "align_content": null,
            "align_items": null,
            "align_self": null,
            "border": null,
            "bottom": null,
            "display": null,
            "flex": null,
            "flex_flow": null,
            "grid_area": null,
            "grid_auto_columns": null,
            "grid_auto_flow": null,
            "grid_auto_rows": null,
            "grid_column": null,
            "grid_gap": null,
            "grid_row": null,
            "grid_template_areas": null,
            "grid_template_columns": null,
            "grid_template_rows": null,
            "height": null,
            "justify_content": null,
            "justify_items": null,
            "left": null,
            "margin": null,
            "max_height": null,
            "max_width": null,
            "min_height": null,
            "min_width": null,
            "object_fit": null,
            "object_position": null,
            "order": null,
            "overflow": null,
            "overflow_x": null,
            "overflow_y": null,
            "padding": null,
            "right": null,
            "top": null,
            "visibility": null,
            "width": null
          }
        },
        "279953116e784f8a9e971f3725111148": {
          "model_module": "@jupyter-widgets/controls",
          "model_name": "ProgressStyleModel",
          "model_module_version": "1.5.0",
          "state": {
            "_model_module": "@jupyter-widgets/controls",
            "_model_module_version": "1.5.0",
            "_model_name": "ProgressStyleModel",
            "_view_count": null,
            "_view_module": "@jupyter-widgets/base",
            "_view_module_version": "1.2.0",
            "_view_name": "StyleView",
            "bar_color": null,
            "description_width": ""
          }
        },
        "7630eb831d954288b9616ee94ca62706": {
          "model_module": "@jupyter-widgets/base",
          "model_name": "LayoutModel",
          "model_module_version": "1.2.0",
          "state": {
            "_model_module": "@jupyter-widgets/base",
            "_model_module_version": "1.2.0",
            "_model_name": "LayoutModel",
            "_view_count": null,
            "_view_module": "@jupyter-widgets/base",
            "_view_module_version": "1.2.0",
            "_view_name": "LayoutView",
            "align_content": null,
            "align_items": null,
            "align_self": null,
            "border": null,
            "bottom": null,
            "display": null,
            "flex": null,
            "flex_flow": null,
            "grid_area": null,
            "grid_auto_columns": null,
            "grid_auto_flow": null,
            "grid_auto_rows": null,
            "grid_column": null,
            "grid_gap": null,
            "grid_row": null,
            "grid_template_areas": null,
            "grid_template_columns": null,
            "grid_template_rows": null,
            "height": null,
            "justify_content": null,
            "justify_items": null,
            "left": null,
            "margin": null,
            "max_height": null,
            "max_width": null,
            "min_height": null,
            "min_width": null,
            "object_fit": null,
            "object_position": null,
            "order": null,
            "overflow": null,
            "overflow_x": null,
            "overflow_y": null,
            "padding": null,
            "right": null,
            "top": null,
            "visibility": null,
            "width": null
          }
        },
        "2e9ef978a2a9498aa6a2975b2fb1407e": {
          "model_module": "@jupyter-widgets/controls",
          "model_name": "DescriptionStyleModel",
          "model_module_version": "1.5.0",
          "state": {
            "_model_module": "@jupyter-widgets/controls",
            "_model_module_version": "1.5.0",
            "_model_name": "DescriptionStyleModel",
            "_view_count": null,
            "_view_module": "@jupyter-widgets/base",
            "_view_module_version": "1.2.0",
            "_view_name": "StyleView",
            "description_width": ""
          }
        },
        "8562af65d71f474da0c2ff32550f3220": {
          "model_module": "@jupyter-widgets/controls",
          "model_name": "HBoxModel",
          "model_module_version": "1.5.0",
          "state": {
            "_dom_classes": [],
            "_model_module": "@jupyter-widgets/controls",
            "_model_module_version": "1.5.0",
            "_model_name": "HBoxModel",
            "_view_count": null,
            "_view_module": "@jupyter-widgets/controls",
            "_view_module_version": "1.5.0",
            "_view_name": "HBoxView",
            "box_style": "",
            "children": [
              "IPY_MODEL_14214d8935e04513850da91f9f5e16fb",
              "IPY_MODEL_a5a73a8369b4400baec672778be9a9d9",
              "IPY_MODEL_7fb92ad054e24a9fa81b058d84413f1b"
            ],
            "layout": "IPY_MODEL_1bb61e0115714043a229c721f679cea3"
          }
        },
        "14214d8935e04513850da91f9f5e16fb": {
          "model_module": "@jupyter-widgets/controls",
          "model_name": "HTMLModel",
          "model_module_version": "1.5.0",
          "state": {
            "_dom_classes": [],
            "_model_module": "@jupyter-widgets/controls",
            "_model_module_version": "1.5.0",
            "_model_name": "HTMLModel",
            "_view_count": null,
            "_view_module": "@jupyter-widgets/controls",
            "_view_module_version": "1.5.0",
            "_view_name": "HTMLView",
            "description": "",
            "description_tooltip": null,
            "layout": "IPY_MODEL_4c2151b5986341b7ba434225206fe32f",
            "placeholder": "​",
            "style": "IPY_MODEL_4781cdefb6e547b2b0b5a429bd91f41f",
            "value": "Map: 100%"
          }
        },
        "a5a73a8369b4400baec672778be9a9d9": {
          "model_module": "@jupyter-widgets/controls",
          "model_name": "FloatProgressModel",
          "model_module_version": "1.5.0",
          "state": {
            "_dom_classes": [],
            "_model_module": "@jupyter-widgets/controls",
            "_model_module_version": "1.5.0",
            "_model_name": "FloatProgressModel",
            "_view_count": null,
            "_view_module": "@jupyter-widgets/controls",
            "_view_module_version": "1.5.0",
            "_view_name": "ProgressView",
            "bar_style": "success",
            "description": "",
            "description_tooltip": null,
            "layout": "IPY_MODEL_f3830c1545ca4fc6adb50a3d4b2f26a0",
            "max": 1600,
            "min": 0,
            "orientation": "horizontal",
            "style": "IPY_MODEL_a96ca108a1b94cfc976aeaed9b5d2c60",
            "value": 1600
          }
        },
        "7fb92ad054e24a9fa81b058d84413f1b": {
          "model_module": "@jupyter-widgets/controls",
          "model_name": "HTMLModel",
          "model_module_version": "1.5.0",
          "state": {
            "_dom_classes": [],
            "_model_module": "@jupyter-widgets/controls",
            "_model_module_version": "1.5.0",
            "_model_name": "HTMLModel",
            "_view_count": null,
            "_view_module": "@jupyter-widgets/controls",
            "_view_module_version": "1.5.0",
            "_view_name": "HTMLView",
            "description": "",
            "description_tooltip": null,
            "layout": "IPY_MODEL_038042b291024f84b06a194bb44245d3",
            "placeholder": "​",
            "style": "IPY_MODEL_4d5f3810d2f9405da1a83540480d4c35",
            "value": " 1600/1600 [00:00&lt;00:00, 1982.19 examples/s]"
          }
        },
        "1bb61e0115714043a229c721f679cea3": {
          "model_module": "@jupyter-widgets/base",
          "model_name": "LayoutModel",
          "model_module_version": "1.2.0",
          "state": {
            "_model_module": "@jupyter-widgets/base",
            "_model_module_version": "1.2.0",
            "_model_name": "LayoutModel",
            "_view_count": null,
            "_view_module": "@jupyter-widgets/base",
            "_view_module_version": "1.2.0",
            "_view_name": "LayoutView",
            "align_content": null,
            "align_items": null,
            "align_self": null,
            "border": null,
            "bottom": null,
            "display": null,
            "flex": null,
            "flex_flow": null,
            "grid_area": null,
            "grid_auto_columns": null,
            "grid_auto_flow": null,
            "grid_auto_rows": null,
            "grid_column": null,
            "grid_gap": null,
            "grid_row": null,
            "grid_template_areas": null,
            "grid_template_columns": null,
            "grid_template_rows": null,
            "height": null,
            "justify_content": null,
            "justify_items": null,
            "left": null,
            "margin": null,
            "max_height": null,
            "max_width": null,
            "min_height": null,
            "min_width": null,
            "object_fit": null,
            "object_position": null,
            "order": null,
            "overflow": null,
            "overflow_x": null,
            "overflow_y": null,
            "padding": null,
            "right": null,
            "top": null,
            "visibility": null,
            "width": null
          }
        },
        "4c2151b5986341b7ba434225206fe32f": {
          "model_module": "@jupyter-widgets/base",
          "model_name": "LayoutModel",
          "model_module_version": "1.2.0",
          "state": {
            "_model_module": "@jupyter-widgets/base",
            "_model_module_version": "1.2.0",
            "_model_name": "LayoutModel",
            "_view_count": null,
            "_view_module": "@jupyter-widgets/base",
            "_view_module_version": "1.2.0",
            "_view_name": "LayoutView",
            "align_content": null,
            "align_items": null,
            "align_self": null,
            "border": null,
            "bottom": null,
            "display": null,
            "flex": null,
            "flex_flow": null,
            "grid_area": null,
            "grid_auto_columns": null,
            "grid_auto_flow": null,
            "grid_auto_rows": null,
            "grid_column": null,
            "grid_gap": null,
            "grid_row": null,
            "grid_template_areas": null,
            "grid_template_columns": null,
            "grid_template_rows": null,
            "height": null,
            "justify_content": null,
            "justify_items": null,
            "left": null,
            "margin": null,
            "max_height": null,
            "max_width": null,
            "min_height": null,
            "min_width": null,
            "object_fit": null,
            "object_position": null,
            "order": null,
            "overflow": null,
            "overflow_x": null,
            "overflow_y": null,
            "padding": null,
            "right": null,
            "top": null,
            "visibility": null,
            "width": null
          }
        },
        "4781cdefb6e547b2b0b5a429bd91f41f": {
          "model_module": "@jupyter-widgets/controls",
          "model_name": "DescriptionStyleModel",
          "model_module_version": "1.5.0",
          "state": {
            "_model_module": "@jupyter-widgets/controls",
            "_model_module_version": "1.5.0",
            "_model_name": "DescriptionStyleModel",
            "_view_count": null,
            "_view_module": "@jupyter-widgets/base",
            "_view_module_version": "1.2.0",
            "_view_name": "StyleView",
            "description_width": ""
          }
        },
        "f3830c1545ca4fc6adb50a3d4b2f26a0": {
          "model_module": "@jupyter-widgets/base",
          "model_name": "LayoutModel",
          "model_module_version": "1.2.0",
          "state": {
            "_model_module": "@jupyter-widgets/base",
            "_model_module_version": "1.2.0",
            "_model_name": "LayoutModel",
            "_view_count": null,
            "_view_module": "@jupyter-widgets/base",
            "_view_module_version": "1.2.0",
            "_view_name": "LayoutView",
            "align_content": null,
            "align_items": null,
            "align_self": null,
            "border": null,
            "bottom": null,
            "display": null,
            "flex": null,
            "flex_flow": null,
            "grid_area": null,
            "grid_auto_columns": null,
            "grid_auto_flow": null,
            "grid_auto_rows": null,
            "grid_column": null,
            "grid_gap": null,
            "grid_row": null,
            "grid_template_areas": null,
            "grid_template_columns": null,
            "grid_template_rows": null,
            "height": null,
            "justify_content": null,
            "justify_items": null,
            "left": null,
            "margin": null,
            "max_height": null,
            "max_width": null,
            "min_height": null,
            "min_width": null,
            "object_fit": null,
            "object_position": null,
            "order": null,
            "overflow": null,
            "overflow_x": null,
            "overflow_y": null,
            "padding": null,
            "right": null,
            "top": null,
            "visibility": null,
            "width": null
          }
        },
        "a96ca108a1b94cfc976aeaed9b5d2c60": {
          "model_module": "@jupyter-widgets/controls",
          "model_name": "ProgressStyleModel",
          "model_module_version": "1.5.0",
          "state": {
            "_model_module": "@jupyter-widgets/controls",
            "_model_module_version": "1.5.0",
            "_model_name": "ProgressStyleModel",
            "_view_count": null,
            "_view_module": "@jupyter-widgets/base",
            "_view_module_version": "1.2.0",
            "_view_name": "StyleView",
            "bar_color": null,
            "description_width": ""
          }
        },
        "038042b291024f84b06a194bb44245d3": {
          "model_module": "@jupyter-widgets/base",
          "model_name": "LayoutModel",
          "model_module_version": "1.2.0",
          "state": {
            "_model_module": "@jupyter-widgets/base",
            "_model_module_version": "1.2.0",
            "_model_name": "LayoutModel",
            "_view_count": null,
            "_view_module": "@jupyter-widgets/base",
            "_view_module_version": "1.2.0",
            "_view_name": "LayoutView",
            "align_content": null,
            "align_items": null,
            "align_self": null,
            "border": null,
            "bottom": null,
            "display": null,
            "flex": null,
            "flex_flow": null,
            "grid_area": null,
            "grid_auto_columns": null,
            "grid_auto_flow": null,
            "grid_auto_rows": null,
            "grid_column": null,
            "grid_gap": null,
            "grid_row": null,
            "grid_template_areas": null,
            "grid_template_columns": null,
            "grid_template_rows": null,
            "height": null,
            "justify_content": null,
            "justify_items": null,
            "left": null,
            "margin": null,
            "max_height": null,
            "max_width": null,
            "min_height": null,
            "min_width": null,
            "object_fit": null,
            "object_position": null,
            "order": null,
            "overflow": null,
            "overflow_x": null,
            "overflow_y": null,
            "padding": null,
            "right": null,
            "top": null,
            "visibility": null,
            "width": null
          }
        },
        "4d5f3810d2f9405da1a83540480d4c35": {
          "model_module": "@jupyter-widgets/controls",
          "model_name": "DescriptionStyleModel",
          "model_module_version": "1.5.0",
          "state": {
            "_model_module": "@jupyter-widgets/controls",
            "_model_module_version": "1.5.0",
            "_model_name": "DescriptionStyleModel",
            "_view_count": null,
            "_view_module": "@jupyter-widgets/base",
            "_view_module_version": "1.2.0",
            "_view_name": "StyleView",
            "description_width": ""
          }
        },
        "cbf7d93ff09e48369f308855eceeec9e": {
          "model_module": "@jupyter-widgets/controls",
          "model_name": "HBoxModel",
          "model_module_version": "1.5.0",
          "state": {
            "_dom_classes": [],
            "_model_module": "@jupyter-widgets/controls",
            "_model_module_version": "1.5.0",
            "_model_name": "HBoxModel",
            "_view_count": null,
            "_view_module": "@jupyter-widgets/controls",
            "_view_module_version": "1.5.0",
            "_view_name": "HBoxView",
            "box_style": "",
            "children": [
              "IPY_MODEL_21ae4c0ff7c8421991bd0ce670bef01f",
              "IPY_MODEL_232f9ac8d7e84200b48bcf8c30520c2e",
              "IPY_MODEL_f3bb360e1e3c45be85d1a5e1e201b4c2"
            ],
            "layout": "IPY_MODEL_e7839c749fc14d50bc23a62ffd0d202d"
          }
        },
        "21ae4c0ff7c8421991bd0ce670bef01f": {
          "model_module": "@jupyter-widgets/controls",
          "model_name": "HTMLModel",
          "model_module_version": "1.5.0",
          "state": {
            "_dom_classes": [],
            "_model_module": "@jupyter-widgets/controls",
            "_model_module_version": "1.5.0",
            "_model_name": "HTMLModel",
            "_view_count": null,
            "_view_module": "@jupyter-widgets/controls",
            "_view_module_version": "1.5.0",
            "_view_name": "HTMLView",
            "description": "",
            "description_tooltip": null,
            "layout": "IPY_MODEL_c7badaba443844f0aa96d1267061f7fe",
            "placeholder": "​",
            "style": "IPY_MODEL_cffeb13ae8914c5498679ad35f7738a3",
            "value": "Map: 100%"
          }
        },
        "232f9ac8d7e84200b48bcf8c30520c2e": {
          "model_module": "@jupyter-widgets/controls",
          "model_name": "FloatProgressModel",
          "model_module_version": "1.5.0",
          "state": {
            "_dom_classes": [],
            "_model_module": "@jupyter-widgets/controls",
            "_model_module_version": "1.5.0",
            "_model_name": "FloatProgressModel",
            "_view_count": null,
            "_view_module": "@jupyter-widgets/controls",
            "_view_module_version": "1.5.0",
            "_view_name": "ProgressView",
            "bar_style": "success",
            "description": "",
            "description_tooltip": null,
            "layout": "IPY_MODEL_e20963a5d70f4e3a932371abb6006d59",
            "max": 400,
            "min": 0,
            "orientation": "horizontal",
            "style": "IPY_MODEL_becc2a321b9f449bafafa81d9b41f257",
            "value": 400
          }
        },
        "f3bb360e1e3c45be85d1a5e1e201b4c2": {
          "model_module": "@jupyter-widgets/controls",
          "model_name": "HTMLModel",
          "model_module_version": "1.5.0",
          "state": {
            "_dom_classes": [],
            "_model_module": "@jupyter-widgets/controls",
            "_model_module_version": "1.5.0",
            "_model_name": "HTMLModel",
            "_view_count": null,
            "_view_module": "@jupyter-widgets/controls",
            "_view_module_version": "1.5.0",
            "_view_name": "HTMLView",
            "description": "",
            "description_tooltip": null,
            "layout": "IPY_MODEL_60ed96b59503470395e71e6ca5b6f95b",
            "placeholder": "​",
            "style": "IPY_MODEL_670ce69ce01f4517a7acd94f4fa73f9f",
            "value": " 400/400 [00:00&lt;00:00, 2133.97 examples/s]"
          }
        },
        "e7839c749fc14d50bc23a62ffd0d202d": {
          "model_module": "@jupyter-widgets/base",
          "model_name": "LayoutModel",
          "model_module_version": "1.2.0",
          "state": {
            "_model_module": "@jupyter-widgets/base",
            "_model_module_version": "1.2.0",
            "_model_name": "LayoutModel",
            "_view_count": null,
            "_view_module": "@jupyter-widgets/base",
            "_view_module_version": "1.2.0",
            "_view_name": "LayoutView",
            "align_content": null,
            "align_items": null,
            "align_self": null,
            "border": null,
            "bottom": null,
            "display": null,
            "flex": null,
            "flex_flow": null,
            "grid_area": null,
            "grid_auto_columns": null,
            "grid_auto_flow": null,
            "grid_auto_rows": null,
            "grid_column": null,
            "grid_gap": null,
            "grid_row": null,
            "grid_template_areas": null,
            "grid_template_columns": null,
            "grid_template_rows": null,
            "height": null,
            "justify_content": null,
            "justify_items": null,
            "left": null,
            "margin": null,
            "max_height": null,
            "max_width": null,
            "min_height": null,
            "min_width": null,
            "object_fit": null,
            "object_position": null,
            "order": null,
            "overflow": null,
            "overflow_x": null,
            "overflow_y": null,
            "padding": null,
            "right": null,
            "top": null,
            "visibility": null,
            "width": null
          }
        },
        "c7badaba443844f0aa96d1267061f7fe": {
          "model_module": "@jupyter-widgets/base",
          "model_name": "LayoutModel",
          "model_module_version": "1.2.0",
          "state": {
            "_model_module": "@jupyter-widgets/base",
            "_model_module_version": "1.2.0",
            "_model_name": "LayoutModel",
            "_view_count": null,
            "_view_module": "@jupyter-widgets/base",
            "_view_module_version": "1.2.0",
            "_view_name": "LayoutView",
            "align_content": null,
            "align_items": null,
            "align_self": null,
            "border": null,
            "bottom": null,
            "display": null,
            "flex": null,
            "flex_flow": null,
            "grid_area": null,
            "grid_auto_columns": null,
            "grid_auto_flow": null,
            "grid_auto_rows": null,
            "grid_column": null,
            "grid_gap": null,
            "grid_row": null,
            "grid_template_areas": null,
            "grid_template_columns": null,
            "grid_template_rows": null,
            "height": null,
            "justify_content": null,
            "justify_items": null,
            "left": null,
            "margin": null,
            "max_height": null,
            "max_width": null,
            "min_height": null,
            "min_width": null,
            "object_fit": null,
            "object_position": null,
            "order": null,
            "overflow": null,
            "overflow_x": null,
            "overflow_y": null,
            "padding": null,
            "right": null,
            "top": null,
            "visibility": null,
            "width": null
          }
        },
        "cffeb13ae8914c5498679ad35f7738a3": {
          "model_module": "@jupyter-widgets/controls",
          "model_name": "DescriptionStyleModel",
          "model_module_version": "1.5.0",
          "state": {
            "_model_module": "@jupyter-widgets/controls",
            "_model_module_version": "1.5.0",
            "_model_name": "DescriptionStyleModel",
            "_view_count": null,
            "_view_module": "@jupyter-widgets/base",
            "_view_module_version": "1.2.0",
            "_view_name": "StyleView",
            "description_width": ""
          }
        },
        "e20963a5d70f4e3a932371abb6006d59": {
          "model_module": "@jupyter-widgets/base",
          "model_name": "LayoutModel",
          "model_module_version": "1.2.0",
          "state": {
            "_model_module": "@jupyter-widgets/base",
            "_model_module_version": "1.2.0",
            "_model_name": "LayoutModel",
            "_view_count": null,
            "_view_module": "@jupyter-widgets/base",
            "_view_module_version": "1.2.0",
            "_view_name": "LayoutView",
            "align_content": null,
            "align_items": null,
            "align_self": null,
            "border": null,
            "bottom": null,
            "display": null,
            "flex": null,
            "flex_flow": null,
            "grid_area": null,
            "grid_auto_columns": null,
            "grid_auto_flow": null,
            "grid_auto_rows": null,
            "grid_column": null,
            "grid_gap": null,
            "grid_row": null,
            "grid_template_areas": null,
            "grid_template_columns": null,
            "grid_template_rows": null,
            "height": null,
            "justify_content": null,
            "justify_items": null,
            "left": null,
            "margin": null,
            "max_height": null,
            "max_width": null,
            "min_height": null,
            "min_width": null,
            "object_fit": null,
            "object_position": null,
            "order": null,
            "overflow": null,
            "overflow_x": null,
            "overflow_y": null,
            "padding": null,
            "right": null,
            "top": null,
            "visibility": null,
            "width": null
          }
        },
        "becc2a321b9f449bafafa81d9b41f257": {
          "model_module": "@jupyter-widgets/controls",
          "model_name": "ProgressStyleModel",
          "model_module_version": "1.5.0",
          "state": {
            "_model_module": "@jupyter-widgets/controls",
            "_model_module_version": "1.5.0",
            "_model_name": "ProgressStyleModel",
            "_view_count": null,
            "_view_module": "@jupyter-widgets/base",
            "_view_module_version": "1.2.0",
            "_view_name": "StyleView",
            "bar_color": null,
            "description_width": ""
          }
        },
        "60ed96b59503470395e71e6ca5b6f95b": {
          "model_module": "@jupyter-widgets/base",
          "model_name": "LayoutModel",
          "model_module_version": "1.2.0",
          "state": {
            "_model_module": "@jupyter-widgets/base",
            "_model_module_version": "1.2.0",
            "_model_name": "LayoutModel",
            "_view_count": null,
            "_view_module": "@jupyter-widgets/base",
            "_view_module_version": "1.2.0",
            "_view_name": "LayoutView",
            "align_content": null,
            "align_items": null,
            "align_self": null,
            "border": null,
            "bottom": null,
            "display": null,
            "flex": null,
            "flex_flow": null,
            "grid_area": null,
            "grid_auto_columns": null,
            "grid_auto_flow": null,
            "grid_auto_rows": null,
            "grid_column": null,
            "grid_gap": null,
            "grid_row": null,
            "grid_template_areas": null,
            "grid_template_columns": null,
            "grid_template_rows": null,
            "height": null,
            "justify_content": null,
            "justify_items": null,
            "left": null,
            "margin": null,
            "max_height": null,
            "max_width": null,
            "min_height": null,
            "min_width": null,
            "object_fit": null,
            "object_position": null,
            "order": null,
            "overflow": null,
            "overflow_x": null,
            "overflow_y": null,
            "padding": null,
            "right": null,
            "top": null,
            "visibility": null,
            "width": null
          }
        },
        "670ce69ce01f4517a7acd94f4fa73f9f": {
          "model_module": "@jupyter-widgets/controls",
          "model_name": "DescriptionStyleModel",
          "model_module_version": "1.5.0",
          "state": {
            "_model_module": "@jupyter-widgets/controls",
            "_model_module_version": "1.5.0",
            "_model_name": "DescriptionStyleModel",
            "_view_count": null,
            "_view_module": "@jupyter-widgets/base",
            "_view_module_version": "1.2.0",
            "_view_name": "StyleView",
            "description_width": ""
          }
        }
      }
    }
  },
  "nbformat": 4,
  "nbformat_minor": 0
}